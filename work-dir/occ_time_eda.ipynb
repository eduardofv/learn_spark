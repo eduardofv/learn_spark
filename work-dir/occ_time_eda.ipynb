{
 "cells": [
  {
   "cell_type": "markdown",
   "id": "cc1a930d-4db8-4515-8620-e6512a9d4d3e",
   "metadata": {},
   "source": [
    "# OCC time EDA\n",
    "\n",
    "EDA en tiempo"
   ]
  },
  {
   "cell_type": "code",
   "execution_count": 1,
   "id": "5e5f9f04-16dd-42d2-8ca6-b3e07596b002",
   "metadata": {},
   "outputs": [],
   "source": [
    "import numpy as np\n",
    "import pandas as pd\n",
    "import matplotlib.pyplot as plt\n",
    "\n",
    "import pyspark\n",
    "from pyspark.sql import SparkSession\n",
    "from pyspark.sql import functions as F\n",
    "from pyspark.sql.window import Window"
   ]
  },
  {
   "cell_type": "code",
   "execution_count": 2,
   "id": "85937705-e7c1-4ee7-8ced-00f201d2cfe2",
   "metadata": {},
   "outputs": [],
   "source": [
    "spark = SparkSession \\\n",
    "    .builder \\\n",
    "    .appName(\"occ_time_eda\") \\\n",
    "    .getOrCreate()\n",
    "\n",
    "#filename = \"occ-timeseries.jsonl\"\n",
    "filename = \"occ-timeseries-v0.0.2.jsonl\" #real: solo vacantes no agregadas\n",
    "\n",
    "base_dir = f\"harvester/occ/\"\n",
    "df = spark.read.json(f\"{base_dir}/{filename}\")"
   ]
  },
  {
   "cell_type": "code",
   "execution_count": 3,
   "id": "a7388774-f4c2-443e-94f3-33380b681fd0",
   "metadata": {
    "scrolled": true
   },
   "outputs": [
    {
     "name": "stdout",
     "output_type": "stream",
     "text": [
      "root\n",
      " |-- agg: struct (nullable = true)\n",
      " |    |-- confidenciales: long (nullable = true)\n",
      " |    |-- count_by_category: array (nullable = true)\n",
      " |    |    |-- element: struct (containsNull = true)\n",
      " |    |    |    |-- category_id: long (nullable = true)\n",
      " |    |    |    |-- count: long (nullable = true)\n",
      " |    |    |    |-- description: string (nullable = true)\n",
      " |    |    |    |-- pct: double (nullable = true)\n",
      " |    |-- count_by_company_url: array (nullable = true)\n",
      " |    |    |-- element: struct (containsNull = true)\n",
      " |    |    |    |-- count: long (nullable = true)\n",
      " |    |    |    |-- url: string (nullable = true)\n",
      " |    |-- count_by_company_where_not_redirected: array (nullable = true)\n",
      " |    |    |-- element: struct (containsNull = true)\n",
      " |    |    |    |-- count: long (nullable = true)\n",
      " |    |    |    |-- url: string (nullable = true)\n",
      " |    |-- count_by_granular_location: array (nullable = true)\n",
      " |    |    |-- element: struct (containsNull = true)\n",
      " |    |    |    |-- count: long (nullable = true)\n",
      " |    |    |    |-- cumsum: double (nullable = true)\n",
      " |    |    |    |-- description: string (nullable = true)\n",
      " |    |    |    |-- perc: double (nullable = true)\n",
      " |    |-- count_by_jobType: array (nullable = true)\n",
      " |    |    |-- element: struct (containsNull = true)\n",
      " |    |    |    |-- count: long (nullable = true)\n",
      " |    |    |    |-- jobType: string (nullable = true)\n",
      " |    |-- count_by_jobType_redirect_type: array (nullable = true)\n",
      " |    |    |-- element: struct (containsNull = true)\n",
      " |    |    |    |-- 0: long (nullable = true)\n",
      " |    |    |    |-- 1: long (nullable = true)\n",
      " |    |    |    |-- 2: double (nullable = true)\n",
      " |    |    |    |-- jobType: string (nullable = true)\n",
      " |    |-- count_by_state: array (nullable = true)\n",
      " |    |    |-- element: struct (containsNull = true)\n",
      " |    |    |    |-- count: long (nullable = true)\n",
      " |    |    |    |-- description: string (nullable = true)\n",
      " |    |-- jobids: array (nullable = true)\n",
      " |    |    |-- element: string (containsNull = true)\n",
      " |    |-- salary_summary: array (nullable = true)\n",
      " |    |    |-- element: struct (containsNull = true)\n",
      " |    |    |    |-- avg: string (nullable = true)\n",
      " |    |    |    |-- from: string (nullable = true)\n",
      " |    |    |    |-- summary: string (nullable = true)\n",
      " |    |    |    |-- to: string (nullable = true)\n",
      " |-- count_by_company_where_redirected: array (nullable = true)\n",
      " |    |-- element: struct (containsNull = true)\n",
      " |    |    |-- count: long (nullable = true)\n",
      " |    |    |-- url: string (nullable = true)\n",
      " |-- count_by_redirect_type: array (nullable = true)\n",
      " |    |-- element: struct (containsNull = true)\n",
      " |    |    |-- count: long (nullable = true)\n",
      " |    |    |-- type: long (nullable = true)\n",
      " |-- date: string (nullable = true)\n",
      " |-- deduplicated_record_count: long (nullable = true)\n",
      " |-- deduplicated_record_count_noagg: long (nullable = true)\n",
      " |-- noagg: struct (nullable = true)\n",
      " |    |-- confidenciales: long (nullable = true)\n",
      " |    |-- count_by_category: array (nullable = true)\n",
      " |    |    |-- element: struct (containsNull = true)\n",
      " |    |    |    |-- category_id: long (nullable = true)\n",
      " |    |    |    |-- count: long (nullable = true)\n",
      " |    |    |    |-- description: string (nullable = true)\n",
      " |    |    |    |-- pct: double (nullable = true)\n",
      " |    |-- count_by_company_url: array (nullable = true)\n",
      " |    |    |-- element: struct (containsNull = true)\n",
      " |    |    |    |-- count: long (nullable = true)\n",
      " |    |    |    |-- url: string (nullable = true)\n",
      " |    |-- count_by_granular_location: array (nullable = true)\n",
      " |    |    |-- element: struct (containsNull = true)\n",
      " |    |    |    |-- count: long (nullable = true)\n",
      " |    |    |    |-- cumsum: double (nullable = true)\n",
      " |    |    |    |-- description: string (nullable = true)\n",
      " |    |    |    |-- perc: double (nullable = true)\n",
      " |    |-- count_by_jobType: array (nullable = true)\n",
      " |    |    |-- element: struct (containsNull = true)\n",
      " |    |    |    |-- count: long (nullable = true)\n",
      " |    |    |    |-- jobType: string (nullable = true)\n",
      " |    |-- count_by_jobType_redirect_type: array (nullable = true)\n",
      " |    |    |-- element: struct (containsNull = true)\n",
      " |    |    |    |-- 0: long (nullable = true)\n",
      " |    |    |    |-- 1: long (nullable = true)\n",
      " |    |    |    |-- jobType: string (nullable = true)\n",
      " |    |-- count_by_state: array (nullable = true)\n",
      " |    |    |-- element: struct (containsNull = true)\n",
      " |    |    |    |-- count: long (nullable = true)\n",
      " |    |    |    |-- description: string (nullable = true)\n",
      " |    |-- jobids: array (nullable = true)\n",
      " |    |    |-- element: string (containsNull = true)\n",
      " |    |-- salary_summary: array (nullable = true)\n",
      " |    |    |-- element: struct (containsNull = true)\n",
      " |    |    |    |-- avg: string (nullable = true)\n",
      " |    |    |    |-- from: string (nullable = true)\n",
      " |    |    |    |-- summary: string (nullable = true)\n",
      " |    |    |    |-- to: string (nullable = true)\n",
      " |-- record_version: string (nullable = true)\n",
      " |-- total_record_count: long (nullable = true)\n",
      "\n"
     ]
    }
   ],
   "source": [
    "df.printSchema()"
   ]
  },
  {
   "cell_type": "code",
   "execution_count": 4,
   "id": "64b9ad17-030a-4174-a299-3c45d4c2697f",
   "metadata": {},
   "outputs": [
    {
     "data": {
      "text/plain": [
       "[Row(day=datetime.date(2023, 7, 14)),\n",
       " Row(day=datetime.date(2023, 7, 24)),\n",
       " Row(day=datetime.date(2023, 8, 2)),\n",
       " Row(day=datetime.date(2023, 8, 8)),\n",
       " Row(day=datetime.date(2023, 8, 21)),\n",
       " Row(day=datetime.date(2023, 8, 30)),\n",
       " Row(day=datetime.date(2023, 9, 12)),\n",
       " Row(day=datetime.date(2023, 9, 20)),\n",
       " Row(day=datetime.date(2023, 9, 25)),\n",
       " Row(day=datetime.date(2023, 10, 2)),\n",
       " Row(day=datetime.date(2023, 10, 10)),\n",
       " Row(day=datetime.date(2023, 10, 17)),\n",
       " Row(day=datetime.date(2023, 10, 23)),\n",
       " Row(day=datetime.date(2023, 10, 30)),\n",
       " Row(day=datetime.date(2023, 11, 13)),\n",
       " Row(day=datetime.date(2023, 11, 15)),\n",
       " Row(day=datetime.date(2023, 11, 17)),\n",
       " Row(day=datetime.date(2023, 11, 20)),\n",
       " Row(day=datetime.date(2023, 11, 22)),\n",
       " Row(day=datetime.date(2023, 11, 24)),\n",
       " Row(day=datetime.date(2023, 11, 27)),\n",
       " Row(day=datetime.date(2023, 11, 29)),\n",
       " Row(day=datetime.date(2023, 12, 1)),\n",
       " Row(day=datetime.date(2023, 12, 6))]"
      ]
     },
     "execution_count": 4,
     "metadata": {},
     "output_type": "execute_result"
    }
   ],
   "source": [
    "df_c = df.withColumn(\"day\", F.to_date(F.col(\"date\"), \"yyyyMMdd\"))\n",
    "df_c.select('day').collect()"
   ]
  },
  {
   "cell_type": "code",
   "execution_count": 5,
   "id": "f5220a8d-f87b-4dc5-b636-6123d58a2df3",
   "metadata": {},
   "outputs": [
    {
     "data": {
      "text/html": [
       "<div>\n",
       "<style scoped>\n",
       "    .dataframe tbody tr th:only-of-type {\n",
       "        vertical-align: middle;\n",
       "    }\n",
       "\n",
       "    .dataframe tbody tr th {\n",
       "        vertical-align: top;\n",
       "    }\n",
       "\n",
       "    .dataframe thead th {\n",
       "        text-align: right;\n",
       "    }\n",
       "</style>\n",
       "<table border=\"1\" class=\"dataframe\">\n",
       "  <thead>\n",
       "    <tr style=\"text-align: right;\">\n",
       "      <th></th>\n",
       "      <th>day</th>\n",
       "      <th>deduplicated_record_count</th>\n",
       "      <th>deduplicated_record_count_noagg</th>\n",
       "    </tr>\n",
       "  </thead>\n",
       "  <tbody>\n",
       "    <tr>\n",
       "      <th>0</th>\n",
       "      <td>2023-07-14</td>\n",
       "      <td>139142</td>\n",
       "      <td>84658</td>\n",
       "    </tr>\n",
       "    <tr>\n",
       "      <th>1</th>\n",
       "      <td>2023-07-24</td>\n",
       "      <td>133901</td>\n",
       "      <td>79659</td>\n",
       "    </tr>\n",
       "    <tr>\n",
       "      <th>2</th>\n",
       "      <td>2023-08-02</td>\n",
       "      <td>129699</td>\n",
       "      <td>78558</td>\n",
       "    </tr>\n",
       "    <tr>\n",
       "      <th>3</th>\n",
       "      <td>2023-08-08</td>\n",
       "      <td>133497</td>\n",
       "      <td>78332</td>\n",
       "    </tr>\n",
       "    <tr>\n",
       "      <th>4</th>\n",
       "      <td>2023-08-21</td>\n",
       "      <td>150500</td>\n",
       "      <td>79529</td>\n",
       "    </tr>\n",
       "    <tr>\n",
       "      <th>5</th>\n",
       "      <td>2023-08-30</td>\n",
       "      <td>149077</td>\n",
       "      <td>79747</td>\n",
       "    </tr>\n",
       "    <tr>\n",
       "      <th>6</th>\n",
       "      <td>2023-09-12</td>\n",
       "      <td>148288</td>\n",
       "      <td>78912</td>\n",
       "    </tr>\n",
       "    <tr>\n",
       "      <th>7</th>\n",
       "      <td>2023-09-20</td>\n",
       "      <td>152239</td>\n",
       "      <td>78338</td>\n",
       "    </tr>\n",
       "    <tr>\n",
       "      <th>8</th>\n",
       "      <td>2023-09-25</td>\n",
       "      <td>152739</td>\n",
       "      <td>78537</td>\n",
       "    </tr>\n",
       "    <tr>\n",
       "      <th>9</th>\n",
       "      <td>2023-10-02</td>\n",
       "      <td>148725</td>\n",
       "      <td>76569</td>\n",
       "    </tr>\n",
       "    <tr>\n",
       "      <th>10</th>\n",
       "      <td>2023-10-10</td>\n",
       "      <td>147866</td>\n",
       "      <td>76033</td>\n",
       "    </tr>\n",
       "    <tr>\n",
       "      <th>11</th>\n",
       "      <td>2023-10-17</td>\n",
       "      <td>144845</td>\n",
       "      <td>76895</td>\n",
       "    </tr>\n",
       "    <tr>\n",
       "      <th>12</th>\n",
       "      <td>2023-10-23</td>\n",
       "      <td>151097</td>\n",
       "      <td>77609</td>\n",
       "    </tr>\n",
       "    <tr>\n",
       "      <th>13</th>\n",
       "      <td>2023-10-30</td>\n",
       "      <td>152554</td>\n",
       "      <td>77552</td>\n",
       "    </tr>\n",
       "    <tr>\n",
       "      <th>14</th>\n",
       "      <td>2023-11-13</td>\n",
       "      <td>137364</td>\n",
       "      <td>77032</td>\n",
       "    </tr>\n",
       "    <tr>\n",
       "      <th>15</th>\n",
       "      <td>2023-11-15</td>\n",
       "      <td>145665</td>\n",
       "      <td>77754</td>\n",
       "    </tr>\n",
       "    <tr>\n",
       "      <th>16</th>\n",
       "      <td>2023-11-17</td>\n",
       "      <td>150606</td>\n",
       "      <td>79597</td>\n",
       "    </tr>\n",
       "    <tr>\n",
       "      <th>17</th>\n",
       "      <td>2023-11-20</td>\n",
       "      <td>143081</td>\n",
       "      <td>76814</td>\n",
       "    </tr>\n",
       "    <tr>\n",
       "      <th>18</th>\n",
       "      <td>2023-11-22</td>\n",
       "      <td>130474</td>\n",
       "      <td>75765</td>\n",
       "    </tr>\n",
       "    <tr>\n",
       "      <th>19</th>\n",
       "      <td>2023-11-24</td>\n",
       "      <td>137910</td>\n",
       "      <td>78098</td>\n",
       "    </tr>\n",
       "    <tr>\n",
       "      <th>20</th>\n",
       "      <td>2023-11-27</td>\n",
       "      <td>133621</td>\n",
       "      <td>74687</td>\n",
       "    </tr>\n",
       "    <tr>\n",
       "      <th>21</th>\n",
       "      <td>2023-11-29</td>\n",
       "      <td>134235</td>\n",
       "      <td>75242</td>\n",
       "    </tr>\n",
       "    <tr>\n",
       "      <th>22</th>\n",
       "      <td>2023-12-01</td>\n",
       "      <td>134766</td>\n",
       "      <td>76918</td>\n",
       "    </tr>\n",
       "    <tr>\n",
       "      <th>23</th>\n",
       "      <td>2023-12-06</td>\n",
       "      <td>122738</td>\n",
       "      <td>73649</td>\n",
       "    </tr>\n",
       "  </tbody>\n",
       "</table>\n",
       "</div>"
      ],
      "text/plain": [
       "          day  deduplicated_record_count  deduplicated_record_count_noagg\n",
       "0  2023-07-14                     139142                            84658\n",
       "1  2023-07-24                     133901                            79659\n",
       "2  2023-08-02                     129699                            78558\n",
       "3  2023-08-08                     133497                            78332\n",
       "4  2023-08-21                     150500                            79529\n",
       "5  2023-08-30                     149077                            79747\n",
       "6  2023-09-12                     148288                            78912\n",
       "7  2023-09-20                     152239                            78338\n",
       "8  2023-09-25                     152739                            78537\n",
       "9  2023-10-02                     148725                            76569\n",
       "10 2023-10-10                     147866                            76033\n",
       "11 2023-10-17                     144845                            76895\n",
       "12 2023-10-23                     151097                            77609\n",
       "13 2023-10-30                     152554                            77552\n",
       "14 2023-11-13                     137364                            77032\n",
       "15 2023-11-15                     145665                            77754\n",
       "16 2023-11-17                     150606                            79597\n",
       "17 2023-11-20                     143081                            76814\n",
       "18 2023-11-22                     130474                            75765\n",
       "19 2023-11-24                     137910                            78098\n",
       "20 2023-11-27                     133621                            74687\n",
       "21 2023-11-29                     134235                            75242\n",
       "22 2023-12-01                     134766                            76918\n",
       "23 2023-12-06                     122738                            73649"
      ]
     },
     "metadata": {},
     "output_type": "display_data"
    },
    {
     "data": {
      "text/plain": [
       "<Axes: xlabel='day'>"
      ]
     },
     "execution_count": 5,
     "metadata": {},
     "output_type": "execute_result"
    },
    {
     "data": {
      "image/png": "[encoded data removed]",
      "text/plain": [
       "<Figure size 640x480 with 1 Axes>"
      ]
     },
     "metadata": {},
     "output_type": "display_data"
    }
   ],
   "source": [
    "__df_c = df_c.select([\"day\", \"deduplicated_record_count\", \"deduplicated_record_count_noagg\"]).toPandas()\n",
    "__df_c[\"day\"] = pd.to_datetime(__df_c[\"day\"], format=\"%Y-%M-%d\")\n",
    "display(__df_c)\n",
    "__df_c.set_index(\"day\").plot()"
   ]
  },
  {
   "cell_type": "code",
   "execution_count": 6,
   "id": "1ea7f460-82f5-4cbe-b355-dcbb14f202c7",
   "metadata": {},
   "outputs": [
    {
     "data": {
      "text/html": [
       "<div>\n",
       "<style scoped>\n",
       "    .dataframe tbody tr th:only-of-type {\n",
       "        vertical-align: middle;\n",
       "    }\n",
       "\n",
       "    .dataframe tbody tr th {\n",
       "        vertical-align: top;\n",
       "    }\n",
       "\n",
       "    .dataframe thead th {\n",
       "        text-align: right;\n",
       "    }\n",
       "</style>\n",
       "<table border=\"1\" class=\"dataframe\">\n",
       "  <thead>\n",
       "    <tr style=\"text-align: right;\">\n",
       "      <th></th>\n",
       "      <th>day</th>\n",
       "      <th>deduplicated_record_count</th>\n",
       "      <th>deduplicated_record_count_noagg</th>\n",
       "    </tr>\n",
       "  </thead>\n",
       "  <tbody>\n",
       "    <tr>\n",
       "      <th>0</th>\n",
       "      <td>2023-07-14</td>\n",
       "      <td>139142</td>\n",
       "      <td>84658</td>\n",
       "    </tr>\n",
       "    <tr>\n",
       "      <th>1</th>\n",
       "      <td>2023-07-24</td>\n",
       "      <td>133901</td>\n",
       "      <td>79659</td>\n",
       "    </tr>\n",
       "    <tr>\n",
       "      <th>2</th>\n",
       "      <td>2023-08-02</td>\n",
       "      <td>129699</td>\n",
       "      <td>78558</td>\n",
       "    </tr>\n",
       "    <tr>\n",
       "      <th>3</th>\n",
       "      <td>2023-08-08</td>\n",
       "      <td>133497</td>\n",
       "      <td>78332</td>\n",
       "    </tr>\n",
       "    <tr>\n",
       "      <th>4</th>\n",
       "      <td>2023-08-21</td>\n",
       "      <td>150500</td>\n",
       "      <td>79529</td>\n",
       "    </tr>\n",
       "    <tr>\n",
       "      <th>5</th>\n",
       "      <td>2023-08-30</td>\n",
       "      <td>149077</td>\n",
       "      <td>79747</td>\n",
       "    </tr>\n",
       "    <tr>\n",
       "      <th>6</th>\n",
       "      <td>2023-09-12</td>\n",
       "      <td>148288</td>\n",
       "      <td>78912</td>\n",
       "    </tr>\n",
       "    <tr>\n",
       "      <th>7</th>\n",
       "      <td>2023-09-20</td>\n",
       "      <td>152239</td>\n",
       "      <td>78338</td>\n",
       "    </tr>\n",
       "    <tr>\n",
       "      <th>8</th>\n",
       "      <td>2023-09-25</td>\n",
       "      <td>152739</td>\n",
       "      <td>78537</td>\n",
       "    </tr>\n",
       "    <tr>\n",
       "      <th>9</th>\n",
       "      <td>2023-10-02</td>\n",
       "      <td>148725</td>\n",
       "      <td>76569</td>\n",
       "    </tr>\n",
       "    <tr>\n",
       "      <th>10</th>\n",
       "      <td>2023-10-10</td>\n",
       "      <td>147866</td>\n",
       "      <td>76033</td>\n",
       "    </tr>\n",
       "    <tr>\n",
       "      <th>11</th>\n",
       "      <td>2023-10-17</td>\n",
       "      <td>144845</td>\n",
       "      <td>76895</td>\n",
       "    </tr>\n",
       "    <tr>\n",
       "      <th>12</th>\n",
       "      <td>2023-10-23</td>\n",
       "      <td>151097</td>\n",
       "      <td>77609</td>\n",
       "    </tr>\n",
       "    <tr>\n",
       "      <th>13</th>\n",
       "      <td>2023-10-30</td>\n",
       "      <td>152554</td>\n",
       "      <td>77552</td>\n",
       "    </tr>\n",
       "    <tr>\n",
       "      <th>14</th>\n",
       "      <td>2023-11-13</td>\n",
       "      <td>137364</td>\n",
       "      <td>77032</td>\n",
       "    </tr>\n",
       "    <tr>\n",
       "      <th>15</th>\n",
       "      <td>2023-11-15</td>\n",
       "      <td>145665</td>\n",
       "      <td>77754</td>\n",
       "    </tr>\n",
       "    <tr>\n",
       "      <th>16</th>\n",
       "      <td>2023-11-17</td>\n",
       "      <td>150606</td>\n",
       "      <td>79597</td>\n",
       "    </tr>\n",
       "    <tr>\n",
       "      <th>17</th>\n",
       "      <td>2023-11-20</td>\n",
       "      <td>143081</td>\n",
       "      <td>76814</td>\n",
       "    </tr>\n",
       "    <tr>\n",
       "      <th>18</th>\n",
       "      <td>2023-11-22</td>\n",
       "      <td>130474</td>\n",
       "      <td>75765</td>\n",
       "    </tr>\n",
       "    <tr>\n",
       "      <th>19</th>\n",
       "      <td>2023-11-24</td>\n",
       "      <td>137910</td>\n",
       "      <td>78098</td>\n",
       "    </tr>\n",
       "    <tr>\n",
       "      <th>20</th>\n",
       "      <td>2023-11-27</td>\n",
       "      <td>133621</td>\n",
       "      <td>74687</td>\n",
       "    </tr>\n",
       "    <tr>\n",
       "      <th>21</th>\n",
       "      <td>2023-11-29</td>\n",
       "      <td>134235</td>\n",
       "      <td>75242</td>\n",
       "    </tr>\n",
       "    <tr>\n",
       "      <th>22</th>\n",
       "      <td>2023-12-01</td>\n",
       "      <td>134766</td>\n",
       "      <td>76918</td>\n",
       "    </tr>\n",
       "    <tr>\n",
       "      <th>23</th>\n",
       "      <td>2023-12-06</td>\n",
       "      <td>122738</td>\n",
       "      <td>73649</td>\n",
       "    </tr>\n",
       "  </tbody>\n",
       "</table>\n",
       "</div>"
      ],
      "text/plain": [
       "          day  deduplicated_record_count  deduplicated_record_count_noagg\n",
       "0  2023-07-14                     139142                            84658\n",
       "1  2023-07-24                     133901                            79659\n",
       "2  2023-08-02                     129699                            78558\n",
       "3  2023-08-08                     133497                            78332\n",
       "4  2023-08-21                     150500                            79529\n",
       "5  2023-08-30                     149077                            79747\n",
       "6  2023-09-12                     148288                            78912\n",
       "7  2023-09-20                     152239                            78338\n",
       "8  2023-09-25                     152739                            78537\n",
       "9  2023-10-02                     148725                            76569\n",
       "10 2023-10-10                     147866                            76033\n",
       "11 2023-10-17                     144845                            76895\n",
       "12 2023-10-23                     151097                            77609\n",
       "13 2023-10-30                     152554                            77552\n",
       "14 2023-11-13                     137364                            77032\n",
       "15 2023-11-15                     145665                            77754\n",
       "16 2023-11-17                     150606                            79597\n",
       "17 2023-11-20                     143081                            76814\n",
       "18 2023-11-22                     130474                            75765\n",
       "19 2023-11-24                     137910                            78098\n",
       "20 2023-11-27                     133621                            74687\n",
       "21 2023-11-29                     134235                            75242\n",
       "22 2023-12-01                     134766                            76918\n",
       "23 2023-12-06                     122738                            73649"
      ]
     },
     "execution_count": 6,
     "metadata": {},
     "output_type": "execute_result"
    }
   ],
   "source": [
    "__df_c"
   ]
  },
  {
   "cell_type": "code",
   "execution_count": 7,
   "id": "b8106477-0dea-42ec-834f-b1f35a562213",
   "metadata": {},
   "outputs": [
    {
     "data": {
      "text/html": [
       "<div>\n",
       "<style scoped>\n",
       "    .dataframe tbody tr th:only-of-type {\n",
       "        vertical-align: middle;\n",
       "    }\n",
       "\n",
       "    .dataframe tbody tr th {\n",
       "        vertical-align: top;\n",
       "    }\n",
       "\n",
       "    .dataframe thead th {\n",
       "        text-align: right;\n",
       "    }\n",
       "</style>\n",
       "<table border=\"1\" class=\"dataframe\">\n",
       "  <thead>\n",
       "    <tr style=\"text-align: right;\">\n",
       "      <th></th>\n",
       "      <th>day</th>\n",
       "      <th>deduplicated_record_count</th>\n",
       "      <th>deduplicated_record_count_noagg</th>\n",
       "      <th>ratio</th>\n",
       "    </tr>\n",
       "  </thead>\n",
       "  <tbody>\n",
       "    <tr>\n",
       "      <th>0</th>\n",
       "      <td>2023-07-14</td>\n",
       "      <td>139142</td>\n",
       "      <td>84658</td>\n",
       "      <td>0.608429</td>\n",
       "    </tr>\n",
       "    <tr>\n",
       "      <th>1</th>\n",
       "      <td>2023-07-24</td>\n",
       "      <td>133901</td>\n",
       "      <td>79659</td>\n",
       "      <td>0.594910</td>\n",
       "    </tr>\n",
       "    <tr>\n",
       "      <th>2</th>\n",
       "      <td>2023-08-02</td>\n",
       "      <td>129699</td>\n",
       "      <td>78558</td>\n",
       "      <td>0.605695</td>\n",
       "    </tr>\n",
       "    <tr>\n",
       "      <th>3</th>\n",
       "      <td>2023-08-08</td>\n",
       "      <td>133497</td>\n",
       "      <td>78332</td>\n",
       "      <td>0.586770</td>\n",
       "    </tr>\n",
       "    <tr>\n",
       "      <th>4</th>\n",
       "      <td>2023-08-21</td>\n",
       "      <td>150500</td>\n",
       "      <td>79529</td>\n",
       "      <td>0.528432</td>\n",
       "    </tr>\n",
       "    <tr>\n",
       "      <th>5</th>\n",
       "      <td>2023-08-30</td>\n",
       "      <td>149077</td>\n",
       "      <td>79747</td>\n",
       "      <td>0.534938</td>\n",
       "    </tr>\n",
       "    <tr>\n",
       "      <th>6</th>\n",
       "      <td>2023-09-12</td>\n",
       "      <td>148288</td>\n",
       "      <td>78912</td>\n",
       "      <td>0.532154</td>\n",
       "    </tr>\n",
       "    <tr>\n",
       "      <th>7</th>\n",
       "      <td>2023-09-20</td>\n",
       "      <td>152239</td>\n",
       "      <td>78338</td>\n",
       "      <td>0.514572</td>\n",
       "    </tr>\n",
       "    <tr>\n",
       "      <th>8</th>\n",
       "      <td>2023-09-25</td>\n",
       "      <td>152739</td>\n",
       "      <td>78537</td>\n",
       "      <td>0.514191</td>\n",
       "    </tr>\n",
       "    <tr>\n",
       "      <th>9</th>\n",
       "      <td>2023-10-02</td>\n",
       "      <td>148725</td>\n",
       "      <td>76569</td>\n",
       "      <td>0.514836</td>\n",
       "    </tr>\n",
       "    <tr>\n",
       "      <th>10</th>\n",
       "      <td>2023-10-10</td>\n",
       "      <td>147866</td>\n",
       "      <td>76033</td>\n",
       "      <td>0.514202</td>\n",
       "    </tr>\n",
       "    <tr>\n",
       "      <th>11</th>\n",
       "      <td>2023-10-17</td>\n",
       "      <td>144845</td>\n",
       "      <td>76895</td>\n",
       "      <td>0.530878</td>\n",
       "    </tr>\n",
       "    <tr>\n",
       "      <th>12</th>\n",
       "      <td>2023-10-23</td>\n",
       "      <td>151097</td>\n",
       "      <td>77609</td>\n",
       "      <td>0.513637</td>\n",
       "    </tr>\n",
       "    <tr>\n",
       "      <th>13</th>\n",
       "      <td>2023-10-30</td>\n",
       "      <td>152554</td>\n",
       "      <td>77552</td>\n",
       "      <td>0.508358</td>\n",
       "    </tr>\n",
       "    <tr>\n",
       "      <th>14</th>\n",
       "      <td>2023-11-13</td>\n",
       "      <td>137364</td>\n",
       "      <td>77032</td>\n",
       "      <td>0.560787</td>\n",
       "    </tr>\n",
       "    <tr>\n",
       "      <th>15</th>\n",
       "      <td>2023-11-15</td>\n",
       "      <td>145665</td>\n",
       "      <td>77754</td>\n",
       "      <td>0.533786</td>\n",
       "    </tr>\n",
       "    <tr>\n",
       "      <th>16</th>\n",
       "      <td>2023-11-17</td>\n",
       "      <td>150606</td>\n",
       "      <td>79597</td>\n",
       "      <td>0.528511</td>\n",
       "    </tr>\n",
       "    <tr>\n",
       "      <th>17</th>\n",
       "      <td>2023-11-20</td>\n",
       "      <td>143081</td>\n",
       "      <td>76814</td>\n",
       "      <td>0.536857</td>\n",
       "    </tr>\n",
       "    <tr>\n",
       "      <th>18</th>\n",
       "      <td>2023-11-22</td>\n",
       "      <td>130474</td>\n",
       "      <td>75765</td>\n",
       "      <td>0.580690</td>\n",
       "    </tr>\n",
       "    <tr>\n",
       "      <th>19</th>\n",
       "      <td>2023-11-24</td>\n",
       "      <td>137910</td>\n",
       "      <td>78098</td>\n",
       "      <td>0.566297</td>\n",
       "    </tr>\n",
       "    <tr>\n",
       "      <th>20</th>\n",
       "      <td>2023-11-27</td>\n",
       "      <td>133621</td>\n",
       "      <td>74687</td>\n",
       "      <td>0.558947</td>\n",
       "    </tr>\n",
       "    <tr>\n",
       "      <th>21</th>\n",
       "      <td>2023-11-29</td>\n",
       "      <td>134235</td>\n",
       "      <td>75242</td>\n",
       "      <td>0.560524</td>\n",
       "    </tr>\n",
       "    <tr>\n",
       "      <th>22</th>\n",
       "      <td>2023-12-01</td>\n",
       "      <td>134766</td>\n",
       "      <td>76918</td>\n",
       "      <td>0.570752</td>\n",
       "    </tr>\n",
       "    <tr>\n",
       "      <th>23</th>\n",
       "      <td>2023-12-06</td>\n",
       "      <td>122738</td>\n",
       "      <td>73649</td>\n",
       "      <td>0.600051</td>\n",
       "    </tr>\n",
       "  </tbody>\n",
       "</table>\n",
       "</div>"
      ],
      "text/plain": [
       "          day  deduplicated_record_count  deduplicated_record_count_noagg  \\\n",
       "0  2023-07-14                     139142                            84658   \n",
       "1  2023-07-24                     133901                            79659   \n",
       "2  2023-08-02                     129699                            78558   \n",
       "3  2023-08-08                     133497                            78332   \n",
       "4  2023-08-21                     150500                            79529   \n",
       "5  2023-08-30                     149077                            79747   \n",
       "6  2023-09-12                     148288                            78912   \n",
       "7  2023-09-20                     152239                            78338   \n",
       "8  2023-09-25                     152739                            78537   \n",
       "9  2023-10-02                     148725                            76569   \n",
       "10 2023-10-10                     147866                            76033   \n",
       "11 2023-10-17                     144845                            76895   \n",
       "12 2023-10-23                     151097                            77609   \n",
       "13 2023-10-30                     152554                            77552   \n",
       "14 2023-11-13                     137364                            77032   \n",
       "15 2023-11-15                     145665                            77754   \n",
       "16 2023-11-17                     150606                            79597   \n",
       "17 2023-11-20                     143081                            76814   \n",
       "18 2023-11-22                     130474                            75765   \n",
       "19 2023-11-24                     137910                            78098   \n",
       "20 2023-11-27                     133621                            74687   \n",
       "21 2023-11-29                     134235                            75242   \n",
       "22 2023-12-01                     134766                            76918   \n",
       "23 2023-12-06                     122738                            73649   \n",
       "\n",
       "       ratio  \n",
       "0   0.608429  \n",
       "1   0.594910  \n",
       "2   0.605695  \n",
       "3   0.586770  \n",
       "4   0.528432  \n",
       "5   0.534938  \n",
       "6   0.532154  \n",
       "7   0.514572  \n",
       "8   0.514191  \n",
       "9   0.514836  \n",
       "10  0.514202  \n",
       "11  0.530878  \n",
       "12  0.513637  \n",
       "13  0.508358  \n",
       "14  0.560787  \n",
       "15  0.533786  \n",
       "16  0.528511  \n",
       "17  0.536857  \n",
       "18  0.580690  \n",
       "19  0.566297  \n",
       "20  0.558947  \n",
       "21  0.560524  \n",
       "22  0.570752  \n",
       "23  0.600051  "
      ]
     },
     "execution_count": 7,
     "metadata": {},
     "output_type": "execute_result"
    }
   ],
   "source": [
    "__df_c['ratio'] = __df_c['deduplicated_record_count_noagg'] / __df_c['deduplicated_record_count']\n",
    "__df_c"
   ]
  },
  {
   "cell_type": "code",
   "execution_count": 8,
   "id": "6bd5002d-100e-4d73-9ca4-91a74a631ee4",
   "metadata": {},
   "outputs": [
    {
     "data": {
      "text/plain": [
       "3402"
      ]
     },
     "execution_count": 8,
     "metadata": {},
     "output_type": "execute_result"
    }
   ],
   "source": [
    "d1 = set(df_c.filter(df_c.day=='2023-11-20').select(['noagg.jobids']).toPandas()['jobids'][0])\n",
    "d2 = set(df_c.filter(df_c.day=='2023-11-22').select(['noagg.jobids']).toPandas()['jobids'][0])\n",
    "len(d2 - d1)"
   ]
  },
  {
   "cell_type": "code",
   "execution_count": 9,
   "id": "ce1075c2-f7fa-46c6-a33b-73b0b6d4092c",
   "metadata": {},
   "outputs": [
    {
     "data": {
      "text/plain": [
       "0         NaN\n",
       "1     14221.0\n",
       "2     15845.0\n",
       "3     10228.0\n",
       "4     20906.0\n",
       "5     16278.0\n",
       "6     20239.0\n",
       "7     13145.0\n",
       "8      8025.0\n",
       "9     11433.0\n",
       "10    14351.0\n",
       "11    12560.0\n",
       "12     9967.0\n",
       "13    11465.0\n",
       "14    21314.0\n",
       "15     5346.0\n",
       "16     3929.0\n",
       "17     2836.0\n",
       "18     3402.0\n",
       "19     4348.0\n",
       "20     2583.0\n",
       "21     4897.0\n",
       "22     3779.0\n",
       "23     6556.0\n",
       "Name: new_jobs, dtype: float64"
      ]
     },
     "execution_count": 9,
     "metadata": {},
     "output_type": "execute_result"
    }
   ],
   "source": [
    "def new_jobs(df, date_range, subset=\"noagg\"):\n",
    "    def date_jobids(date):\n",
    "        return set(df.filter(df.day == date).select([f'{subset}.jobids']).toPandas()['jobids'][0])\n",
    "    \n",
    "    date_range = sorted(date_range)\n",
    "    s1 = date_jobids(date_range[0]) \n",
    "    ret = []\n",
    "    for i in range(1, len(date_range)):\n",
    "        s2 = date_jobids(date_range[i])\n",
    "        ret.append(len(s2 - s1))\n",
    "        s1 = s2\n",
    "    return ret\n",
    "\n",
    "__df_c = df_c.select('day').toPandas()\n",
    "_dates = list(__df_c['day'])#[14:20]\n",
    "__df_c[\"new_jobs\"] = [np.nan] + new_jobs(df_c, _dates, \"noagg\")    \n",
    "__df_c[\"new_jobs\"]"
   ]
  },
  {
   "cell_type": "code",
   "execution_count": 10,
   "id": "76088325-567f-4754-8522-808ab6e1649c",
   "metadata": {},
   "outputs": [
    {
     "data": {
      "text/html": [
       "<div>\n",
       "<style scoped>\n",
       "    .dataframe tbody tr th:only-of-type {\n",
       "        vertical-align: middle;\n",
       "    }\n",
       "\n",
       "    .dataframe tbody tr th {\n",
       "        vertical-align: top;\n",
       "    }\n",
       "\n",
       "    .dataframe thead th {\n",
       "        text-align: right;\n",
       "    }\n",
       "</style>\n",
       "<table border=\"1\" class=\"dataframe\">\n",
       "  <thead>\n",
       "    <tr style=\"text-align: right;\">\n",
       "      <th></th>\n",
       "      <th>day</th>\n",
       "      <th>new_jobs</th>\n",
       "      <th>day_diff</th>\n",
       "      <th>avg_new_jobs_pd</th>\n",
       "    </tr>\n",
       "  </thead>\n",
       "  <tbody>\n",
       "    <tr>\n",
       "      <th>0</th>\n",
       "      <td>2023-07-14</td>\n",
       "      <td>NaN</td>\n",
       "      <td>NaT</td>\n",
       "      <td>NaN</td>\n",
       "    </tr>\n",
       "    <tr>\n",
       "      <th>1</th>\n",
       "      <td>2023-07-24</td>\n",
       "      <td>14221.0</td>\n",
       "      <td>10 days</td>\n",
       "      <td>1422.100000</td>\n",
       "    </tr>\n",
       "    <tr>\n",
       "      <th>2</th>\n",
       "      <td>2023-08-02</td>\n",
       "      <td>15845.0</td>\n",
       "      <td>9 days</td>\n",
       "      <td>1760.555556</td>\n",
       "    </tr>\n",
       "    <tr>\n",
       "      <th>3</th>\n",
       "      <td>2023-08-08</td>\n",
       "      <td>10228.0</td>\n",
       "      <td>6 days</td>\n",
       "      <td>1704.666667</td>\n",
       "    </tr>\n",
       "    <tr>\n",
       "      <th>4</th>\n",
       "      <td>2023-08-21</td>\n",
       "      <td>20906.0</td>\n",
       "      <td>13 days</td>\n",
       "      <td>1608.153846</td>\n",
       "    </tr>\n",
       "    <tr>\n",
       "      <th>5</th>\n",
       "      <td>2023-08-30</td>\n",
       "      <td>16278.0</td>\n",
       "      <td>9 days</td>\n",
       "      <td>1808.666667</td>\n",
       "    </tr>\n",
       "    <tr>\n",
       "      <th>6</th>\n",
       "      <td>2023-09-12</td>\n",
       "      <td>20239.0</td>\n",
       "      <td>13 days</td>\n",
       "      <td>1556.846154</td>\n",
       "    </tr>\n",
       "    <tr>\n",
       "      <th>7</th>\n",
       "      <td>2023-09-20</td>\n",
       "      <td>13145.0</td>\n",
       "      <td>8 days</td>\n",
       "      <td>1643.125000</td>\n",
       "    </tr>\n",
       "    <tr>\n",
       "      <th>8</th>\n",
       "      <td>2023-09-25</td>\n",
       "      <td>8025.0</td>\n",
       "      <td>5 days</td>\n",
       "      <td>1605.000000</td>\n",
       "    </tr>\n",
       "    <tr>\n",
       "      <th>9</th>\n",
       "      <td>2023-10-02</td>\n",
       "      <td>11433.0</td>\n",
       "      <td>7 days</td>\n",
       "      <td>1633.285714</td>\n",
       "    </tr>\n",
       "    <tr>\n",
       "      <th>10</th>\n",
       "      <td>2023-10-10</td>\n",
       "      <td>14351.0</td>\n",
       "      <td>8 days</td>\n",
       "      <td>1793.875000</td>\n",
       "    </tr>\n",
       "    <tr>\n",
       "      <th>11</th>\n",
       "      <td>2023-10-17</td>\n",
       "      <td>12560.0</td>\n",
       "      <td>7 days</td>\n",
       "      <td>1794.285714</td>\n",
       "    </tr>\n",
       "    <tr>\n",
       "      <th>12</th>\n",
       "      <td>2023-10-23</td>\n",
       "      <td>9967.0</td>\n",
       "      <td>6 days</td>\n",
       "      <td>1661.166667</td>\n",
       "    </tr>\n",
       "    <tr>\n",
       "      <th>13</th>\n",
       "      <td>2023-10-30</td>\n",
       "      <td>11465.0</td>\n",
       "      <td>7 days</td>\n",
       "      <td>1637.857143</td>\n",
       "    </tr>\n",
       "    <tr>\n",
       "      <th>14</th>\n",
       "      <td>2023-11-13</td>\n",
       "      <td>21314.0</td>\n",
       "      <td>14 days</td>\n",
       "      <td>1522.428571</td>\n",
       "    </tr>\n",
       "    <tr>\n",
       "      <th>15</th>\n",
       "      <td>2023-11-15</td>\n",
       "      <td>5346.0</td>\n",
       "      <td>2 days</td>\n",
       "      <td>2673.000000</td>\n",
       "    </tr>\n",
       "    <tr>\n",
       "      <th>16</th>\n",
       "      <td>2023-11-17</td>\n",
       "      <td>3929.0</td>\n",
       "      <td>2 days</td>\n",
       "      <td>1964.500000</td>\n",
       "    </tr>\n",
       "    <tr>\n",
       "      <th>17</th>\n",
       "      <td>2023-11-20</td>\n",
       "      <td>2836.0</td>\n",
       "      <td>3 days</td>\n",
       "      <td>945.333333</td>\n",
       "    </tr>\n",
       "    <tr>\n",
       "      <th>18</th>\n",
       "      <td>2023-11-22</td>\n",
       "      <td>3402.0</td>\n",
       "      <td>2 days</td>\n",
       "      <td>1701.000000</td>\n",
       "    </tr>\n",
       "    <tr>\n",
       "      <th>19</th>\n",
       "      <td>2023-11-24</td>\n",
       "      <td>4348.0</td>\n",
       "      <td>2 days</td>\n",
       "      <td>2174.000000</td>\n",
       "    </tr>\n",
       "    <tr>\n",
       "      <th>20</th>\n",
       "      <td>2023-11-27</td>\n",
       "      <td>2583.0</td>\n",
       "      <td>3 days</td>\n",
       "      <td>861.000000</td>\n",
       "    </tr>\n",
       "    <tr>\n",
       "      <th>21</th>\n",
       "      <td>2023-11-29</td>\n",
       "      <td>4897.0</td>\n",
       "      <td>2 days</td>\n",
       "      <td>2448.500000</td>\n",
       "    </tr>\n",
       "    <tr>\n",
       "      <th>22</th>\n",
       "      <td>2023-12-01</td>\n",
       "      <td>3779.0</td>\n",
       "      <td>2 days</td>\n",
       "      <td>1889.500000</td>\n",
       "    </tr>\n",
       "    <tr>\n",
       "      <th>23</th>\n",
       "      <td>2023-12-06</td>\n",
       "      <td>6556.0</td>\n",
       "      <td>5 days</td>\n",
       "      <td>1311.200000</td>\n",
       "    </tr>\n",
       "  </tbody>\n",
       "</table>\n",
       "</div>"
      ],
      "text/plain": [
       "           day  new_jobs day_diff  avg_new_jobs_pd\n",
       "0   2023-07-14       NaN      NaT              NaN\n",
       "1   2023-07-24   14221.0  10 days      1422.100000\n",
       "2   2023-08-02   15845.0   9 days      1760.555556\n",
       "3   2023-08-08   10228.0   6 days      1704.666667\n",
       "4   2023-08-21   20906.0  13 days      1608.153846\n",
       "5   2023-08-30   16278.0   9 days      1808.666667\n",
       "6   2023-09-12   20239.0  13 days      1556.846154\n",
       "7   2023-09-20   13145.0   8 days      1643.125000\n",
       "8   2023-09-25    8025.0   5 days      1605.000000\n",
       "9   2023-10-02   11433.0   7 days      1633.285714\n",
       "10  2023-10-10   14351.0   8 days      1793.875000\n",
       "11  2023-10-17   12560.0   7 days      1794.285714\n",
       "12  2023-10-23    9967.0   6 days      1661.166667\n",
       "13  2023-10-30   11465.0   7 days      1637.857143\n",
       "14  2023-11-13   21314.0  14 days      1522.428571\n",
       "15  2023-11-15    5346.0   2 days      2673.000000\n",
       "16  2023-11-17    3929.0   2 days      1964.500000\n",
       "17  2023-11-20    2836.0   3 days       945.333333\n",
       "18  2023-11-22    3402.0   2 days      1701.000000\n",
       "19  2023-11-24    4348.0   2 days      2174.000000\n",
       "20  2023-11-27    2583.0   3 days       861.000000\n",
       "21  2023-11-29    4897.0   2 days      2448.500000\n",
       "22  2023-12-01    3779.0   2 days      1889.500000\n",
       "23  2023-12-06    6556.0   5 days      1311.200000"
      ]
     },
     "execution_count": 10,
     "metadata": {},
     "output_type": "execute_result"
    }
   ],
   "source": [
    "__df_c['day_diff'] = __df_c['day'].diff()\n",
    "__df_c['avg_new_jobs_pd'] = __df_c['new_jobs'] / __df_c['day_diff'].dt.days\n",
    "__df_c"
   ]
  },
  {
   "cell_type": "code",
   "execution_count": 11,
   "id": "cc15fb00-758e-4a67-a2d8-1700b7be2230",
   "metadata": {},
   "outputs": [
    {
     "data": {
      "text/plain": [
       "<matplotlib.collections.PathCollection at 0xffff64a9ec10>"
      ]
     },
     "execution_count": 11,
     "metadata": {},
     "output_type": "execute_result"
    },
    {
     "data": {
      "image/png": "[encoded data removed]",
      "text/plain": [
       "<Figure size 640x480 with 1 Axes>"
      ]
     },
     "metadata": {},
     "output_type": "display_data"
    }
   ],
   "source": [
    "plt.scatter(__df_c['day'], __df_c['avg_new_jobs_pd'])"
   ]
  },
  {
   "cell_type": "markdown",
   "id": "72bb42ad-ccda-46fd-8b3b-d4135b7431f5",
   "metadata": {},
   "source": [
    "### Estados"
   ]
  },
  {
   "cell_type": "code",
   "execution_count": 12,
   "id": "4e47e5a2-1920-4b07-b976-874fcdd6dbdc",
   "metadata": {},
   "outputs": [
    {
     "ename": "AnalysisException",
     "evalue": "[UNRESOLVED_COLUMN.WITH_SUGGESTION] A column or function parameter with name `day` cannot be resolved. Did you mean one of the following? [`date`, `agg`, `noagg`, `record_version`, `total_record_count`].;\n'Project ['day, agg#8.count_by_state AS count_by_state#152]\n+- Relation [agg#8,count_by_company_where_redirected#9,count_by_redirect_type#10,date#11,deduplicated_record_count#12L,deduplicated_record_count_noagg#13L,noagg#14,record_version#15,total_record_count#16L] json\n",
     "output_type": "error",
     "traceback": [
      "\u001b[0;31m---------------------------------------------------------------------------\u001b[0m",
      "\u001b[0;31mAnalysisException\u001b[0m                         Traceback (most recent call last)",
      "Cell \u001b[0;32mIn[12], line 4\u001b[0m\n\u001b[1;32m      1\u001b[0m \u001b[38;5;66;03m#df.createOrReplaceTempView(\"data\")\u001b[39;00m\n\u001b[1;32m      2\u001b[0m \u001b[38;5;66;03m#spark.sql(\"select count_by_state from data\").show()\u001b[39;00m\n\u001b[1;32m      3\u001b[0m \u001b[38;5;66;03m#df.select(F.explode(F.col(\"count_by_state\"))).select([\"col.count\", \"col.description\"]).show()#.select([\"description\", \"count\"]).show()\u001b[39;00m\n\u001b[0;32m----> 4\u001b[0m states \u001b[38;5;241m=\u001b[39m \u001b[43mdf\u001b[49m\u001b[38;5;241;43m.\u001b[39;49m\u001b[43mselect\u001b[49m\u001b[43m(\u001b[49m\u001b[43m[\u001b[49m\u001b[38;5;124;43m\"\u001b[39;49m\u001b[38;5;124;43mday\u001b[39;49m\u001b[38;5;124;43m\"\u001b[39;49m\u001b[43m,\u001b[49m\u001b[43m \u001b[49m\u001b[38;5;124;43m\"\u001b[39;49m\u001b[38;5;124;43magg.count_by_state\u001b[39;49m\u001b[38;5;124;43m\"\u001b[39;49m\u001b[43m]\u001b[49m\u001b[43m)\u001b[49m\\\n\u001b[1;32m      5\u001b[0m     \u001b[38;5;241m.\u001b[39mwithColumn(\u001b[38;5;124m\"\u001b[39m\u001b[38;5;124mexp\u001b[39m\u001b[38;5;124m\"\u001b[39m, F\u001b[38;5;241m.\u001b[39mexplode(F\u001b[38;5;241m.\u001b[39mcol(\u001b[38;5;124m\"\u001b[39m\u001b[38;5;124mcount_by_state\u001b[39m\u001b[38;5;124m\"\u001b[39m)))\\\n\u001b[1;32m      6\u001b[0m     \u001b[38;5;241m.\u001b[39mselect([\u001b[38;5;124m\"\u001b[39m\u001b[38;5;124mday\u001b[39m\u001b[38;5;124m\"\u001b[39m, \u001b[38;5;124m\"\u001b[39m\u001b[38;5;124magg.exp.count\u001b[39m\u001b[38;5;124m\"\u001b[39m, \u001b[38;5;124m\"\u001b[39m\u001b[38;5;124magg.exp.description\u001b[39m\u001b[38;5;124m\"\u001b[39m])\u001b[38;5;66;03m#.show(100)#.select([\"description\", \"count\"]).show()\u001b[39;00m\n\u001b[1;32m      7\u001b[0m \u001b[38;5;66;03m#df.select(F.struct(\"count_by_state.count\", \"count_by_state.description\")).show()\u001b[39;00m\n\u001b[1;32m      8\u001b[0m states \u001b[38;5;241m=\u001b[39m states\u001b[38;5;241m.\u001b[39mgroupby(\u001b[38;5;124m\"\u001b[39m\u001b[38;5;124mday\u001b[39m\u001b[38;5;124m\"\u001b[39m)\u001b[38;5;241m.\u001b[39mpivot(\u001b[38;5;124m\"\u001b[39m\u001b[38;5;124mdescription\u001b[39m\u001b[38;5;124m\"\u001b[39m)\u001b[38;5;241m.\u001b[39msum()\u001b[38;5;241m.\u001b[39morderBy(F\u001b[38;5;241m.\u001b[39mcol(\u001b[38;5;124m\"\u001b[39m\u001b[38;5;124mday\u001b[39m\u001b[38;5;124m\"\u001b[39m))\u001b[38;5;241m.\u001b[39mtoPandas()\u001b[38;5;241m.\u001b[39mset_index(\u001b[38;5;124m\"\u001b[39m\u001b[38;5;124mday\u001b[39m\u001b[38;5;124m\"\u001b[39m)\u001b[38;5;241m.\u001b[39mtranspose()\n",
      "File \u001b[0;32m/usr/local/spark/python/pyspark/sql/dataframe.py:3036\u001b[0m, in \u001b[0;36mDataFrame.select\u001b[0;34m(self, *cols)\u001b[0m\n\u001b[1;32m   2991\u001b[0m \u001b[38;5;28;01mdef\u001b[39;00m \u001b[38;5;21mselect\u001b[39m(\u001b[38;5;28mself\u001b[39m, \u001b[38;5;241m*\u001b[39mcols: \u001b[38;5;124m\"\u001b[39m\u001b[38;5;124mColumnOrName\u001b[39m\u001b[38;5;124m\"\u001b[39m) \u001b[38;5;241m-\u001b[39m\u001b[38;5;241m>\u001b[39m \u001b[38;5;124m\"\u001b[39m\u001b[38;5;124mDataFrame\u001b[39m\u001b[38;5;124m\"\u001b[39m:  \u001b[38;5;66;03m# type: ignore[misc]\u001b[39;00m\n\u001b[1;32m   2992\u001b[0m \u001b[38;5;250m    \u001b[39m\u001b[38;5;124;03m\"\"\"Projects a set of expressions and returns a new :class:`DataFrame`.\u001b[39;00m\n\u001b[1;32m   2993\u001b[0m \n\u001b[1;32m   2994\u001b[0m \u001b[38;5;124;03m    .. versionadded:: 1.3.0\u001b[39;00m\n\u001b[0;32m   (...)\u001b[0m\n\u001b[1;32m   3034\u001b[0m \u001b[38;5;124;03m    +-----+---+\u001b[39;00m\n\u001b[1;32m   3035\u001b[0m \u001b[38;5;124;03m    \"\"\"\u001b[39;00m\n\u001b[0;32m-> 3036\u001b[0m     jdf \u001b[38;5;241m=\u001b[39m \u001b[38;5;28;43mself\u001b[39;49m\u001b[38;5;241;43m.\u001b[39;49m\u001b[43m_jdf\u001b[49m\u001b[38;5;241;43m.\u001b[39;49m\u001b[43mselect\u001b[49m\u001b[43m(\u001b[49m\u001b[38;5;28;43mself\u001b[39;49m\u001b[38;5;241;43m.\u001b[39;49m\u001b[43m_jcols\u001b[49m\u001b[43m(\u001b[49m\u001b[38;5;241;43m*\u001b[39;49m\u001b[43mcols\u001b[49m\u001b[43m)\u001b[49m\u001b[43m)\u001b[49m\n\u001b[1;32m   3037\u001b[0m     \u001b[38;5;28;01mreturn\u001b[39;00m DataFrame(jdf, \u001b[38;5;28mself\u001b[39m\u001b[38;5;241m.\u001b[39msparkSession)\n",
      "File \u001b[0;32m/usr/local/spark/python/lib/py4j-0.10.9.7-src.zip/py4j/java_gateway.py:1322\u001b[0m, in \u001b[0;36mJavaMember.__call__\u001b[0;34m(self, *args)\u001b[0m\n\u001b[1;32m   1316\u001b[0m command \u001b[38;5;241m=\u001b[39m proto\u001b[38;5;241m.\u001b[39mCALL_COMMAND_NAME \u001b[38;5;241m+\u001b[39m\\\n\u001b[1;32m   1317\u001b[0m     \u001b[38;5;28mself\u001b[39m\u001b[38;5;241m.\u001b[39mcommand_header \u001b[38;5;241m+\u001b[39m\\\n\u001b[1;32m   1318\u001b[0m     args_command \u001b[38;5;241m+\u001b[39m\\\n\u001b[1;32m   1319\u001b[0m     proto\u001b[38;5;241m.\u001b[39mEND_COMMAND_PART\n\u001b[1;32m   1321\u001b[0m answer \u001b[38;5;241m=\u001b[39m \u001b[38;5;28mself\u001b[39m\u001b[38;5;241m.\u001b[39mgateway_client\u001b[38;5;241m.\u001b[39msend_command(command)\n\u001b[0;32m-> 1322\u001b[0m return_value \u001b[38;5;241m=\u001b[39m \u001b[43mget_return_value\u001b[49m\u001b[43m(\u001b[49m\n\u001b[1;32m   1323\u001b[0m \u001b[43m    \u001b[49m\u001b[43manswer\u001b[49m\u001b[43m,\u001b[49m\u001b[43m \u001b[49m\u001b[38;5;28;43mself\u001b[39;49m\u001b[38;5;241;43m.\u001b[39;49m\u001b[43mgateway_client\u001b[49m\u001b[43m,\u001b[49m\u001b[43m \u001b[49m\u001b[38;5;28;43mself\u001b[39;49m\u001b[38;5;241;43m.\u001b[39;49m\u001b[43mtarget_id\u001b[49m\u001b[43m,\u001b[49m\u001b[43m \u001b[49m\u001b[38;5;28;43mself\u001b[39;49m\u001b[38;5;241;43m.\u001b[39;49m\u001b[43mname\u001b[49m\u001b[43m)\u001b[49m\n\u001b[1;32m   1325\u001b[0m \u001b[38;5;28;01mfor\u001b[39;00m temp_arg \u001b[38;5;129;01min\u001b[39;00m temp_args:\n\u001b[1;32m   1326\u001b[0m     \u001b[38;5;28;01mif\u001b[39;00m \u001b[38;5;28mhasattr\u001b[39m(temp_arg, \u001b[38;5;124m\"\u001b[39m\u001b[38;5;124m_detach\u001b[39m\u001b[38;5;124m\"\u001b[39m):\n",
      "File \u001b[0;32m/usr/local/spark/python/pyspark/errors/exceptions/captured.py:175\u001b[0m, in \u001b[0;36mcapture_sql_exception.<locals>.deco\u001b[0;34m(*a, **kw)\u001b[0m\n\u001b[1;32m    171\u001b[0m converted \u001b[38;5;241m=\u001b[39m convert_exception(e\u001b[38;5;241m.\u001b[39mjava_exception)\n\u001b[1;32m    172\u001b[0m \u001b[38;5;28;01mif\u001b[39;00m \u001b[38;5;129;01mnot\u001b[39;00m \u001b[38;5;28misinstance\u001b[39m(converted, UnknownException):\n\u001b[1;32m    173\u001b[0m     \u001b[38;5;66;03m# Hide where the exception came from that shows a non-Pythonic\u001b[39;00m\n\u001b[1;32m    174\u001b[0m     \u001b[38;5;66;03m# JVM exception message.\u001b[39;00m\n\u001b[0;32m--> 175\u001b[0m     \u001b[38;5;28;01mraise\u001b[39;00m converted \u001b[38;5;28;01mfrom\u001b[39;00m \u001b[38;5;28;01mNone\u001b[39;00m\n\u001b[1;32m    176\u001b[0m \u001b[38;5;28;01melse\u001b[39;00m:\n\u001b[1;32m    177\u001b[0m     \u001b[38;5;28;01mraise\u001b[39;00m\n",
      "\u001b[0;31mAnalysisException\u001b[0m: [UNRESOLVED_COLUMN.WITH_SUGGESTION] A column or function parameter with name `day` cannot be resolved. Did you mean one of the following? [`date`, `agg`, `noagg`, `record_version`, `total_record_count`].;\n'Project ['day, agg#8.count_by_state AS count_by_state#152]\n+- Relation [agg#8,count_by_company_where_redirected#9,count_by_redirect_type#10,date#11,deduplicated_record_count#12L,deduplicated_record_count_noagg#13L,noagg#14,record_version#15,total_record_count#16L] json\n"
     ]
    }
   ],
   "source": [
    "#df.createOrReplaceTempView(\"data\")\n",
    "#spark.sql(\"select count_by_state from data\").show()\n",
    "#df.select(F.explode(F.col(\"count_by_state\"))).select([\"col.count\", \"col.description\"]).show()#.select([\"description\", \"count\"]).show()\n",
    "states = df.select([\"day\", \"agg.count_by_state\"])\\\n",
    "    .withColumn(\"exp\", F.explode(F.col(\"count_by_state\")))\\\n",
    "    .select([\"day\", \"agg.exp.count\", \"agg.exp.description\"])#.show(100)#.select([\"description\", \"count\"]).show()\n",
    "#df.select(F.struct(\"count_by_state.count\", \"count_by_state.description\")).show()\n",
    "states = states.groupby(\"day\").pivot(\"description\").sum().orderBy(F.col(\"day\")).toPandas().set_index(\"day\").transpose()\n",
    "states"
   ]
  },
  {
   "cell_type": "code",
   "execution_count": null,
   "id": "cf8e0c9b-ff89-4710-be6e-72dbb09d344f",
   "metadata": {},
   "outputs": [],
   "source": [
    "states.transpose().plot(legend=False)"
   ]
  },
  {
   "cell_type": "code",
   "execution_count": null,
   "id": "0ce8f6f3-2e40-4b1d-b2db-545f30a64c8f",
   "metadata": {},
   "outputs": [],
   "source": [
    "df.select([\"day\", \"count_by_redirect_type\"]).select(\"day\", F.posexplode_outer(F.col(\"count_by_redirect_type\")))\\\n",
    ".groupby([\"day\", \"pos\", \"col\"]).sum().show()\n",
    "    #.select(F.explode_outer(F.col(\"exp\"))).show()\n",
    "    #.toPandas()#.show(33)"
   ]
  },
  {
   "cell_type": "markdown",
   "id": "183035b3-dab5-412e-86d9-e6ae261bd9cc",
   "metadata": {},
   "source": [
    "### Por tipo de redireccionamiento\n",
    "\n",
    "- 0: No redireccionadas\n",
    "- 1: ? (¿redireccionamiento pagado?)\n",
    "- 2: Redir fuera del sitio (¿son agregadas?)"
   ]
  },
  {
   "cell_type": "code",
   "execution_count": null,
   "id": "d9d7962f-3655-44a6-81be-f43e320b1390",
   "metadata": {},
   "outputs": [],
   "source": [
    "dfu.groupby(\"redirect.type\").count().show()"
   ]
  },
  {
   "cell_type": "markdown",
   "id": "101ae835-0944-4548-83b0-13571d7a6483",
   "metadata": {},
   "source": [
    "### Por tipo de anuncio\n",
    "Tablas para todas las vacantes y paras las únicas. \n",
    "\n",
    "Notar que las Premium parecen tener mas duplicadas, puede ser por el proceso de scraping cuando aparecen en varios SERP"
   ]
  },
  {
   "cell_type": "code",
   "execution_count": null,
   "id": "621b85e6-3fb0-4925-8a6b-3c3b992b819a",
   "metadata": {},
   "outputs": [],
   "source": [
    "df.groupby(\"jobType\").count().show()"
   ]
  },
  {
   "cell_type": "code",
   "execution_count": null,
   "id": "21c15790-dcc8-4495-b204-6fd38ed4d5a4",
   "metadata": {},
   "outputs": [],
   "source": [
    "dfu.groupby(\"jobType\").count().show()"
   ]
  },
  {
   "cell_type": "markdown",
   "id": "5350beaf-173f-4173-b8a1-707007acd756",
   "metadata": {},
   "source": [
    "### Tipo de Anuncio / redireccionamiento\n",
    "\n",
    "CLASSIC / Redir=2 => Suponemos que son las agregadas"
   ]
  },
  {
   "cell_type": "code",
   "execution_count": null,
   "id": "5fa4cdca-8785-434a-a9ad-14222504edf5",
   "metadata": {},
   "outputs": [],
   "source": [
    "dfu.groupby(\"jobType\").pivot(\"redirect.type\").count().show()"
   ]
  },
  {
   "cell_type": "markdown",
   "id": "943ff2dc-a5f7-4a6a-b9d6-30654304eedd",
   "metadata": {},
   "source": [
    "#### Proporciones por JobType"
   ]
  },
  {
   "cell_type": "code",
   "execution_count": null,
   "id": "677dbb75-93fa-471c-9e94-60839c002554",
   "metadata": {},
   "outputs": [],
   "source": [
    "pdf = dfu.groupby(\"jobType\").pivot(\"redirect.type\").count().toPandas().fillna(0).set_index('jobType')\n",
    "pdf.columns = ['NoRedir', 'Redir1', 'Redir2']\n",
    "pdf.div(pdf.sum(axis=1), axis=0)"
   ]
  },
  {
   "cell_type": "markdown",
   "id": "96134f5d-2040-40da-a984-617294fcc5cb",
   "metadata": {},
   "source": [
    "#### Proporciones por tipo de redir\n",
    "\n",
    "Esto demostraría que las Redir2 son agregadas no pagadas ya que practicamente todas son clásicas"
   ]
  },
  {
   "cell_type": "code",
   "execution_count": null,
   "id": "ff55554b-82e7-450d-988e-6eda699af8b3",
   "metadata": {},
   "outputs": [],
   "source": [
    "pdf.div(pdf.sum(axis=0), axis=1)"
   ]
  },
  {
   "cell_type": "markdown",
   "id": "3caff3d0-8d36-4636-a9e0-1d3a8d6e76bd",
   "metadata": {},
   "source": [
    "#### Proporciones del total"
   ]
  },
  {
   "cell_type": "code",
   "execution_count": null,
   "id": "4fee4719-15f7-474f-93ee-5958ded71161",
   "metadata": {},
   "outputs": [],
   "source": [
    "pdf.div(pdf.sum().sum())"
   ]
  },
  {
   "cell_type": "markdown",
   "id": "fc4dfd81-b6b4-4d9c-b10d-6af7cd5956a3",
   "metadata": {},
   "source": [
    "## Categorias"
   ]
  },
  {
   "cell_type": "markdown",
   "id": "1b7b2f09-3779-45f4-96d9-e0fcac956572",
   "metadata": {},
   "source": [
    "### Totales"
   ]
  },
  {
   "cell_type": "code",
   "execution_count": null,
   "id": "37018b3f-7554-4f48-b249-4b9dfb222aad",
   "metadata": {},
   "outputs": [],
   "source": [
    "cat_count = dfu.groupby(\"category\").count().orderBy(F.col(\"count\").desc())\n",
    "split_col = F.split(cat_count[\"category.__ref\"].cast(\"String\"), \":\")\n",
    "cat_count = cat_count.withColumn(\"category_id\", split_col.getItem(1).cast(\"INT\"))\n",
    "cat_count = cat_count.join(categories.select(\"id\", \"description\"), cat_count.category_id == categories.id, how=\"inner\")\n",
    "cat_count = cat_count.select([\"category_id\", \"description\", \"count\"]).orderBy(F.col(\"count\").desc())"
   ]
  },
  {
   "cell_type": "code",
   "execution_count": null,
   "id": "5878f551-742f-472b-939b-569bbc6a4891",
   "metadata": {},
   "outputs": [],
   "source": [
    "cat_count = cat_count.withColumn(\"pct\", F.col(\"count\") / record_count)\n",
    "cat_count.show(cat_count.count(), truncate=False)"
   ]
  },
  {
   "cell_type": "markdown",
   "id": "f724ed3c-759e-4d7d-9090-2cc475b549ef",
   "metadata": {},
   "source": [
    "### Proporciones por tipo de Redir"
   ]
  },
  {
   "cell_type": "code",
   "execution_count": null,
   "id": "9f3709f3-5d2c-40a2-811b-a7d700fa59dd",
   "metadata": {},
   "outputs": [],
   "source": [
    "split_col = F.split(dfu[\"category.__ref\"].cast(\"String\"), \":\")\n",
    "cat_count_redir = dfu.withColumn(\"category_id\", split_col.getItem(1).cast(\"INT\"))\n",
    "cat_count_redir = cat_count_redir.groupby(\"category_id\").pivot(\"redirect.type\").count()\n",
    "cat_count_redir = cat_count_redir.join(categories.select(\"id\", \"description\"), cat_count_redir.category_id == categories.id, how=\"inner\")\n",
    "cat_count_redir = cat_count_redir.select([\"description\", \"0\", \"1\", \"2\"]).sort(F.col(\"0\").desc()).toPandas().fillna(0)\n",
    "cat_count_redir.columns = [\"Category\", \"NoRedir\", \"Redir1\", \"Redir2\"]\n",
    "cat_count_redir = cat_count_redir.set_index(\"Category\")\n",
    "cat_count_redir = cat_count_redir.div(cat_count_redir.sum(axis=1), axis=0)\n",
    "cat_count_redir"
   ]
  },
  {
   "cell_type": "markdown",
   "id": "d4c01871-8a6c-41bd-8464-5a7503bc5b75",
   "metadata": {},
   "source": [
    "#### Categorías en las que OCC es débil\n",
    "\n",
    "Mayor proporción de agregadas"
   ]
  },
  {
   "cell_type": "code",
   "execution_count": null,
   "id": "8fc2defa-f8a9-46ea-bf15-4c0760779d8f",
   "metadata": {},
   "outputs": [],
   "source": [
    "cat_count_redir.sort_values(\"Redir2\", ascending=False)"
   ]
  },
  {
   "cell_type": "markdown",
   "id": "8b8049f5-d788-4a83-a201-6ed07a6f4710",
   "metadata": {},
   "source": [
    "## Subcategorías"
   ]
  },
  {
   "cell_type": "code",
   "execution_count": null,
   "id": "c564e515-e9a0-4dc2-95e4-c95b95dfd56e",
   "metadata": {},
   "outputs": [],
   "source": [
    "subcat_count = dfu.groupby(\"subcategory\").count().orderBy(F.col(\"count\").desc())\n",
    "split_col = F.split(subcat_count[\"subcategory.__ref\"].cast(\"String\"), \":\")\n",
    "subcat_count = subcat_count.withColumn(\"subcategory_id\", split_col.getItem(1).cast(\"INT\"))\n",
    "subcat_count = subcat_count.join(subcategories.select(\"id\", \"description\"), subcat_count.subcategory_id == subcategories.id, how=\"inner\")\n",
    "subcat_count.orderBy(F.col(\"count\").desc()).show(25, truncate=False)"
   ]
  },
  {
   "cell_type": "code",
   "execution_count": null,
   "id": "3f4e8871-d1bf-4a13-af78-38834f328878",
   "metadata": {
    "scrolled": true
   },
   "outputs": [],
   "source": [
    "split_col = F.split(dfu[\"subcategory.__ref\"].cast(\"String\"), \":\")\n",
    "subcat_count_redir = dfu.withColumn(\"subcategory_id\", split_col.getItem(1).cast(\"INT\"))\n",
    "subcat_count_redir = subcat_count_redir.groupby(\"subcategory_id\").pivot(\"redirect.type\").count()\n",
    "subcat_count_redir = subcat_count_redir.join(subcategories.select(\"id\", \"description\"), subcat_count_redir.subcategory_id == subcategories.id, how=\"inner\")\n",
    "subcat_count_redir = subcat_count_redir.select([\"description\", \"0\", \"1\", \"2\"]).sort(F.col(\"0\").desc()).toPandas().fillna(0)\n",
    "subcat_count_redir.columns = [\"subcategory\", \"NoRedir\", \"Redir1\", \"Redir2\"]\n",
    "subcat_count_redir = subcat_count_redir.set_index(\"subcategory\")\n",
    "subcat_count_redir = subcat_count_redir.div(subcat_count_redir.sum(axis=1), axis=0)\n",
    "pd.set_option('display.max_rows', None)\n",
    "subcat_count_redir"
   ]
  },
  {
   "cell_type": "code",
   "execution_count": null,
   "id": "5566b4d9-018d-437e-a9b7-104857e3efe9",
   "metadata": {
    "scrolled": true
   },
   "outputs": [],
   "source": [
    "subcat_count_redir.sort_values(\"Redir2\", ascending=False)"
   ]
  },
  {
   "cell_type": "markdown",
   "id": "2ee97195-2b2c-44e2-b4a4-cfb378c05c19",
   "metadata": {},
   "source": [
    "## Google For Jobs\n",
    "\n",
    "- Primer campo: si la oferta está disponible para G4J\n",
    "- Segundo campo: (¿?) si la oferta ya está indexada por G4J"
   ]
  },
  {
   "cell_type": "code",
   "execution_count": null,
   "id": "a74c3899-3317-40ec-aa55-d2399c100f69",
   "metadata": {},
   "outputs": [],
   "source": [
    "dfu.groupby(\"googleForJobs\").count().sort(F.col(\"count\").desc()).show(truncate=False)"
   ]
  },
  {
   "cell_type": "markdown",
   "id": "5c387b52-15a7-47e7-b1b6-d3f4d9514223",
   "metadata": {},
   "source": [
    "## Ubicación"
   ]
  },
  {
   "cell_type": "markdown",
   "id": "170d9f3b-d5ae-44d3-abba-45e584753697",
   "metadata": {},
   "source": [
    "### Estados"
   ]
  },
  {
   "cell_type": "markdown",
   "id": "a3d0908a-675e-4095-8a63-bc276862c5fa",
   "metadata": {},
   "source": [
    "#### Distribución de vacantes por estado con suma acumulada"
   ]
  },
  {
   "cell_type": "code",
   "execution_count": null,
   "id": "5d210fb3-4700-4475-ad02-125a39c237aa",
   "metadata": {},
   "outputs": [],
   "source": [
    "dfu_loc = dfu.select(\"id\", F.explode(\"location.locations\").alias(\"loc_data\"))\n",
    "state_count = dfu_loc.groupby(\"loc_data.state.description\").count().sort(F.col(\"count\").desc())\n",
    "state_count_p = state_count.withColumn(\"perc\", F.col(\"count\") / record_count).orderBy(F.col(\"perc\").desc())\n",
    "window = Window.orderBy(F.col(\"perc\").desc()).rowsBetween(Window.unboundedPreceding, Window.currentRow)\n",
    "state_count_p = state_count_p.withColumn(\"cumsum\", F.sum(F.col(\"perc\")).over(window))\n",
    "state_count_p.show(33)"
   ]
  },
  {
   "cell_type": "markdown",
   "id": "91f14e7d-575d-43b9-bc82-c1c53ccda144",
   "metadata": {},
   "source": [
    "#### Vacantes por estado divididas por tipo Redir, con histograma para Redir2"
   ]
  },
  {
   "cell_type": "code",
   "execution_count": null,
   "id": "0c87a36d-2cc0-454c-b7a0-f09d98241e25",
   "metadata": {},
   "outputs": [],
   "source": [
    "state_count = dfu.withColumn(\"loc_data\", F.explode(\"location.locations\"))\\\n",
    "                .groupby(\"loc_data.state.description\")\\\n",
    "                .pivot(\"redirect.type\").count()\\\n",
    "                .withColumn(\"total\", F.col(\"0\") + F.col(\"1\") + F.col(\"2\"))\\\n",
    "                .withColumn(\"NoRedirPct\", F.col(\"0\") / F.col(\"total\"))\\\n",
    "                .withColumn(\"Redir1Pct\", F.col(\"1\") / F.col(\"total\"))\\\n",
    "                .withColumn(\"Redir2Pct\", F.col(\"2\") / F.col(\"total\"))\\\n",
    "                .sort(F.col(\"total\").desc())"
   ]
  },
  {
   "cell_type": "code",
   "execution_count": null,
   "id": "d4399fe1-188f-4104-88a7-f5ac6a866db1",
   "metadata": {},
   "outputs": [],
   "source": [
    "state_count.show()"
   ]
  },
  {
   "cell_type": "code",
   "execution_count": null,
   "id": "7e662fa0-6773-4d06-8222-02408c19ee94",
   "metadata": {},
   "outputs": [],
   "source": [
    "state_count_pd = state_count.toPandas()\n",
    "print(state_count_pd[\"Redir2Pct\"].describe())\n",
    "state_count_pd[\"Redir2Pct\"].hist(bins=15)"
   ]
  },
  {
   "cell_type": "markdown",
   "id": "61aeb466-ba35-4588-99cc-1160d9146cff",
   "metadata": {},
   "source": [
    "#### Descripción (granular)"
   ]
  },
  {
   "cell_type": "code",
   "execution_count": null,
   "id": "91c5fef4-aae2-427a-bc16-2c30e9e4b1f2",
   "metadata": {},
   "outputs": [],
   "source": [
    "loc_count = dfu.groupby(\"location.description\").count().sort(F.col(\"count\").desc())\n",
    "loc_count_p = loc_count.withColumn(\"perc\", F.col(\"count\") / record_count).orderBy(F.col(\"perc\").desc())\n",
    "window = Window.orderBy(F.col(\"perc\").desc()).rowsBetween(Window.unboundedPreceding, Window.currentRow)\n",
    "loc_count_p = loc_count_p.withColumn(\"cumsum\", F.sum(F.col(\"perc\")).over(window))\n",
    "print(f\"Número de location.description: {loc_count_p.count()}\")\n",
    "loc_count_p.show(30, truncate=False)"
   ]
  },
  {
   "cell_type": "code",
   "execution_count": null,
   "id": "5a68858b-a66d-40b3-96b3-e5f2f75ebb2c",
   "metadata": {},
   "outputs": [],
   "source": [
    "loc_count_p.toPandas()[\"cumsum\"].plot()"
   ]
  },
  {
   "cell_type": "markdown",
   "id": "97644fd3-2de7-4aef-8a0d-e9a7fb9d1158",
   "metadata": {},
   "source": [
    "## Compañias\n",
    "\n",
    "Basadas en la url. \n",
    "\n",
    "NULL ==> Confidenciales"
   ]
  },
  {
   "cell_type": "code",
   "execution_count": null,
   "id": "4c8690c7-c1de-42e0-9bc4-0e02a91ea7b5",
   "metadata": {},
   "outputs": [],
   "source": [
    "company_count = dfu.groupby(\"company.url\").count().sort(F.col(\"count\").desc())\n",
    "print(f\"Número de URLs de compañias: {company_count.count()}\")\n",
    "company_count.show(25, truncate=False)"
   ]
  },
  {
   "cell_type": "markdown",
   "id": "d1a93348-c9a9-4e5e-ac37-b5a15a0ec668",
   "metadata": {},
   "source": [
    "#### Proporción de vacantes por cia y suma acumulada"
   ]
  },
  {
   "cell_type": "code",
   "execution_count": null,
   "id": "c6924a5c-ef11-4a89-b0c7-371331e4d6f5",
   "metadata": {},
   "outputs": [],
   "source": [
    "ccp = company_count.withColumn(\"perc\", F.col(\"count\") / record_count).orderBy(F.col(\"perc\").desc())\n",
    "window = Window.orderBy(F.col(\"perc\").desc()).rowsBetween(Window.unboundedPreceding, Window.currentRow)\n",
    "ccp.withColumn(\"cumsum\", F.sum(F.col(\"perc\")).over(window)).show(30, truncate=False)"
   ]
  },
  {
   "cell_type": "markdown",
   "id": "1d8f78c8-4d14-42b4-a920-a1e0267d5b67",
   "metadata": {},
   "source": [
    "### Excluyendo confidenciales"
   ]
  },
  {
   "cell_type": "code",
   "execution_count": null,
   "id": "dc05b3cb-84fd-48a7-b835-158cdbf2310a",
   "metadata": {},
   "outputs": [],
   "source": [
    "ccp_noconf = company_count.where(\"url is not null\")\n",
    "nconf_records = ccp_noconf.agg(F.sum(\"count\")).collect()[0][0]\n",
    "ccp_noconf = ccp_noconf.withColumn(\"perc\", F.col(\"count\") / nconf_records).orderBy(F.col(\"perc\").desc())\n",
    "window = Window.orderBy(F.col(\"perc\").desc()).rowsBetween(Window.unboundedPreceding, Window.currentRow)\n",
    "ccp_noconf.withColumn(\"cumsum\", F.sum(F.col(\"perc\")).over(window)).show(30, truncate=False)"
   ]
  },
  {
   "cell_type": "markdown",
   "id": "1117d68f-bfe2-4691-866b-79926f7cba61",
   "metadata": {},
   "source": [
    "### Confidenciales\n",
    "\n",
    "La URL null son confidenciales"
   ]
  },
  {
   "cell_type": "code",
   "execution_count": null,
   "id": "1cdbbe65-6efc-4da2-b72b-5784f090b4b8",
   "metadata": {},
   "outputs": [],
   "source": [
    "dfu.select([\"company.url\", \"company.name\"]).where(\"company.confidential=TRUE\").count()"
   ]
  },
  {
   "cell_type": "code",
   "execution_count": null,
   "id": "b4f78d4d-dab4-44c2-a490-9355eb58bfb6",
   "metadata": {},
   "outputs": [],
   "source": [
    "dfu.select(\"company.url\").where(\"company.confidential=TRUE\").distinct().count()"
   ]
  },
  {
   "cell_type": "markdown",
   "id": "75d2d8e3-d685-4402-900a-000bbfe6981e",
   "metadata": {},
   "source": [
    "### URLs con minusculas -> agregadas\n",
    "\n",
    "Al parecer las vacantes que tienen company.url en minusculas pero igual a otra URL son de vacantes agregadas"
   ]
  },
  {
   "cell_type": "code",
   "execution_count": null,
   "id": "1240f841-53ea-44cf-86cc-802b211326bb",
   "metadata": {},
   "outputs": [],
   "source": [
    "dfu.where(\"company.url='empleos/bolsa-de-trabajo-Manpower--S-A--de-C-V-/'\").count()"
   ]
  },
  {
   "cell_type": "code",
   "execution_count": null,
   "id": "aaebe9a2-cfa4-4e03-bed3-90ec46c04bef",
   "metadata": {},
   "outputs": [],
   "source": [
    "company_count = dfu.where(\"redirect.type != 2\").groupby(\"company.url\").count().sort(F.col(\"count\").desc())\n",
    "company_count.show(truncate=False)"
   ]
  },
  {
   "cell_type": "code",
   "execution_count": null,
   "id": "900fefd4-5da5-4ecd-9e7d-27df6e20d6b1",
   "metadata": {},
   "outputs": [],
   "source": [
    "company_count = dfu.where(\"redirect.type == 2\").groupby(\"company.url\").count().sort(F.col(\"count\").desc())\n",
    "company_count.show(truncate=False)"
   ]
  },
  {
   "cell_type": "markdown",
   "id": "6d194a3d-6bad-4fe4-bd48-4f6bb1e695e0",
   "metadata": {},
   "source": [
    "Hay que revisar qué nos dicen estos datos para inferir mejor "
   ]
  },
  {
   "cell_type": "code",
   "execution_count": null,
   "id": "2e2dfff7-0ca3-4dc6-ab64-e21571209f84",
   "metadata": {},
   "outputs": [],
   "source": [
    "dfu.where(\"redirect.isRedirected == TRUE\").where(\"autoinclusion.autoinclusion == TRUE\").count()"
   ]
  },
  {
   "cell_type": "code",
   "execution_count": null,
   "id": "a8f71b11-c134-4fbf-b4c1-5d11182848cc",
   "metadata": {},
   "outputs": [],
   "source": [
    "dfu.where(\"redirect.isRedirected == TRUE\").where(\"autoinclusion.autoinclusion == FALSE\").count()"
   ]
  },
  {
   "cell_type": "code",
   "execution_count": null,
   "id": "6394637a-5e55-4b81-918b-b4adb9f0bf66",
   "metadata": {},
   "outputs": [],
   "source": [
    "dfu.where(\"redirect.isRedirected == FALSE\").where(\"autoinclusion.autoinclusion == TRUE\").count()"
   ]
  },
  {
   "cell_type": "code",
   "execution_count": null,
   "id": "47a0533a-5853-494f-ab03-faaa27dc3b89",
   "metadata": {},
   "outputs": [],
   "source": [
    "dfu.where(\"redirect.isRedirected == FALSE\").where(\"autoinclusion.autoinclusion == FALSE\").count()"
   ]
  },
  {
   "cell_type": "code",
   "execution_count": null,
   "id": "f26f0408-48c0-4b27-b89a-20937a215c35",
   "metadata": {},
   "outputs": [],
   "source": [
    "dfu.where(\"redirect.isRedirected == TRUE\")\\\n",
    "    .where(\"autoinclusion.autoinclusion == TRUE\")\\\n",
    "    .select([\"scraped_url\", \"redirect.externalUrl\"])\\\n",
    "    .show(truncate=False)"
   ]
  },
  {
   "cell_type": "markdown",
   "id": "e7a9297a-a51a-4cbb-82e7-564f4f54715e",
   "metadata": {},
   "source": [
    "## Salarios"
   ]
  },
  {
   "cell_type": "code",
   "execution_count": null,
   "id": "bfb6c309-6623-4528-9c07-bd5c5607075c",
   "metadata": {},
   "outputs": [],
   "source": [
    "dfu.select([\"salary.from\", \"salary.to\"]).summary().show()"
   ]
  },
  {
   "cell_type": "markdown",
   "id": "e7549b58-bc1f-4b9d-a137-59adf6f6b0e8",
   "metadata": {},
   "source": [
    "Casi todas las Redir2 (agregadas) no tienen salario, vs 1/3 de las pagadas:"
   ]
  },
  {
   "cell_type": "code",
   "execution_count": null,
   "id": "48a9cb6a-d701-4bd0-acd2-b24bedfe100b",
   "metadata": {},
   "outputs": [],
   "source": [
    "dfu.withColumn(\"has_salary\", F.col(\"salary.from\") != 0).groupby(\"redirect.type\").pivot(\"has_salary\").count().show()"
   ]
  },
  {
   "cell_type": "markdown",
   "id": "8fcf7e1c-c731-4880-a95c-b19de1b43315",
   "metadata": {},
   "source": [
    "Al parecer si alguno de los dos campos de salario es mayor a 0, el otro también lo es"
   ]
  },
  {
   "cell_type": "code",
   "execution_count": null,
   "id": "72a12e76-758f-43f7-a31b-7efa923c1467",
   "metadata": {},
   "outputs": [],
   "source": [
    "salary = dfu.select([\"salary.from\", \"salary.to\"]).where(\"salary.from > 0 or salary.to > 0\")\n",
    "salary = salary.withColumn(\"avg\", (F.col(\"from\") + F.col(\"to\")) / 2)\n",
    "salary.summary().show()"
   ]
  },
  {
   "cell_type": "code",
   "execution_count": null,
   "id": "1817189c-396a-4871-8a2d-f364c35e6a0b",
   "metadata": {},
   "outputs": [],
   "source": [
    "#seleccionar rangos para eliminar outliers - los percentiles son ajustados a algo que permita comparar con CT\n",
    "outlier_limits = salary.select(F.percentile_approx(\"avg\", [0.009, 0.9995]))\n",
    "outlier_min, outlier_max = outlier_limits.collect()[0][0]\n",
    "outlier_limits.show()"
   ]
  },
  {
   "cell_type": "code",
   "execution_count": null,
   "id": "7dfa10a5-cb6c-48a6-aa68-6926e2472861",
   "metadata": {},
   "outputs": [],
   "source": [
    "salary = salary.where(f\"avg >= {outlier_min} and avg <= {outlier_max}\")\n",
    "salary.summary().show()"
   ]
  },
  {
   "cell_type": "markdown",
   "id": "051b71b7-5d0b-40c9-9eb0-e6832bedc113",
   "metadata": {},
   "source": [
    "Esto es solo para extraer jobids que va a ser usados despues"
   ]
  },
  {
   "cell_type": "code",
   "execution_count": null,
   "id": "2e8a5082-6539-434d-bd76-b11b75ca2900",
   "metadata": {},
   "outputs": [],
   "source": [
    "with open(\"occ_jobids_1.txt\", \"w\") as fo:\n",
    "    [fo.write(f\"{y}\\n\") for y in dfu.select(\"id\").sort(F.col(\"id\").cast(\"int\").desc()).limit(10000).rdd.flatMap(lambda x: x).collect()]"
   ]
  },
  {
   "cell_type": "code",
   "execution_count": null,
   "id": "0878a940-075c-4f1c-adbc-5c7ae389913b",
   "metadata": {},
   "outputs": [],
   "source": []
  }
 ],
 "metadata": {
  "kernelspec": {
   "display_name": "Python 3 (ipykernel)",
   "language": "python",
   "name": "python3"
  },
  "language_info": {
   "codemirror_mode": {
    "name": "ipython",
    "version": 3
   },
   "file_extension": ".py",
   "mimetype": "text/x-python",
   "name": "python",
   "nbconvert_exporter": "python",
   "pygments_lexer": "ipython3",
   "version": "3.11.4"
  }
 },
 "nbformat": 4,
 "nbformat_minor": 5
}
