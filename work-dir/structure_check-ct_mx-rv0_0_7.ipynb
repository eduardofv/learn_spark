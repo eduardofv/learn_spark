{
 "cells": [
  {
   "cell_type": "code",
   "execution_count": 1,
   "id": "3fcae190-418a-433d-95a1-019bebd81fdf",
   "metadata": {},
   "outputs": [],
   "source": [
    "import pandas as pd\n",
    "import matplotlib.pyplot as plt\n",
    "\n",
    "import pyspark\n",
    "from pyspark.sql import SparkSession\n",
    "from pyspark.sql import functions as F\n",
    "\n",
    "spark = SparkSession \\\n",
    "    .builder \\\n",
    "    .appName(\"Learning Spark\") \\\n",
    "    .getOrCreate()\n",
    "\n",
    "df = spark.read.json(\"harvester/ct/bigharvey-CT*-202306*.jsonl.gz\")"
   ]
  },
  {
   "cell_type": "code",
   "execution_count": 2,
   "id": "2e25e962-2a74-431b-8089-a5fc288e0185",
   "metadata": {},
   "outputs": [
    {
     "name": "stdout",
     "output_type": "stream",
     "text": [
      "root\n",
      " |-- crawler: string (nullable = true)\n",
      " |-- debug_steps: array (nullable = true)\n",
      " |    |-- element: string (containsNull = true)\n",
      " |-- identifier: string (nullable = true)\n",
      " |-- jobposting: string (nullable = true)\n",
      " |-- scraped_at: string (nullable = true)\n",
      " |-- search_engine_type: string (nullable = true)\n",
      " |-- url: string (nullable = true)\n",
      " |-- uuid: string (nullable = true)\n",
      " |-- version: string (nullable = true)\n",
      "\n"
     ]
    }
   ],
   "source": [
    "df.printSchema()"
   ]
  },
  {
   "cell_type": "code",
   "execution_count": 3,
   "id": "f343cfd7-094f-40c3-89ac-55c0c56b752d",
   "metadata": {},
   "outputs": [
    {
     "data": {
      "text/plain": [
       "2794478"
      ]
     },
     "execution_count": 3,
     "metadata": {},
     "output_type": "execute_result"
    }
   ],
   "source": [
    "df.count()"
   ]
  },
  {
   "cell_type": "code",
   "execution_count": 4,
   "id": "36d88fd2-d1a9-4c7b-9117-05103fb07bef",
   "metadata": {},
   "outputs": [
    {
     "data": {
      "text/plain": [
       "(4, 16)"
      ]
     },
     "execution_count": 4,
     "metadata": {},
     "output_type": "execute_result"
    }
   ],
   "source": [
    "spark.sparkContext.defaultParallelism, df.rdd.getNumPartitions()"
   ]
  },
  {
   "cell_type": "code",
   "execution_count": 5,
   "id": "6f011ac7-6108-4462-9b54-6b10b2fb96de",
   "metadata": {},
   "outputs": [
    {
     "data": {
      "text/plain": [
       "'true'"
      ]
     },
     "execution_count": 5,
     "metadata": {},
     "output_type": "execute_result"
    }
   ],
   "source": [
    "spark.conf.get(\"spark.sql.adaptive.enabled\")"
   ]
  },
  {
   "cell_type": "code",
   "execution_count": 6,
   "id": "1f1f08da-c107-486c-9c67-cb6917208095",
   "metadata": {},
   "outputs": [
    {
     "data": {
      "text/plain": [
       "StructType([StructField('@context', StringType(), True), StructField('@type', StringType(), True), StructField('baseSalary', StructType([StructField('@context', StringType(), True), StructField('@type', StringType(), True), StructField('currency', StringType(), True), StructField('value', StructType([StructField('@context', StringType(), True), StructField('@type', StringType(), True), StructField('unitText', StringType(), True), StructField('value', StringType(), True)]), True)]), True), StructField('datePosted', StringType(), True), StructField('description', StringType(), True), StructField('directApply', BooleanType(), True), StructField('employmentType', StringType(), True), StructField('hiringOrganization', StructType([StructField('@context', StringType(), True), StructField('@type', StringType(), True), StructField('logo', StringType(), True), StructField('name', StringType(), True)]), True), StructField('identifier', StructType([StructField('@context', StringType(), True), StructField('@type', StringType(), True), StructField('name', StringType(), True), StructField('value', StringType(), True)]), True), StructField('industry', StringType(), True), StructField('jobLocation', StructType([StructField('@context', StringType(), True), StructField('@type', StringType(), True), StructField('address', StructType([StructField('@context', StringType(), True), StructField('@type', StringType(), True), StructField('addressCountry', StringType(), True), StructField('addressLocality', StringType(), True), StructField('addressRegion', StringType(), True)]), True)]), True), StructField('salaryCurrency', StringType(), True), StructField('title', StringType(), True), StructField('url', StringType(), True), StructField('validThrough', StringType(), True)])"
      ]
     },
     "execution_count": 6,
     "metadata": {},
     "output_type": "execute_result"
    }
   ],
   "source": [
    "#import json\n",
    "#s = json.loads((df.select(\"jobposting\").where(\"version = '0.0.9'\").limit(1).first()['jobposting']))\n",
    "jsonobj = spark.read.json(\"jobposting_sample.json\", multiLine=True)\n",
    "schema = jsonobj.schema\n",
    "schema"
   ]
  },
  {
   "cell_type": "code",
   "execution_count": 7,
   "id": "82351147-5a6e-4546-bc1b-d2138816b04b",
   "metadata": {},
   "outputs": [
    {
     "name": "stdout",
     "output_type": "stream",
     "text": [
      "root\n",
      " |-- crawler: string (nullable = true)\n",
      " |-- debug_steps: array (nullable = true)\n",
      " |    |-- element: string (containsNull = true)\n",
      " |-- identifier: string (nullable = true)\n",
      " |-- jobposting: string (nullable = true)\n",
      " |-- scraped_at: string (nullable = true)\n",
      " |-- search_engine_type: string (nullable = true)\n",
      " |-- url: string (nullable = true)\n",
      " |-- uuid: string (nullable = true)\n",
      " |-- version: string (nullable = true)\n",
      " |-- jp: struct (nullable = true)\n",
      " |    |-- @context: string (nullable = true)\n",
      " |    |-- @type: string (nullable = true)\n",
      " |    |-- baseSalary: struct (nullable = true)\n",
      " |    |    |-- @context: string (nullable = true)\n",
      " |    |    |-- @type: string (nullable = true)\n",
      " |    |    |-- currency: string (nullable = true)\n",
      " |    |    |-- value: struct (nullable = true)\n",
      " |    |    |    |-- @context: string (nullable = true)\n",
      " |    |    |    |-- @type: string (nullable = true)\n",
      " |    |    |    |-- unitText: string (nullable = true)\n",
      " |    |    |    |-- value: string (nullable = true)\n",
      " |    |-- datePosted: string (nullable = true)\n",
      " |    |-- description: string (nullable = true)\n",
      " |    |-- directApply: boolean (nullable = true)\n",
      " |    |-- employmentType: string (nullable = true)\n",
      " |    |-- hiringOrganization: struct (nullable = true)\n",
      " |    |    |-- @context: string (nullable = true)\n",
      " |    |    |-- @type: string (nullable = true)\n",
      " |    |    |-- logo: string (nullable = true)\n",
      " |    |    |-- name: string (nullable = true)\n",
      " |    |-- identifier: struct (nullable = true)\n",
      " |    |    |-- @context: string (nullable = true)\n",
      " |    |    |-- @type: string (nullable = true)\n",
      " |    |    |-- name: string (nullable = true)\n",
      " |    |    |-- value: string (nullable = true)\n",
      " |    |-- industry: string (nullable = true)\n",
      " |    |-- jobLocation: struct (nullable = true)\n",
      " |    |    |-- @context: string (nullable = true)\n",
      " |    |    |-- @type: string (nullable = true)\n",
      " |    |    |-- address: struct (nullable = true)\n",
      " |    |    |    |-- @context: string (nullable = true)\n",
      " |    |    |    |-- @type: string (nullable = true)\n",
      " |    |    |    |-- addressCountry: string (nullable = true)\n",
      " |    |    |    |-- addressLocality: string (nullable = true)\n",
      " |    |    |    |-- addressRegion: string (nullable = true)\n",
      " |    |-- salaryCurrency: string (nullable = true)\n",
      " |    |-- title: string (nullable = true)\n",
      " |    |-- url: string (nullable = true)\n",
      " |    |-- validThrough: string (nullable = true)\n",
      "\n"
     ]
    }
   ],
   "source": [
    "df.where(\"version = '0.0.7'\").withColumn(\"jp\", F.from_json(F.col(\"jobposting\"), schema)).printSchema()"
   ]
  },
  {
   "cell_type": "code",
   "execution_count": 8,
   "id": "f4772796-29fa-42ae-94ad-14b626e184cc",
   "metadata": {},
   "outputs": [
    {
     "data": {
      "text/plain": [
       "1138061"
      ]
     },
     "execution_count": 8,
     "metadata": {},
     "output_type": "execute_result"
    }
   ],
   "source": [
    "df.where(\"version = '0.0.9'\").withColumn(\"jp\", F.from_json(F.col(\"jobposting\"), schema)).select(\"jp.url\").count()"
   ]
  },
  {
   "cell_type": "code",
   "execution_count": 9,
   "id": "638b02f1-5dba-463f-9998-c63b04eafe21",
   "metadata": {},
   "outputs": [
    {
     "data": {
      "text/plain": [
       "159767"
      ]
     },
     "execution_count": 9,
     "metadata": {},
     "output_type": "execute_result"
    }
   ],
   "source": [
    "df.where(\"version = '0.0.9'\").withColumn(\"jp\", F.from_json(F.col(\"jobposting\"), schema)).select(\"jp.url\").distinct().count()"
   ]
  },
  {
   "cell_type": "code",
   "execution_count": 10,
   "id": "d5c06d14-e97c-4b89-8131-b3c8e90154bb",
   "metadata": {},
   "outputs": [
    {
     "data": {
      "text/plain": [
       "1138061"
      ]
     },
     "execution_count": 10,
     "metadata": {},
     "output_type": "execute_result"
    }
   ],
   "source": [
    "df.where(\"version = '0.0.9'\").withColumn(\"jp\", F.from_json(F.col(\"jobposting\"), schema)).select(\"uuid\").distinct().count()"
   ]
  },
  {
   "cell_type": "markdown",
   "id": "2a4434d2-67b6-4ee3-9b7e-56497dfdd93a",
   "metadata": {},
   "source": [
    "## Stats"
   ]
  },
  {
   "cell_type": "code",
   "execution_count": 11,
   "id": "f2c36696-29c8-4558-b7fd-35f491c27d24",
   "metadata": {},
   "outputs": [
    {
     "name": "stdout",
     "output_type": "stream",
     "text": [
      "root\n",
      " |-- downloader/request_bytes: long (nullable = true)\n",
      " |-- downloader/request_count: long (nullable = true)\n",
      " |-- downloader/request_method_count/GET: long (nullable = true)\n",
      " |-- downloader/response_bytes: long (nullable = true)\n",
      " |-- downloader/response_count: long (nullable = true)\n",
      " |-- downloader/response_status_count/200: long (nullable = true)\n",
      " |-- downloader/response_status_count/301: long (nullable = true)\n",
      " |-- downloader/response_status_count/403: long (nullable = true)\n",
      " |-- downloader/response_status_count/404: long (nullable = true)\n",
      " |-- downloader/response_status_count/500: long (nullable = true)\n",
      " |-- downloader/response_status_count/504: long (nullable = true)\n",
      " |-- dupefilter/filtered: long (nullable = true)\n",
      " |-- elapsed_time_seconds: double (nullable = true)\n",
      " |-- feedexport/success_count/FileFeedStorage: long (nullable = true)\n",
      " |-- finish_reason: string (nullable = true)\n",
      " |-- finish_time: string (nullable = true)\n",
      " |-- httpcompression/response_bytes: long (nullable = true)\n",
      " |-- httpcompression/response_count: long (nullable = true)\n",
      " |-- httperror/response_ignored_count: long (nullable = true)\n",
      " |-- httperror/response_ignored_status_count/403: long (nullable = true)\n",
      " |-- httperror/response_ignored_status_count/404: long (nullable = true)\n",
      " |-- httperror/response_ignored_status_count/500: long (nullable = true)\n",
      " |-- httperror/response_ignored_status_count/504: long (nullable = true)\n",
      " |-- item_scraped_count: long (nullable = true)\n",
      " |-- log_count/ERROR: long (nullable = true)\n",
      " |-- log_count/INFO: long (nullable = true)\n",
      " |-- log_count/WARNING: long (nullable = true)\n",
      " |-- memusage/max: long (nullable = true)\n",
      " |-- memusage/startup: long (nullable = true)\n",
      " |-- request_depth_max: long (nullable = true)\n",
      " |-- response_received_count: long (nullable = true)\n",
      " |-- scheduler/dequeued: long (nullable = true)\n",
      " |-- scheduler/dequeued/memory: long (nullable = true)\n",
      " |-- scheduler/enqueued: long (nullable = true)\n",
      " |-- scheduler/enqueued/memory: long (nullable = true)\n",
      " |-- start_time: string (nullable = true)\n",
      "\n"
     ]
    }
   ],
   "source": [
    "stats_df = spark.read.json(\"harvester/ct/*stats.json\")\n",
    "stats_df.printSchema()"
   ]
  },
  {
   "cell_type": "code",
   "execution_count": 12,
   "id": "15af027d-f727-4c35-8461-c58b6987dd83",
   "metadata": {},
   "outputs": [
    {
     "data": {
      "text/plain": [
       "<Axes: xlabel='start_time'>"
      ]
     },
     "execution_count": 12,
     "metadata": {},
     "output_type": "execute_result"
    },
    {
     "data": {
      "image/png": "[encoded data removed]",
      "text/plain": [
       "<Figure size 640x480 with 1 Axes>"
      ]
     },
     "metadata": {},
     "output_type": "display_data"
    }
   ],
   "source": [
    "stats_df.toPandas().plot(\"start_time\", \"downloader/response_status_count/200\")"
   ]
  },
  {
   "cell_type": "code",
   "execution_count": 13,
   "id": "370ce81c-45bc-4b77-829d-ef66a1b38476",
   "metadata": {},
   "outputs": [
    {
     "data": {
      "text/plain": [
       "[(0, 122970),\n",
       " (1, 122478),\n",
       " (2, 120862),\n",
       " (3, 120437),\n",
       " (4, 129957),\n",
       " (5, 118909),\n",
       " (6, 128583),\n",
       " (7, 244859),\n",
       " (8, 240933),\n",
       " (9, 254845),\n",
       " (10, 236223),\n",
       " (11, 220916),\n",
       " (12, 225828),\n",
       " (13, 217066),\n",
       " (14, 199775),\n",
       " (15, 89837)]"
      ]
     },
     "execution_count": 13,
     "metadata": {},
     "output_type": "execute_result"
    }
   ],
   "source": [
    "df.rdd.mapPartitionsWithIndex(lambda x, it: [(x, sum(1 for _ in it))]).collect()"
   ]
  },
  {
   "cell_type": "code",
   "execution_count": null,
   "id": "e4e1908f-1ff0-485e-8f54-178421bc2d60",
   "metadata": {},
   "outputs": [],
   "source": []
  }
 ],
 "metadata": {
  "kernelspec": {
   "display_name": "Python 3 (ipykernel)",
   "language": "python",
   "name": "python3"
  },
  "language_info": {
   "codemirror_mode": {
    "name": "ipython",
    "version": 3
   },
   "file_extension": ".py",
   "mimetype": "text/x-python",
   "name": "python",
   "nbconvert_exporter": "python",
   "pygments_lexer": "ipython3",
   "version": "3.11.4"
  }
 },
 "nbformat": 4,
 "nbformat_minor": 5
}
