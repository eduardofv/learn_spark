{
 "cells": [
  {
   "cell_type": "code",
   "execution_count": 1,
   "id": "3fcae190-418a-433d-95a1-019bebd81fdf",
   "metadata": {},
   "outputs": [],
   "source": [
    "import pandas as pd\n",
    "import matplotlib.pyplot as plt\n",
    "\n",
    "import pyspark\n",
    "from pyspark.sql import SparkSession\n",
    "from pyspark.sql import functions as F\n",
    "\n",
    "spark = SparkSession \\\n",
    "    .builder \\\n",
    "    .appName(\"Learning Spark\") \\\n",
    "    .getOrCreate()\n",
    "\n",
    "df = spark.read.json(\"harvester/ct/bigharvey-CT*-202306*.jsonl.gz\")"
   ]
  },
  {
   "cell_type": "code",
   "execution_count": 2,
   "id": "2e25e962-2a74-431b-8089-a5fc288e0185",
   "metadata": {},
   "outputs": [
    {
     "name": "stdout",
     "output_type": "stream",
     "text": [
      "root\n",
      " |-- crawler: string (nullable = true)\n",
      " |-- debug_steps: array (nullable = true)\n",
      " |    |-- element: string (containsNull = true)\n",
      " |-- identifier: string (nullable = true)\n",
      " |-- jobposting: string (nullable = true)\n",
      " |-- scraped_at: string (nullable = true)\n",
      " |-- search_engine_type: string (nullable = true)\n",
      " |-- url: string (nullable = true)\n",
      " |-- uuid: string (nullable = true)\n",
      " |-- version: string (nullable = true)\n",
      "\n"
     ]
    }
   ],
   "source": [
    "df.printSchema()"
   ]
  },
  {
   "cell_type": "code",
   "execution_count": 3,
   "id": "f343cfd7-094f-40c3-89ac-55c0c56b752d",
   "metadata": {},
   "outputs": [
    {
     "data": {
      "text/plain": [
       "3154275"
      ]
     },
     "execution_count": 3,
     "metadata": {},
     "output_type": "execute_result"
    }
   ],
   "source": [
    "df.count()"
   ]
  },
  {
   "cell_type": "code",
   "execution_count": 4,
   "id": "36d88fd2-d1a9-4c7b-9117-05103fb07bef",
   "metadata": {},
   "outputs": [
    {
     "data": {
      "text/plain": [
       "(4, 19)"
      ]
     },
     "execution_count": 4,
     "metadata": {},
     "output_type": "execute_result"
    }
   ],
   "source": [
    "spark.sparkContext.defaultParallelism, df.rdd.getNumPartitions()"
   ]
  },
  {
   "cell_type": "code",
   "execution_count": 5,
   "id": "6f011ac7-6108-4462-9b54-6b10b2fb96de",
   "metadata": {},
   "outputs": [
    {
     "data": {
      "text/plain": [
       "'true'"
      ]
     },
     "execution_count": 5,
     "metadata": {},
     "output_type": "execute_result"
    }
   ],
   "source": [
    "spark.conf.get(\"spark.sql.adaptive.enabled\")"
   ]
  },
  {
   "cell_type": "code",
   "execution_count": 6,
   "id": "1f1f08da-c107-486c-9c67-cb6917208095",
   "metadata": {},
   "outputs": [
    {
     "data": {
      "text/plain": [
       "StructType([StructField('@context', StringType(), True), StructField('@type', StringType(), True), StructField('baseSalary', StructType([StructField('@context', StringType(), True), StructField('@type', StringType(), True), StructField('currency', StringType(), True), StructField('value', StructType([StructField('@context', StringType(), True), StructField('@type', StringType(), True), StructField('unitText', StringType(), True), StructField('value', StringType(), True)]), True)]), True), StructField('datePosted', StringType(), True), StructField('description', StringType(), True), StructField('directApply', BooleanType(), True), StructField('employmentType', StringType(), True), StructField('hiringOrganization', StructType([StructField('@context', StringType(), True), StructField('@type', StringType(), True), StructField('logo', StringType(), True), StructField('name', StringType(), True)]), True), StructField('identifier', StructType([StructField('@context', StringType(), True), StructField('@type', StringType(), True), StructField('name', StringType(), True), StructField('value', StringType(), True)]), True), StructField('industry', StringType(), True), StructField('jobLocation', StructType([StructField('@context', StringType(), True), StructField('@type', StringType(), True), StructField('address', StructType([StructField('@context', StringType(), True), StructField('@type', StringType(), True), StructField('addressCountry', StringType(), True), StructField('addressLocality', StringType(), True), StructField('addressRegion', StringType(), True)]), True)]), True), StructField('salaryCurrency', StringType(), True), StructField('title', StringType(), True), StructField('url', StringType(), True), StructField('validThrough', StringType(), True)])"
      ]
     },
     "execution_count": 6,
     "metadata": {},
     "output_type": "execute_result"
    }
   ],
   "source": [
    "#import json\n",
    "#s = json.loads((df.select(\"jobposting\").where(\"version = '0.0.9'\").limit(1).first()['jobposting']))\n",
    "jsonobj = spark.read.json(\"jobposting_sample.json\", multiLine=True)\n",
    "schema = jsonobj.schema\n",
    "schema"
   ]
  },
  {
   "cell_type": "code",
   "execution_count": 7,
   "id": "82351147-5a6e-4546-bc1b-d2138816b04b",
   "metadata": {},
   "outputs": [
    {
     "name": "stdout",
     "output_type": "stream",
     "text": [
      "root\n",
      " |-- crawler: string (nullable = true)\n",
      " |-- debug_steps: array (nullable = true)\n",
      " |    |-- element: string (containsNull = true)\n",
      " |-- identifier: string (nullable = true)\n",
      " |-- jobposting: string (nullable = true)\n",
      " |-- scraped_at: string (nullable = true)\n",
      " |-- search_engine_type: string (nullable = true)\n",
      " |-- url: string (nullable = true)\n",
      " |-- uuid: string (nullable = true)\n",
      " |-- version: string (nullable = true)\n",
      " |-- jp: struct (nullable = true)\n",
      " |    |-- @context: string (nullable = true)\n",
      " |    |-- @type: string (nullable = true)\n",
      " |    |-- baseSalary: struct (nullable = true)\n",
      " |    |    |-- @context: string (nullable = true)\n",
      " |    |    |-- @type: string (nullable = true)\n",
      " |    |    |-- currency: string (nullable = true)\n",
      " |    |    |-- value: struct (nullable = true)\n",
      " |    |    |    |-- @context: string (nullable = true)\n",
      " |    |    |    |-- @type: string (nullable = true)\n",
      " |    |    |    |-- unitText: string (nullable = true)\n",
      " |    |    |    |-- value: string (nullable = true)\n",
      " |    |-- datePosted: string (nullable = true)\n",
      " |    |-- description: string (nullable = true)\n",
      " |    |-- directApply: boolean (nullable = true)\n",
      " |    |-- employmentType: string (nullable = true)\n",
      " |    |-- hiringOrganization: struct (nullable = true)\n",
      " |    |    |-- @context: string (nullable = true)\n",
      " |    |    |-- @type: string (nullable = true)\n",
      " |    |    |-- logo: string (nullable = true)\n",
      " |    |    |-- name: string (nullable = true)\n",
      " |    |-- identifier: struct (nullable = true)\n",
      " |    |    |-- @context: string (nullable = true)\n",
      " |    |    |-- @type: string (nullable = true)\n",
      " |    |    |-- name: string (nullable = true)\n",
      " |    |    |-- value: string (nullable = true)\n",
      " |    |-- industry: string (nullable = true)\n",
      " |    |-- jobLocation: struct (nullable = true)\n",
      " |    |    |-- @context: string (nullable = true)\n",
      " |    |    |-- @type: string (nullable = true)\n",
      " |    |    |-- address: struct (nullable = true)\n",
      " |    |    |    |-- @context: string (nullable = true)\n",
      " |    |    |    |-- @type: string (nullable = true)\n",
      " |    |    |    |-- addressCountry: string (nullable = true)\n",
      " |    |    |    |-- addressLocality: string (nullable = true)\n",
      " |    |    |    |-- addressRegion: string (nullable = true)\n",
      " |    |-- salaryCurrency: string (nullable = true)\n",
      " |    |-- title: string (nullable = true)\n",
      " |    |-- url: string (nullable = true)\n",
      " |    |-- validThrough: string (nullable = true)\n",
      "\n"
     ]
    }
   ],
   "source": [
    "df.where(\"version = '0.0.7'\").withColumn(\"jp\", F.from_json(F.col(\"jobposting\"), schema)).printSchema()"
   ]
  },
  {
   "cell_type": "code",
   "execution_count": 8,
   "id": "f4772796-29fa-42ae-94ad-14b626e184cc",
   "metadata": {},
   "outputs": [
    {
     "data": {
      "text/plain": [
       "1497858"
      ]
     },
     "execution_count": 8,
     "metadata": {},
     "output_type": "execute_result"
    }
   ],
   "source": [
    "df.where(\"version = '0.0.9'\").withColumn(\"jp\", F.from_json(F.col(\"jobposting\"), schema)).select(\"jp.url\").count()"
   ]
  },
  {
   "cell_type": "code",
   "execution_count": 9,
   "id": "638b02f1-5dba-463f-9998-c63b04eafe21",
   "metadata": {},
   "outputs": [
    {
     "data": {
      "text/plain": [
       "175775"
      ]
     },
     "execution_count": 9,
     "metadata": {},
     "output_type": "execute_result"
    }
   ],
   "source": [
    "df.where(\"version = '0.0.9'\").withColumn(\"jp\", F.from_json(F.col(\"jobposting\"), schema)).select(\"jp.url\").distinct().count()"
   ]
  },
  {
   "cell_type": "code",
   "execution_count": null,
   "id": "b7ce5ce2-eab9-45a3-8156-11ec13fb05ba",
   "metadata": {},
   "outputs": [],
   "source": [
    "jps = df.where(\"version = '0.0.9'\").withColumn(\"jp\", F.from_json(F.col(\"jobposting\"), schema))"
   ]
  },
  {
   "cell_type": "code",
   "execution_count": 30,
   "id": "ff467ca0-7aad-4d43-9f52-7a69d82e44b5",
   "metadata": {},
   "outputs": [
    {
     "data": {
      "text/plain": [
       "175795"
      ]
     },
     "execution_count": 30,
     "metadata": {},
     "output_type": "execute_result"
    }
   ],
   "source": [
    "jps.dropDuplicates([\"identifier\"]).count()"
   ]
  },
  {
   "cell_type": "code",
   "execution_count": 28,
   "id": "40ad16e1-f101-4824-be67-6cda9bee645b",
   "metadata": {},
   "outputs": [
    {
     "data": {
      "text/plain": [
       "175795"
      ]
     },
     "execution_count": 28,
     "metadata": {},
     "output_type": "execute_result"
    }
   ],
   "source": [
    "jps.select(\"identifier\").distinct().count()"
   ]
  },
  {
   "cell_type": "code",
   "execution_count": 10,
   "id": "d5c06d14-e97c-4b89-8131-b3c8e90154bb",
   "metadata": {},
   "outputs": [
    {
     "data": {
      "text/plain": [
       "1497858"
      ]
     },
     "execution_count": 10,
     "metadata": {},
     "output_type": "execute_result"
    }
   ],
   "source": [
    "df.where(\"version = '0.0.9'\").withColumn(\"jp\", F.from_json(F.col(\"jobposting\"), schema)).select(\"uuid\").distinct().count()"
   ]
  },
  {
   "cell_type": "code",
   "execution_count": 32,
   "id": "3c6071fd-0e95-45c3-b0d7-91fee70ce794",
   "metadata": {},
   "outputs": [
    {
     "data": {
      "text/html": [
       "<div>\n",
       "<style scoped>\n",
       "    .dataframe tbody tr th:only-of-type {\n",
       "        vertical-align: middle;\n",
       "    }\n",
       "\n",
       "    .dataframe tbody tr th {\n",
       "        vertical-align: top;\n",
       "    }\n",
       "\n",
       "    .dataframe thead th {\n",
       "        text-align: right;\n",
       "    }\n",
       "</style>\n",
       "<table border=\"1\" class=\"dataframe\">\n",
       "  <thead>\n",
       "    <tr style=\"text-align: right;\">\n",
       "      <th></th>\n",
       "      <th>count</th>\n",
       "    </tr>\n",
       "    <tr>\n",
       "      <th>directApply</th>\n",
       "      <th></th>\n",
       "    </tr>\n",
       "  </thead>\n",
       "  <tbody>\n",
       "    <tr>\n",
       "      <th>True</th>\n",
       "      <td>140693</td>\n",
       "    </tr>\n",
       "    <tr>\n",
       "      <th>False</th>\n",
       "      <td>35102</td>\n",
       "    </tr>\n",
       "  </tbody>\n",
       "</table>\n",
       "</div>"
      ],
      "text/plain": [
       "              count\n",
       "directApply        \n",
       "True         140693\n",
       "False         35102"
      ]
     },
     "execution_count": 32,
     "metadata": {},
     "output_type": "execute_result"
    }
   ],
   "source": [
    "jps = df.where(\"version = '0.0.9'\")\\\n",
    "    .withColumn(\"jp\", F.from_json(F.col(\"jobposting\"), schema))\\\n",
    "    .dropDuplicates([\"identifier\"])\n",
    "dirApps = jps.groupby(\"jp.directApply\").count().toPandas().set_index(\"directApply\")\n",
    "dirApps"
   ]
  },
  {
   "cell_type": "code",
   "execution_count": 33,
   "id": "629bb90b-c2f2-445a-af86-15c087ea5dff",
   "metadata": {},
   "outputs": [
    {
     "data": {
      "text/html": [
       "<div>\n",
       "<style scoped>\n",
       "    .dataframe tbody tr th:only-of-type {\n",
       "        vertical-align: middle;\n",
       "    }\n",
       "\n",
       "    .dataframe tbody tr th {\n",
       "        vertical-align: top;\n",
       "    }\n",
       "\n",
       "    .dataframe thead th {\n",
       "        text-align: right;\n",
       "    }\n",
       "</style>\n",
       "<table border=\"1\" class=\"dataframe\">\n",
       "  <thead>\n",
       "    <tr style=\"text-align: right;\">\n",
       "      <th></th>\n",
       "      <th>count</th>\n",
       "    </tr>\n",
       "    <tr>\n",
       "      <th>directApply</th>\n",
       "      <th></th>\n",
       "    </tr>\n",
       "  </thead>\n",
       "  <tbody>\n",
       "    <tr>\n",
       "      <th>True</th>\n",
       "      <td>0.800324</td>\n",
       "    </tr>\n",
       "    <tr>\n",
       "      <th>False</th>\n",
       "      <td>0.199676</td>\n",
       "    </tr>\n",
       "  </tbody>\n",
       "</table>\n",
       "</div>"
      ],
      "text/plain": [
       "                count\n",
       "directApply          \n",
       "True         0.800324\n",
       "False        0.199676"
      ]
     },
     "execution_count": 33,
     "metadata": {},
     "output_type": "execute_result"
    }
   ],
   "source": [
    "dirApps.div(dirApps.sum(axis=0), axis=1)"
   ]
  },
  {
   "cell_type": "code",
   "execution_count": 36,
   "id": "cab515c0-55eb-4065-be9b-91b9776189d9",
   "metadata": {},
   "outputs": [
    {
     "name": "stdout",
     "output_type": "stream",
     "text": [
      "+----------------------------------------------------------------------------------------------------------------------------------------------------------------------------------+\n",
      "|url                                                                                                                                                                               |\n",
      "+----------------------------------------------------------------------------------------------------------------------------------------------------------------------------------+\n",
      "|https://mx.computrabajo.com/ofertas-de-trabajo/oferta-de-trabajo-de-gerente-de-cedis-chihuahua-en-chihuahua-002E37196B79FFBE61373E686DCF3405                                      |\n",
      "|https://mx.computrabajo.com/ofertas-de-trabajo/oferta-de-trabajo-de-capturista-zapopan-en-zapopan-014635CB94529D2761373E686DCF3405                                                |\n",
      "|https://mx.computrabajo.com/ofertas-de-trabajo/oferta-de-trabajo-de-tecnico-laboratorista-para-toma-de-muestra-en-miguel-hidalgo-01493D1F083FA9E861373E686DCF3405                 |\n",
      "|https://mx.computrabajo.com/ofertas-de-trabajo/oferta-de-trabajo-de-subgerente-de-tienda-neto-azcapotzalco-en-azcapotzalco-018BEFC3E86F3C6561373E686DCF3405                       |\n",
      "|https://mx.computrabajo.com/ofertas-de-trabajo/oferta-de-trabajo-de-vendedores-de-sucursal--zona-atizapan-de-zaragoza-en-atizapan-de-zaragoza-01A384A9C361AAE761373E686DCF3405    |\n",
      "|https://mx.computrabajo.com/ofertas-de-trabajo/oferta-de-trabajo-de-gerente-regional-atlacomulco-experiencia-giro-retail-en-atlacomulco-01FCD235310426A261373E686DCF3405          |\n",
      "|https://mx.computrabajo.com/ofertas-de-trabajo/oferta-de-trabajo-de-auxiliar-contable-ref-ur-0022-en-queretaro-0231CDAA1BCAF89661373E686DCF3405                                   |\n",
      "|https://mx.computrabajo.com/ofertas-de-trabajo/oferta-de-trabajo-de-ejecutivoa-de-prospeccion-ventas-educativas-en-villahermosa-023CA0DF419AD96C61373E686DCF3405                  |\n",
      "|https://mx.computrabajo.com/ofertas-de-trabajo/oferta-de-trabajo-de-coordinador-de-seguridad-e-higiene-giro-en-construccion-en-san-andres-cholula-024827C412DF99A561373E686DCF3405|\n",
      "|https://mx.computrabajo.com/ofertas-de-trabajo/oferta-de-trabajo-de-customer-service-en-azcapotzalco-03252A7B0698332461373E686DCF3405                                             |\n",
      "|https://mx.computrabajo.com/ofertas-de-trabajo/oferta-de-trabajo-de-cajera-banco-azteca-los-pinos-en-tijuana-0334169D94D28D5461373E686DCF3405                                     |\n",
      "|https://mx.computrabajo.com/ofertas-de-trabajo/oferta-de-trabajo-de-laboratorista-o-tecnico-laboratorista-matutino-en-leon-0346C5765AB5FFED61373E686DCF3405                       |\n",
      "|https://mx.computrabajo.com/ofertas-de-trabajo/oferta-de-trabajo-de-gestor-de-seguridad-industrial-y-ecologia-incubadora-en-merida-03B307B5E95D099E61373E686DCF3405               |\n",
      "|https://mx.computrabajo.com/ofertas-de-trabajo/oferta-de-trabajo-de-promotor-de-call-centerrecuperacion-en-campo-cancun-en-benito-juarez-03EE58254FBFB2FF61373E686DCF3405         |\n",
      "|https://mx.computrabajo.com/ofertas-de-trabajo/oferta-de-trabajo-de-gestor-de-cobranza-administrativa-en-tizapan-el-alto-03FF3484B246661A61373E686DCF3405                         |\n",
      "|https://mx.computrabajo.com/ofertas-de-trabajo/oferta-de-trabajo-de-tecnico-de-mantenimiento-en-queretaro-0410862710CD0BD861373E686DCF3405                                        |\n",
      "|https://mx.computrabajo.com/ofertas-de-trabajo/oferta-de-trabajo-de-freelance-de-soporte-tecnico-en-autlan-proyecto1-semana-en-autlan-de-navarro-04329CA50A3FF06061373E686DCF3405 |\n",
      "|https://mx.computrabajo.com/ofertas-de-trabajo/oferta-de-trabajo-de-auxiliar-de-areas-publicas-en-los-cabos-051A579B7164D65C61373E686DCF3405                                      |\n",
      "|https://mx.computrabajo.com/ofertas-de-trabajo/oferta-de-trabajo-de-asesora-de-ventas-forum-tepic-en-tepic-051F9AED1C4C989F61373E686DCF3405                                       |\n",
      "|https://mx.computrabajo.com/ofertas-de-trabajo/oferta-de-trabajo-de-ejecutivo-de-ventas-lunes-a-viernes-en-delicias-052BA16A2947F42961373E686DCF3405                              |\n",
      "+----------------------------------------------------------------------------------------------------------------------------------------------------------------------------------+\n",
      "only showing top 20 rows\n",
      "\n"
     ]
    }
   ],
   "source": [
    "jps.select(\"jp.url\").where(\"jp.directApply=0\").show(truncate=False)"
   ]
  },
  {
   "cell_type": "code",
   "execution_count": 37,
   "id": "8cf7d6cd-8dbc-4819-8019-765a0e728894",
   "metadata": {},
   "outputs": [
    {
     "name": "stdout",
     "output_type": "stream",
     "text": [
      "+----------------------------------------------------------------------------------------------------------------------------------------------------------------------------------------------------------------------+\n",
      "|url                                                                                                                                                                                                                   |\n",
      "+----------------------------------------------------------------------------------------------------------------------------------------------------------------------------------------------------------------------+\n",
      "|https://mx.computrabajo.com/ofertas-de-trabajo/oferta-de-trabajo-de-asesor-de-ventas--altabrisa-merida-en-merida-000DD49C3F808E3961373E686DCF3405                                                                     |\n",
      "|https://mx.computrabajo.com/ofertas-de-trabajo/oferta-de-trabajo-de-bodegueroa-plaza-galerias-en-aguascalientes-000F3F16DF6495D161373E686DCF3405                                                                      |\n",
      "|https://mx.computrabajo.com/ofertas-de-trabajo/oferta-de-trabajo-de-especialista-de-desarrollo-de-negocios-en-guadalajara-0011EEAB4B751E9361373E686DCF3405                                                            |\n",
      "|https://mx.computrabajo.com/ofertas-de-trabajo/oferta-de-trabajo-de-vigilante-sur-centro-poniente-en-cuauhtemoc-001F7EB303A3452E61373E686DCF3405                                                                      |\n",
      "|https://mx.computrabajo.com/ofertas-de-trabajo/oferta-de-trabajo-de-auxiliar-de-mantenimiento-rol-de-turnos-en-benito-juarez-002B23C03E76D92661373E686DCF3405                                                         |\n",
      "|https://mx.computrabajo.com/ofertas-de-trabajo/oferta-de-trabajo-de-ingeniero-automatizacion-y-proyectos-en-corregidora-0038A5746EFAAE3361373E686DCF3405                                                              |\n",
      "|https://mx.computrabajo.com/ofertas-de-trabajo/oferta-de-trabajo-de-gerente-de-restaurante-casual-restaurante-de-comida-mexicana-en-solidaridad-004F1B32B75494F761373E686DCF3405                                      |\n",
      "|https://mx.computrabajo.com/ofertas-de-trabajo/oferta-de-trabajo-de-disenador-para-stands-9-am-a-6-pm-minimo-un-ano-de-experiencia-en-tlalpan-005440A4490530F361373E686DCF3405                                        |\n",
      "|https://mx.computrabajo.com/ofertas-de-trabajo/oferta-de-trabajo-de-estilista-terapeuta-en-benito-juarez-005A534F66EEDCA861373E686DCF3405                                                                             |\n",
      "|https://mx.computrabajo.com/ofertas-de-trabajo/oferta-de-trabajo-de-metepecasesor-financiero-y-ejecutivo-de-terminales-bancarias-en-metepec-005B4C1B743B2F3B61373E686DCF3405                                          |\n",
      "|https://mx.computrabajo.com/ofertas-de-trabajo/oferta-de-trabajo-de-especialista-de-capacitacion-jr-grupo-marti-tiempo-completo-en-alvaro-obregon-006976FD5589B40061373E686DCF3405                                    |\n",
      "|https://mx.computrabajo.com/ofertas-de-trabajo/oferta-de-trabajo-de-promotora-vendedor-2500-a-5000-por-semana-aproximadamante-en-guaymas-006E644199726A1661373E686DCF3405                                             |\n",
      "|https://mx.computrabajo.com/ofertas-de-trabajo/oferta-de-trabajo-de-almacenista-5am-a-10am-se-cuenta-con-transporte-contratacion-inmediata-6223-iztapalapa-parque-finsa-en-iztapalapa-007073AB19D2FEA361373E686DCF3405|\n",
      "|https://mx.computrabajo.com/ofertas-de-trabajo/oferta-de-trabajo-de-auxiliar-administrativa-y-de-recursos-humanos-en-colima-0070B43C89D2C0C961373E686DCF3405                                                          |\n",
      "|https://mx.computrabajo.com/ofertas-de-trabajo/oferta-de-trabajo-de-auxiliar-piso-de-ventas-suburbia-paseo-queretaro-en-queretaro-0071FA1671643A8C61373E686DCF3405                                                    |\n",
      "|https://mx.computrabajo.com/ofertas-de-trabajo/oferta-de-trabajo-de-tecnico-instalador-comitan-chiapas-en-comitan-de-dominguez-0084B37430CD4A0761373E686DCF3405                                                       |\n",
      "|https://mx.computrabajo.com/ofertas-de-trabajo/oferta-de-trabajo-de-promovendedor-de-campo-10000-hasta-16000-y-comisiones-sin-tope-pagos-semanales-y-prestaciones-de-ley-en-iztacalco-0089DC33E3EE48F361373E686DCF3405|\n",
      "|https://mx.computrabajo.com/ofertas-de-trabajo/oferta-de-trabajo-de-becario-en-relaciones-laborales-zona-condesa-con-cedula-en-cuauhtemoc-00A6C7E641BE379E61373E686DCF3405                                            |\n",
      "|https://mx.computrabajo.com/ofertas-de-trabajo/oferta-de-trabajo-de-capturista-de-datos-con-o-sin-experiencia-en-merida-00AD68756E8802D261373E686DCF3405                                                              |\n",
      "|https://mx.computrabajo.com/ofertas-de-trabajo/oferta-de-trabajo-de-disenador-industrial-ramo-mueblero-en-zapopan-00B8D22DF5E6AD4361373E686DCF3405                                                                    |\n",
      "+----------------------------------------------------------------------------------------------------------------------------------------------------------------------------------------------------------------------+\n",
      "only showing top 20 rows\n",
      "\n"
     ]
    }
   ],
   "source": [
    "jps.select(\"jp.url\").where(\"jp.directApply=1\").show(truncate=False)"
   ]
  },
  {
   "cell_type": "markdown",
   "id": "2a4434d2-67b6-4ee3-9b7e-56497dfdd93a",
   "metadata": {},
   "source": [
    "## Stats"
   ]
  },
  {
   "cell_type": "code",
   "execution_count": null,
   "id": "ec15311c-f6e5-422c-aa1b-e8055f71d499",
   "metadata": {},
   "outputs": [],
   "source": []
  },
  {
   "cell_type": "code",
   "execution_count": null,
   "id": "f2c36696-29c8-4558-b7fd-35f491c27d24",
   "metadata": {},
   "outputs": [],
   "source": [
    "stats_df = spark.read.json(\"harvester/ct/*stats.json\")\n",
    "stats_df.printSchema()"
   ]
  },
  {
   "cell_type": "code",
   "execution_count": null,
   "id": "15af027d-f727-4c35-8461-c58b6987dd83",
   "metadata": {},
   "outputs": [],
   "source": [
    "stats_df.toPandas().plot(\"start_time\", \"downloader/response_status_count/200\")"
   ]
  },
  {
   "cell_type": "code",
   "execution_count": null,
   "id": "370ce81c-45bc-4b77-829d-ef66a1b38476",
   "metadata": {},
   "outputs": [],
   "source": [
    "df.rdd.mapPartitionsWithIndex(lambda x, it: [(x, sum(1 for _ in it))]).collect()"
   ]
  },
  {
   "cell_type": "code",
   "execution_count": null,
   "id": "e4e1908f-1ff0-485e-8f54-178421bc2d60",
   "metadata": {},
   "outputs": [],
   "source": []
  }
 ],
 "metadata": {
  "kernelspec": {
   "display_name": "Python 3 (ipykernel)",
   "language": "python",
   "name": "python3"
  },
  "language_info": {
   "codemirror_mode": {
    "name": "ipython",
    "version": 3
   },
   "file_extension": ".py",
   "mimetype": "text/x-python",
   "name": "python",
   "nbconvert_exporter": "python",
   "pygments_lexer": "ipython3",
   "version": "3.11.4"
  }
 },
 "nbformat": 4,
 "nbformat_minor": 5
}
