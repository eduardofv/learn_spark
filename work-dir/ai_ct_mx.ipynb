{
 "cells": [
  {
   "cell_type": "code",
   "execution_count": 1,
   "id": "53ca79d2-02c1-4019-aaaa-47158a8e9840",
   "metadata": {},
   "outputs": [],
   "source": [
    "import pandas as pd\n",
    "import matplotlib.pyplot as plt\n",
    "\n",
    "import pyspark\n",
    "from pyspark.sql import SparkSession\n",
    "from pyspark.sql import functions as F\n",
    "\n",
    "from pyspark_ai import SparkAI\n",
    "import os\n",
    "\n",
    "from langchain.chat_models import ChatOpenAI\n",
    "\n",
    "#os.environ[\"OPENAI_API_KEY\"] = \"\"\n",
    "\n",
    "spark = SparkSession \\\n",
    "    .builder \\\n",
    "    .appName(\"Learning Spark\") \\\n",
    "    .getOrCreate()\n",
    "\n",
    "llm = ChatOpenAI(model_name=\"gpt-3.5-turbo\", temperature=0)\n",
    "sa = SparkAI(llm=llm)\n",
    "sa.activate()"
   ]
  },
  {
   "cell_type": "code",
   "execution_count": null,
   "id": "4b4111a1-4e87-4c35-901f-6af0e7691204",
   "metadata": {},
   "outputs": [],
   "source": [
    "df = spark.read.json(\"harvester/ct/*CT_MX*rv*jsonl.gz\")"
   ]
  },
  {
   "cell_type": "code",
   "execution_count": 6,
   "id": "fe4f4c90-fbdc-4aef-9526-5dadec35a6c2",
   "metadata": {},
   "outputs": [
    {
     "name": "stdout",
     "output_type": "stream",
     "text": [
      "+---------------+--------------------+--------------------+--------------------+------------------+--------------------+--------------------+-------+\n",
      "|        crawler|          identifier|          jobposting|          scraped_at|search_engine_type|                 url|                uuid|version|\n",
      "+---------------+--------------------+--------------------+--------------------+------------------+--------------------+--------------------+-------+\n",
      "|CtCrawlerByCity|11C3B34F4F1343216...|{https://schema.o...|2023-06-24 12:01:...|               JDP|https://mx.comput...|d39aae32-0f28-4bc...|  0.0.9|\n",
      "|CtCrawlerByCity|CF1CCD1FBC51927A6...|{https://schema.o...|2023-06-24 12:01:...|               JDP|https://mx.comput...|8ec50ec7-45fb-462...|  0.0.9|\n",
      "|CtCrawlerByCity|FBCAA5F0426C1EBA6...|{https://schema.o...|2023-06-24 12:01:...|               JDP|https://mx.comput...|ab964d0f-e3b7-483...|  0.0.9|\n",
      "|CtCrawlerByCity|BFFF4E38A682E75F6...|{https://schema.o...|2023-06-24 12:01:...|               JDP|https://mx.comput...|6b844492-17ed-490...|  0.0.9|\n",
      "|CtCrawlerByCity|C16E870F4656B62F6...|{https://schema.o...|2023-06-24 12:01:...|               JDP|https://mx.comput...|b6996218-9644-4e8...|  0.0.9|\n",
      "|CtCrawlerByCity|A48288198DEA76346...|{https://schema.o...|2023-06-24 12:01:...|               JDP|https://mx.comput...|96e00d25-888e-410...|  0.0.9|\n",
      "|CtCrawlerByCity|0CE6C4D75C7F43DA6...|{https://schema.o...|2023-06-24 12:01:...|               JDP|https://mx.comput...|f5263383-361b-43b...|  0.0.9|\n",
      "|CtCrawlerByCity|9DF0AAE1C8D49E056...|{https://schema.o...|2023-06-24 12:01:...|               JDP|https://mx.comput...|c148d15d-0dca-499...|  0.0.9|\n",
      "|CtCrawlerByCity|B85C95E6CCDFFD476...|{https://schema.o...|2023-06-24 12:01:...|               JDP|https://mx.comput...|c34fc724-ac21-446...|  0.0.9|\n",
      "|CtCrawlerByCity|4F076D13D1AD079B6...|{https://schema.o...|2023-06-24 12:01:...|               JDP|https://mx.comput...|a19634b8-8244-412...|  0.0.9|\n",
      "|CtCrawlerByCity|248141AB28F7C9C46...|{https://schema.o...|2023-06-24 12:01:...|               JDP|https://mx.comput...|93eb073e-41cf-4be...|  0.0.9|\n",
      "|CtCrawlerByCity|4F27258A425AFD2F6...|{https://schema.o...|2023-06-24 12:01:...|               JDP|https://mx.comput...|b8db6afa-aae7-400...|  0.0.9|\n",
      "|CtCrawlerByCity|ADEE5DBBA87B995F6...|{https://schema.o...|2023-06-24 12:01:...|               JDP|https://mx.comput...|1ceec171-de8c-47a...|  0.0.9|\n",
      "|CtCrawlerByCity|08564384610031DD6...|{https://schema.o...|2023-06-24 12:01:...|               JDP|https://mx.comput...|b5a1b349-11ba-44c...|  0.0.9|\n",
      "|CtCrawlerByCity|85D7258E5FE8A42D6...|{https://schema.o...|2023-06-24 12:01:...|               JDP|https://mx.comput...|f8cc738e-4499-4fe...|  0.0.9|\n",
      "|CtCrawlerByCity|56466DD031847ABE6...|{https://schema.o...|2023-06-24 12:01:...|               JDP|https://mx.comput...|61665578-fc33-40d...|  0.0.9|\n",
      "|CtCrawlerByCity|94F58168604FB3326...|{https://schema.o...|2023-06-24 12:01:...|               JDP|https://mx.comput...|daae3cb2-6b05-4c0...|  0.0.9|\n",
      "|CtCrawlerByCity|302D2B2C902B2E486...|{https://schema.o...|2023-06-24 12:01:...|               JDP|https://mx.comput...|01ed2473-e9b1-41d...|  0.0.9|\n",
      "|CtCrawlerByCity|E879446A8AD260506...|{https://schema.o...|2023-06-24 12:01:...|               JDP|https://mx.comput...|3bded343-e15e-416...|  0.0.9|\n",
      "|CtCrawlerByCity|C09313B640A80E8C6...|{https://schema.o...|2023-06-24 12:01:...|               JDP|https://mx.comput...|1ca6c04d-e42a-41e...|  0.0.9|\n",
      "+---------------+--------------------+--------------------+--------------------+------------------+--------------------+--------------------+-------+\n",
      "only showing top 20 rows\n",
      "\n"
     ]
    }
   ],
   "source": [
    "df.show()"
   ]
  },
  {
   "cell_type": "code",
   "execution_count": 10,
   "id": "09ec8bce-d690-4837-95db-7ea095a4ccdf",
   "metadata": {},
   "outputs": [
    {
     "name": "stdout",
     "output_type": "stream",
     "text": [
      "root\n",
      " |-- @context: string (nullable = true)\n",
      " |-- @type: string (nullable = true)\n",
      " |-- baseSalary: struct (nullable = true)\n",
      " |    |-- @context: string (nullable = true)\n",
      " |    |-- @type: string (nullable = true)\n",
      " |    |-- currency: string (nullable = true)\n",
      " |    |-- value: struct (nullable = true)\n",
      " |    |    |-- @context: string (nullable = true)\n",
      " |    |    |-- @type: string (nullable = true)\n",
      " |    |    |-- unitText: string (nullable = true)\n",
      " |    |    |-- value: string (nullable = true)\n",
      " |-- datePosted: string (nullable = true)\n",
      " |-- description: string (nullable = true)\n",
      " |-- directApply: boolean (nullable = true)\n",
      " |-- employmentType: string (nullable = true)\n",
      " |-- hiringOrganization: struct (nullable = true)\n",
      " |    |-- @context: string (nullable = true)\n",
      " |    |-- @type: string (nullable = true)\n",
      " |    |-- logo: string (nullable = true)\n",
      " |    |-- name: string (nullable = true)\n",
      " |-- identifier: struct (nullable = true)\n",
      " |    |-- @context: string (nullable = true)\n",
      " |    |-- @type: string (nullable = true)\n",
      " |    |-- name: string (nullable = true)\n",
      " |    |-- value: string (nullable = true)\n",
      " |-- industry: string (nullable = true)\n",
      " |-- jobLocation: struct (nullable = true)\n",
      " |    |-- @context: string (nullable = true)\n",
      " |    |-- @type: string (nullable = true)\n",
      " |    |-- address: struct (nullable = true)\n",
      " |    |    |-- @context: string (nullable = true)\n",
      " |    |    |-- @type: string (nullable = true)\n",
      " |    |    |-- addressCountry: string (nullable = true)\n",
      " |    |    |-- addressLocality: string (nullable = true)\n",
      " |    |    |-- addressRegion: string (nullable = true)\n",
      " |-- salaryCurrency: string (nullable = true)\n",
      " |-- title: string (nullable = true)\n",
      " |-- url: string (nullable = true)\n",
      " |-- validThrough: string (nullable = true)\n",
      "\n"
     ]
    }
   ],
   "source": [
    "jpdf = df.ai.transform(\"get the jobposting and expanded as a new dataframe\")\n",
    "jpdf.printSchema()"
   ]
  },
  {
   "cell_type": "code",
   "execution_count": 13,
   "id": "0c7822cb-2a3d-47a2-b487-5f7c7131c7b4",
   "metadata": {},
   "outputs": [
    {
     "name": "stdout",
     "output_type": "stream",
     "text": [
      "+-------------------+\n",
      "|    addressLocality|\n",
      "+-------------------+\n",
      "|            Sinaloa|\n",
      "|Ciudad de México DF|\n",
      "|           Veracruz|\n",
      "|            Durango|\n",
      "|           Guerrero|\n",
      "|            Chiapas|\n",
      "|         Guanajuato|\n",
      "|            Hidalgo|\n",
      "|            Nayarit|\n",
      "|          Chihuahua|\n",
      "|   Estado de México|\n",
      "|            Morelos|\n",
      "|            Yucatán|\n",
      "|             Colima|\n",
      "|           Campeche|\n",
      "|            Tabasco|\n",
      "|          Michoacán|\n",
      "|             Oaxaca|\n",
      "|    San Luis Potosí|\n",
      "|     Aguascalientes|\n",
      "+-------------------+\n",
      "only showing top 20 rows\n",
      "\n"
     ]
    }
   ],
   "source": [
    "jpdf.ai.transform(\"get all the unique addressLocality\").show()"
   ]
  },
  {
   "cell_type": "code",
   "execution_count": 23,
   "id": "e87eb187-0c09-43c9-9c13-54c0059116a1",
   "metadata": {},
   "outputs": [
    {
     "name": "stdout",
     "output_type": "stream",
     "text": [
      "+----------+-----+\n",
      "|datePosted|count|\n",
      "+----------+-----+\n",
      "|2023-01-27|   24|\n",
      "|2023-02-23|    1|\n",
      "|2023-02-24|  106|\n",
      "|2023-02-27| 1023|\n",
      "|2023-02-28| 1301|\n",
      "|2023-03-01| 1566|\n",
      "|2023-03-02| 1632|\n",
      "|2023-03-03| 1033|\n",
      "|2023-03-06| 1754|\n",
      "|2023-03-07|  510|\n",
      "|2023-03-08| 2476|\n",
      "|2023-03-09| 1506|\n",
      "|2023-03-10| 1535|\n",
      "|2023-03-13| 1956|\n",
      "|2023-03-14| 1842|\n",
      "|2023-03-15| 1227|\n",
      "|2023-03-16|  357|\n",
      "|2023-03-17| 2059|\n",
      "|2023-03-20|  341|\n",
      "|2023-03-21| 1458|\n",
      "+----------+-----+\n",
      "only showing top 20 rows\n",
      "\n"
     ]
    }
   ],
   "source": [
    "jpdf.ai.transform(\"count the number of records per day in datePosted, ordered by dateposted\").show()"
   ]
  },
  {
   "cell_type": "code",
   "execution_count": 25,
   "id": "0b4bee3d-7901-469d-8663-2c5dc096d973",
   "metadata": {},
   "outputs": [
    {
     "name": "stdout",
     "output_type": "stream",
     "text": [
      "+----------+------+\n",
      "|       day| count|\n",
      "+----------+------+\n",
      "|2023-06-24|122478|\n",
      "|2023-06-25|120437|\n",
      "|2023-06-26|116018|\n",
      "|2023-06-27|118909|\n",
      "|2023-06-28|120633|\n",
      "|2023-06-29|121092|\n",
      "+----------+------+\n",
      "\n"
     ]
    }
   ],
   "source": [
    "df.ai.transform(\"count the number of records per day scraped, order by day\").show()"
   ]
  },
  {
   "cell_type": "code",
   "execution_count": 30,
   "id": "3b227b91-9a46-460b-afc1-7a6c0e26ab51",
   "metadata": {},
   "outputs": [
    {
     "name": "stdout",
     "output_type": "stream",
     "text": [
      "+-------------------+------------+\n",
      "|    addressLocality|record_count|\n",
      "+-------------------+------------+\n",
      "|            Sinaloa|       16740|\n",
      "|Ciudad de México DF|      157658|\n",
      "|           Veracruz|       18545|\n",
      "|            Durango|        2882|\n",
      "|           Guerrero|        5044|\n",
      "|            Chiapas|        7094|\n",
      "|         Guanajuato|       32750|\n",
      "|            Hidalgo|        6879|\n",
      "|            Nayarit|        3110|\n",
      "|          Chihuahua|       12111|\n",
      "|   Estado de México|       94233|\n",
      "|            Morelos|        6658|\n",
      "|            Yucatán|       21115|\n",
      "|             Colima|        4745|\n",
      "|           Campeche|        2484|\n",
      "|            Tabasco|        5285|\n",
      "|          Michoacán|       11659|\n",
      "|             Oaxaca|        8025|\n",
      "|    San Luis Potosí|       13206|\n",
      "|     Aguascalientes|       10728|\n",
      "+-------------------+------------+\n",
      "only showing top 20 rows\n",
      "\n"
     ]
    }
   ],
   "source": [
    "per_loc = jpdf.ai.transform(\"give the number of records per addressLocality\")\n",
    "per_loc.show()"
   ]
  },
  {
   "cell_type": "code",
   "execution_count": 38,
   "id": "2e1f0f5f-c096-4c18-973d-98e922a0926d",
   "metadata": {},
   "outputs": [
    {
     "name": "stdout",
     "output_type": "stream",
     "text": [
      "+-------------------+------------------+\n",
      "|    addressLocality|        percentage|\n",
      "+-------------------+------------------+\n",
      "|Ciudad de México DF|21.910120947736626|\n",
      "|   Estado de México|13.095792330665526|\n",
      "|            Jalisco|11.445772249144277|\n",
      "|         Nuevo León| 6.484872152280468|\n",
      "|          Querétaro| 4.930187182013627|\n",
      "|         Guanajuato| 4.551348241372937|\n",
      "|             Puebla| 3.764347169895229|\n",
      "|       Quintana Roo|3.7051448996410343|\n",
      "|            Yucatán| 2.934403606613422|\n",
      "|           Veracruz|2.5772443705728585|\n",
      "|            Sinaloa|2.3263990705521516|\n",
      "|    Baja California| 2.312501824013608|\n",
      "|             Sonora|1.8518081012608971|\n",
      "|    San Luis Potosí|1.8352703778800308|\n",
      "|          Chihuahua|1.6830955282829814|\n",
      "|          Michoacán|1.6202799739287657|\n",
      "|           Coahuila|1.5413436135898395|\n",
      "|     Aguascalientes|1.4908966086549271|\n",
      "|             Oaxaca|1.1152540347181015|\n",
      "|Baja California Sur|1.0816226980948265|\n",
      "+-------------------+------------------+\n",
      "only showing top 20 rows\n",
      "\n"
     ]
    }
   ],
   "source": [
    "x = jpdf.ai.transform(\"give the percentage of records per addressLocality order by percentage\")\n",
    "x.show()"
   ]
  },
  {
   "cell_type": "code",
   "execution_count": 34,
   "id": "a163f6a2-28f8-4bd4-8b9e-cf5b7f19ad08",
   "metadata": {},
   "outputs": [
    {
     "data": {
      "text/plain": [
       "'In summary, this dataframe is retrieving the percentage of job postings in each locality (addressLocality) based on the total number of job postings in the dataset. It presents the results grouped by locality and calculates the percentage using the count of job postings in each locality divided by the total count of job postings in the dataset.'"
      ]
     },
     "execution_count": 34,
     "metadata": {},
     "output_type": "execute_result"
    }
   ],
   "source": [
    "x.ai.explain()"
   ]
  },
  {
   "cell_type": "code",
   "execution_count": 37,
   "id": "3198fd34-59f7-4a7a-af14-4139e3d0c909",
   "metadata": {},
   "outputs": [
    {
     "name": "stdout",
     "output_type": "stream",
     "text": [
      "+-----------------+\n",
      "|  sum(percentage)|\n",
      "+-----------------+\n",
      "|99.99999999999999|\n",
      "+-----------------+\n",
      "\n"
     ]
    }
   ],
   "source": [
    "x.select(F.sum(\"percentage\")).show()"
   ]
  },
  {
   "cell_type": "code",
   "execution_count": 42,
   "id": "53d2d55e-f5af-4756-ac25-b3070f2cae27",
   "metadata": {},
   "outputs": [
    {
     "name": "stdout",
     "output_type": "stream",
     "text": [
      "+-------------------+------------------+\n",
      "|    addressLocality|        percentage|\n",
      "+-------------------+------------------+\n",
      "|Ciudad de México DF|21.910120947736626|\n",
      "|   Estado de México|13.095792330665526|\n",
      "|            Jalisco|11.445772249144277|\n",
      "|         Nuevo León| 6.484872152280468|\n",
      "|          Querétaro| 4.930187182013627|\n",
      "|         Guanajuato| 4.551348241372937|\n",
      "|             Puebla| 3.764347169895229|\n",
      "|       Quintana Roo|3.7051448996410343|\n",
      "|            Yucatán| 2.934403606613422|\n",
      "|           Veracruz|2.5772443705728585|\n",
      "|            Sinaloa|2.3263990705521516|\n",
      "|    Baja California| 2.312501824013608|\n",
      "|             Sonora|1.8518081012608971|\n",
      "|    San Luis Potosí|1.8352703778800308|\n",
      "|          Chihuahua|1.6830955282829814|\n",
      "|          Michoacán|1.6202799739287657|\n",
      "|           Coahuila|1.5413436135898395|\n",
      "|     Aguascalientes|1.4908966086549271|\n",
      "|             Oaxaca|1.1152540347181015|\n",
      "|Baja California Sur|1.0816226980948265|\n",
      "+-------------------+------------------+\n",
      "only showing top 20 rows\n",
      "\n"
     ]
    }
   ],
   "source": [
    "#from the original df\n",
    "y = df.ai.transform(\"give the percentage of records per jobposting.joblocation.address.addressLocality order by percentage\")\n",
    "y.show()"
   ]
  },
  {
   "cell_type": "code",
   "execution_count": null,
   "id": "434e8375-a3c1-4b3b-98f1-459384fb9e7d",
   "metadata": {},
   "outputs": [],
   "source": []
  }
 ],
 "metadata": {
  "kernelspec": {
   "display_name": "Python 3 (ipykernel)",
   "language": "python",
   "name": "python3"
  },
  "language_info": {
   "codemirror_mode": {
    "name": "ipython",
    "version": 3
   },
   "file_extension": ".py",
   "mimetype": "text/x-python",
   "name": "python",
   "nbconvert_exporter": "python",
   "pygments_lexer": "ipython3",
   "version": "3.11.4"
  }
 },
 "nbformat": 4,
 "nbformat_minor": 5
}
