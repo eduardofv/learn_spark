{
 "cells": [
  {
   "cell_type": "markdown",
   "id": "eb2eb863-c89b-4bc1-95fa-3ba16f031415",
   "metadata": {},
   "source": [
    "# CT daily EDA"
   ]
  },
  {
   "cell_type": "code",
   "execution_count": 1,
   "id": "589b3d4d-dd14-45e8-af5e-a399fb907b06",
   "metadata": {},
   "outputs": [],
   "source": [
    "import pandas as pd\n",
    "import matplotlib.pyplot as plt\n",
    "\n",
    "import pyspark\n",
    "from pyspark.sql import SparkSession\n",
    "from pyspark.sql import functions as F\n",
    "from pyspark.sql.window import Window"
   ]
  },
  {
   "cell_type": "code",
   "execution_count": 2,
   "id": "9d4924cf-d763-49a7-b716-eee71f86af34",
   "metadata": {},
   "outputs": [],
   "source": [
    "spark = SparkSession \\\n",
    "    .builder \\\n",
    "    .appName(\"Learning Spark\") \\\n",
    "    .getOrCreate()\n",
    "\n",
    "day = \"20231211\""
   ]
  },
  {
   "cell_type": "code",
   "execution_count": 3,
   "id": "9b80fa1a-0a3b-4531-84c9-598ae200bbc6",
   "metadata": {},
   "outputs": [],
   "source": [
    "df = spark.read.json(f\"harvester/hireline/bigharvey-HIRELINE_MX-{day}_*-rv0_0_1.jsonl.gz\")\n",
    "#df = spark.read.json(f\"harvester/ct/bigharvey-CT_MX-{day}_*-rv0_0_9.jsonl.gz\")"
   ]
  },
  {
   "cell_type": "code",
   "execution_count": 4,
   "id": "2e25e962-2a74-431b-8089-a5fc288e0185",
   "metadata": {},
   "outputs": [
    {
     "name": "stdout",
     "output_type": "stream",
     "text": [
      "root\n",
      " |-- crawler: string (nullable = true)\n",
      " |-- identifier: string (nullable = true)\n",
      " |-- jobposting: struct (nullable = true)\n",
      " |    |-- @context: string (nullable = true)\n",
      " |    |-- @type: string (nullable = true)\n",
      " |    |-- applicantLocationRequirements: struct (nullable = true)\n",
      " |    |    |-- @type: string (nullable = true)\n",
      " |    |    |-- name: string (nullable = true)\n",
      " |    |-- baseSalary: struct (nullable = true)\n",
      " |    |    |-- @type: string (nullable = true)\n",
      " |    |    |-- currency: string (nullable = true)\n",
      " |    |    |-- value: struct (nullable = true)\n",
      " |    |    |    |-- @type: string (nullable = true)\n",
      " |    |    |    |-- maxValue: string (nullable = true)\n",
      " |    |    |    |-- minValue: string (nullable = true)\n",
      " |    |    |    |-- unitText: string (nullable = true)\n",
      " |    |-- datePosted: string (nullable = true)\n",
      " |    |-- description: string (nullable = true)\n",
      " |    |-- educationRequirements: string (nullable = true)\n",
      " |    |-- employmentType: string (nullable = true)\n",
      " |    |-- experienceRequirements: string (nullable = true)\n",
      " |    |-- hiringOrganization: struct (nullable = true)\n",
      " |    |    |-- @type: string (nullable = true)\n",
      " |    |    |-- logo: string (nullable = true)\n",
      " |    |    |-- name: string (nullable = true)\n",
      " |    |    |-- sameAs: string (nullable = true)\n",
      " |    |    |-- url: string (nullable = true)\n",
      " |    |-- industry: string (nullable = true)\n",
      " |    |-- jobLocation: struct (nullable = true)\n",
      " |    |    |-- @type: string (nullable = true)\n",
      " |    |    |-- address: struct (nullable = true)\n",
      " |    |    |    |-- @type: string (nullable = true)\n",
      " |    |    |    |-- addressCountry: string (nullable = true)\n",
      " |    |    |    |-- addressLocality: string (nullable = true)\n",
      " |    |    |    |-- addressRegion: string (nullable = true)\n",
      " |    |    |    |-- postalCode: string (nullable = true)\n",
      " |    |    |    |-- streetAddress: string (nullable = true)\n",
      " |    |-- jobLocationType: string (nullable = true)\n",
      " |    |-- title: string (nullable = true)\n",
      " |    |-- validThrough: string (nullable = true)\n",
      " |    |-- workHours: string (nullable = true)\n",
      " |-- scraped_at: string (nullable = true)\n",
      " |-- search_engine_type: string (nullable = true)\n",
      " |-- url: string (nullable = true)\n",
      " |-- uuid: string (nullable = true)\n",
      " |-- version: string (nullable = true)\n",
      "\n"
     ]
    }
   ],
   "source": [
    "df.printSchema()"
   ]
  },
  {
   "cell_type": "code",
   "execution_count": 5,
   "id": "599a5c1e-e80e-406e-86b3-a3034fde11e8",
   "metadata": {},
   "outputs": [
    {
     "name": "stdout",
     "output_type": "stream",
     "text": [
      "-RECORD 0------------------------------------------------------------------------------------------------------------------------------------------------------------------------------------------------------------------------------------------------------------------------------------------------------------------------------------------------------------------------------------------------------------------------------------------------------------------------------------------------------------------------------------------------------------------------------------------------------------------------------------------------------------------------------------------------------------------------------------------------------------------------------------------------------------------------------------------------------------------------------------------------------------------------------------------------------------------------------------------------------------------------------------------------------------------------------------------------------------------------------------------------------------------------------------------------------------------------------------------------------------------------------------------------------------------------------------------------------------------------------------------------------------------------------------------------------------------------------------------------------------------------------------------------------------------------------------------------------------------------------------------------------------------------------------------------------------------------------------------------------------------------------------------------------------------------------------------------------------------------------------------------------------------------------------------------------------------------------\n",
      " crawler            | HirelineCrawler                                                                                                                                                                                                                                                                                                                                                                                                                                                                                                                                                                                                                                                                                                                                                                                                                                                                                                                                                                                                                                                                                                                                                                                                                                                                                                                                                                                                                                                                                                                                                                                                                                                                                                                                                                                                                                                                                                                                                  \n",
      " identifier         | 102525                                                                                                                                                                                                                                                                                                                                                                                                                                                                                                                                                                                                                                                                                                                                                                                                                                                                                                                                                                                                                                                                                                                                                                                                                                                                                                                                                                                                                                                                                                                                                                                                                                                                                                                                                                                                                                                                                                                                                           \n",
      " jobposting         | {http://schema.org/, JobPosting, {Country, México}, {MonetaryAmount, MXN, {QuantitativeValue, 0, 0, MONTH}}, 2023-12-11, Crossbridge Global\\nPartners exists to bridge the gap to excellent technology resources in LATAM\\nand US.&nbsp;We are looking for\\na&nbsp;Mid\\nFull Stack. The ideal candidate must have demonstrable and\\nstrong experience using the following technologies.&nbsp;100%\\nRemote/Long term/Full-time.&nbsp;Requirements:·&nbsp;&nbsp;&nbsp;&nbsp;&nbsp;&nbsp; 3-4 years of experience as a software\\ndeveloper·&nbsp;&nbsp;&nbsp;&nbsp;&nbsp;&nbsp; Strong experience with Java,·&nbsp;&nbsp;&nbsp;&nbsp;&nbsp;&nbsp; Strong experience working with spring\\n&amp; spring boot·&nbsp;&nbsp;&nbsp;&nbsp;&nbsp;&nbsp; 2 years of experience with JavaScript\\nusing React or some other front-end technology·&nbsp;&nbsp;&nbsp;&nbsp;&nbsp;&nbsp;\\nNextJS preferred·&nbsp;&nbsp;&nbsp;&nbsp;&nbsp;&nbsp;\\nStrong experience with Agile development using tools\\nlike Jira, Confluence·&nbsp;&nbsp;&nbsp;&nbsp;&nbsp;&nbsp;\\nBonus knowledge of distributed systems such as\\nKafka, RabbitMQ·&nbsp;&nbsp;&nbsp;&nbsp;&nbsp;&nbsp;\\nDocker and Kubernetes experiences are desired·&nbsp;&nbsp;&nbsp;&nbsp;&nbsp;&nbsp; Mac or Linux machine, (No Windows)·&nbsp;&nbsp;&nbsp;&nbsp;&nbsp;&nbsp; AWS experience&nbsp;If you meet the core requirements of the position do\\nnot hesitate to apply over here.\\n\\n\\n\\n\\n\\n\\n\\n\\n\\n\\n\\n\\n\\n\\n\\n\\n\\n\\n\\n\\n\\n\\n\\n\\n\\n\\n\\n\\n\\n\\n\\n\\n\\n\\n\\n\\n\\n&nbsp;, , Empleado de tiempo completo, , {Organization, https://d31i9b8skgubvn.cloudfront.net/folder/logos/803_logo_dzuygGoOYjlPB9uL.png, Crossbridge, https://hireline.io/remoto/bolsa-de-trabajo-en-crossbridge, https://hireline.io/remoto/empleos/mid-full-stack-developer-javareact/102525}, Tecnologías de la Información, {Place, {PostalAddress, México, , Home Office, , }}, TELECOMMUTE, Mid Full Stack Developer (Java/React), 2024-03-10, } \n",
      " scraped_at         | 2023-12-11 12:59:50.182498                                                                                                                                                                                                                                                                                                                                                                                                                                                                                                                                                                                                                                                                                                                                                                                                                                                                                                                                                                                                                                                                                                                                                                                                                                                                                                                                                                                                                                                                                                                                                                                                                                                                                                                                                                                                                                                                                                                                       \n",
      " search_engine_type | JDP                                                                                                                                                                                                                                                                                                                                                                                                                                                                                                                                                                                                                                                                                                                                                                                                                                                                                                                                                                                                                                                                                                                                                                                                                                                                                                                                                                                                                                                                                                                                                                                                                                                                                                                                                                                                                                                                                                                                                              \n",
      " url                | https://hireline.io/remoto/empleos/mid-full-stack-developer-javareact/102525                                                                                                                                                                                                                                                                                                                                                                                                                                                                                                                                                                                                                                                                                                                                                                                                                                                                                                                                                                                                                                                                                                                                                                                                                                                                                                                                                                                                                                                                                                                                                                                                                                                                                                                                                                                                                                                                                     \n",
      " uuid               | beab3750-ef4b-4777-8f75-bcf15e68b5b6                                                                                                                                                                                                                                                                                                                                                                                                                                                                                                                                                                                                                                                                                                                                                                                                                                                                                                                                                                                                                                                                                                                                                                                                                                                                                                                                                                                                                                                                                                                                                                                                                                                                                                                                                                                                                                                                                                                             \n",
      " version            | 0.0.1                                                                                                                                                                                                                                                                                                                                                                                                                                                                                                                                                                                                                                                                                                                                                                                                                                                                                                                                                                                                                                                                                                                                                                                                                                                                                                                                                                                                                                                                                                                                                                                                                                                                                                                                                                                                                                                                                                                                                            \n",
      "only showing top 1 row\n",
      "\n"
     ]
    }
   ],
   "source": [
    "df.show(1, vertical=True, truncate=False)"
   ]
  },
  {
   "cell_type": "markdown",
   "id": "88b1031e-f104-4c25-8c1b-0d7f70108af4",
   "metadata": {},
   "source": [
    "### Registros Totales"
   ]
  },
  {
   "cell_type": "code",
   "execution_count": 6,
   "id": "f343cfd7-094f-40c3-89ac-55c0c56b752d",
   "metadata": {},
   "outputs": [
    {
     "data": {
      "text/plain": [
       "1563"
      ]
     },
     "execution_count": 6,
     "metadata": {},
     "output_type": "execute_result"
    }
   ],
   "source": [
    "record_count = df.count()\n",
    "df.count()"
   ]
  },
  {
   "cell_type": "markdown",
   "id": "dbf801c5-b76e-49ec-b6cb-9581ea88b297",
   "metadata": {},
   "source": [
    "### Registros Únicos por Identifier (asume único por jobad)"
   ]
  },
  {
   "cell_type": "code",
   "execution_count": 7,
   "id": "ff467ca0-7aad-4d43-9f52-7a69d82e44b5",
   "metadata": {},
   "outputs": [
    {
     "data": {
      "text/plain": [
       "1563"
      ]
     },
     "execution_count": 7,
     "metadata": {},
     "output_type": "execute_result"
    }
   ],
   "source": [
    "df.dropDuplicates([\"identifier\"]).count()"
   ]
  },
  {
   "cell_type": "markdown",
   "id": "c8fab223-fb0c-48f4-bc06-97f1601d7079",
   "metadata": {},
   "source": [
    "## Ubicación"
   ]
  },
  {
   "cell_type": "markdown",
   "id": "10c054c4-e32d-44ac-98a7-95adbcc7e6c2",
   "metadata": {},
   "source": [
    "### Estados"
   ]
  },
  {
   "cell_type": "markdown",
   "id": "c5995a3a-95f6-49b4-866f-7562a4dd3ac6",
   "metadata": {},
   "source": [
    "#### Distribución de vacantes por estado con suma acumulada"
   ]
  },
  {
   "cell_type": "code",
   "execution_count": 8,
   "id": "4a91bc33-0049-4bf8-9bed-b2e17d7e7d2e",
   "metadata": {},
   "outputs": [
    {
     "name": "stdout",
     "output_type": "stream",
     "text": [
      "+--------------------+-----+--------------------+------------------+\n",
      "|     addressLocality|count|                perc|            cumsum|\n",
      "+--------------------+-----+--------------------+------------------+\n",
      "|                    |  429|  0.2744721689059501|0.2744721689059501|\n",
      "|       Benito Juárez|  290|  0.1855406269993602|0.4600127959053103|\n",
      "|           Querétaro|  110| 0.07037747920665387|0.5303902751119641|\n",
      "|      Miguel Hidalgo|  101| 0.06461932181701856|0.5950095969289827|\n",
      "|           Monterrey|   94|0.060140754958413305| 0.655150351887396|\n",
      "|             Tlalpan|   89| 0.05694177863083813|0.7120921305182342|\n",
      "|         Guadalajara|   81| 0.05182341650671785| 0.763915547024952|\n",
      "|          Cuauhtémoc|   52| 0.03326935380678183|0.7971849008317339|\n",
      "|Cuajimalpa de Mor...|   42|0.026871401151631478|0.8240563019833653|\n",
      "|      Álvaro Obregón|   41|0.026231605886116442|0.8502879078694817|\n",
      "|            Culiacán|   27| 0.01727447216890595|0.8675623800383877|\n",
      "|            Coyoacán|   22|0.014075495841330775|0.8816378758797184|\n",
      "|San Pedro Garza G...|   18|0.011516314779270634| 0.893154190658989|\n",
      "| Naucalpan de Juárez|   17|0.010876519513755598|0.9040307101727446|\n",
      "|             Tijuana|   15|0.009596928982725527|0.9136276391554702|\n",
      "|             Zapopan|   14|0.008957133717210493|0.9225847728726807|\n",
      "|                León|   14|0.008957133717210493|0.9315419065898912|\n",
      "|              Puebla|   13|0.008317338451695458|0.9398592450415867|\n",
      "|         Solidaridad|   12|0.007677543186180422|0.9475367882277671|\n",
      "|     San Luis Potosí|    9|0.005758157389635317|0.9532949456174025|\n",
      "| Venustiano Carranza|    8|0.005118362124120281|0.9584133077415228|\n",
      "|   Gustavo A. Madero|    5|0.003198976327575176|0.9616122840690979|\n",
      "|      Santa Catarina|    4|0.002559181062060...| 0.964171465131158|\n",
      "|      Aguascalientes|    4|0.002559181062060...|0.9667306461932181|\n",
      "|San Nicolás de lo...|    4|0.002559181062060...|0.9692898272552782|\n",
      "|           Guadalupe|    3|0.001919385796545...|0.9712092130518234|\n",
      "|            Mazatlán|    3|0.001919385796545...|0.9731285988483686|\n",
      "|          Hermosillo|    3|0.001919385796545...|0.9750479846449137|\n",
      "|             Torreón|    3|0.001919385796545...|0.9769673704414589|\n",
      "|             Apodaca|    3|0.001919385796545...| 0.978886756238004|\n",
      "|              Mérida|    3|0.001919385796545...|0.9808061420345492|\n",
      "|        Huixquilucan|    3|0.001919385796545...|0.9827255278310943|\n",
      "| Tlalnepantla de Baz|    2|0.001279590531030...|0.9840051183621245|\n",
      "+--------------------+-----+--------------------+------------------+\n",
      "only showing top 33 rows\n",
      "\n"
     ]
    }
   ],
   "source": [
    "state_count = df.groupby(\"jobposting.JobLocation.address.addressLocality\").count()\n",
    "state_count_p = state_count.withColumn(\"perc\", F.col(\"count\") / record_count)\n",
    "window = Window.orderBy(F.col(\"perc\").desc()).rowsBetween(Window.unboundedPreceding, Window.currentRow)\n",
    "state_count_p = state_count_p.withColumn(\"cumsum\", F.sum(F.col(\"perc\")).over(window))\n",
    "state_count_p.show(33)"
   ]
  },
  {
   "cell_type": "markdown",
   "id": "b48cfb23-c409-4251-b71d-5ed06f1b7cf5",
   "metadata": {},
   "source": [
    "## Industria (Giro)"
   ]
  },
  {
   "cell_type": "code",
   "execution_count": 9,
   "id": "eb4807e3-4c93-4ad1-b4b4-1f06e70cf2d9",
   "metadata": {},
   "outputs": [
    {
     "name": "stdout",
     "output_type": "stream",
     "text": [
      "Industrias únicas: 1\n"
     ]
    }
   ],
   "source": [
    "print(f\"Industrias únicas: {df.select('jobposting.industry').distinct().count()}\")"
   ]
  },
  {
   "cell_type": "code",
   "execution_count": 10,
   "id": "5f3976f0-9e68-4c0d-b731-bde980388398",
   "metadata": {},
   "outputs": [
    {
     "name": "stdout",
     "output_type": "stream",
     "text": [
      "+-----------------------------+-----+---+------+\n",
      "|industry                     |count|pct|cumsum|\n",
      "+-----------------------------+-----+---+------+\n",
      "|Tecnologías de la Información|1563 |1.0|1.0   |\n",
      "+-----------------------------+-----+---+------+\n",
      "\n"
     ]
    }
   ],
   "source": [
    "cat_count = df.groupby(\"jobposting.industry\").count()\n",
    "cat_count = cat_count.withColumn(\"pct\", F.col(\"count\") / F.lit(record_count))\\\n",
    "            .sort(F.col(\"count\").desc())\n",
    "window = Window.orderBy(F.col(\"pct\").desc()).rowsBetween(Window.unboundedPreceding, Window.currentRow)\n",
    "cat_count = cat_count.withColumn(\"cumsum\", F.sum(F.col(\"pct\")).over(window))\n",
    "cat_count.show(25, truncate=False)"
   ]
  },
  {
   "cell_type": "markdown",
   "id": "062ba487-9e5c-4a34-b77b-437d9fa81450",
   "metadata": {},
   "source": [
    "## Compañias"
   ]
  },
  {
   "cell_type": "code",
   "execution_count": 11,
   "id": "5965fa9c-6351-4b45-84a1-443584b42187",
   "metadata": {},
   "outputs": [
    {
     "name": "stdout",
     "output_type": "stream",
     "text": [
      "Número de nombres de compañías: 184\n",
      "+----------------------------------+-----+--------------------+-------------------+\n",
      "|name                              |count|pct                 |cumsum             |\n",
      "+----------------------------------+-----+--------------------+-------------------+\n",
      "|Capital Empresarial Horizonte     |371  |0.23736404350607807 |0.23736404350607807|\n",
      "|Confidencial                      |80   |0.05118362124120281 |0.2885476647472809 |\n",
      "|Thomson Reuters                   |63   |0.04030710172744722 |0.3288547664747281 |\n",
      "|Grupo Salinas                     |46   |0.02943058221369162 |0.3582853486884197 |\n",
      "|EmployIT                          |44   |0.02815099168266155 |0.38643634037108127|\n",
      "|OCDTECH                           |40   |0.025591810620601407|0.41202815099168266|\n",
      "|EON IGNITING BUSINESS             |37   |0.023672424824056303|0.43570057581573896|\n",
      "|DEINTEC                           |37   |0.023672424824056303|0.45937300063979525|\n",
      "|TESYS 21                          |33   |0.02111324376199616 |0.4804862444017914 |\n",
      "|Corporativo Coppel                |33   |0.02111324376199616 |0.5015994881637875 |\n",
      "|THE ROCKET CODE                   |29   |0.018554062699936022|0.5201535508637235 |\n",
      "|AsTecI                            |28   |0.017914267434420986|0.5380678182981445 |\n",
      "|Branchbit                         |24   |0.015355086372360844|0.5534229046705054 |\n",
      "|Cognizant Technology Solutions    |24   |0.015355086372360844|0.5687779910428662 |\n",
      "|Pepsico                           |22   |0.014075495841330775|0.5828534868841969 |\n",
      "|Softtek                           |22   |0.014075495841330775|0.5969289827255276 |\n",
      "|Getecsa                           |20   |0.012795905310300703|0.6097248880358284 |\n",
      "|Luxoft                            |16   |0.010236724248240563|0.6199616122840689 |\n",
      "|IM Consulting                     |15   |0.009596928982725527|0.6295585412667944 |\n",
      "|Santander                         |15   |0.009596928982725527|0.63915547024952   |\n",
      "|Azka IT Consulting                |14   |0.008957133717210493|0.6481126039667305 |\n",
      "|Grupo Xcaret                      |14   |0.008957133717210493|0.6570697376839411 |\n",
      "|LTIMindtree                       |13   |0.008317338451695458|0.6653870761356365 |\n",
      "|ITCHOME                           |12   |0.007677543186180422|0.6730646193218169 |\n",
      "|Accenture                         |11   |0.007037747920665387|0.6801023672424823 |\n",
      "|Mobiik                            |11   |0.007037747920665387|0.6871401151631477 |\n",
      "|Deloitte Delivery Nearshore México|10   |0.006397952655150352|0.693538067818298  |\n",
      "|Valuglobal Consultoria            |10   |0.006397952655150352|0.6999360204734483 |\n",
      "|ALTEN INGENIERIA MEXICO           |10   |0.006397952655150352|0.7063339731285986 |\n",
      "|Talent2Win                        |9    |0.005758157389635317|0.712092130518234  |\n",
      "+----------------------------------+-----+--------------------+-------------------+\n",
      "only showing top 30 rows\n",
      "\n"
     ]
    }
   ],
   "source": [
    "\n",
    "print(f\"Número de nombres de compañías: {df.select('jobposting.hiringOrganization.name').distinct().count()}\")\n",
    "company_count = df.groupby('jobposting.hiringOrganization.name').count()\\\n",
    "                .withColumn('pct', F.col('count') / record_count)\\\n",
    "                .withColumn('cumsum', F.sum(F.col('pct')).over(window))\\\n",
    "                .sort(F.col(\"count\").desc())\n",
    "\n",
    "company_count.show(30, truncate=False)"
   ]
  },
  {
   "cell_type": "markdown",
   "id": "472609d5-d40e-4cf7-a429-c37226a18fa9",
   "metadata": {},
   "source": [
    "## Salarios"
   ]
  },
  {
   "cell_type": "code",
   "execution_count": 13,
   "id": "da44f757-42c2-4e53-a739-da40cf820db3",
   "metadata": {},
   "outputs": [
    {
     "ename": "AnalysisException",
     "evalue": "[DATATYPE_MISMATCH.CAST_WITHOUT_SUGGESTION] Cannot resolve \"CAST(jobposting.baseSalary.value AS DOUBLE)\" due to data type mismatch: cannot cast \"STRUCT<`@type`: STRING, maxValue: STRING, minValue: STRING, unitText: STRING>\" to \"DOUBLE\".;\n'Project [unresolvedalias(cast(jobposting#10.baseSalary.value as double), None)]\n+- Relation [crawler#8,identifier#9,jobposting#10,scraped_at#11,search_engine_type#12,url#13,uuid#14,version#15] json\n",
     "output_type": "error",
     "traceback": [
      "\u001b[0;31m---------------------------------------------------------------------------\u001b[0m",
      "\u001b[0;31mAnalysisException\u001b[0m                         Traceback (most recent call last)",
      "Cell \u001b[0;32mIn[13], line 2\u001b[0m\n\u001b[1;32m      1\u001b[0m salary_f \u001b[38;5;241m=\u001b[39m \u001b[38;5;124m\"\u001b[39m\u001b[38;5;124mjobposting.baseSalary.value\u001b[39m\u001b[38;5;124m\"\u001b[39m\n\u001b[0;32m----> 2\u001b[0m \u001b[43mdf\u001b[49m\u001b[38;5;241;43m.\u001b[39;49m\u001b[43mselect\u001b[49m\u001b[43m(\u001b[49m\u001b[43mF\u001b[49m\u001b[38;5;241;43m.\u001b[39;49m\u001b[43mcol\u001b[49m\u001b[43m(\u001b[49m\u001b[43msalary_f\u001b[49m\u001b[43m)\u001b[49m\u001b[38;5;241;43m.\u001b[39;49m\u001b[43mcast\u001b[49m\u001b[43m(\u001b[49m\u001b[38;5;124;43m\"\u001b[39;49m\u001b[38;5;124;43mdouble\u001b[39;49m\u001b[38;5;124;43m\"\u001b[39;49m\u001b[43m)\u001b[49m\u001b[43m)\u001b[49m\u001b[38;5;241m.\u001b[39msummary()\u001b[38;5;241m.\u001b[39mshow()\n\u001b[1;32m      3\u001b[0m df\u001b[38;5;241m.\u001b[39mselect(salary_f)\u001b[38;5;241m.\u001b[39mmin()\n",
      "File \u001b[0;32m/usr/local/spark/python/pyspark/sql/dataframe.py:3036\u001b[0m, in \u001b[0;36mDataFrame.select\u001b[0;34m(self, *cols)\u001b[0m\n\u001b[1;32m   2991\u001b[0m \u001b[38;5;28;01mdef\u001b[39;00m \u001b[38;5;21mselect\u001b[39m(\u001b[38;5;28mself\u001b[39m, \u001b[38;5;241m*\u001b[39mcols: \u001b[38;5;124m\"\u001b[39m\u001b[38;5;124mColumnOrName\u001b[39m\u001b[38;5;124m\"\u001b[39m) \u001b[38;5;241m-\u001b[39m\u001b[38;5;241m>\u001b[39m \u001b[38;5;124m\"\u001b[39m\u001b[38;5;124mDataFrame\u001b[39m\u001b[38;5;124m\"\u001b[39m:  \u001b[38;5;66;03m# type: ignore[misc]\u001b[39;00m\n\u001b[1;32m   2992\u001b[0m \u001b[38;5;250m    \u001b[39m\u001b[38;5;124;03m\"\"\"Projects a set of expressions and returns a new :class:`DataFrame`.\u001b[39;00m\n\u001b[1;32m   2993\u001b[0m \n\u001b[1;32m   2994\u001b[0m \u001b[38;5;124;03m    .. versionadded:: 1.3.0\u001b[39;00m\n\u001b[0;32m   (...)\u001b[0m\n\u001b[1;32m   3034\u001b[0m \u001b[38;5;124;03m    +-----+---+\u001b[39;00m\n\u001b[1;32m   3035\u001b[0m \u001b[38;5;124;03m    \"\"\"\u001b[39;00m\n\u001b[0;32m-> 3036\u001b[0m     jdf \u001b[38;5;241m=\u001b[39m \u001b[38;5;28;43mself\u001b[39;49m\u001b[38;5;241;43m.\u001b[39;49m\u001b[43m_jdf\u001b[49m\u001b[38;5;241;43m.\u001b[39;49m\u001b[43mselect\u001b[49m\u001b[43m(\u001b[49m\u001b[38;5;28;43mself\u001b[39;49m\u001b[38;5;241;43m.\u001b[39;49m\u001b[43m_jcols\u001b[49m\u001b[43m(\u001b[49m\u001b[38;5;241;43m*\u001b[39;49m\u001b[43mcols\u001b[49m\u001b[43m)\u001b[49m\u001b[43m)\u001b[49m\n\u001b[1;32m   3037\u001b[0m     \u001b[38;5;28;01mreturn\u001b[39;00m DataFrame(jdf, \u001b[38;5;28mself\u001b[39m\u001b[38;5;241m.\u001b[39msparkSession)\n",
      "File \u001b[0;32m/usr/local/spark/python/lib/py4j-0.10.9.7-src.zip/py4j/java_gateway.py:1322\u001b[0m, in \u001b[0;36mJavaMember.__call__\u001b[0;34m(self, *args)\u001b[0m\n\u001b[1;32m   1316\u001b[0m command \u001b[38;5;241m=\u001b[39m proto\u001b[38;5;241m.\u001b[39mCALL_COMMAND_NAME \u001b[38;5;241m+\u001b[39m\\\n\u001b[1;32m   1317\u001b[0m     \u001b[38;5;28mself\u001b[39m\u001b[38;5;241m.\u001b[39mcommand_header \u001b[38;5;241m+\u001b[39m\\\n\u001b[1;32m   1318\u001b[0m     args_command \u001b[38;5;241m+\u001b[39m\\\n\u001b[1;32m   1319\u001b[0m     proto\u001b[38;5;241m.\u001b[39mEND_COMMAND_PART\n\u001b[1;32m   1321\u001b[0m answer \u001b[38;5;241m=\u001b[39m \u001b[38;5;28mself\u001b[39m\u001b[38;5;241m.\u001b[39mgateway_client\u001b[38;5;241m.\u001b[39msend_command(command)\n\u001b[0;32m-> 1322\u001b[0m return_value \u001b[38;5;241m=\u001b[39m \u001b[43mget_return_value\u001b[49m\u001b[43m(\u001b[49m\n\u001b[1;32m   1323\u001b[0m \u001b[43m    \u001b[49m\u001b[43manswer\u001b[49m\u001b[43m,\u001b[49m\u001b[43m \u001b[49m\u001b[38;5;28;43mself\u001b[39;49m\u001b[38;5;241;43m.\u001b[39;49m\u001b[43mgateway_client\u001b[49m\u001b[43m,\u001b[49m\u001b[43m \u001b[49m\u001b[38;5;28;43mself\u001b[39;49m\u001b[38;5;241;43m.\u001b[39;49m\u001b[43mtarget_id\u001b[49m\u001b[43m,\u001b[49m\u001b[43m \u001b[49m\u001b[38;5;28;43mself\u001b[39;49m\u001b[38;5;241;43m.\u001b[39;49m\u001b[43mname\u001b[49m\u001b[43m)\u001b[49m\n\u001b[1;32m   1325\u001b[0m \u001b[38;5;28;01mfor\u001b[39;00m temp_arg \u001b[38;5;129;01min\u001b[39;00m temp_args:\n\u001b[1;32m   1326\u001b[0m     \u001b[38;5;28;01mif\u001b[39;00m \u001b[38;5;28mhasattr\u001b[39m(temp_arg, \u001b[38;5;124m\"\u001b[39m\u001b[38;5;124m_detach\u001b[39m\u001b[38;5;124m\"\u001b[39m):\n",
      "File \u001b[0;32m/usr/local/spark/python/pyspark/errors/exceptions/captured.py:175\u001b[0m, in \u001b[0;36mcapture_sql_exception.<locals>.deco\u001b[0;34m(*a, **kw)\u001b[0m\n\u001b[1;32m    171\u001b[0m converted \u001b[38;5;241m=\u001b[39m convert_exception(e\u001b[38;5;241m.\u001b[39mjava_exception)\n\u001b[1;32m    172\u001b[0m \u001b[38;5;28;01mif\u001b[39;00m \u001b[38;5;129;01mnot\u001b[39;00m \u001b[38;5;28misinstance\u001b[39m(converted, UnknownException):\n\u001b[1;32m    173\u001b[0m     \u001b[38;5;66;03m# Hide where the exception came from that shows a non-Pythonic\u001b[39;00m\n\u001b[1;32m    174\u001b[0m     \u001b[38;5;66;03m# JVM exception message.\u001b[39;00m\n\u001b[0;32m--> 175\u001b[0m     \u001b[38;5;28;01mraise\u001b[39;00m converted \u001b[38;5;28;01mfrom\u001b[39;00m \u001b[38;5;28;01mNone\u001b[39;00m\n\u001b[1;32m    176\u001b[0m \u001b[38;5;28;01melse\u001b[39;00m:\n\u001b[1;32m    177\u001b[0m     \u001b[38;5;28;01mraise\u001b[39;00m\n",
      "\u001b[0;31mAnalysisException\u001b[0m: [DATATYPE_MISMATCH.CAST_WITHOUT_SUGGESTION] Cannot resolve \"CAST(jobposting.baseSalary.value AS DOUBLE)\" due to data type mismatch: cannot cast \"STRUCT<`@type`: STRING, maxValue: STRING, minValue: STRING, unitText: STRING>\" to \"DOUBLE\".;\n'Project [unresolvedalias(cast(jobposting#10.baseSalary.value as double), None)]\n+- Relation [crawler#8,identifier#9,jobposting#10,scraped_at#11,search_engine_type#12,url#13,uuid#14,version#15] json\n"
     ]
    }
   ],
   "source": [
    "salary_f = \"jobposting.baseSalary.value\"\n",
    "df.select(F.col(salary_f).cast(\"double\")).summary().show()\n",
    "df.select(salary_f).min()"
   ]
  },
  {
   "cell_type": "code",
   "execution_count": null,
   "id": "3ebcc15e-2871-4c59-a855-5a348f83de94",
   "metadata": {},
   "outputs": [],
   "source": [
    "df.where(f\"{salary_f} is null\").count()"
   ]
  },
  {
   "cell_type": "markdown",
   "id": "73915302-5acf-40e0-a9d7-703eb30cabb1",
   "metadata": {},
   "source": [
    "La proporción de vacantes sin salario es bastante independiente de directApply: \n",
    "\n",
    "(si directApply == False implica agregadas, estas tienen salario de todas formas, a diferencia de OCC)"
   ]
  },
  {
   "cell_type": "code",
   "execution_count": null,
   "id": "68a2e756-00c5-4f1c-9ce0-c696bfd1e449",
   "metadata": {},
   "outputs": [],
   "source": [
    "df.withColumn(\"has_salary\", F.when(F.col(salary_f).isNull(), False).otherwise(True)).groupby(\"jobposting.directApply\").pivot(\"has_salary\").count().show()"
   ]
  },
  {
   "cell_type": "code",
   "execution_count": null,
   "id": "6c7e703a-4602-4b16-b339-b932b6a1dacf",
   "metadata": {},
   "outputs": [],
   "source": [
    "#seleccionar rangos para eliminar outliers - los percentiles son ajustados a algo que permita comparar con OCC\n",
    "outlier_limits = df.select(F.percentile_approx(salary_f, [0.05, 0.95]))\n",
    "outlier_min, outlier_max = outlier_limits.collect()[0][0]\n",
    "outlier_limits.show()"
   ]
  },
  {
   "cell_type": "code",
   "execution_count": null,
   "id": "e256ac54-cbb9-4320-9777-641bb14e5c4d",
   "metadata": {},
   "outputs": [],
   "source": [
    "salary = df.select(salary_f).where(f\"{salary_f} >= {outlier_min} and {salary_f} <= {outlier_max}\")\n",
    "salary.summary().show()"
   ]
  },
  {
   "cell_type": "code",
   "execution_count": null,
   "id": "681121e2-8353-4921-b1f2-04a306255a7a",
   "metadata": {},
   "outputs": [],
   "source": []
  },
  {
   "cell_type": "code",
   "execution_count": null,
   "id": "558aa0a6-3a17-450e-8ebc-1868d3dc6ebd",
   "metadata": {},
   "outputs": [],
   "source": []
  }
 ],
 "metadata": {
  "kernelspec": {
   "display_name": "Python 3 (ipykernel)",
   "language": "python",
   "name": "python3"
  },
  "language_info": {
   "codemirror_mode": {
    "name": "ipython",
    "version": 3
   },
   "file_extension": ".py",
   "mimetype": "text/x-python",
   "name": "python",
   "nbconvert_exporter": "python",
   "pygments_lexer": "ipython3",
   "version": "3.11.4"
  }
 },
 "nbformat": 4,
 "nbformat_minor": 5
}
