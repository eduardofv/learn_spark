{
 "cells": [
  {
   "cell_type": "markdown",
   "id": "eb2eb863-c89b-4bc1-95fa-3ba16f031415",
   "metadata": {},
   "source": [
    "# CT daily EDA"
   ]
  },
  {
   "cell_type": "code",
   "execution_count": null,
   "id": "589b3d4d-dd14-45e8-af5e-a399fb907b06",
   "metadata": {},
   "outputs": [],
   "source": [
    "import pandas as pd\n",
    "import matplotlib.pyplot as plt\n",
    "\n",
    "import pyspark\n",
    "from pyspark.sql import SparkSession\n",
    "from pyspark.sql import functions as F\n",
    "from pyspark.sql.window import Window"
   ]
  },
  {
   "cell_type": "code",
   "execution_count": null,
   "id": "9d4924cf-d763-49a7-b716-eee71f86af34",
   "metadata": {},
   "outputs": [],
   "source": [
    "spark = SparkSession \\\n",
    "    .builder \\\n",
    "    .appName(\"Learning Spark\") \\\n",
    "    .getOrCreate()\n",
    "\n",
    "day = \"20230724\""
   ]
  },
  {
   "cell_type": "code",
   "execution_count": 3,
   "id": "9b80fa1a-0a3b-4531-84c9-598ae200bbc6",
   "metadata": {},
   "outputs": [],
   "source": [
    "df = spark.read.json(f\"harvester/ct/bigharvey-CT_MX-{day}_*-rv0_0_9.jsonl.gz\")"
   ]
  },
  {
   "cell_type": "code",
   "execution_count": 4,
   "id": "2e25e962-2a74-431b-8089-a5fc288e0185",
   "metadata": {},
   "outputs": [
    {
     "name": "stdout",
     "output_type": "stream",
     "text": [
      "root\n",
      " |-- crawler: string (nullable = true)\n",
      " |-- identifier: string (nullable = true)\n",
      " |-- jobposting: struct (nullable = true)\n",
      " |    |-- @context: string (nullable = true)\n",
      " |    |-- @type: string (nullable = true)\n",
      " |    |-- baseSalary: struct (nullable = true)\n",
      " |    |    |-- @context: string (nullable = true)\n",
      " |    |    |-- @type: string (nullable = true)\n",
      " |    |    |-- currency: string (nullable = true)\n",
      " |    |    |-- value: struct (nullable = true)\n",
      " |    |    |    |-- @context: string (nullable = true)\n",
      " |    |    |    |-- @type: string (nullable = true)\n",
      " |    |    |    |-- unitText: string (nullable = true)\n",
      " |    |    |    |-- value: string (nullable = true)\n",
      " |    |-- datePosted: string (nullable = true)\n",
      " |    |-- description: string (nullable = true)\n",
      " |    |-- directApply: boolean (nullable = true)\n",
      " |    |-- employmentType: string (nullable = true)\n",
      " |    |-- hiringOrganization: struct (nullable = true)\n",
      " |    |    |-- @context: string (nullable = true)\n",
      " |    |    |-- @type: string (nullable = true)\n",
      " |    |    |-- logo: string (nullable = true)\n",
      " |    |    |-- name: string (nullable = true)\n",
      " |    |-- identifier: struct (nullable = true)\n",
      " |    |    |-- @context: string (nullable = true)\n",
      " |    |    |-- @type: string (nullable = true)\n",
      " |    |    |-- name: string (nullable = true)\n",
      " |    |    |-- value: string (nullable = true)\n",
      " |    |-- industry: string (nullable = true)\n",
      " |    |-- jobLocation: struct (nullable = true)\n",
      " |    |    |-- @context: string (nullable = true)\n",
      " |    |    |-- @type: string (nullable = true)\n",
      " |    |    |-- address: struct (nullable = true)\n",
      " |    |    |    |-- @context: string (nullable = true)\n",
      " |    |    |    |-- @type: string (nullable = true)\n",
      " |    |    |    |-- addressCountry: string (nullable = true)\n",
      " |    |    |    |-- addressLocality: string (nullable = true)\n",
      " |    |    |    |-- addressRegion: string (nullable = true)\n",
      " |    |-- salaryCurrency: string (nullable = true)\n",
      " |    |-- title: string (nullable = true)\n",
      " |    |-- url: string (nullable = true)\n",
      " |    |-- validThrough: string (nullable = true)\n",
      " |-- scraped_at: string (nullable = true)\n",
      " |-- search_engine_type: string (nullable = true)\n",
      " |-- url: string (nullable = true)\n",
      " |-- uuid: string (nullable = true)\n",
      " |-- version: string (nullable = true)\n",
      "\n"
     ]
    }
   ],
   "source": [
    "df.printSchema()"
   ]
  },
  {
   "cell_type": "code",
   "execution_count": 8,
   "id": "599a5c1e-e80e-406e-86b3-a3034fde11e8",
   "metadata": {},
   "outputs": [
    {
     "name": "stdout",
     "output_type": "stream",
     "text": [
      "-RECORD 0-------------------------------------------------------------------------------------------------------------------------------------------------------------------------------------------------------------------------------------------------------------------------------------------------------------------------------------------------------------------------------------------------------------------------------------------------------------------------------------------------------------------------------------------------------------------------------------------------------------------------------------------------------------------------------------------------------------------------------------------------------------------------------------------------------------------------------------------------------------------------------------------------------------------------------------------------------------------------------------------------------------------------------------------------------------------------------------------------------------------------------------------------------------------------------------------------------------------------------------------------------------------------------------------------------------------------------------------------------------------------------------------------------------------------------------------------------------------------------------------------------------------------------------------------------------------------------------------------------------------------------------------------------------------------------------------------------------------------------------------------------------------------------------------------------------------------------------------------------------------------------------------------------------------------------------------------------------------------------------------------------------------------------------------------------------------------------------------------------------------------------------------------------------------------------------------------------------------------------------------------------------------------------------------------------------------------------------------------------------------------------------------------------------------------------------------------------------------------------------------------------------------------------------------------------------------------------------------------------\n",
      " crawler            | CtCrawlerByCity                                                                                                                                                                                                                                                                                                                                                                                                                                                                                                                                                                                                                                                                                                                                                                                                                                                                                                                                                                                                                                                                                                                                                                                                                                                                                                                                                                                                                                                                                                                                                                                                                                                                                                                                                                                                                                                                                                                                                                                                                                                                                                                                                                                                                                                                                                                                                                                                                                                                                                                                                                           \n",
      " identifier         | 4055953C39AC4B4561373E686DCF3405                                                                                                                                                                                                                                                                                                                                                                                                                                                                                                                                                                                                                                                                                                                                                                                                                                                                                                                                                                                                                                                                                                                                                                                                                                                                                                                                                                                                                                                                                                                                                                                                                                                                                                                                                                                                                                                                                                                                                                                                                                                                                                                                                                                                                                                                                                                                                                                                                                                                                                                                                          \n",
      " jobposting         | {https://schema.org/, JobPosting, null, 2023-07-21, Cuidado con el Perro<br/>es una marca 100% mexicana que nace en el 2007 inspirada en el estilo urbano de las nuevas generaciones y siguiendo las tendencias de moda. Nuestro objetivo es crear diseños únicos que satisfagan las necesidades de nuestros consumidores.<br/><br/>En Cuidado con el Perro valoramos la honestidad, el compromiso, el profesionalismo, la pasión y el entusiasmo; ofrecemos oportunidades profesionales basadas en estos valores, dentro de ambientes colaborativos y generadores de aprendizaje.<br/><br/>Intégrate al equipo como:<br/><br/><br/>** ANALISTA DE CONCILIACIONES **<br/><br/>Funciones Específicas del puesto:<br/><br/>-Conciliaciones bancarias de cuentas en pesos (Bancomer, Banamex, Santander, HSBC, Banorte)<br/>-Conciliaciones bancarias de cuentas en moneda extranjera (Bancomer, Banamex, Santander)<br/>-Conciliación de cuentas de inversión<br/>-Registro de fluctuaciones cambiarias <br/>-Registro de ISR retenido, Intereses y comisiones bancarias<br/>-Integración de deuda bancaria e intereses pagados<br/>-Emisión y revisión de reportes de corresponsalía bancaria<br/><br/><br/>¿Qué necesitas?<br/><br/>·Licenciatura en contaduría o a fin<br/>·Experiencia 2 años<br/>·Manejo de ERP<br/><br/>Zona de trabajo: Centro, CDMX<br/>Horario: lunes a viernes 8:00 a 18hrs<br/><br/>Ofrecemos:<br/><br/>a) Sueldo fijo, pago 100% vía nómina<br/>b) Descuentos en tiendas.<br/>c) Prestaciones de Ley desde el 1er día<br/>d) Utilidades<br/><br/><br/>Si estas interesado postúlate por este medio.<br/>¡¡SE PARTE DE LA JAURIA!!<br/><br/><br/><br/>.<br/><br/> -Requerimientos- Educación mínima: Educación superior - Licenciatura<br/>2 años de experiencia<br/>Conocimientos: Contabilidad<br/>Disponibilidad de viajar: Si<br/>Palabras clave: analyst, ciudad, df, true, FULL_TIME, {https://schema.org/, Organization, https://ii.ct-stc.com/2/logos/empresas/2018/05/04/almacenes-garcia-de-mexico-B1ABE6AC664D803D160456thumbnail.jpeg, Cuidado con el Perro}, {https://schema.org/, PropertyValue, Cuidado con el Perro, 7517F155D77BACC7}, Venta al consumidor, {https://schema.org/, Place, {https://schema.org/, PostalAddress, México, Ciudad de México DF, Cuauhtémoc}}, null, Analista de Conciliaciones Bancarias - Cuidado con el Perro CDMX, https://mx.computrabajo.com/ofertas-de-trabajo/oferta-de-trabajo-de-analista-de-conciliaciones-bancarias-cuidado-con-el-perro-cdmx-en-cuauhtemoc-4055953C39AC4B4561373E686DCF3405, 2023-09-19} \n",
      " scraped_at         | 2023-07-24 08:30:56.740735                                                                                                                                                                                                                                                                                                                                                                                                                                                                                                                                                                                                                                                                                                                                                                                                                                                                                                                                                                                                                                                                                                                                                                                                                                                                                                                                                                                                                                                                                                                                                                                                                                                                                                                                                                                                                                                                                                                                                                                                                                                                                                                                                                                                                                                                                                                                                                                                                                                                                                                                                                \n",
      " search_engine_type | JDP                                                                                                                                                                                                                                                                                                                                                                                                                                                                                                                                                                                                                                                                                                                                                                                                                                                                                                                                                                                                                                                                                                                                                                                                                                                                                                                                                                                                                                                                                                                                                                                                                                                                                                                                                                                                                                                                                                                                                                                                                                                                                                                                                                                                                                                                                                                                                                                                                                                                                                                                                                                       \n",
      " url                | https://mx.computrabajo.com/ofertas-de-trabajo/oferta-de-trabajo-de-analista-de-conciliaciones-bancarias-cuidado-con-el-perro-cdmx-en-cuauhtemoc-4055953C39AC4B4561373E686DCF3405                                                                                                                                                                                                                                                                                                                                                                                                                                                                                                                                                                                                                                                                                                                                                                                                                                                                                                                                                                                                                                                                                                                                                                                                                                                                                                                                                                                                                                                                                                                                                                                                                                                                                                                                                                                                                                                                                                                                                                                                                                                                                                                                                                                                                                                                                                                                                                                                         \n",
      " uuid               | f4c33fe8-dd3e-409d-b061-3625fd17b4f1                                                                                                                                                                                                                                                                                                                                                                                                                                                                                                                                                                                                                                                                                                                                                                                                                                                                                                                                                                                                                                                                                                                                                                                                                                                                                                                                                                                                                                                                                                                                                                                                                                                                                                                                                                                                                                                                                                                                                                                                                                                                                                                                                                                                                                                                                                                                                                                                                                                                                                                                                      \n",
      " version            | 0.0.9                                                                                                                                                                                                                                                                                                                                                                                                                                                                                                                                                                                                                                                                                                                                                                                                                                                                                                                                                                                                                                                                                                                                                                                                                                                                                                                                                                                                                                                                                                                                                                                                                                                                                                                                                                                                                                                                                                                                                                                                                                                                                                                                                                                                                                                                                                                                                                                                                                                                                                                                                                                     \n",
      "only showing top 1 row\n",
      "\n"
     ]
    }
   ],
   "source": [
    "df.show(1, vertical=True, truncate=False)"
   ]
  },
  {
   "cell_type": "markdown",
   "id": "88b1031e-f104-4c25-8c1b-0d7f70108af4",
   "metadata": {},
   "source": [
    "### Registros Totales"
   ]
  },
  {
   "cell_type": "code",
   "execution_count": 22,
   "id": "f343cfd7-094f-40c3-89ac-55c0c56b752d",
   "metadata": {},
   "outputs": [
    {
     "data": {
      "text/plain": [
       "116414"
      ]
     },
     "execution_count": 22,
     "metadata": {},
     "output_type": "execute_result"
    }
   ],
   "source": [
    "record_count = df.count()\n",
    "df.count()"
   ]
  },
  {
   "cell_type": "markdown",
   "id": "dbf801c5-b76e-49ec-b6cb-9581ea88b297",
   "metadata": {},
   "source": [
    "### Registros Únicos por Identifier (asume único por jobad)"
   ]
  },
  {
   "cell_type": "code",
   "execution_count": 6,
   "id": "ff467ca0-7aad-4d43-9f52-7a69d82e44b5",
   "metadata": {},
   "outputs": [
    {
     "data": {
      "text/plain": [
       "116414"
      ]
     },
     "execution_count": 6,
     "metadata": {},
     "output_type": "execute_result"
    }
   ],
   "source": [
    "df.dropDuplicates([\"identifier\"]).count()"
   ]
  },
  {
   "cell_type": "markdown",
   "id": "c8fab223-fb0c-48f4-bc06-97f1601d7079",
   "metadata": {},
   "source": [
    "## Ubicación"
   ]
  },
  {
   "cell_type": "markdown",
   "id": "10c054c4-e32d-44ac-98a7-95adbcc7e6c2",
   "metadata": {},
   "source": [
    "### Estados"
   ]
  },
  {
   "cell_type": "markdown",
   "id": "c5995a3a-95f6-49b4-866f-7562a4dd3ac6",
   "metadata": {},
   "source": [
    "#### Distribución de vacantes por estado con suma acumulada"
   ]
  },
  {
   "cell_type": "code",
   "execution_count": 24,
   "id": "4a91bc33-0049-4bf8-9bed-b2e17d7e7d2e",
   "metadata": {},
   "outputs": [
    {
     "name": "stdout",
     "output_type": "stream",
     "text": [
      "+-------------------+-----+--------------------+-------------------+\n",
      "|    addressLocality|count|                perc|             cumsum|\n",
      "+-------------------+-----+--------------------+-------------------+\n",
      "|Ciudad de México DF|25080| 0.21543800573814145|0.21543800573814145|\n",
      "|   Estado de México|14851|   0.127570567113921|0.34300857285206243|\n",
      "|            Jalisco|13081| 0.11236621024962633| 0.4553747831016888|\n",
      "|         Nuevo León| 7866| 0.06756919270878073| 0.5229439758104695|\n",
      "|          Querétaro| 6148|0.052811517515075505|  0.575755493325545|\n",
      "|         Guanajuato| 5182|0.044513546480663836| 0.6202690398062088|\n",
      "|             Puebla| 4417| 0.03794217190372292| 0.6582112117099318|\n",
      "|       Quintana Roo| 4359| 0.03744395004037315|  0.695655161750305|\n",
      "|            Yucatán| 3531|0.030331403439448863| 0.7259865651897538|\n",
      "|           Veracruz| 3025|0.025984847183328465| 0.7519714123730823|\n",
      "|    Baja California| 2758|0.023691308605494184| 0.7756627209785765|\n",
      "|            Sinaloa| 2475| 0.02126032951363238| 0.7969230504922089|\n",
      "|             Sonora| 2269| 0.01949078289552803|  0.816413833387737|\n",
      "|     Aguascalientes| 2250|0.019327572285120345| 0.8357414056728574|\n",
      "|    San Luis Potosí| 2056|0.017661106052536638|  0.853402511725394|\n",
      "|          Chihuahua| 1905|0.016364011201401893| 0.8697665229267959|\n",
      "|          Michoacán| 1768|0.015187176800041231| 0.8849536997268371|\n",
      "|           Coahuila| 1714|0.014723315065198344| 0.8996770147920354|\n",
      "|Baja California Sur| 1258|0.010806260415413953| 0.9104832752074494|\n",
      "|         Tamaulipas| 1253|0.010763310254780353| 0.9212465854622298|\n",
      "|             Oaxaca| 1163|0.009990207363375539| 0.9312367928256053|\n",
      "|            Chiapas| 1158|0.009947257202741939| 0.9411840500283473|\n",
      "|            Hidalgo| 1139|0.009784046592334256| 0.9509680966206815|\n",
      "|            Morelos| 1131|0.009715326335320493|  0.960683422956002|\n",
      "|             Colima|  843| 0.00724139708282509| 0.9679248200388271|\n",
      "|           Guerrero|  776|0.006665864930334839| 0.9745906849691619|\n",
      "|            Tabasco|  678|0.005824041781916265| 0.9804147267510782|\n",
      "|            Nayarit|  525|0.004509766866528081| 0.9849244936176063|\n",
      "|            Durango|  512|0.004398096448880719| 0.9893225900664869|\n",
      "|          Zacatecas|  426|0.003659353685982...| 0.9929819437524697|\n",
      "|           Campeche|  416|0.003573453364715584| 0.9965553971171853|\n",
      "|           Tlaxcala|  401|0.003444602882814...|                1.0|\n",
      "+-------------------+-----+--------------------+-------------------+\n",
      "\n"
     ]
    }
   ],
   "source": [
    "state_count = df.groupby(\"jobposting.JobLocation.address.addressLocality\").count()\n",
    "state_count_p = state_count.withColumn(\"perc\", F.col(\"count\") / record_count)\n",
    "window = Window.orderBy(F.col(\"perc\").desc()).rowsBetween(Window.unboundedPreceding, Window.currentRow)\n",
    "state_count_p = state_count_p.withColumn(\"cumsum\", F.sum(F.col(\"perc\")).over(window))\n",
    "state_count_p.show(33)"
   ]
  },
  {
   "cell_type": "markdown",
   "id": "b48cfb23-c409-4251-b71d-5ed06f1b7cf5",
   "metadata": {},
   "source": [
    "## Industria (Giro)"
   ]
  },
  {
   "cell_type": "code",
   "execution_count": 49,
   "id": "eb4807e3-4c93-4ad1-b4b4-1f06e70cf2d9",
   "metadata": {},
   "outputs": [
    {
     "name": "stdout",
     "output_type": "stream",
     "text": [
      "Industrias únicas: 25\n"
     ]
    }
   ],
   "source": [
    "print(f\"Industrias únicas: {df.select('jobposting.industry').distinct().count()}\")"
   ]
  },
  {
   "cell_type": "code",
   "execution_count": 48,
   "id": "5f3976f0-9e68-4c0d-b731-bde980388398",
   "metadata": {},
   "outputs": [
    {
     "name": "stdout",
     "output_type": "stream",
     "text": [
      "+-------------------------------+-----+---------------------+-------------------+\n",
      "|industry                       |count|pct                  |cumsum             |\n",
      "+-------------------------------+-----+---------------------+-------------------+\n",
      "|RRHH / Personal                |27628|0.23732540759702442  |0.23732540759702442|\n",
      "|Venta al consumidor            |19262|0.1654611988248836   |0.402786606421908  |\n",
      "|Servicios Profesionales        |13896|0.11936708643290325  |0.5221536928548113 |\n",
      "|Finanzas / Banca               |8055 |0.06919270878073085  |0.5913464016355421 |\n",
      "|Fabricación                    |6680 |0.05738141460649063  |0.6487278162420327 |\n",
      "|Salud / Medicina               |6481 |0.055671998213273316 |0.704399814455306  |\n",
      "|Venta al por mayor             |5135 |0.04410981497070799  |0.748509629426014  |\n",
      "|Transporte                     |4516 |0.038792585084268215 |0.7873022145102822 |\n",
      "|Construcción / obras           |4383 |0.037650110811414436 |0.8249523253216966 |\n",
      "|Hostelería / Turismo           |4358 |0.03743536000824643  |0.862387685329943  |\n",
      "|Telecomunicaciones             |2922 |0.02510007387427629  |0.8874877592042193 |\n",
      "|Educación                      |2525 |0.02168983111996839  |0.9091775903241877 |\n",
      "|Informática / Software         |2116 |0.018176507980139846 |0.9273540983043275 |\n",
      "|Publicidad / RRPP              |1640 |0.014087652687821053 |0.9414417509921486 |\n",
      "|Legal / Asesoría               |1306 |0.011218581957496521 |0.952660332949645  |\n",
      "|Entretenimiento / Deportes     |1304 |0.01120140189324308  |0.9638617348428881 |\n",
      "|Agricultura / Pesca / Ganadería|999  |0.008581442094593434 |0.9724431769374815 |\n",
      "|Materias Primas                |836  |0.007181266857938049 |0.9796244437954196 |\n",
      "|Energía                        |639  |0.0054890305289741785|0.9851134743243938 |\n",
      "|Informática / Hardware         |630  |0.005411720239833697 |0.9905251945642275 |\n",
      "|Medios de Comunicación         |443  |0.003805384232137028 |0.9943305787963646 |\n",
      "|Internet                       |351  |0.003015101276478774 |0.9973456800728433 |\n",
      "|Gobierno / No Lucro            |221  |0.001898397100005154 |0.9992440771728485 |\n",
      "|Otros                          |87   |7.473327950246534E-4 |0.9999914099678732 |\n",
      "|                               |1    |8.590032126720154E-6 |0.9999999999999999 |\n",
      "+-------------------------------+-----+---------------------+-------------------+\n",
      "\n"
     ]
    }
   ],
   "source": [
    "cat_count = df.groupby(\"jobposting.industry\").count()\n",
    "cat_count = cat_count.withColumn(\"pct\", F.col(\"count\") / F.lit(record_count))\\\n",
    "            .sort(F.col(\"count\").desc())\n",
    "window = Window.orderBy(F.col(\"pct\").desc()).rowsBetween(Window.unboundedPreceding, Window.currentRow)\n",
    "cat_count = cat_count.withColumn(\"cumsum\", F.sum(F.col(\"pct\")).over(window))\n",
    "cat_count.show(25, truncate=False)"
   ]
  },
  {
   "cell_type": "markdown",
   "id": "062ba487-9e5c-4a34-b77b-437d9fa81450",
   "metadata": {},
   "source": [
    "## Compañias"
   ]
  },
  {
   "cell_type": "code",
   "execution_count": 55,
   "id": "5965fa9c-6351-4b45-84a1-443584b42187",
   "metadata": {},
   "outputs": [
    {
     "name": "stdout",
     "output_type": "stream",
     "text": [
      "Número de nombres de compañías: 21311\n",
      "+------------------------------------------------------------+-----+---------------------+-------------------+\n",
      "|name                                                        |count|pct                  |cumsum             |\n",
      "+------------------------------------------------------------+-----+---------------------+-------------------+\n",
      "|Grupo Salinas                                               |4906 |0.04214269761368908  |0.04214269761368908|\n",
      "|ManpowerGroup                                               |3474 |0.029841771608225813 |0.0719844692219149 |\n",
      "|Atento Servicios SA de CV                                   |2870 |0.02465339220368684  |0.09663786142560174|\n",
      "|Adecco                                                      |1734 |0.014895115707732746 |0.11153297713333449|\n",
      "|GRUPO FINANCIERO INBURSA                                    |1045 |0.00897658357242256  |0.12050956070575705|\n",
      "|Smart Jobs                                                  |1010 |0.008675932447987356 |0.12918549315374442|\n",
      "|Human Access                                                |926  |0.007954369749342863 |0.13713986290308727|\n",
      "|Farmacias del Ahorro                                        |901  |0.007739618946174858 |0.14487948184926214|\n",
      "|Worken                                                      |866  |0.007438967821739653 |0.15231844967100178|\n",
      "| Triple I                                                   |842  |0.00723280705069837  |0.15955125672170015|\n",
      "|Bachoco                                                     |836  |0.007181266857938049 |0.1667325235796382 |\n",
      "|IZZI Telecom                                                |822  |0.007061006408163967 |0.17379352998780215|\n",
      "|Compartamos Banco                                           |808  |0.006940745958389885 |0.18073427594619204|\n",
      "|Megacable                                                   |735  |0.006313673613139313 |0.18704794955933135|\n",
      "|GEPP                                                        |723  |0.006210593227618672 |0.19325854278695   |\n",
      "|Consejo de Asistencia al Microemprendedor S.A de C.V. S. F.P|699  |0.0060044324565773875|0.1992629752435274 |\n",
      "|BairesDev                                                   |697  |0.005987252392323947 |0.20525022763585135|\n",
      "|Soriana                                                     |665  |0.005712371364268902 |0.21096259900012027|\n",
      "|Konecta México                                              |661  |0.005678011235762022 |0.2166406102358823 |\n",
      "|Salud Digna                                                 |627  |0.005385950143453537 |0.22202656037933582|\n",
      "|Transportes Castores de Baja California S.A. de C.V.        |608  |0.005222739533045854 |0.22724929991238169|\n",
      "|Grupo Nach                                                  |594  |0.0051024790832717715|0.23235177899565346|\n",
      "|Teleperformance                                             |518  |0.00444963664164104  |0.2368014156372945 |\n",
      "|Corporativo Kosmos                                          |513  |0.004406686481007439 |0.24120810211830196|\n",
      "|GRUPO IUS ASESORES EN SEGURIDAD SOCIAL Y FISCAL             |487  |0.004183345645712715 |0.24539144776401467|\n",
      "|OXXO                                                        |478  |0.004106035356572234 |0.2494974831205869 |\n",
      "|ASOSA PERSONAL                                              |472  |0.004054495163811913 |0.2535519782843988 |\n",
      "|TEVA RH                                                     |461  |0.003960004810417991 |0.25751198309481677|\n",
      "|Grupo Financiero Banorte                                    |460  |0.003951414778291271 |0.261463397873108  |\n",
      "|Grupo Axo                                                   |457  |0.003925644681911111 |0.2653890425550191 |\n",
      "+------------------------------------------------------------+-----+---------------------+-------------------+\n",
      "only showing top 30 rows\n",
      "\n"
     ]
    }
   ],
   "source": [
    "\n",
    "print(f\"Número de nombres de compañías: {df.select('jobposting.hiringOrganization.name').distinct().count()}\")\n",
    "company_count = df.groupby('jobposting.hiringOrganization.name').count()\\\n",
    "                .withColumn('pct', F.col('count') / record_count)\\\n",
    "                .withColumn('cumsum', F.sum(F.col('pct')).over(window))\\\n",
    "                .sort(F.col(\"count\").desc())\n",
    "\n",
    "company_count.show(30, truncate=False)"
   ]
  },
  {
   "cell_type": "markdown",
   "id": "472609d5-d40e-4cf7-a429-c37226a18fa9",
   "metadata": {},
   "source": [
    "## Salarios"
   ]
  },
  {
   "cell_type": "code",
   "execution_count": 84,
   "id": "da44f757-42c2-4e53-a739-da40cf820db3",
   "metadata": {},
   "outputs": [
    {
     "ename": "AnalysisException",
     "evalue": "[UNRESOLVED_COLUMN.WITH_SUGGESTION] A column or function parameter with name `CAST(jobposting`.`baseSalary`.`value`.`value AS DOUBLE)` cannot be resolved. Did you mean one of the following? [`CAST(jobposting.baseSalary.value.value AS DOUBLE)`].;\n'Aggregate [map(cast(count as string), cast(count('CAST(jobposting.baseSalary.value.value AS DOUBLE)) as string), cast(mean as string), cast(avg('CAST(jobposting.baseSalary.value.value AS DOUBLE)) as string), cast(stddev as string), cast(stddev_samp('CAST(jobposting.baseSalary.value.value AS DOUBLE)) as string), cast(min as string), cast(min('CAST(jobposting.baseSalary.value.value AS DOUBLE)) as string), cast(25% as string), cast(get(percentile_approx('CAST(jobposting.baseSalary.value.value AS DOUBLE), [0.25,0.5,0.75], 10000, 0, 0), 0) as string), cast(50% as string), cast(get(percentile_approx('CAST(jobposting.baseSalary.value.value AS DOUBLE), [0.25,0.5,0.75], 10000, 0, 0), 1) as string), cast(75% as string), cast(get(percentile_approx('CAST(jobposting.baseSalary.value.value AS DOUBLE), [0.25,0.5,0.75], 10000, 0, 0), 2) as string), cast(max as string), cast(max('CAST(jobposting.baseSalary.value.value AS DOUBLE)) as string)) AS CAST(jobposting.baseSalary.value.value AS DOUBLE)#2412]\n+- Project [cast(jobposting#10.baseSalary.value.value as double) AS CAST(jobposting.baseSalary.value.value AS DOUBLE)#2396]\n   +- Relation [crawler#8,identifier#9,jobposting#10,scraped_at#11,search_engine_type#12,url#13,uuid#14,version#15] json\n",
     "output_type": "error",
     "traceback": [
      "\u001b[0;31m---------------------------------------------------------------------------\u001b[0m",
      "\u001b[0;31mAnalysisException\u001b[0m                         Traceback (most recent call last)",
      "Cell \u001b[0;32mIn[84], line 2\u001b[0m\n\u001b[1;32m      1\u001b[0m salary_f \u001b[38;5;241m=\u001b[39m \u001b[38;5;124m\"\u001b[39m\u001b[38;5;124mjobposting.baseSalary.value.value\u001b[39m\u001b[38;5;124m\"\u001b[39m\n\u001b[0;32m----> 2\u001b[0m \u001b[43mdf\u001b[49m\u001b[38;5;241;43m.\u001b[39;49m\u001b[43mselect\u001b[49m\u001b[43m(\u001b[49m\u001b[43mF\u001b[49m\u001b[38;5;241;43m.\u001b[39;49m\u001b[43mcol\u001b[49m\u001b[43m(\u001b[49m\u001b[43msalary_f\u001b[49m\u001b[43m)\u001b[49m\u001b[38;5;241;43m.\u001b[39;49m\u001b[43mcast\u001b[49m\u001b[43m(\u001b[49m\u001b[38;5;124;43m\"\u001b[39;49m\u001b[38;5;124;43mdouble\u001b[39;49m\u001b[38;5;124;43m\"\u001b[39;49m\u001b[43m)\u001b[49m\u001b[43m)\u001b[49m\u001b[38;5;241;43m.\u001b[39;49m\u001b[43msummary\u001b[49m\u001b[43m(\u001b[49m\u001b[43m)\u001b[49m\u001b[38;5;241m.\u001b[39mshow()\n\u001b[1;32m      3\u001b[0m df\u001b[38;5;241m.\u001b[39mselect(salary_f)\u001b[38;5;241m.\u001b[39mmin()\n",
      "File \u001b[0;32m/usr/local/spark/python/pyspark/sql/dataframe.py:2777\u001b[0m, in \u001b[0;36mDataFrame.summary\u001b[0;34m(self, *statistics)\u001b[0m\n\u001b[1;32m   2775\u001b[0m \u001b[38;5;28;01mif\u001b[39;00m \u001b[38;5;28mlen\u001b[39m(statistics) \u001b[38;5;241m==\u001b[39m \u001b[38;5;241m1\u001b[39m \u001b[38;5;129;01mand\u001b[39;00m \u001b[38;5;28misinstance\u001b[39m(statistics[\u001b[38;5;241m0\u001b[39m], \u001b[38;5;28mlist\u001b[39m):\n\u001b[1;32m   2776\u001b[0m     statistics \u001b[38;5;241m=\u001b[39m statistics[\u001b[38;5;241m0\u001b[39m]\n\u001b[0;32m-> 2777\u001b[0m jdf \u001b[38;5;241m=\u001b[39m \u001b[38;5;28;43mself\u001b[39;49m\u001b[38;5;241;43m.\u001b[39;49m\u001b[43m_jdf\u001b[49m\u001b[38;5;241;43m.\u001b[39;49m\u001b[43msummary\u001b[49m\u001b[43m(\u001b[49m\u001b[38;5;28;43mself\u001b[39;49m\u001b[38;5;241;43m.\u001b[39;49m\u001b[43m_jseq\u001b[49m\u001b[43m(\u001b[49m\u001b[43mstatistics\u001b[49m\u001b[43m)\u001b[49m\u001b[43m)\u001b[49m\n\u001b[1;32m   2778\u001b[0m \u001b[38;5;28;01mreturn\u001b[39;00m DataFrame(jdf, \u001b[38;5;28mself\u001b[39m\u001b[38;5;241m.\u001b[39msparkSession)\n",
      "File \u001b[0;32m/usr/local/spark/python/lib/py4j-0.10.9.7-src.zip/py4j/java_gateway.py:1322\u001b[0m, in \u001b[0;36mJavaMember.__call__\u001b[0;34m(self, *args)\u001b[0m\n\u001b[1;32m   1316\u001b[0m command \u001b[38;5;241m=\u001b[39m proto\u001b[38;5;241m.\u001b[39mCALL_COMMAND_NAME \u001b[38;5;241m+\u001b[39m\\\n\u001b[1;32m   1317\u001b[0m     \u001b[38;5;28mself\u001b[39m\u001b[38;5;241m.\u001b[39mcommand_header \u001b[38;5;241m+\u001b[39m\\\n\u001b[1;32m   1318\u001b[0m     args_command \u001b[38;5;241m+\u001b[39m\\\n\u001b[1;32m   1319\u001b[0m     proto\u001b[38;5;241m.\u001b[39mEND_COMMAND_PART\n\u001b[1;32m   1321\u001b[0m answer \u001b[38;5;241m=\u001b[39m \u001b[38;5;28mself\u001b[39m\u001b[38;5;241m.\u001b[39mgateway_client\u001b[38;5;241m.\u001b[39msend_command(command)\n\u001b[0;32m-> 1322\u001b[0m return_value \u001b[38;5;241m=\u001b[39m \u001b[43mget_return_value\u001b[49m\u001b[43m(\u001b[49m\n\u001b[1;32m   1323\u001b[0m \u001b[43m    \u001b[49m\u001b[43manswer\u001b[49m\u001b[43m,\u001b[49m\u001b[43m \u001b[49m\u001b[38;5;28;43mself\u001b[39;49m\u001b[38;5;241;43m.\u001b[39;49m\u001b[43mgateway_client\u001b[49m\u001b[43m,\u001b[49m\u001b[43m \u001b[49m\u001b[38;5;28;43mself\u001b[39;49m\u001b[38;5;241;43m.\u001b[39;49m\u001b[43mtarget_id\u001b[49m\u001b[43m,\u001b[49m\u001b[43m \u001b[49m\u001b[38;5;28;43mself\u001b[39;49m\u001b[38;5;241;43m.\u001b[39;49m\u001b[43mname\u001b[49m\u001b[43m)\u001b[49m\n\u001b[1;32m   1325\u001b[0m \u001b[38;5;28;01mfor\u001b[39;00m temp_arg \u001b[38;5;129;01min\u001b[39;00m temp_args:\n\u001b[1;32m   1326\u001b[0m     \u001b[38;5;28;01mif\u001b[39;00m \u001b[38;5;28mhasattr\u001b[39m(temp_arg, \u001b[38;5;124m\"\u001b[39m\u001b[38;5;124m_detach\u001b[39m\u001b[38;5;124m\"\u001b[39m):\n",
      "File \u001b[0;32m/usr/local/spark/python/pyspark/errors/exceptions/captured.py:175\u001b[0m, in \u001b[0;36mcapture_sql_exception.<locals>.deco\u001b[0;34m(*a, **kw)\u001b[0m\n\u001b[1;32m    171\u001b[0m converted \u001b[38;5;241m=\u001b[39m convert_exception(e\u001b[38;5;241m.\u001b[39mjava_exception)\n\u001b[1;32m    172\u001b[0m \u001b[38;5;28;01mif\u001b[39;00m \u001b[38;5;129;01mnot\u001b[39;00m \u001b[38;5;28misinstance\u001b[39m(converted, UnknownException):\n\u001b[1;32m    173\u001b[0m     \u001b[38;5;66;03m# Hide where the exception came from that shows a non-Pythonic\u001b[39;00m\n\u001b[1;32m    174\u001b[0m     \u001b[38;5;66;03m# JVM exception message.\u001b[39;00m\n\u001b[0;32m--> 175\u001b[0m     \u001b[38;5;28;01mraise\u001b[39;00m converted \u001b[38;5;28;01mfrom\u001b[39;00m \u001b[38;5;28;01mNone\u001b[39;00m\n\u001b[1;32m    176\u001b[0m \u001b[38;5;28;01melse\u001b[39;00m:\n\u001b[1;32m    177\u001b[0m     \u001b[38;5;28;01mraise\u001b[39;00m\n",
      "\u001b[0;31mAnalysisException\u001b[0m: [UNRESOLVED_COLUMN.WITH_SUGGESTION] A column or function parameter with name `CAST(jobposting`.`baseSalary`.`value`.`value AS DOUBLE)` cannot be resolved. Did you mean one of the following? [`CAST(jobposting.baseSalary.value.value AS DOUBLE)`].;\n'Aggregate [map(cast(count as string), cast(count('CAST(jobposting.baseSalary.value.value AS DOUBLE)) as string), cast(mean as string), cast(avg('CAST(jobposting.baseSalary.value.value AS DOUBLE)) as string), cast(stddev as string), cast(stddev_samp('CAST(jobposting.baseSalary.value.value AS DOUBLE)) as string), cast(min as string), cast(min('CAST(jobposting.baseSalary.value.value AS DOUBLE)) as string), cast(25% as string), cast(get(percentile_approx('CAST(jobposting.baseSalary.value.value AS DOUBLE), [0.25,0.5,0.75], 10000, 0, 0), 0) as string), cast(50% as string), cast(get(percentile_approx('CAST(jobposting.baseSalary.value.value AS DOUBLE), [0.25,0.5,0.75], 10000, 0, 0), 1) as string), cast(75% as string), cast(get(percentile_approx('CAST(jobposting.baseSalary.value.value AS DOUBLE), [0.25,0.5,0.75], 10000, 0, 0), 2) as string), cast(max as string), cast(max('CAST(jobposting.baseSalary.value.value AS DOUBLE)) as string)) AS CAST(jobposting.baseSalary.value.value AS DOUBLE)#2412]\n+- Project [cast(jobposting#10.baseSalary.value.value as double) AS CAST(jobposting.baseSalary.value.value AS DOUBLE)#2396]\n   +- Relation [crawler#8,identifier#9,jobposting#10,scraped_at#11,search_engine_type#12,url#13,uuid#14,version#15] json\n"
     ]
    }
   ],
   "source": [
    "salary_f = \"jobposting.baseSalary.value.value\"\n",
    "df.select(F.col(salary_f).cast(\"double\")).summary().show()\n",
    "df.select(salary_f).min()"
   ]
  },
  {
   "cell_type": "code",
   "execution_count": 72,
   "id": "3ebcc15e-2871-4c59-a855-5a348f83de94",
   "metadata": {},
   "outputs": [
    {
     "data": {
      "text/plain": [
       "37166"
      ]
     },
     "execution_count": 72,
     "metadata": {},
     "output_type": "execute_result"
    }
   ],
   "source": [
    "df.where(f\"{salary_f} is null\").count()"
   ]
  },
  {
   "cell_type": "markdown",
   "id": "73915302-5acf-40e0-a9d7-703eb30cabb1",
   "metadata": {},
   "source": [
    "La proporción de vacantes sin salario es bastante independiente de directApply: \n",
    "\n",
    "(si directApply == False implica agregadas, estas tienen salario de todas formas, a diferencia de OCC)"
   ]
  },
  {
   "cell_type": "code",
   "execution_count": 76,
   "id": "68a2e756-00c5-4f1c-9ce0-c696bfd1e449",
   "metadata": {},
   "outputs": [
    {
     "name": "stdout",
     "output_type": "stream",
     "text": [
      "+-----------+-----+-----+\n",
      "|directApply|false| true|\n",
      "+-----------+-----+-----+\n",
      "|       true|29998|63509|\n",
      "|      false| 7168|15739|\n",
      "+-----------+-----+-----+\n",
      "\n"
     ]
    }
   ],
   "source": [
    "df.withColumn(\"has_salary\", F.when(F.col(salary_f).isNull(), False).otherwise(True)).groupby(\"jobposting.directApply\").pivot(\"has_salary\").count().show()"
   ]
  },
  {
   "cell_type": "code",
   "execution_count": 80,
   "id": "6c7e703a-4602-4b16-b339-b932b6a1dacf",
   "metadata": {},
   "outputs": [
    {
     "name": "stdout",
     "output_type": "stream",
     "text": [
      "+------------------------------------------------------------------------------+\n",
      "|percentile_approx(jobposting.baseSalary.value.value, array(0.05, 0.95), 10000)|\n",
      "+------------------------------------------------------------------------------+\n",
      "|                                                             [6200.0, 22145.0]|\n",
      "+------------------------------------------------------------------------------+\n",
      "\n"
     ]
    }
   ],
   "source": [
    "#seleccionar rangos para eliminar outliers - los percentiles son ajustados a algo que permita comparar con OCC\n",
    "outlier_limits = df.select(F.percentile_approx(salary_f, [0.05, 0.95]))\n",
    "outlier_min, outlier_max = outlier_limits.collect()[0][0]\n",
    "outlier_limits.show()"
   ]
  },
  {
   "cell_type": "code",
   "execution_count": 81,
   "id": "e256ac54-cbb9-4320-9777-641bb14e5c4d",
   "metadata": {},
   "outputs": [
    {
     "name": "stdout",
     "output_type": "stream",
     "text": [
      "+-------+-----------------+\n",
      "|summary|            value|\n",
      "+-------+-----------------+\n",
      "|  count|            71877|\n",
      "|   mean|10402.14161692892|\n",
      "| stddev|3547.813984793715|\n",
      "|    min|            10000|\n",
      "|    25%|           8000.0|\n",
      "|    50%|           9540.0|\n",
      "|    75%|          12000.0|\n",
      "|    max|             9999|\n",
      "+-------+-----------------+\n",
      "\n"
     ]
    }
   ],
   "source": [
    "salary = df.select(salary_f).where(f\"{salary_f} >= {outlier_min} and {salary_f} <= {outlier_max}\")\n",
    "salary.summary().show()"
   ]
  },
  {
   "cell_type": "code",
   "execution_count": null,
   "id": "681121e2-8353-4921-b1f2-04a306255a7a",
   "metadata": {},
   "outputs": [],
   "source": []
  },
  {
   "cell_type": "code",
   "execution_count": null,
   "id": "558aa0a6-3a17-450e-8ebc-1868d3dc6ebd",
   "metadata": {},
   "outputs": [],
   "source": []
  }
 ],
 "metadata": {
  "kernelspec": {
   "display_name": "Python 3 (ipykernel)",
   "language": "python",
   "name": "python3"
  },
  "language_info": {
   "codemirror_mode": {
    "name": "ipython",
    "version": 3
   },
   "file_extension": ".py",
   "mimetype": "text/x-python",
   "name": "python",
   "nbconvert_exporter": "python",
   "pygments_lexer": "ipython3",
   "version": "3.11.4"
  }
 },
 "nbformat": 4,
 "nbformat_minor": 5
}
