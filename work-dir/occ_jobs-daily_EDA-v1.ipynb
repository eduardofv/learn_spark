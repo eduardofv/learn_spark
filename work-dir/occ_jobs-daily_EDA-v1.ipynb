{
 "cells": [
  {
   "cell_type": "markdown",
   "id": "cc1a930d-4db8-4515-8620-e6512a9d4d3e",
   "metadata": {},
   "source": [
    "# OCC daily EDA\n",
    "\n",
    "EDA de dataset por día"
   ]
  },
  {
   "cell_type": "code",
   "execution_count": 1,
   "id": "5e5f9f04-16dd-42d2-8ca6-b3e07596b002",
   "metadata": {},
   "outputs": [],
   "source": [
    "import pandas as pd\n",
    "import matplotlib.pyplot as plt\n",
    "\n",
    "import pyspark\n",
    "from pyspark.sql import SparkSession\n",
    "from pyspark.sql import functions as F\n",
    "from pyspark.sql.window import Window"
   ]
  },
  {
   "cell_type": "code",
   "execution_count": 2,
   "id": "85937705-e7c1-4ee7-8ced-00f201d2cfe2",
   "metadata": {},
   "outputs": [],
   "source": [
    "spark = SparkSession \\\n",
    "    .builder \\\n",
    "    .appName(\"Learning Spark\") \\\n",
    "    .getOrCreate()\n",
    "\n",
    "date_str = \"20231002\"\n",
    "\n",
    "base_dir = f\"harvester/occ/{date_str}/\"\n",
    "df = spark.read.json(f\"{base_dir}/occ-{date_str}.jsonl.gz\")\n",
    "categories = spark.read.json(f\"{base_dir}/occ-{date_str}-categories.json\")\n",
    "subcategories = spark.read.json(f\"{base_dir}/occ-{date_str}-subcategories.json\")"
   ]
  },
  {
   "cell_type": "code",
   "execution_count": 3,
   "id": "a7388774-f4c2-443e-94f3-33380b681fd0",
   "metadata": {},
   "outputs": [
    {
     "name": "stdout",
     "output_type": "stream",
     "text": [
      "root\n",
      " |-- Job:value: string (nullable = true)\n",
      " |-- __typename: string (nullable = true)\n",
      " |-- applied: boolean (nullable = true)\n",
      " |-- autoinclusion: struct (nullable = true)\n",
      " |    |-- __typename: string (nullable = true)\n",
      " |    |-- autoinclusion: boolean (nullable = true)\n",
      " |    |-- source: string (nullable = true)\n",
      " |-- bullets: array (nullable = true)\n",
      " |    |-- element: struct (containsNull = true)\n",
      " |    |    |-- __ref: string (nullable = true)\n",
      " |-- category: struct (nullable = true)\n",
      " |    |-- __ref: string (nullable = true)\n",
      " |-- company: struct (nullable = true)\n",
      " |    |-- __typename: string (nullable = true)\n",
      " |    |-- confidential: boolean (nullable = true)\n",
      " |    |-- logoUrl: string (nullable = true)\n",
      " |    |-- name: string (nullable = true)\n",
      " |    |-- namePretty: string (nullable = true)\n",
      " |    |-- profile: struct (nullable = true)\n",
      " |    |    |-- __ref: string (nullable = true)\n",
      " |    |-- rel: string (nullable = true)\n",
      " |    |-- url: string (nullable = true)\n",
      " |-- contact: struct (nullable = true)\n",
      " |    |-- __typename: string (nullable = true)\n",
      " |    |-- emailAddress: string (nullable = true)\n",
      " |    |-- name: string (nullable = true)\n",
      " |    |-- phoneNumber: string (nullable = true)\n",
      " |    |-- showContactInfo: boolean (nullable = true)\n",
      " |-- dates: struct (nullable = true)\n",
      " |    |-- __typename: string (nullable = true)\n",
      " |    |-- active: string (nullable = true)\n",
      " |    |-- expires: string (nullable = true)\n",
      " |    |-- publish: string (nullable = true)\n",
      " |-- description: string (nullable = true)\n",
      " |-- education: struct (nullable = true)\n",
      " |    |-- __typename: string (nullable = true)\n",
      " |    |-- level: string (nullable = true)\n",
      " |    |-- url: string (nullable = true)\n",
      " |-- friendlyId: string (nullable = true)\n",
      " |-- googleForJobs: struct (nullable = true)\n",
      " |    |-- __typename: string (nullable = true)\n",
      " |    |-- isGoogleForJobs: boolean (nullable = true)\n",
      " |    |-- isGoogleIndexed: boolean (nullable = true)\n",
      " |-- hiring: struct (nullable = true)\n",
      " |    |-- __typename: string (nullable = true)\n",
      " |    |-- contract: boolean (nullable = true)\n",
      " |    |-- fullTime: boolean (nullable = true)\n",
      " |    |-- partTime: boolean (nullable = true)\n",
      " |    |-- permanent: boolean (nullable = true)\n",
      " |    |-- temporary: boolean (nullable = true)\n",
      " |    |-- url: string (nullable = true)\n",
      " |-- id: string (nullable = true)\n",
      " |-- jobBody: string (nullable = true)\n",
      " |-- jobType: string (nullable = true)\n",
      " |-- level: struct (nullable = true)\n",
      " |    |-- __ref: string (nullable = true)\n",
      " |-- location: struct (nullable = true)\n",
      " |    |-- __typename: string (nullable = true)\n",
      " |    |-- description: string (nullable = true)\n",
      " |    |-- locations: array (nullable = true)\n",
      " |    |    |-- element: struct (containsNull = true)\n",
      " |    |    |    |-- __typename: string (nullable = true)\n",
      " |    |    |    |-- city: struct (nullable = true)\n",
      " |    |    |    |    |-- __typename: string (nullable = true)\n",
      " |    |    |    |    |-- description: string (nullable = true)\n",
      " |    |    |    |    |-- jobCity: string (nullable = true)\n",
      " |    |    |    |    |-- rel: string (nullable = true)\n",
      " |    |    |    |    |-- url: string (nullable = true)\n",
      " |    |    |    |-- country: struct (nullable = true)\n",
      " |    |    |    |    |-- __ref: string (nullable = true)\n",
      " |    |    |    |-- locationId: string (nullable = true)\n",
      " |    |    |    |-- placeId: string (nullable = true)\n",
      " |    |    |    |-- state: struct (nullable = true)\n",
      " |    |    |    |    |-- __typename: string (nullable = true)\n",
      " |    |    |    |    |-- abbreviation: string (nullable = true)\n",
      " |    |    |    |    |-- description: string (nullable = true)\n",
      " |    |    |    |    |-- rel: string (nullable = true)\n",
      " |    |    |    |    |-- url: string (nullable = true)\n",
      " |    |    |    |-- zone: struct (nullable = true)\n",
      " |    |    |    |    |-- __typename: string (nullable = true)\n",
      " |    |    |    |    |-- description: string (nullable = true)\n",
      " |    |-- url: string (nullable = true)\n",
      " |-- profileId: string (nullable = true)\n",
      " |-- redirect: struct (nullable = true)\n",
      " |    |-- __typename: string (nullable = true)\n",
      " |    |-- externalUrl: string (nullable = true)\n",
      " |    |-- isRedirected: boolean (nullable = true)\n",
      " |    |-- redirected: boolean (nullable = true)\n",
      " |    |-- type: long (nullable = true)\n",
      " |-- requisition: struct (nullable = true)\n",
      " |    |-- __ref: string (nullable = true)\n",
      " |-- salary: struct (nullable = true)\n",
      " |    |-- __typename: string (nullable = true)\n",
      " |    |-- from: long (nullable = true)\n",
      " |    |-- performanceCompensation: long (nullable = true)\n",
      " |    |-- show: boolean (nullable = true)\n",
      " |    |-- time: long (nullable = true)\n",
      " |    |-- to: long (nullable = true)\n",
      " |    |-- variableCompensation: long (nullable = true)\n",
      " |-- scraped_at: string (nullable = true)\n",
      " |-- scraped_by_uuid: string (nullable = true)\n",
      " |-- scraped_crawler: string (nullable = true)\n",
      " |-- scraped_identifier: string (nullable = true)\n",
      " |-- scraped_record_version: string (nullable = true)\n",
      " |-- scraped_url: string (nullable = true)\n",
      " |-- scraped_uuid: string (nullable = true)\n",
      " |-- simVal: string (nullable = true)\n",
      " |-- skill: struct (nullable = true)\n",
      " |    |-- __typename: string (nullable = true)\n",
      " |    |-- hasSkills: boolean (nullable = true)\n",
      " |    |-- skills: array (nullable = true)\n",
      " |    |    |-- element: struct (containsNull = true)\n",
      " |    |    |    |-- __ref: string (nullable = true)\n",
      " |-- status: string (nullable = true)\n",
      " |-- subcategory: struct (nullable = true)\n",
      " |    |-- __ref: string (nullable = true)\n",
      " |-- tags: struct (nullable = true)\n",
      " |    |-- __typename: string (nullable = true)\n",
      " |    |-- lessThan20: boolean (nullable = true)\n",
      " |-- title: string (nullable = true)\n",
      " |-- url: string (nullable = true)\n",
      " |-- workMode: struct (nullable = true)\n",
      " |    |-- __typename: string (nullable = true)\n",
      " |    |-- description: string (nullable = true)\n",
      " |    |-- url: string (nullable = true)\n",
      "\n"
     ]
    }
   ],
   "source": [
    "df.printSchema()"
   ]
  },
  {
   "cell_type": "code",
   "execution_count": 4,
   "id": "f5220a8d-f87b-4dc5-b636-6123d58a2df3",
   "metadata": {},
   "outputs": [
    {
     "name": "stdout",
     "output_type": "stream",
     "text": [
      "-RECORD 0-------------------------------------------------------------------------------------------------------------------------------------------------------------------------------------------------------------------------------------------------------------------------------------------------------------------------------------------------------------------------------------------------------------------------------------------------------------------------------------------------------------------------------------------------------------------------------------------------------------------------------------------------------------------------------------------------------------------------------------------------------------------------------------------------------------------------------------------------------------------------------------------------------------------------------------------------------------------------------------------------------------------------------------------------------------------------------------------------------------------------------------------------------------------------------------------------------------------------------------------------------------------------------------------------------------------------------------------------------------------------------------------------------------------------------------------------------------------------------------------------------------------------------------------------------------------------------------------------------------------------------------------------------------------------------------------------------------------------------------------------------------------------------------------------------------------------------------------------------------------------------------------------------------------------------------------------------------------------------------------------------------------------------------------------------------------------------------------------------------------------------------------------------------------------------------------------------------------------------------------------------------------------------------------------------------------------------------------------------------------------------------------------------------------------------------------------------------------------------------------------------------------------------------------------------------------------------------------------------------------------------------------------------------------------------------------------------------------------------------------------------------------------------------------------------------------------------------------------------------------------------------------------------------------------------------------------------------------------------------------------------------------------------------------------------------------------------------------------------------------------------------------------------------------------------------------------------------------------------------------------------------------------------------------------------------------------------------------------------------------------------------------------------------------------------------------------------------------------------------------------------------------------------------------------------------------------------------------------------------------------------------------------------------------------------------------------------------------------------------------------------------------------------------------------------------------------------------------------------------------------------------------------------------------------------------------------------------------------------------------------------------------------------------------------------------------------------------------------------------------------------------------------------------------------------------------------------------------------------------------------------------------------------------------------------------------------------------------------------------------------------------------------------------------------------------------------------------------------------------------------------------------------------------------------------------------------------------------------------------------------------------------------------------------------------------------------------------------------------------------------------------------------------------------------------------------------------------------------------------------------------------------------------------------------------------------------------------------------------------------------------------------------------------------------------------------------------------------------------------------------------------------------------------------------------------------------------------------------------------------------------------------------------------------------------------------------------------------------------------------------------------\n",
      " Job:value              | Job:17457760                                                                                                                                                                                                                                                                                                                                                                                                                                                                                                                                                                                                                                                                                                                                                                                                                                                                                                                                                                                                                                                                                                                                                                                                                                                                                                                                                                                                                                                                                                                                                                                                                                                                                                                                                                                                                                                                                                                                                                                                                                                                                                                                                                                                                                                                                                                                                                                                                                                                                                                                                                                                                                                                                                                                                                                                                                                                                                                                                                                                                                                                                                                                                                                                                                                                                                                                                                                                                                                                                                                                                                                                                                                                                                                                                                                                                                                                                                                                                                                                                                                                                                                                                                                                                                                                                                                                                                                                                                                                                                                                                                                                                                                                                                                                                                                                                                                                                                                                                                                                                                                                                                                                                                                                                                                                                                                                                        \n",
      " __typename             | Job                                                                                                                                                                                                                                                                                                                                                                                                                                                                                                                                                                                                                                                                                                                                                                                                                                                                                                                                                                                                                                                                                                                                                                                                                                                                                                                                                                                                                                                                                                                                                                                                                                                                                                                                                                                                                                                                                                                                                                                                                                                                                                                                                                                                                                                                                                                                                                                                                                                                                                                                                                                                                                                                                                                                                                                                                                                                                                                                                                                                                                                                                                                                                                                                                                                                                                                                                                                                                                                                                                                                                                                                                                                                                                                                                                                                                                                                                                                                                                                                                                                                                                                                                                                                                                                                                                                                                                                                                                                                                                                                                                                                                                                                                                                                                                                                                                                                                                                                                                                                                                                                                                                                                                                                                                                                                                                                                                 \n",
      " applied                | false                                                                                                                                                                                                                                                                                                                                                                                                                                                                                                                                                                                                                                                                                                                                                                                                                                                                                                                                                                                                                                                                                                                                                                                                                                                                                                                                                                                                                                                                                                                                                                                                                                                                                                                                                                                                                                                                                                                                                                                                                                                                                                                                                                                                                                                                                                                                                                                                                                                                                                                                                                                                                                                                                                                                                                                                                                                                                                                                                                                                                                                                                                                                                                                                                                                                                                                                                                                                                                                                                                                                                                                                                                                                                                                                                                                                                                                                                                                                                                                                                                                                                                                                                                                                                                                                                                                                                                                                                                                                                                                                                                                                                                                                                                                                                                                                                                                                                                                                                                                                                                                                                                                                                                                                                                                                                                                                                               \n",
      " autoinclusion          | {JobAutoinclusion, true, jor}                                                                                                                                                                                                                                                                                                                                                                                                                                                                                                                                                                                                                                                                                                                                                                                                                                                                                                                                                                                                                                                                                                                                                                                                                                                                                                                                                                                                                                                                                                                                                                                                                                                                                                                                                                                                                                                                                                                                                                                                                                                                                                                                                                                                                                                                                                                                                                                                                                                                                                                                                                                                                                                                                                                                                                                                                                                                                                                                                                                                                                                                                                                                                                                                                                                                                                                                                                                                                                                                                                                                                                                                                                                                                                                                                                                                                                                                                                                                                                                                                                                                                                                                                                                                                                                                                                                                                                                                                                                                                                                                                                                                                                                                                                                                                                                                                                                                                                                                                                                                                                                                                                                                                                                                                                                                                                                                       \n",
      " bullets                | []                                                                                                                                                                                                                                                                                                                                                                                                                                                                                                                                                                                                                                                                                                                                                                                                                                                                                                                                                                                                                                                                                                                                                                                                                                                                                                                                                                                                                                                                                                                                                                                                                                                                                                                                                                                                                                                                                                                                                                                                                                                                                                                                                                                                                                                                                                                                                                                                                                                                                                                                                                                                                                                                                                                                                                                                                                                                                                                                                                                                                                                                                                                                                                                                                                                                                                                                                                                                                                                                                                                                                                                                                                                                                                                                                                                                                                                                                                                                                                                                                                                                                                                                                                                                                                                                                                                                                                                                                                                                                                                                                                                                                                                                                                                                                                                                                                                                                                                                                                                                                                                                                                                                                                                                                                                                                                                                                                  \n",
      " category               | {JobCategory:17}                                                                                                                                                                                                                                                                                                                                                                                                                                                                                                                                                                                                                                                                                                                                                                                                                                                                                                                                                                                                                                                                                                                                                                                                                                                                                                                                                                                                                                                                                                                                                                                                                                                                                                                                                                                                                                                                                                                                                                                                                                                                                                                                                                                                                                                                                                                                                                                                                                                                                                                                                                                                                                                                                                                                                                                                                                                                                                                                                                                                                                                                                                                                                                                                                                                                                                                                                                                                                                                                                                                                                                                                                                                                                                                                                                                                                                                                                                                                                                                                                                                                                                                                                                                                                                                                                                                                                                                                                                                                                                                                                                                                                                                                                                                                                                                                                                                                                                                                                                                                                                                                                                                                                                                                                                                                                                                                                    \n",
      " company                | {JobCompany, false, https://cdn-h4.occ.com.mx/images/logos/300x300/01/01RfAPA_ZZ_STrdMpwQ-DQ2.jpg, SAP, SAP, null, null, empleos/bolsa-de-trabajo-SAP/}                                                                                                                                                                                                                                                                                                                                                                                                                                                                                                                                                                                                                                                                                                                                                                                                                                                                                                                                                                                                                                                                                                                                                                                                                                                                                                                                                                                                                                                                                                                                                                                                                                                                                                                                                                                                                                                                                                                                                                                                                                                                                                                                                                                                                                                                                                                                                                                                                                                                                                                                                                                                                                                                                                                                                                                                                                                                                                                                                                                                                                                                                                                                                                                                                                                                                                                                                                                                                                                                                                                                                                                                                                                                                                                                                                                                                                                                                                                                                                                                                                                                                                                                                                                                                                                                                                                                                                                                                                                                                                                                                                                                                                                                                                                                                                                                                                                                                                                                                                                                                                                                                                                                                                                                             \n",
      " contact                | {JobContact, , , , false}                                                                                                                                                                                                                                                                                                                                                                                                                                                                                                                                                                                                                                                                                                                                                                                                                                                                                                                                                                                                                                                                                                                                                                                                                                                                                                                                                                                                                                                                                                                                                                                                                                                                                                                                                                                                                                                                                                                                                                                                                                                                                                                                                                                                                                                                                                                                                                                                                                                                                                                                                                                                                                                                                                                                                                                                                                                                                                                                                                                                                                                                                                                                                                                                                                                                                                                                                                                                                                                                                                                                                                                                                                                                                                                                                                                                                                                                                                                                                                                                                                                                                                                                                                                                                                                                                                                                                                                                                                                                                                                                                                                                                                                                                                                                                                                                                                                                                                                                                                                                                                                                                                                                                                                                                                                                                                                                           \n",
      " dates                  | {JobDates, 2023-10-01 20:35:02, 2023-10-03 00:00:00, 2023-09-29 00:00:00}                                                                                                                                                                                                                                                                                                                                                                                                                                                                                                                                                                                                                                                                                                                                                                                                                                                                                                                                                                                                                                                                                                                                                                                                                                                                                                                                                                                                                                                                                                                                                                                                                                                                                                                                                                                                                                                                                                                                                                                                                                                                                                                                                                                                                                                                                                                                                                                                                                                                                                                                                                                                                                                                                                                                                                                                                                                                                                                                                                                                                                                                                                                                                                                                                                                                                                                                                                                                                                                                                                                                                                                                                                                                                                                                                                                                                                                                                                                                                                                                                                                                                                                                                                                                                                                                                                                                                                                                                                                                                                                                                                                                                                                                                                                                                                                                                                                                                                                                                                                                                                                                                                                                                                                                                                                                                           \n",
      " description            | Our company culture is focused on helping our employees enable innovation by building breakthroughs together. How? We focus every day on building the foundation for tomorrow and creating a workplace t ...                                                                                                                                                                                                                                                                                                                                                                                                                                                                                                                                                                                                                                                                                                                                                                                                                                                                                                                                                                                                                                                                                                                                                                                                                                                                                                                                                                                                                                                                                                                                                                                                                                                                                                                                                                                                                                                                                                                                                                                                                                                                                                                                                                                                                                                                                                                                                                                                                                                                                                                                                                                                                                                                                                                                                                                                                                                                                                                                                                                                                                                                                                                                                                                                                                                                                                                                                                                                                                                                                                                                                                                                                                                                                                                                                                                                                                                                                                                                                                                                                                                                                                                                                                                                                                                                                                                                                                                                                                                                                                                                                                                                                                                                                                                                                                                                                                                                                                                                                                                                                                                                                                                                                        \n",
      " education              | {JobEducation, NOT_SPECIFIED, empleos/nivel-posgrado/}                                                                                                                                                                                                                                                                                                                                                                                                                                                                                                                                                                                                                                                                                                                                                                                                                                                                                                                                                                                                                                                                                                                                                                                                                                                                                                                                                                                                                                                                                                                                                                                                                                                                                                                                                                                                                                                                                                                                                                                                                                                                                                                                                                                                                                                                                                                                                                                                                                                                                                                                                                                                                                                                                                                                                                                                                                                                                                                                                                                                                                                                                                                                                                                                                                                                                                                                                                                                                                                                                                                                                                                                                                                                                                                                                                                                                                                                                                                                                                                                                                                                                                                                                                                                                                                                                                                                                                                                                                                                                                                                                                                                                                                                                                                                                                                                                                                                                                                                                                                                                                                                                                                                                                                                                                                                                                              \n",
      " friendlyId             | 17457760-early-career-talent-mexico-services-support                                                                                                                                                                                                                                                                                                                                                                                                                                                                                                                                                                                                                                                                                                                                                                                                                                                                                                                                                                                                                                                                                                                                                                                                                                                                                                                                                                                                                                                                                                                                                                                                                                                                                                                                                                                                                                                                                                                                                                                                                                                                                                                                                                                                                                                                                                                                                                                                                                                                                                                                                                                                                                                                                                                                                                                                                                                                                                                                                                                                                                                                                                                                                                                                                                                                                                                                                                                                                                                                                                                                                                                                                                                                                                                                                                                                                                                                                                                                                                                                                                                                                                                                                                                                                                                                                                                                                                                                                                                                                                                                                                                                                                                                                                                                                                                                                                                                                                                                                                                                                                                                                                                                                                                                                                                                                                                \n",
      " googleForJobs          | {GoogleForJobs, true, true}                                                                                                                                                                                                                                                                                                                                                                                                                                                                                                                                                                                                                                                                                                                                                                                                                                                                                                                                                                                                                                                                                                                                                                                                                                                                                                                                                                                                                                                                                                                                                                                                                                                                                                                                                                                                                                                                                                                                                                                                                                                                                                                                                                                                                                                                                                                                                                                                                                                                                                                                                                                                                                                                                                                                                                                                                                                                                                                                                                                                                                                                                                                                                                                                                                                                                                                                                                                                                                                                                                                                                                                                                                                                                                                                                                                                                                                                                                                                                                                                                                                                                                                                                                                                                                                                                                                                                                                                                                                                                                                                                                                                                                                                                                                                                                                                                                                                                                                                                                                                                                                                                                                                                                                                                                                                                                                                         \n",
      " hiring                 | {JobHiring, false, true, false, false, false, null}                                                                                                                                                                                                                                                                                                                                                                                                                                                                                                                                                                                                                                                                                                                                                                                                                                                                                                                                                                                                                                                                                                                                                                                                                                                                                                                                                                                                                                                                                                                                                                                                                                                                                                                                                                                                                                                                                                                                                                                                                                                                                                                                                                                                                                                                                                                                                                                                                                                                                                                                                                                                                                                                                                                                                                                                                                                                                                                                                                                                                                                                                                                                                                                                                                                                                                                                                                                                                                                                                                                                                                                                                                                                                                                                                                                                                                                                                                                                                                                                                                                                                                                                                                                                                                                                                                                                                                                                                                                                                                                                                                                                                                                                                                                                                                                                                                                                                                                                                                                                                                                                                                                                                                                                                                                                                                                 \n",
      " id                     | 17457760                                                                                                                                                                                                                                                                                                                                                                                                                                                                                                                                                                                                                                                                                                                                                                                                                                                                                                                                                                                                                                                                                                                                                                                                                                                                                                                                                                                                                                                                                                                                                                                                                                                                                                                                                                                                                                                                                                                                                                                                                                                                                                                                                                                                                                                                                                                                                                                                                                                                                                                                                                                                                                                                                                                                                                                                                                                                                                                                                                                                                                                                                                                                                                                                                                                                                                                                                                                                                                                                                                                                                                                                                                                                                                                                                                                                                                                                                                                                                                                                                                                                                                                                                                                                                                                                                                                                                                                                                                                                                                                                                                                                                                                                                                                                                                                                                                                                                                                                                                                                                                                                                                                                                                                                                                                                                                                                                            \n",
      " jobBody                | Our company culture is focused on helping our employees enable innovation by building breakthroughs together. How? We focus every day on building the foundation for tomorrow and creating a workplace that embraces differences, values flexibility, and is aligned to our purpose-driven and future-focused work. We offer a highly collaborative, caring team environment with a strong focus on learning and development, recognition for your individual contributions, and a variety of benefit options for you to choose from.Apply now!\\nAbout the team\\nAs market leader in enterprise application software, SAP helps companies of all sizes and industries innovate through simplification. From the back office to the boardroom, warehouse to storefront, on premise to cloud, desktop to mobile device -SAP empowers people and organizations to work together more efficiently and use business insight mot effectively to stay ahead of the competition. SAP applications and services enable customers to operate profitably, adapt continuously and grow sustainably.\\nWhat you&#39;ll do\\nPosition Title: Services Support – Young Professional Mexico\\nLocation: Mexico City, Mexico\\nActivities and Responsibilities\\nThe Young Professional will report and provide support to LAC Mexico (CSS) Services. The YP/ECT will specialize in the post sales operations and financial tracking of delivery portfolio.\\nResponsibilities may include but not limited to:\\nInvoicing monitoring & controlling as well as financial monitoring of CSS LAC M&eacute;xico Portfolio\\nGenerations of analytic reports. Data mapping and daily routine execution.\\nProcess automation, (Data extraction, formatting, calculations, consolidations, use and generation of macros).\\nData validation. Content verification, development of controls that will grant integrity of information.\\nGeneral support on everyday business activities such invoicing, planning, and reporting.\\nWho you are?\\nWe&#39;re looking for someone who takes initiative, perseveres, and stay curious. You like to work on meaningful innovative projects and are energized by lifelong learning.\\nStudent in business administration, software engineering, economics, computer sciences, Math, Accounting\\nEnglish: Conversational\\nExcel knowledge advanced (preferred)\\nSoft Skills: Reliable, disciplined, able to efficiently work under pressure, adaptable to constant change.\\nWe build breakthroughs together\\nSAP innovations help more than 400,000 customers worldwide work together more efficiently and use business insight more effectively. Originally known for leadership in enterprise resource planning (ERP) software, SAP has evolved to become a market leader in end-to-end business application software and related services for database, analytics, intelligent technologies, and experience management. As a cloud company with 200 million users and more than 100,000 employees worldwide, we are purpose-driven and future-focused, with a highly collaborative team ethic and commitment to personal development. Whether connecting global industries, people, or platforms, we help ensure every challenge gets the solution it deserves. At SAP, we build breakthroughs, together.\\nWe win with inclusion\\nSAP&#39;s culture of inclusion, focus on health and well-being, and flexible working models help ensure that everyone – regardless of background – feels included and can run at their best. At SAP, we believe we are made stronger by the unique capabilities and qualities that each person brings to our company, and we invest in our employees to inspire confidence and help everyone realize their full potential. We ultimately believe in unleashing all talent and creating a better and more equitable world.\\nSAP is proud to be an equal opportunity workplace and is an affirmative action employer. We are committed to the values of Equal Employment Opportunity and provide accessibility accommodations to applicants with physical and/or mental disabilities. If you are interested in applying for employment with SAP and are in need of accommodation or special assistance to navigate our website or to complete your application, please send an e-mail with your request to Recruiting Operations Team: Careers@sap.com\\nFor SAP employees: Only permanent roles are eligible for the SAP Employee Referral Program, according to the eligibility rules set in the SAP Referral Policy. Specific conditions may apply for roles in Vocational Training.\\nEOE AA M/F/Vet/Disability:\\nQualified applicants will receive consideration for employment without regard to their age, race, religion, national origin, ethnicity, age, gender (including pregnancy, childbirth, et al), sexual orientation, gender identity or expression, protected veteran status, or disability.\\nSuccessful candidates might be required to undergo a background verification with an external vendor.\\nRequisition ID: 380818 | Work Area: Administration | Expected Travel: 0 - 10% | Career Status: Graduate | Employment Type: Limited Full Time | Additional Locations: #LI-Hybrid.\\nJob Segment:\\nERP, Cloud, Software Engineer, Sales Operations, Web Design, Technology, Engineering, Sales, Creative \n",
      " jobType                | CLASSIC                                                                                                                                                                                                                                                                                                                                                                                                                                                                                                                                                                                                                                                                                                                                                                                                                                                                                                                                                                                                                                                                                                                                                                                                                                                                                                                                                                                                                                                                                                                                                                                                                                                                                                                                                                                                                                                                                                                                                                                                                                                                                                                                                                                                                                                                                                                                                                                                                                                                                                                                                                                                                                                                                                                                                                                                                                                                                                                                                                                                                                                                                                                                                                                                                                                                                                                                                                                                                                                                                                                                                                                                                                                                                                                                                                                                                                                                                                                                                                                                                                                                                                                                                                                                                                                                                                                                                                                                                                                                                                                                                                                                                                                                                                                                                                                                                                                                                                                                                                                                                                                                                                                                                                                                                                                                                                                                                             \n",
      " level                  | {JobLevel:}                                                                                                                                                                                                                                                                                                                                                                                                                                                                                                                                                                                                                                                                                                                                                                                                                                                                                                                                                                                                                                                                                                                                                                                                                                                                                                                                                                                                                                                                                                                                                                                                                                                                                                                                                                                                                                                                                                                                                                                                                                                                                                                                                                                                                                                                                                                                                                                                                                                                                                                                                                                                                                                                                                                                                                                                                                                                                                                                                                                                                                                                                                                                                                                                                                                                                                                                                                                                                                                                                                                                                                                                                                                                                                                                                                                                                                                                                                                                                                                                                                                                                                                                                                                                                                                                                                                                                                                                                                                                                                                                                                                                                                                                                                                                                                                                                                                                                                                                                                                                                                                                                                                                                                                                                                                                                                                                                         \n",
      " location               | {JobLocation, Ciudad de México, [{JobLocationData, {CityLocation, , , null, null}, {CountryLocation:MX}, 246, 21957, {StateLocation, CDMX, Ciudad de México, null, empleos/en-ciudad-de-mexico/}, {ZoneLocation, }}], empleos-en-mexico}                                                                                                                                                                                                                                                                                                                                                                                                                                                                                                                                                                                                                                                                                                                                                                                                                                                                                                                                                                                                                                                                                                                                                                                                                                                                                                                                                                                                                                                                                                                                                                                                                                                                                                                                                                                                                                                                                                                                                                                                                                                                                                                                                                                                                                                                                                                                                                                                                                                                                                                                                                                                                                                                                                                                                                                                                                                                                                                                                                                                                                                                                                                                                                                                                                                                                                                                                                                                                                                                                                                                                                                                                                                                                                                                                                                                                                                                                                                                                                                                                                                                                                                                                                                                                                                                                                                                                                                                                                                                                                                                                                                                                                                                                                                                                                                                                                                                                                                                                                                                                                                                                                                            \n",
      " profileId              | null                                                                                                                                                                                                                                                                                                                                                                                                                                                                                                                                                                                                                                                                                                                                                                                                                                                                                                                                                                                                                                                                                                                                                                                                                                                                                                                                                                                                                                                                                                                                                                                                                                                                                                                                                                                                                                                                                                                                                                                                                                                                                                                                                                                                                                                                                                                                                                                                                                                                                                                                                                                                                                                                                                                                                                                                                                                                                                                                                                                                                                                                                                                                                                                                                                                                                                                                                                                                                                                                                                                                                                                                                                                                                                                                                                                                                                                                                                                                                                                                                                                                                                                                                                                                                                                                                                                                                                                                                                                                                                                                                                                                                                                                                                                                                                                                                                                                                                                                                                                                                                                                                                                                                                                                                                                                                                                                                                \n",
      " redirect               | {JobRedirect, https://jobs.sap.com/job/Ciudad-de-M%C3%A9xico-Early-Career-Talent-Mexico-Services-Support-06500/988988501/, true, true, 2}                                                                                                                                                                                                                                                                                                                                                                                                                                                                                                                                                                                                                                                                                                                                                                                                                                                                                                                                                                                                                                                                                                                                                                                                                                                                                                                                                                                                                                                                                                                                                                                                                                                                                                                                                                                                                                                                                                                                                                                                                                                                                                                                                                                                                                                                                                                                                                                                                                                                                                                                                                                                                                                                                                                                                                                                                                                                                                                                                                                                                                                                                                                                                                                                                                                                                                                                                                                                                                                                                                                                                                                                                                                                                                                                                                                                                                                                                                                                                                                                                                                                                                                                                                                                                                                                                                                                                                                                                                                                                                                                                                                                                                                                                                                                                                                                                                                                                                                                                                                                                                                                                                                                                                                                                           \n",
      " requisition            | {JobRequisition:}                                                                                                                                                                                                                                                                                                                                                                                                                                                                                                                                                                                                                                                                                                                                                                                                                                                                                                                                                                                                                                                                                                                                                                                                                                                                                                                                                                                                                                                                                                                                                                                                                                                                                                                                                                                                                                                                                                                                                                                                                                                                                                                                                                                                                                                                                                                                                                                                                                                                                                                                                                                                                                                                                                                                                                                                                                                                                                                                                                                                                                                                                                                                                                                                                                                                                                                                                                                                                                                                                                                                                                                                                                                                                                                                                                                                                                                                                                                                                                                                                                                                                                                                                                                                                                                                                                                                                                                                                                                                                                                                                                                                                                                                                                                                                                                                                                                                                                                                                                                                                                                                                                                                                                                                                                                                                                                                                   \n",
      " salary                 | {JobSalary, 0, 0, false, 1, 0, 0}                                                                                                                                                                                                                                                                                                                                                                                                                                                                                                                                                                                                                                                                                                                                                                                                                                                                                                                                                                                                                                                                                                                                                                                                                                                                                                                                                                                                                                                                                                                                                                                                                                                                                                                                                                                                                                                                                                                                                                                                                                                                                                                                                                                                                                                                                                                                                                                                                                                                                                                                                                                                                                                                                                                                                                                                                                                                                                                                                                                                                                                                                                                                                                                                                                                                                                                                                                                                                                                                                                                                                                                                                                                                                                                                                                                                                                                                                                                                                                                                                                                                                                                                                                                                                                                                                                                                                                                                                                                                                                                                                                                                                                                                                                                                                                                                                                                                                                                                                                                                                                                                                                                                                                                                                                                                                                                                   \n",
      " scraped_at             | 2023-10-02 14:28:57.416082                                                                                                                                                                                                                                                                                                                                                                                                                                                                                                                                                                                                                                                                                                                                                                                                                                                                                                                                                                                                                                                                                                                                                                                                                                                                                                                                                                                                                                                                                                                                                                                                                                                                                                                                                                                                                                                                                                                                                                                                                                                                                                                                                                                                                                                                                                                                                                                                                                                                                                                                                                                                                                                                                                                                                                                                                                                                                                                                                                                                                                                                                                                                                                                                                                                                                                                                                                                                                                                                                                                                                                                                                                                                                                                                                                                                                                                                                                                                                                                                                                                                                                                                                                                                                                                                                                                                                                                                                                                                                                                                                                                                                                                                                                                                                                                                                                                                                                                                                                                                                                                                                                                                                                                                                                                                                                                                          \n",
      " scraped_by_uuid        | fc64a127434e44a89e681a35c771066b                                                                                                                                                                                                                                                                                                                                                                                                                                                                                                                                                                                                                                                                                                                                                                                                                                                                                                                                                                                                                                                                                                                                                                                                                                                                                                                                                                                                                                                                                                                                                                                                                                                                                                                                                                                                                                                                                                                                                                                                                                                                                                                                                                                                                                                                                                                                                                                                                                                                                                                                                                                                                                                                                                                                                                                                                                                                                                                                                                                                                                                                                                                                                                                                                                                                                                                                                                                                                                                                                                                                                                                                                                                                                                                                                                                                                                                                                                                                                                                                                                                                                                                                                                                                                                                                                                                                                                                                                                                                                                                                                                                                                                                                                                                                                                                                                                                                                                                                                                                                                                                                                                                                                                                                                                                                                                                                    \n",
      " scraped_crawler        | SneakySpider                                                                                                                                                                                                                                                                                                                                                                                                                                                                                                                                                                                                                                                                                                                                                                                                                                                                                                                                                                                                                                                                                                                                                                                                                                                                                                                                                                                                                                                                                                                                                                                                                                                                                                                                                                                                                                                                                                                                                                                                                                                                                                                                                                                                                                                                                                                                                                                                                                                                                                                                                                                                                                                                                                                                                                                                                                                                                                                                                                                                                                                                                                                                                                                                                                                                                                                                                                                                                                                                                                                                                                                                                                                                                                                                                                                                                                                                                                                                                                                                                                                                                                                                                                                                                                                                                                                                                                                                                                                                                                                                                                                                                                                                                                                                                                                                                                                                                                                                                                                                                                                                                                                                                                                                                                                                                                                                                        \n",
      " scraped_identifier     | 17457760                                                                                                                                                                                                                                                                                                                                                                                                                                                                                                                                                                                                                                                                                                                                                                                                                                                                                                                                                                                                                                                                                                                                                                                                                                                                                                                                                                                                                                                                                                                                                                                                                                                                                                                                                                                                                                                                                                                                                                                                                                                                                                                                                                                                                                                                                                                                                                                                                                                                                                                                                                                                                                                                                                                                                                                                                                                                                                                                                                                                                                                                                                                                                                                                                                                                                                                                                                                                                                                                                                                                                                                                                                                                                                                                                                                                                                                                                                                                                                                                                                                                                                                                                                                                                                                                                                                                                                                                                                                                                                                                                                                                                                                                                                                                                                                                                                                                                                                                                                                                                                                                                                                                                                                                                                                                                                                                                            \n",
      " scraped_record_version | 0.0.11                                                                                                                                                                                                                                                                                                                                                                                                                                                                                                                                                                                                                                                                                                                                                                                                                                                                                                                                                                                                                                                                                                                                                                                                                                                                                                                                                                                                                                                                                                                                                                                                                                                                                                                                                                                                                                                                                                                                                                                                                                                                                                                                                                                                                                                                                                                                                                                                                                                                                                                                                                                                                                                                                                                                                                                                                                                                                                                                                                                                                                                                                                                                                                                                                                                                                                                                                                                                                                                                                                                                                                                                                                                                                                                                                                                                                                                                                                                                                                                                                                                                                                                                                                                                                                                                                                                                                                                                                                                                                                                                                                                                                                                                                                                                                                                                                                                                                                                                                                                                                                                                                                                                                                                                                                                                                                                                                              \n",
      " scraped_url            | https://www.occ.com.mx/empleo/oferta/17457760-early-career-talent-mexico-services-support/                                                                                                                                                                                                                                                                                                                                                                                                                                                                                                                                                                                                                                                                                                                                                                                                                                                                                                                                                                                                                                                                                                                                                                                                                                                                                                                                                                                                                                                                                                                                                                                                                                                                                                                                                                                                                                                                                                                                                                                                                                                                                                                                                                                                                                                                                                                                                                                                                                                                                                                                                                                                                                                                                                                                                                                                                                                                                                                                                                                                                                                                                                                                                                                                                                                                                                                                                                                                                                                                                                                                                                                                                                                                                                                                                                                                                                                                                                                                                                                                                                                                                                                                                                                                                                                                                                                                                                                                                                                                                                                                                                                                                                                                                                                                                                                                                                                                                                                                                                                                                                                                                                                                                                                                                                                                          \n",
      " scraped_uuid           | 3b5262da-aac6-4726-9338-670a4f5e5319                                                                                                                                                                                                                                                                                                                                                                                                                                                                                                                                                                                                                                                                                                                                                                                                                                                                                                                                                                                                                                                                                                                                                                                                                                                                                                                                                                                                                                                                                                                                                                                                                                                                                                                                                                                                                                                                                                                                                                                                                                                                                                                                                                                                                                                                                                                                                                                                                                                                                                                                                                                                                                                                                                                                                                                                                                                                                                                                                                                                                                                                                                                                                                                                                                                                                                                                                                                                                                                                                                                                                                                                                                                                                                                                                                                                                                                                                                                                                                                                                                                                                                                                                                                                                                                                                                                                                                                                                                                                                                                                                                                                                                                                                                                                                                                                                                                                                                                                                                                                                                                                                                                                                                                                                                                                                                                                \n",
      " simVal                 | null                                                                                                                                                                                                                                                                                                                                                                                                                                                                                                                                                                                                                                                                                                                                                                                                                                                                                                                                                                                                                                                                                                                                                                                                                                                                                                                                                                                                                                                                                                                                                                                                                                                                                                                                                                                                                                                                                                                                                                                                                                                                                                                                                                                                                                                                                                                                                                                                                                                                                                                                                                                                                                                                                                                                                                                                                                                                                                                                                                                                                                                                                                                                                                                                                                                                                                                                                                                                                                                                                                                                                                                                                                                                                                                                                                                                                                                                                                                                                                                                                                                                                                                                                                                                                                                                                                                                                                                                                                                                                                                                                                                                                                                                                                                                                                                                                                                                                                                                                                                                                                                                                                                                                                                                                                                                                                                                                                \n",
      " skill                  | {JobSkills, false, []}                                                                                                                                                                                                                                                                                                                                                                                                                                                                                                                                                                                                                                                                                                                                                                                                                                                                                                                                                                                                                                                                                                                                                                                                                                                                                                                                                                                                                                                                                                                                                                                                                                                                                                                                                                                                                                                                                                                                                                                                                                                                                                                                                                                                                                                                                                                                                                                                                                                                                                                                                                                                                                                                                                                                                                                                                                                                                                                                                                                                                                                                                                                                                                                                                                                                                                                                                                                                                                                                                                                                                                                                                                                                                                                                                                                                                                                                                                                                                                                                                                                                                                                                                                                                                                                                                                                                                                                                                                                                                                                                                                                                                                                                                                                                                                                                                                                                                                                                                                                                                                                                                                                                                                                                                                                                                                                                              \n",
      " status                 | ACTIVE                                                                                                                                                                                                                                                                                                                                                                                                                                                                                                                                                                                                                                                                                                                                                                                                                                                                                                                                                                                                                                                                                                                                                                                                                                                                                                                                                                                                                                                                                                                                                                                                                                                                                                                                                                                                                                                                                                                                                                                                                                                                                                                                                                                                                                                                                                                                                                                                                                                                                                                                                                                                                                                                                                                                                                                                                                                                                                                                                                                                                                                                                                                                                                                                                                                                                                                                                                                                                                                                                                                                                                                                                                                                                                                                                                                                                                                                                                                                                                                                                                                                                                                                                                                                                                                                                                                                                                                                                                                                                                                                                                                                                                                                                                                                                                                                                                                                                                                                                                                                                                                                                                                                                                                                                                                                                                                                                              \n",
      " subcategory            | {JobSubcategory:251}                                                                                                                                                                                                                                                                                                                                                                                                                                                                                                                                                                                                                                                                                                                                                                                                                                                                                                                                                                                                                                                                                                                                                                                                                                                                                                                                                                                                                                                                                                                                                                                                                                                                                                                                                                                                                                                                                                                                                                                                                                                                                                                                                                                                                                                                                                                                                                                                                                                                                                                                                                                                                                                                                                                                                                                                                                                                                                                                                                                                                                                                                                                                                                                                                                                                                                                                                                                                                                                                                                                                                                                                                                                                                                                                                                                                                                                                                                                                                                                                                                                                                                                                                                                                                                                                                                                                                                                                                                                                                                                                                                                                                                                                                                                                                                                                                                                                                                                                                                                                                                                                                                                                                                                                                                                                                                                                                \n",
      " tags                   | {JobTags, true}                                                                                                                                                                                                                                                                                                                                                                                                                                                                                                                                                                                                                                                                                                                                                                                                                                                                                                                                                                                                                                                                                                                                                                                                                                                                                                                                                                                                                                                                                                                                                                                                                                                                                                                                                                                                                                                                                                                                                                                                                                                                                                                                                                                                                                                                                                                                                                                                                                                                                                                                                                                                                                                                                                                                                                                                                                                                                                                                                                                                                                                                                                                                                                                                                                                                                                                                                                                                                                                                                                                                                                                                                                                                                                                                                                                                                                                                                                                                                                                                                                                                                                                                                                                                                                                                                                                                                                                                                                                                                                                                                                                                                                                                                                                                                                                                                                                                                                                                                                                                                                                                                                                                                                                                                                                                                                                                                     \n",
      " title                  | Early Career Talent Mexico - Services Support                                                                                                                                                                                                                                                                                                                                                                                                                                                                                                                                                                                                                                                                                                                                                                                                                                                                                                                                                                                                                                                                                                                                                                                                                                                                                                                                                                                                                                                                                                                                                                                                                                                                                                                                                                                                                                                                                                                                                                                                                                                                                                                                                                                                                                                                                                                                                                                                                                                                                                                                                                                                                                                                                                                                                                                                                                                                                                                                                                                                                                                                                                                                                                                                                                                                                                                                                                                                                                                                                                                                                                                                                                                                                                                                                                                                                                                                                                                                                                                                                                                                                                                                                                                                                                                                                                                                                                                                                                                                                                                                                                                                                                                                                                                                                                                                                                                                                                                                                                                                                                                                                                                                                                                                                                                                                                                       \n",
      " url                    | /empleo/oferta/17457760-early-career-talent-mexico-services-support?rank=1&page=1&sessionid=fba065d3-0056-4a33-98a7-c25e1af01fff&userid=&uuid=abe1a6d0-08d9-4be8-8924-b0372fa31baf&origin=unknown&type=0&ai=true&ais=jor&showseo=true&returnURL=%2Fempleos-en-mexico-y-el-mundo%3Fsessionid%3Dfba065d3-0056-4a33-98a7-c25e1af01fff%26userid%3D%231                                                                                                                                                                                                                                                                                                                                                                                                                                                                                                                                                                                                                                                                                                                                                                                                                                                                                                                                                                                                                                                                                                                                                                                                                                                                                                                                                                                                                                                                                                                                                                                                                                                                                                                                                                                                                                                                                                                                                                                                                                                                                                                                                                                                                                                                                                                                                                                                                                                                                                                                                                                                                                                                                                                                                                                                                                                                                                                                                                                                                                                                                                                                                                                                                                                                                                                                                                                                                                                                                                                                                                                                                                                                                                                                                                                                                                                                                                                                                                                                                                                                                                                                                                                                                                                                                                                                                                                                                                                                                                                                                                                                                                                                                                                                                                                                                                                                                                                                                                                                                  \n",
      " workMode               | {JobWorkMode, IN_PERSON, empleos/tipo-en-oficina/}                                                                                                                                                                                                                                                                                                                                                                                                                                                                                                                                                                                                                                                                                                                                                                                                                                                                                                                                                                                                                                                                                                                                                                                                                                                                                                                                                                                                                                                                                                                                                                                                                                                                                                                                                                                                                                                                                                                                                                                                                                                                                                                                                                                                                                                                                                                                                                                                                                                                                                                                                                                                                                                                                                                                                                                                                                                                                                                                                                                                                                                                                                                                                                                                                                                                                                                                                                                                                                                                                                                                                                                                                                                                                                                                                                                                                                                                                                                                                                                                                                                                                                                                                                                                                                                                                                                                                                                                                                                                                                                                                                                                                                                                                                                                                                                                                                                                                                                                                                                                                                                                                                                                                                                                                                                                                                                  \n",
      "only showing top 1 row\n",
      "\n"
     ]
    }
   ],
   "source": [
    "df.show(1, vertical=True, truncate=False)"
   ]
  },
  {
   "cell_type": "markdown",
   "id": "d8750394-58d3-49ac-8545-52b391297b91",
   "metadata": {},
   "source": [
    "### Número de Registros"
   ]
  },
  {
   "cell_type": "code",
   "execution_count": 5,
   "id": "655df9f5-9ab1-4ff1-b5c0-09bc6e71c9b5",
   "metadata": {},
   "outputs": [
    {
     "name": "stdout",
     "output_type": "stream",
     "text": [
      "Registros totales: 154198, id unicos: 76569\n"
     ]
    }
   ],
   "source": [
    "#dfu = df.dropDuplicates([\"id\"])\n",
    "dfu = df.dropDuplicates([\"id\"]).filter(df.redirect.type < 2)\n",
    "record_count = dfu.count()\n",
    "print(f\"Registros totales: {df.count()}, id unicos: {record_count}\")"
   ]
  },
  {
   "cell_type": "markdown",
   "id": "183035b3-dab5-412e-86d9-e6ae261bd9cc",
   "metadata": {},
   "source": [
    "### Por tipo de redireccionamiento\n",
    "\n",
    "- 0: No redireccionadas\n",
    "- 1: ? (¿redireccionamiento pagado?)\n",
    "- 2: Redir fuera del sitio (¿son agregadas?)"
   ]
  },
  {
   "cell_type": "code",
   "execution_count": 6,
   "id": "d9d7962f-3655-44a6-81be-f43e320b1390",
   "metadata": {},
   "outputs": [
    {
     "name": "stdout",
     "output_type": "stream",
     "text": [
      "+----+-----+\n",
      "|type|count|\n",
      "+----+-----+\n",
      "|   0|73341|\n",
      "|   1| 3228|\n",
      "+----+-----+\n",
      "\n"
     ]
    }
   ],
   "source": [
    "dfu.groupby(\"redirect.type\").count().show()"
   ]
  },
  {
   "cell_type": "markdown",
   "id": "101ae835-0944-4548-83b0-13571d7a6483",
   "metadata": {},
   "source": [
    "### Por tipo de anuncio\n",
    "Tablas para todas las vacantes y paras las únicas. \n",
    "\n",
    "Notar que las Premium parecen tener mas duplicadas, puede ser por el proceso de scraping cuando aparecen en varios SERP"
   ]
  },
  {
   "cell_type": "code",
   "execution_count": 7,
   "id": "621b85e6-3fb0-4925-8a6b-3c3b992b819a",
   "metadata": {},
   "outputs": [
    {
     "name": "stdout",
     "output_type": "stream",
     "text": [
      "+--------+------+\n",
      "| jobType| count|\n",
      "+--------+------+\n",
      "| PREMIUM|  3499|\n",
      "|STANDOUT| 27733|\n",
      "| CLASSIC|122966|\n",
      "+--------+------+\n",
      "\n"
     ]
    }
   ],
   "source": [
    "df.groupby(\"jobType\").count().show()"
   ]
  },
  {
   "cell_type": "code",
   "execution_count": 8,
   "id": "21c15790-dcc8-4495-b204-6fd38ed4d5a4",
   "metadata": {},
   "outputs": [
    {
     "name": "stdout",
     "output_type": "stream",
     "text": [
      "+--------+-----+\n",
      "| jobType|count|\n",
      "+--------+-----+\n",
      "| PREMIUM| 2603|\n",
      "|STANDOUT|27394|\n",
      "| CLASSIC|46572|\n",
      "+--------+-----+\n",
      "\n"
     ]
    }
   ],
   "source": [
    "dfu.groupby(\"jobType\").count().show()"
   ]
  },
  {
   "cell_type": "markdown",
   "id": "5350beaf-173f-4173-b8a1-707007acd756",
   "metadata": {},
   "source": [
    "### Tipo de Anuncio / redireccionamiento\n",
    "\n",
    "CLASSIC / Redir=2 => Suponemos que son las agregadas"
   ]
  },
  {
   "cell_type": "code",
   "execution_count": 9,
   "id": "5fa4cdca-8785-434a-a9ad-14222504edf5",
   "metadata": {},
   "outputs": [
    {
     "name": "stdout",
     "output_type": "stream",
     "text": [
      "+--------+-----+----+\n",
      "| jobType|    0|   1|\n",
      "+--------+-----+----+\n",
      "| PREMIUM| 2561|  42|\n",
      "|STANDOUT|27055| 339|\n",
      "| CLASSIC|43725|2847|\n",
      "+--------+-----+----+\n",
      "\n"
     ]
    }
   ],
   "source": [
    "dfu.groupby(\"jobType\").pivot(\"redirect.type\").count().show()"
   ]
  },
  {
   "cell_type": "markdown",
   "id": "943ff2dc-a5f7-4a6a-b9d6-30654304eedd",
   "metadata": {},
   "source": [
    "#### Proporciones por JobType"
   ]
  },
  {
   "cell_type": "code",
   "execution_count": 11,
   "id": "677dbb75-93fa-471c-9e94-60839c002554",
   "metadata": {},
   "outputs": [
    {
     "data": {
      "text/html": [
       "<div>\n",
       "<style scoped>\n",
       "    .dataframe tbody tr th:only-of-type {\n",
       "        vertical-align: middle;\n",
       "    }\n",
       "\n",
       "    .dataframe tbody tr th {\n",
       "        vertical-align: top;\n",
       "    }\n",
       "\n",
       "    .dataframe thead th {\n",
       "        text-align: right;\n",
       "    }\n",
       "</style>\n",
       "<table border=\"1\" class=\"dataframe\">\n",
       "  <thead>\n",
       "    <tr style=\"text-align: right;\">\n",
       "      <th></th>\n",
       "      <th>0</th>\n",
       "      <th>1</th>\n",
       "    </tr>\n",
       "    <tr>\n",
       "      <th>jobType</th>\n",
       "      <th></th>\n",
       "      <th></th>\n",
       "    </tr>\n",
       "  </thead>\n",
       "  <tbody>\n",
       "    <tr>\n",
       "      <th>PREMIUM</th>\n",
       "      <td>0.983865</td>\n",
       "      <td>0.016135</td>\n",
       "    </tr>\n",
       "    <tr>\n",
       "      <th>STANDOUT</th>\n",
       "      <td>0.987625</td>\n",
       "      <td>0.012375</td>\n",
       "    </tr>\n",
       "    <tr>\n",
       "      <th>CLASSIC</th>\n",
       "      <td>0.938869</td>\n",
       "      <td>0.061131</td>\n",
       "    </tr>\n",
       "  </tbody>\n",
       "</table>\n",
       "</div>"
      ],
      "text/plain": [
       "                 0         1\n",
       "jobType                     \n",
       "PREMIUM   0.983865  0.016135\n",
       "STANDOUT  0.987625  0.012375\n",
       "CLASSIC   0.938869  0.061131"
      ]
     },
     "execution_count": 11,
     "metadata": {},
     "output_type": "execute_result"
    }
   ],
   "source": [
    "pdf = dfu.groupby(\"jobType\").pivot(\"redirect.type\").count().toPandas().fillna(0).set_index('jobType')\n",
    "#pdf.columns = ['NoRedir', 'Redir1', 'Redir2']\n",
    "pdf.div(pdf.sum(axis=1), axis=0)"
   ]
  },
  {
   "cell_type": "markdown",
   "id": "96134f5d-2040-40da-a984-617294fcc5cb",
   "metadata": {},
   "source": [
    "#### Proporciones por tipo de redir\n",
    "\n",
    "Esto demostraría que las Redir2 son agregadas no pagadas ya que practicamente todas son clásicas"
   ]
  },
  {
   "cell_type": "code",
   "execution_count": 12,
   "id": "ff55554b-82e7-450d-988e-6eda699af8b3",
   "metadata": {},
   "outputs": [
    {
     "data": {
      "text/html": [
       "<div>\n",
       "<style scoped>\n",
       "    .dataframe tbody tr th:only-of-type {\n",
       "        vertical-align: middle;\n",
       "    }\n",
       "\n",
       "    .dataframe tbody tr th {\n",
       "        vertical-align: top;\n",
       "    }\n",
       "\n",
       "    .dataframe thead th {\n",
       "        text-align: right;\n",
       "    }\n",
       "</style>\n",
       "<table border=\"1\" class=\"dataframe\">\n",
       "  <thead>\n",
       "    <tr style=\"text-align: right;\">\n",
       "      <th></th>\n",
       "      <th>0</th>\n",
       "      <th>1</th>\n",
       "    </tr>\n",
       "    <tr>\n",
       "      <th>jobType</th>\n",
       "      <th></th>\n",
       "      <th></th>\n",
       "    </tr>\n",
       "  </thead>\n",
       "  <tbody>\n",
       "    <tr>\n",
       "      <th>PREMIUM</th>\n",
       "      <td>0.034919</td>\n",
       "      <td>0.013011</td>\n",
       "    </tr>\n",
       "    <tr>\n",
       "      <th>STANDOUT</th>\n",
       "      <td>0.368893</td>\n",
       "      <td>0.105019</td>\n",
       "    </tr>\n",
       "    <tr>\n",
       "      <th>CLASSIC</th>\n",
       "      <td>0.596188</td>\n",
       "      <td>0.881970</td>\n",
       "    </tr>\n",
       "  </tbody>\n",
       "</table>\n",
       "</div>"
      ],
      "text/plain": [
       "                 0         1\n",
       "jobType                     \n",
       "PREMIUM   0.034919  0.013011\n",
       "STANDOUT  0.368893  0.105019\n",
       "CLASSIC   0.596188  0.881970"
      ]
     },
     "execution_count": 12,
     "metadata": {},
     "output_type": "execute_result"
    }
   ],
   "source": [
    "pdf.div(pdf.sum(axis=0), axis=1)"
   ]
  },
  {
   "cell_type": "markdown",
   "id": "3caff3d0-8d36-4636-a9e0-1d3a8d6e76bd",
   "metadata": {},
   "source": [
    "#### Proporciones del total"
   ]
  },
  {
   "cell_type": "code",
   "execution_count": 13,
   "id": "4fee4719-15f7-474f-93ee-5958ded71161",
   "metadata": {},
   "outputs": [
    {
     "data": {
      "text/html": [
       "<div>\n",
       "<style scoped>\n",
       "    .dataframe tbody tr th:only-of-type {\n",
       "        vertical-align: middle;\n",
       "    }\n",
       "\n",
       "    .dataframe tbody tr th {\n",
       "        vertical-align: top;\n",
       "    }\n",
       "\n",
       "    .dataframe thead th {\n",
       "        text-align: right;\n",
       "    }\n",
       "</style>\n",
       "<table border=\"1\" class=\"dataframe\">\n",
       "  <thead>\n",
       "    <tr style=\"text-align: right;\">\n",
       "      <th></th>\n",
       "      <th>0</th>\n",
       "      <th>1</th>\n",
       "    </tr>\n",
       "    <tr>\n",
       "      <th>jobType</th>\n",
       "      <th></th>\n",
       "      <th></th>\n",
       "    </tr>\n",
       "  </thead>\n",
       "  <tbody>\n",
       "    <tr>\n",
       "      <th>PREMIUM</th>\n",
       "      <td>0.033447</td>\n",
       "      <td>0.000549</td>\n",
       "    </tr>\n",
       "    <tr>\n",
       "      <th>STANDOUT</th>\n",
       "      <td>0.353341</td>\n",
       "      <td>0.004427</td>\n",
       "    </tr>\n",
       "    <tr>\n",
       "      <th>CLASSIC</th>\n",
       "      <td>0.571054</td>\n",
       "      <td>0.037182</td>\n",
       "    </tr>\n",
       "  </tbody>\n",
       "</table>\n",
       "</div>"
      ],
      "text/plain": [
       "                 0         1\n",
       "jobType                     \n",
       "PREMIUM   0.033447  0.000549\n",
       "STANDOUT  0.353341  0.004427\n",
       "CLASSIC   0.571054  0.037182"
      ]
     },
     "execution_count": 13,
     "metadata": {},
     "output_type": "execute_result"
    }
   ],
   "source": [
    "pdf.div(pdf.sum().sum())"
   ]
  },
  {
   "cell_type": "markdown",
   "id": "fc4dfd81-b6b4-4d9c-b10d-6af7cd5956a3",
   "metadata": {},
   "source": [
    "## Categorias"
   ]
  },
  {
   "cell_type": "markdown",
   "id": "1b7b2f09-3779-45f4-96d9-e0fcac956572",
   "metadata": {},
   "source": [
    "### Totales"
   ]
  },
  {
   "cell_type": "code",
   "execution_count": 14,
   "id": "37018b3f-7554-4f48-b249-4b9dfb222aad",
   "metadata": {},
   "outputs": [],
   "source": [
    "cat_count = dfu.groupby(\"category\").count().orderBy(F.col(\"count\").desc())\n",
    "split_col = F.split(cat_count[\"category.__ref\"].cast(\"String\"), \":\")\n",
    "cat_count = cat_count.withColumn(\"category_id\", split_col.getItem(1).cast(\"INT\"))\n",
    "cat_count = cat_count.join(categories.select(\"id\", \"description\"), cat_count.category_id == categories.id, how=\"inner\")\n",
    "cat_count = cat_count.select([\"category_id\", \"description\", \"count\"]).orderBy(F.col(\"count\").desc())"
   ]
  },
  {
   "cell_type": "code",
   "execution_count": 15,
   "id": "5878f551-742f-472b-939b-569bbc6a4891",
   "metadata": {},
   "outputs": [
    {
     "name": "stdout",
     "output_type": "stream",
     "text": [
      "+-----------+------------------------------------------------+-----+---------------------+\n",
      "|category_id|description                                     |count|pct                  |\n",
      "+-----------+------------------------------------------------+-----+---------------------+\n",
      "|19         |Ventas                                          |16239|0.21208321905732086  |\n",
      "|17         |Tecnologías de la Información - Sistemas        |8237 |0.10757617312489388  |\n",
      "|4          |Contabilidad - Finanzas                         |8190 |0.1069623476864005   |\n",
      "|10         |Logística - Transporte - Distribución - Almacén |6537 |0.08537397641343103  |\n",
      "|1          |Administrativo                                  |6508 |0.0849952330577649   |\n",
      "|11         |Manufactura - Producción - Operación            |5429 |0.07090336820384228  |\n",
      "|9          |Ingeniería                                      |4781 |0.06244041322206115  |\n",
      "|13         |Recursos humanos                                |3773 |0.04927581658373493  |\n",
      "|21         |Atención a clientes - Call Center               |3731 |0.048727291723804675 |\n",
      "|5          |Construcción - Inmobiliaria - Arquitectura      |2276 |0.029724823361934986 |\n",
      "|15         |Sector salud                                    |2155 |0.028144549360707337 |\n",
      "|12         |Mercadotecnia - Publicidad - Relaciones Públicas|1732 |0.02262012041426687  |\n",
      "|23         |Servicios generales - Oficios - Seguridad       |1601 |0.020909245255912968 |\n",
      "|16         |Seguros y reaseguros                            |1317 |0.017200172393527408 |\n",
      "|18         |Turismo - Hospitalidad - Gastronomía            |1057 |0.013804542308244851 |\n",
      "|8          |Educación                                       |820  |0.010709294884352676 |\n",
      "|7          |Derecho y leyes                                 |789  |0.010304431297261293 |\n",
      "|6          |Arte y diseño                                   |550  |0.007183063641943868 |\n",
      "|3          |Comunicación y creatividad                      |333  |0.004349018532304196 |\n",
      "|2          |Minería - Energía - Recursos Naturales          |203  |0.0026512034896629183|\n",
      "|20         |Veterinaria - Agricultura                       |156  |0.0020373780511695333|\n",
      "|14         |Deportes - Salud - Belleza                      |97   |0.0012668312241246457|\n",
      "|22         |Ciencias sociales - Humanidades                 |58   |7.574867113322624E-4 |\n",
      "+-----------+------------------------------------------------+-----+---------------------+\n",
      "\n"
     ]
    }
   ],
   "source": [
    "cat_count = cat_count.withColumn(\"pct\", F.col(\"count\") / record_count)\n",
    "cat_count.show(cat_count.count(), truncate=False)"
   ]
  },
  {
   "cell_type": "markdown",
   "id": "f724ed3c-759e-4d7d-9090-2cc475b549ef",
   "metadata": {},
   "source": [
    "### Proporciones por tipo de Redir"
   ]
  },
  {
   "cell_type": "code",
   "execution_count": 17,
   "id": "9f3709f3-5d2c-40a2-811b-a7d700fa59dd",
   "metadata": {},
   "outputs": [
    {
     "ename": "AnalysisException",
     "evalue": "[UNRESOLVED_COLUMN.WITH_SUGGESTION] A column or function parameter with name `2` cannot be resolved. Did you mean one of the following? [`0`, `1`, `id`, `category_id`, `description`].;\n'Project [description#93, 0#2538L, 1#2539L, '2]\n+- Join Inner, (category_id#2337 = cast(id#94 as int))\n   :- Project [category_id#2337, __pivot_count(1) AS count AS `count(1) AS count`#2537[0] AS 0#2538L, __pivot_count(1) AS count AS `count(1) AS count`#2537[1] AS 1#2539L]\n   :  +- Aggregate [category_id#2337], [category_id#2337, pivotfirst(type#2530L, count(1) AS count#2531L, 0, 1, 0, 0) AS __pivot_count(1) AS count AS `count(1) AS count`#2537]\n   :     +- Aggregate [category_id#2337, redirect#28.type], [category_id#2337, redirect#28.type AS type#2530L, count(1) AS count(1) AS count#2531L]\n   :        +- Project [Job:value#8, __typename#9, applied#10, autoinclusion#11, bullets#12, category#13, company#14, contact#15, dates#16, description#17, education#18, friendlyId#19, googleForJobs#20, hiring#21, id#22, jobBody#23, jobType#24, level#25, location#26, profileId#27, redirect#28, requisition#29, salary#30, scraped_at#31, ... 15 more fields]\n   :           +- Filter (redirect#28.type < cast(2 as bigint))\n   :              +- Deduplicate [id#22]\n   :                 +- Relation [Job:value#8,__typename#9,applied#10,autoinclusion#11,bullets#12,category#13,company#14,contact#15,dates#16,description#17,education#18,friendlyId#19,googleForJobs#20,hiring#21,id#22,jobBody#23,jobType#24,level#25,location#26,profileId#27,redirect#28,requisition#29,salary#30,scraped_at#31,... 14 more fields] json\n   +- Project [id#94, description#93]\n      +- Relation [__typename#92,description#93,id#94,rel#95,url#96] json\n",
     "output_type": "error",
     "traceback": [
      "\u001b[0;31m---------------------------------------------------------------------------\u001b[0m",
      "\u001b[0;31mAnalysisException\u001b[0m                         Traceback (most recent call last)",
      "Cell \u001b[0;32mIn[17], line 5\u001b[0m\n\u001b[1;32m      3\u001b[0m cat_count_redir \u001b[38;5;241m=\u001b[39m cat_count_redir\u001b[38;5;241m.\u001b[39mgroupby(\u001b[38;5;124m\"\u001b[39m\u001b[38;5;124mcategory_id\u001b[39m\u001b[38;5;124m\"\u001b[39m)\u001b[38;5;241m.\u001b[39mpivot(\u001b[38;5;124m\"\u001b[39m\u001b[38;5;124mredirect.type\u001b[39m\u001b[38;5;124m\"\u001b[39m)\u001b[38;5;241m.\u001b[39mcount()\n\u001b[1;32m      4\u001b[0m cat_count_redir \u001b[38;5;241m=\u001b[39m cat_count_redir\u001b[38;5;241m.\u001b[39mjoin(categories\u001b[38;5;241m.\u001b[39mselect(\u001b[38;5;124m\"\u001b[39m\u001b[38;5;124mid\u001b[39m\u001b[38;5;124m\"\u001b[39m, \u001b[38;5;124m\"\u001b[39m\u001b[38;5;124mdescription\u001b[39m\u001b[38;5;124m\"\u001b[39m), cat_count_redir\u001b[38;5;241m.\u001b[39mcategory_id \u001b[38;5;241m==\u001b[39m categories\u001b[38;5;241m.\u001b[39mid, how\u001b[38;5;241m=\u001b[39m\u001b[38;5;124m\"\u001b[39m\u001b[38;5;124minner\u001b[39m\u001b[38;5;124m\"\u001b[39m)\n\u001b[0;32m----> 5\u001b[0m cat_count_redir \u001b[38;5;241m=\u001b[39m \u001b[43mcat_count_redir\u001b[49m\u001b[38;5;241;43m.\u001b[39;49m\u001b[43mselect\u001b[49m\u001b[43m(\u001b[49m\u001b[43m[\u001b[49m\u001b[38;5;124;43m\"\u001b[39;49m\u001b[38;5;124;43mdescription\u001b[39;49m\u001b[38;5;124;43m\"\u001b[39;49m\u001b[43m,\u001b[49m\u001b[43m \u001b[49m\u001b[38;5;124;43m\"\u001b[39;49m\u001b[38;5;124;43m0\u001b[39;49m\u001b[38;5;124;43m\"\u001b[39;49m\u001b[43m,\u001b[49m\u001b[43m \u001b[49m\u001b[38;5;124;43m\"\u001b[39;49m\u001b[38;5;124;43m1\u001b[39;49m\u001b[38;5;124;43m\"\u001b[39;49m\u001b[43m,\u001b[49m\u001b[43m \u001b[49m\u001b[38;5;124;43m\"\u001b[39;49m\u001b[38;5;124;43m2\u001b[39;49m\u001b[38;5;124;43m\"\u001b[39;49m\u001b[43m]\u001b[49m\u001b[43m)\u001b[49m\u001b[38;5;241m.\u001b[39msort(F\u001b[38;5;241m.\u001b[39mcol(\u001b[38;5;124m\"\u001b[39m\u001b[38;5;124m0\u001b[39m\u001b[38;5;124m\"\u001b[39m)\u001b[38;5;241m.\u001b[39mdesc())\u001b[38;5;241m.\u001b[39mtoPandas()\u001b[38;5;241m.\u001b[39mfillna(\u001b[38;5;241m0\u001b[39m)\n\u001b[1;32m      6\u001b[0m cat_count_redir\u001b[38;5;241m.\u001b[39mcolumns \u001b[38;5;241m=\u001b[39m [\u001b[38;5;124m\"\u001b[39m\u001b[38;5;124mCategory\u001b[39m\u001b[38;5;124m\"\u001b[39m, \u001b[38;5;124m\"\u001b[39m\u001b[38;5;124mNoRedir\u001b[39m\u001b[38;5;124m\"\u001b[39m, \u001b[38;5;124m\"\u001b[39m\u001b[38;5;124mRedir1\u001b[39m\u001b[38;5;124m\"\u001b[39m]\u001b[38;5;66;03m#, \"Redir2\"]\u001b[39;00m\n\u001b[1;32m      7\u001b[0m cat_count_redir \u001b[38;5;241m=\u001b[39m cat_count_redir\u001b[38;5;241m.\u001b[39mset_index(\u001b[38;5;124m\"\u001b[39m\u001b[38;5;124mCategory\u001b[39m\u001b[38;5;124m\"\u001b[39m)\n",
      "File \u001b[0;32m/usr/local/spark/python/pyspark/sql/dataframe.py:3036\u001b[0m, in \u001b[0;36mDataFrame.select\u001b[0;34m(self, *cols)\u001b[0m\n\u001b[1;32m   2991\u001b[0m \u001b[38;5;28;01mdef\u001b[39;00m \u001b[38;5;21mselect\u001b[39m(\u001b[38;5;28mself\u001b[39m, \u001b[38;5;241m*\u001b[39mcols: \u001b[38;5;124m\"\u001b[39m\u001b[38;5;124mColumnOrName\u001b[39m\u001b[38;5;124m\"\u001b[39m) \u001b[38;5;241m-\u001b[39m\u001b[38;5;241m>\u001b[39m \u001b[38;5;124m\"\u001b[39m\u001b[38;5;124mDataFrame\u001b[39m\u001b[38;5;124m\"\u001b[39m:  \u001b[38;5;66;03m# type: ignore[misc]\u001b[39;00m\n\u001b[1;32m   2992\u001b[0m \u001b[38;5;250m    \u001b[39m\u001b[38;5;124;03m\"\"\"Projects a set of expressions and returns a new :class:`DataFrame`.\u001b[39;00m\n\u001b[1;32m   2993\u001b[0m \n\u001b[1;32m   2994\u001b[0m \u001b[38;5;124;03m    .. versionadded:: 1.3.0\u001b[39;00m\n\u001b[0;32m   (...)\u001b[0m\n\u001b[1;32m   3034\u001b[0m \u001b[38;5;124;03m    +-----+---+\u001b[39;00m\n\u001b[1;32m   3035\u001b[0m \u001b[38;5;124;03m    \"\"\"\u001b[39;00m\n\u001b[0;32m-> 3036\u001b[0m     jdf \u001b[38;5;241m=\u001b[39m \u001b[38;5;28;43mself\u001b[39;49m\u001b[38;5;241;43m.\u001b[39;49m\u001b[43m_jdf\u001b[49m\u001b[38;5;241;43m.\u001b[39;49m\u001b[43mselect\u001b[49m\u001b[43m(\u001b[49m\u001b[38;5;28;43mself\u001b[39;49m\u001b[38;5;241;43m.\u001b[39;49m\u001b[43m_jcols\u001b[49m\u001b[43m(\u001b[49m\u001b[38;5;241;43m*\u001b[39;49m\u001b[43mcols\u001b[49m\u001b[43m)\u001b[49m\u001b[43m)\u001b[49m\n\u001b[1;32m   3037\u001b[0m     \u001b[38;5;28;01mreturn\u001b[39;00m DataFrame(jdf, \u001b[38;5;28mself\u001b[39m\u001b[38;5;241m.\u001b[39msparkSession)\n",
      "File \u001b[0;32m/usr/local/spark/python/lib/py4j-0.10.9.7-src.zip/py4j/java_gateway.py:1322\u001b[0m, in \u001b[0;36mJavaMember.__call__\u001b[0;34m(self, *args)\u001b[0m\n\u001b[1;32m   1316\u001b[0m command \u001b[38;5;241m=\u001b[39m proto\u001b[38;5;241m.\u001b[39mCALL_COMMAND_NAME \u001b[38;5;241m+\u001b[39m\\\n\u001b[1;32m   1317\u001b[0m     \u001b[38;5;28mself\u001b[39m\u001b[38;5;241m.\u001b[39mcommand_header \u001b[38;5;241m+\u001b[39m\\\n\u001b[1;32m   1318\u001b[0m     args_command \u001b[38;5;241m+\u001b[39m\\\n\u001b[1;32m   1319\u001b[0m     proto\u001b[38;5;241m.\u001b[39mEND_COMMAND_PART\n\u001b[1;32m   1321\u001b[0m answer \u001b[38;5;241m=\u001b[39m \u001b[38;5;28mself\u001b[39m\u001b[38;5;241m.\u001b[39mgateway_client\u001b[38;5;241m.\u001b[39msend_command(command)\n\u001b[0;32m-> 1322\u001b[0m return_value \u001b[38;5;241m=\u001b[39m \u001b[43mget_return_value\u001b[49m\u001b[43m(\u001b[49m\n\u001b[1;32m   1323\u001b[0m \u001b[43m    \u001b[49m\u001b[43manswer\u001b[49m\u001b[43m,\u001b[49m\u001b[43m \u001b[49m\u001b[38;5;28;43mself\u001b[39;49m\u001b[38;5;241;43m.\u001b[39;49m\u001b[43mgateway_client\u001b[49m\u001b[43m,\u001b[49m\u001b[43m \u001b[49m\u001b[38;5;28;43mself\u001b[39;49m\u001b[38;5;241;43m.\u001b[39;49m\u001b[43mtarget_id\u001b[49m\u001b[43m,\u001b[49m\u001b[43m \u001b[49m\u001b[38;5;28;43mself\u001b[39;49m\u001b[38;5;241;43m.\u001b[39;49m\u001b[43mname\u001b[49m\u001b[43m)\u001b[49m\n\u001b[1;32m   1325\u001b[0m \u001b[38;5;28;01mfor\u001b[39;00m temp_arg \u001b[38;5;129;01min\u001b[39;00m temp_args:\n\u001b[1;32m   1326\u001b[0m     \u001b[38;5;28;01mif\u001b[39;00m \u001b[38;5;28mhasattr\u001b[39m(temp_arg, \u001b[38;5;124m\"\u001b[39m\u001b[38;5;124m_detach\u001b[39m\u001b[38;5;124m\"\u001b[39m):\n",
      "File \u001b[0;32m/usr/local/spark/python/pyspark/errors/exceptions/captured.py:175\u001b[0m, in \u001b[0;36mcapture_sql_exception.<locals>.deco\u001b[0;34m(*a, **kw)\u001b[0m\n\u001b[1;32m    171\u001b[0m converted \u001b[38;5;241m=\u001b[39m convert_exception(e\u001b[38;5;241m.\u001b[39mjava_exception)\n\u001b[1;32m    172\u001b[0m \u001b[38;5;28;01mif\u001b[39;00m \u001b[38;5;129;01mnot\u001b[39;00m \u001b[38;5;28misinstance\u001b[39m(converted, UnknownException):\n\u001b[1;32m    173\u001b[0m     \u001b[38;5;66;03m# Hide where the exception came from that shows a non-Pythonic\u001b[39;00m\n\u001b[1;32m    174\u001b[0m     \u001b[38;5;66;03m# JVM exception message.\u001b[39;00m\n\u001b[0;32m--> 175\u001b[0m     \u001b[38;5;28;01mraise\u001b[39;00m converted \u001b[38;5;28;01mfrom\u001b[39;00m \u001b[38;5;28;01mNone\u001b[39;00m\n\u001b[1;32m    176\u001b[0m \u001b[38;5;28;01melse\u001b[39;00m:\n\u001b[1;32m    177\u001b[0m     \u001b[38;5;28;01mraise\u001b[39;00m\n",
      "\u001b[0;31mAnalysisException\u001b[0m: [UNRESOLVED_COLUMN.WITH_SUGGESTION] A column or function parameter with name `2` cannot be resolved. Did you mean one of the following? [`0`, `1`, `id`, `category_id`, `description`].;\n'Project [description#93, 0#2538L, 1#2539L, '2]\n+- Join Inner, (category_id#2337 = cast(id#94 as int))\n   :- Project [category_id#2337, __pivot_count(1) AS count AS `count(1) AS count`#2537[0] AS 0#2538L, __pivot_count(1) AS count AS `count(1) AS count`#2537[1] AS 1#2539L]\n   :  +- Aggregate [category_id#2337], [category_id#2337, pivotfirst(type#2530L, count(1) AS count#2531L, 0, 1, 0, 0) AS __pivot_count(1) AS count AS `count(1) AS count`#2537]\n   :     +- Aggregate [category_id#2337, redirect#28.type], [category_id#2337, redirect#28.type AS type#2530L, count(1) AS count(1) AS count#2531L]\n   :        +- Project [Job:value#8, __typename#9, applied#10, autoinclusion#11, bullets#12, category#13, company#14, contact#15, dates#16, description#17, education#18, friendlyId#19, googleForJobs#20, hiring#21, id#22, jobBody#23, jobType#24, level#25, location#26, profileId#27, redirect#28, requisition#29, salary#30, scraped_at#31, ... 15 more fields]\n   :           +- Filter (redirect#28.type < cast(2 as bigint))\n   :              +- Deduplicate [id#22]\n   :                 +- Relation [Job:value#8,__typename#9,applied#10,autoinclusion#11,bullets#12,category#13,company#14,contact#15,dates#16,description#17,education#18,friendlyId#19,googleForJobs#20,hiring#21,id#22,jobBody#23,jobType#24,level#25,location#26,profileId#27,redirect#28,requisition#29,salary#30,scraped_at#31,... 14 more fields] json\n   +- Project [id#94, description#93]\n      +- Relation [__typename#92,description#93,id#94,rel#95,url#96] json\n"
     ]
    }
   ],
   "source": [
    "split_col = F.split(dfu[\"category.__ref\"].cast(\"String\"), \":\")\n",
    "cat_count_redir = dfu.withColumn(\"category_id\", split_col.getItem(1).cast(\"INT\"))\n",
    "cat_count_redir = cat_count_redir.groupby(\"category_id\").pivot(\"redirect.type\").count()\n",
    "cat_count_redir = cat_count_redir.join(categories.select(\"id\", \"description\"), cat_count_redir.category_id == categories.id, how=\"inner\")\n",
    "cat_count_redir = cat_count_redir.select([\"description\", \"0\", \"1\", \"2\"]).sort(F.col(\"0\").desc()).toPandas().fillna(0)\n",
    "cat_count_redir.columns = [\"Category\", \"NoRedir\", \"Redir1\"]#, \"Redir2\"]\n",
    "cat_count_redir = cat_count_redir.set_index(\"Category\")\n",
    "cat_count_redir = cat_count_redir.div(cat_count_redir.sum(axis=1), axis=0)\n",
    "cat_count_redir"
   ]
  },
  {
   "cell_type": "markdown",
   "id": "d4c01871-8a6c-41bd-8464-5a7503bc5b75",
   "metadata": {},
   "source": [
    "#### Categorías en las que OCC es débil\n",
    "\n",
    "Mayor proporción de agregadas"
   ]
  },
  {
   "cell_type": "code",
   "execution_count": null,
   "id": "8fc2defa-f8a9-46ea-bf15-4c0760779d8f",
   "metadata": {},
   "outputs": [],
   "source": [
    "cat_count_redir.sort_values(\"Redir2\", ascending=False)"
   ]
  },
  {
   "cell_type": "markdown",
   "id": "8b8049f5-d788-4a83-a201-6ed07a6f4710",
   "metadata": {},
   "source": [
    "## Subcategorías"
   ]
  },
  {
   "cell_type": "code",
   "execution_count": null,
   "id": "c564e515-e9a0-4dc2-95e4-c95b95dfd56e",
   "metadata": {},
   "outputs": [],
   "source": [
    "subcat_count = dfu.groupby(\"subcategory\").count().orderBy(F.col(\"count\").desc())\n",
    "split_col = F.split(subcat_count[\"subcategory.__ref\"].cast(\"String\"), \":\")\n",
    "subcat_count = subcat_count.withColumn(\"subcategory_id\", split_col.getItem(1).cast(\"INT\"))\n",
    "subcat_count = subcat_count.join(subcategories.select(\"id\", \"description\"), subcat_count.subcategory_id == subcategories.id, how=\"inner\")\n",
    "subcat_count.orderBy(F.col(\"count\").desc()).show(25, truncate=False)"
   ]
  },
  {
   "cell_type": "code",
   "execution_count": null,
   "id": "3f4e8871-d1bf-4a13-af78-38834f328878",
   "metadata": {
    "scrolled": true
   },
   "outputs": [],
   "source": [
    "split_col = F.split(dfu[\"subcategory.__ref\"].cast(\"String\"), \":\")\n",
    "subcat_count_redir = dfu.withColumn(\"subcategory_id\", split_col.getItem(1).cast(\"INT\"))\n",
    "subcat_count_redir = subcat_count_redir.groupby(\"subcategory_id\").pivot(\"redirect.type\").count()\n",
    "subcat_count_redir = subcat_count_redir.join(subcategories.select(\"id\", \"description\"), subcat_count_redir.subcategory_id == subcategories.id, how=\"inner\")\n",
    "subcat_count_redir = subcat_count_redir.select([\"description\", \"0\", \"1\", \"2\"]).sort(F.col(\"0\").desc()).toPandas().fillna(0)\n",
    "subcat_count_redir.columns = [\"subcategory\", \"NoRedir\", \"Redir1\", \"Redir2\"]\n",
    "subcat_count_redir = subcat_count_redir.set_index(\"subcategory\")\n",
    "subcat_count_redir = subcat_count_redir.div(subcat_count_redir.sum(axis=1), axis=0)\n",
    "pd.set_option('display.max_rows', None)\n",
    "subcat_count_redir"
   ]
  },
  {
   "cell_type": "code",
   "execution_count": null,
   "id": "5566b4d9-018d-437e-a9b7-104857e3efe9",
   "metadata": {
    "scrolled": true
   },
   "outputs": [],
   "source": [
    "subcat_count_redir.sort_values(\"Redir2\", ascending=False)"
   ]
  },
  {
   "cell_type": "markdown",
   "id": "2ee97195-2b2c-44e2-b4a4-cfb378c05c19",
   "metadata": {},
   "source": [
    "## Google For Jobs\n",
    "\n",
    "- Primer campo: si la oferta está disponible para G4J\n",
    "- Segundo campo: (¿?) si la oferta ya está indexada por G4J"
   ]
  },
  {
   "cell_type": "code",
   "execution_count": null,
   "id": "a74c3899-3317-40ec-aa55-d2399c100f69",
   "metadata": {},
   "outputs": [],
   "source": [
    "dfu.groupby(\"googleForJobs\").count().sort(F.col(\"count\").desc()).show(truncate=False)"
   ]
  },
  {
   "cell_type": "markdown",
   "id": "5c387b52-15a7-47e7-b1b6-d3f4d9514223",
   "metadata": {},
   "source": [
    "## Ubicación"
   ]
  },
  {
   "cell_type": "markdown",
   "id": "170d9f3b-d5ae-44d3-abba-45e584753697",
   "metadata": {},
   "source": [
    "### Estados"
   ]
  },
  {
   "cell_type": "markdown",
   "id": "a3d0908a-675e-4095-8a63-bc276862c5fa",
   "metadata": {},
   "source": [
    "#### Distribución de vacantes por estado con suma acumulada"
   ]
  },
  {
   "cell_type": "code",
   "execution_count": null,
   "id": "5d210fb3-4700-4475-ad02-125a39c237aa",
   "metadata": {},
   "outputs": [],
   "source": [
    "dfu_loc = dfu.select(\"id\", F.explode(\"location.locations\").alias(\"loc_data\"))\n",
    "state_count = dfu_loc.groupby(\"loc_data.state.description\").count().sort(F.col(\"count\").desc())\n",
    "state_count_p = state_count.withColumn(\"perc\", F.col(\"count\") / record_count).orderBy(F.col(\"perc\").desc())\n",
    "window = Window.orderBy(F.col(\"perc\").desc()).rowsBetween(Window.unboundedPreceding, Window.currentRow)\n",
    "state_count_p = state_count_p.withColumn(\"cumsum\", F.sum(F.col(\"perc\")).over(window))\n",
    "state_count_p.show(33)"
   ]
  },
  {
   "cell_type": "markdown",
   "id": "91f14e7d-575d-43b9-bc82-c1c53ccda144",
   "metadata": {},
   "source": [
    "#### Vacantes por estado divididas por tipo Redir, con histograma para Redir2"
   ]
  },
  {
   "cell_type": "code",
   "execution_count": null,
   "id": "0c87a36d-2cc0-454c-b7a0-f09d98241e25",
   "metadata": {},
   "outputs": [],
   "source": [
    "state_count = dfu.withColumn(\"loc_data\", F.explode(\"location.locations\"))\\\n",
    "                .groupby(\"loc_data.state.description\")\\\n",
    "                .pivot(\"redirect.type\").count()\\\n",
    "                .withColumn(\"total\", F.col(\"0\") + F.col(\"1\") + F.col(\"2\"))\\\n",
    "                .withColumn(\"NoRedirPct\", F.col(\"0\") / F.col(\"total\"))\\\n",
    "                .withColumn(\"Redir1Pct\", F.col(\"1\") / F.col(\"total\"))\\\n",
    "                .withColumn(\"Redir2Pct\", F.col(\"2\") / F.col(\"total\"))\\\n",
    "                .sort(F.col(\"total\").desc())"
   ]
  },
  {
   "cell_type": "code",
   "execution_count": null,
   "id": "d4399fe1-188f-4104-88a7-f5ac6a866db1",
   "metadata": {},
   "outputs": [],
   "source": [
    "state_count.show()"
   ]
  },
  {
   "cell_type": "code",
   "execution_count": null,
   "id": "7e662fa0-6773-4d06-8222-02408c19ee94",
   "metadata": {},
   "outputs": [],
   "source": [
    "state_count_pd = state_count.toPandas()\n",
    "print(state_count_pd[\"Redir2Pct\"].describe())\n",
    "state_count_pd[\"Redir2Pct\"].hist(bins=15)"
   ]
  },
  {
   "cell_type": "markdown",
   "id": "61aeb466-ba35-4588-99cc-1160d9146cff",
   "metadata": {},
   "source": [
    "#### Descripción (granular)"
   ]
  },
  {
   "cell_type": "code",
   "execution_count": null,
   "id": "91c5fef4-aae2-427a-bc16-2c30e9e4b1f2",
   "metadata": {},
   "outputs": [],
   "source": [
    "loc_count = dfu.groupby(\"location.description\").count().sort(F.col(\"count\").desc())\n",
    "loc_count_p = loc_count.withColumn(\"perc\", F.col(\"count\") / record_count).orderBy(F.col(\"perc\").desc())\n",
    "window = Window.orderBy(F.col(\"perc\").desc()).rowsBetween(Window.unboundedPreceding, Window.currentRow)\n",
    "loc_count_p = loc_count_p.withColumn(\"cumsum\", F.sum(F.col(\"perc\")).over(window))\n",
    "print(f\"Número de location.description: {loc_count_p.count()}\")\n",
    "loc_count_p.show(30, truncate=False)"
   ]
  },
  {
   "cell_type": "code",
   "execution_count": null,
   "id": "5a68858b-a66d-40b3-96b3-e5f2f75ebb2c",
   "metadata": {},
   "outputs": [],
   "source": [
    "loc_count_p.toPandas()[\"cumsum\"].plot()"
   ]
  },
  {
   "cell_type": "markdown",
   "id": "97644fd3-2de7-4aef-8a0d-e9a7fb9d1158",
   "metadata": {},
   "source": [
    "## Compañias\n",
    "\n",
    "Basadas en la url. \n",
    "\n",
    "NULL ==> Confidenciales"
   ]
  },
  {
   "cell_type": "code",
   "execution_count": null,
   "id": "4c8690c7-c1de-42e0-9bc4-0e02a91ea7b5",
   "metadata": {},
   "outputs": [],
   "source": [
    "company_count = dfu.groupby(\"company.url\").count().sort(F.col(\"count\").desc())\n",
    "print(f\"Número de URLs de compañias: {company_count.count()}\")\n",
    "company_count.show(25, truncate=False)"
   ]
  },
  {
   "cell_type": "markdown",
   "id": "d1a93348-c9a9-4e5e-ac37-b5a15a0ec668",
   "metadata": {},
   "source": [
    "#### Proporción de vacantes por cia y suma acumulada"
   ]
  },
  {
   "cell_type": "code",
   "execution_count": null,
   "id": "c6924a5c-ef11-4a89-b0c7-371331e4d6f5",
   "metadata": {},
   "outputs": [],
   "source": [
    "ccp = company_count.withColumn(\"perc\", F.col(\"count\") / record_count).orderBy(F.col(\"perc\").desc())\n",
    "window = Window.orderBy(F.col(\"perc\").desc()).rowsBetween(Window.unboundedPreceding, Window.currentRow)\n",
    "ccp.withColumn(\"cumsum\", F.sum(F.col(\"perc\")).over(window)).show(30, truncate=False)"
   ]
  },
  {
   "cell_type": "markdown",
   "id": "1d8f78c8-4d14-42b4-a920-a1e0267d5b67",
   "metadata": {},
   "source": [
    "### Excluyendo confidenciales"
   ]
  },
  {
   "cell_type": "code",
   "execution_count": null,
   "id": "dc05b3cb-84fd-48a7-b835-158cdbf2310a",
   "metadata": {},
   "outputs": [],
   "source": [
    "ccp_noconf = company_count.where(\"url is not null\")\n",
    "nconf_records = ccp_noconf.agg(F.sum(\"count\")).collect()[0][0]\n",
    "ccp_noconf = ccp_noconf.withColumn(\"perc\", F.col(\"count\") / nconf_records).orderBy(F.col(\"perc\").desc())\n",
    "window = Window.orderBy(F.col(\"perc\").desc()).rowsBetween(Window.unboundedPreceding, Window.currentRow)\n",
    "ccp_noconf.withColumn(\"cumsum\", F.sum(F.col(\"perc\")).over(window)).show(30, truncate=False)"
   ]
  },
  {
   "cell_type": "markdown",
   "id": "1117d68f-bfe2-4691-866b-79926f7cba61",
   "metadata": {},
   "source": [
    "### Confidenciales\n",
    "\n",
    "La URL null son confidenciales"
   ]
  },
  {
   "cell_type": "code",
   "execution_count": null,
   "id": "1cdbbe65-6efc-4da2-b72b-5784f090b4b8",
   "metadata": {},
   "outputs": [],
   "source": [
    "dfu.select([\"company.url\", \"company.name\"]).where(\"company.confidential=TRUE\").count()"
   ]
  },
  {
   "cell_type": "code",
   "execution_count": null,
   "id": "b4f78d4d-dab4-44c2-a490-9355eb58bfb6",
   "metadata": {},
   "outputs": [],
   "source": [
    "dfu.select(\"company.url\").where(\"company.confidential=TRUE\").distinct().count()"
   ]
  },
  {
   "cell_type": "markdown",
   "id": "75d2d8e3-d685-4402-900a-000bbfe6981e",
   "metadata": {},
   "source": [
    "### URLs con minusculas -> agregadas\n",
    "\n",
    "Al parecer las vacantes que tienen company.url en minusculas pero igual a otra URL son de vacantes agregadas"
   ]
  },
  {
   "cell_type": "code",
   "execution_count": null,
   "id": "1240f841-53ea-44cf-86cc-802b211326bb",
   "metadata": {},
   "outputs": [],
   "source": [
    "dfu.where(\"company.url='empleos/bolsa-de-trabajo-Manpower--S-A--de-C-V-/'\").count()"
   ]
  },
  {
   "cell_type": "code",
   "execution_count": null,
   "id": "aaebe9a2-cfa4-4e03-bed3-90ec46c04bef",
   "metadata": {},
   "outputs": [],
   "source": [
    "company_count = dfu.where(\"redirect.type != 2\").groupby(\"company.url\").count().sort(F.col(\"count\").desc())\n",
    "company_count.show(truncate=False)"
   ]
  },
  {
   "cell_type": "code",
   "execution_count": null,
   "id": "900fefd4-5da5-4ecd-9e7d-27df6e20d6b1",
   "metadata": {},
   "outputs": [],
   "source": [
    "company_count = dfu.where(\"redirect.type == 2\").groupby(\"company.url\").count().sort(F.col(\"count\").desc())\n",
    "company_count.show(truncate=False)"
   ]
  },
  {
   "cell_type": "markdown",
   "id": "6d194a3d-6bad-4fe4-bd48-4f6bb1e695e0",
   "metadata": {},
   "source": [
    "Hay que revisar qué nos dicen estos datos para inferir mejor "
   ]
  },
  {
   "cell_type": "code",
   "execution_count": null,
   "id": "2e2dfff7-0ca3-4dc6-ab64-e21571209f84",
   "metadata": {},
   "outputs": [],
   "source": [
    "dfu.where(\"redirect.isRedirected == TRUE\").where(\"autoinclusion.autoinclusion == TRUE\").count()"
   ]
  },
  {
   "cell_type": "code",
   "execution_count": null,
   "id": "a8f71b11-c134-4fbf-b4c1-5d11182848cc",
   "metadata": {},
   "outputs": [],
   "source": [
    "dfu.where(\"redirect.isRedirected == TRUE\").where(\"autoinclusion.autoinclusion == FALSE\").count()"
   ]
  },
  {
   "cell_type": "code",
   "execution_count": null,
   "id": "6394637a-5e55-4b81-918b-b4adb9f0bf66",
   "metadata": {},
   "outputs": [],
   "source": [
    "dfu.where(\"redirect.isRedirected == FALSE\").where(\"autoinclusion.autoinclusion == TRUE\").count()"
   ]
  },
  {
   "cell_type": "code",
   "execution_count": null,
   "id": "47a0533a-5853-494f-ab03-faaa27dc3b89",
   "metadata": {},
   "outputs": [],
   "source": [
    "dfu.where(\"redirect.isRedirected == FALSE\").where(\"autoinclusion.autoinclusion == FALSE\").count()"
   ]
  },
  {
   "cell_type": "code",
   "execution_count": null,
   "id": "f26f0408-48c0-4b27-b89a-20937a215c35",
   "metadata": {},
   "outputs": [],
   "source": [
    "dfu.where(\"redirect.isRedirected == TRUE\")\\\n",
    "    .where(\"autoinclusion.autoinclusion == TRUE\")\\\n",
    "    .select([\"scraped_url\", \"redirect.externalUrl\"])\\\n",
    "    .show(truncate=False)"
   ]
  },
  {
   "cell_type": "markdown",
   "id": "e7a9297a-a51a-4cbb-82e7-564f4f54715e",
   "metadata": {},
   "source": [
    "## Salarios"
   ]
  },
  {
   "cell_type": "code",
   "execution_count": null,
   "id": "bfb6c309-6623-4528-9c07-bd5c5607075c",
   "metadata": {},
   "outputs": [],
   "source": [
    "dfu.select([\"salary.from\", \"salary.to\"]).summary().show()"
   ]
  },
  {
   "cell_type": "markdown",
   "id": "e7549b58-bc1f-4b9d-a137-59adf6f6b0e8",
   "metadata": {},
   "source": [
    "Casi todas las Redir2 (agregadas) no tienen salario, vs 1/3 de las pagadas:"
   ]
  },
  {
   "cell_type": "code",
   "execution_count": null,
   "id": "48a9cb6a-d701-4bd0-acd2-b24bedfe100b",
   "metadata": {},
   "outputs": [],
   "source": [
    "dfu.withColumn(\"has_salary\", F.col(\"salary.from\") != 0).groupby(\"redirect.type\").pivot(\"has_salary\").count().show()"
   ]
  },
  {
   "cell_type": "markdown",
   "id": "8fcf7e1c-c731-4880-a95c-b19de1b43315",
   "metadata": {},
   "source": [
    "Al parecer si alguno de los dos campos de salario es mayor a 0, el otro también lo es"
   ]
  },
  {
   "cell_type": "code",
   "execution_count": null,
   "id": "72a12e76-758f-43f7-a31b-7efa923c1467",
   "metadata": {},
   "outputs": [],
   "source": [
    "salary = dfu.select([\"salary.from\", \"salary.to\"]).where(\"salary.from > 0 or salary.to > 0\")\n",
    "salary = salary.withColumn(\"avg\", (F.col(\"from\") + F.col(\"to\")) / 2)\n",
    "salary.summary().show()"
   ]
  },
  {
   "cell_type": "code",
   "execution_count": null,
   "id": "1817189c-396a-4871-8a2d-f364c35e6a0b",
   "metadata": {},
   "outputs": [],
   "source": [
    "#seleccionar rangos para eliminar outliers - los percentiles son ajustados a algo que permita comparar con CT\n",
    "outlier_limits = salary.select(F.percentile_approx(\"avg\", [0.009, 0.9995]))\n",
    "outlier_min, outlier_max = outlier_limits.collect()[0][0]\n",
    "outlier_limits.show()"
   ]
  },
  {
   "cell_type": "code",
   "execution_count": null,
   "id": "7dfa10a5-cb6c-48a6-aa68-6926e2472861",
   "metadata": {},
   "outputs": [],
   "source": [
    "salary = salary.where(f\"avg >= {outlier_min} and avg <= {outlier_max}\")\n",
    "salary.summary().show()"
   ]
  },
  {
   "cell_type": "markdown",
   "id": "051b71b7-5d0b-40c9-9eb0-e6832bedc113",
   "metadata": {},
   "source": [
    "Esto es solo para extraer jobids que va a ser usados despues"
   ]
  },
  {
   "cell_type": "code",
   "execution_count": null,
   "id": "2e8a5082-6539-434d-bd76-b11b75ca2900",
   "metadata": {},
   "outputs": [],
   "source": [
    "with open(\"occ_jobids_1.txt\", \"w\") as fo:\n",
    "    [fo.write(f\"{y}\\n\") for y in dfu.select(\"id\").sort(F.col(\"id\").cast(\"int\").desc()).limit(10000).rdd.flatMap(lambda x: x).collect()]"
   ]
  },
  {
   "cell_type": "code",
   "execution_count": null,
   "id": "0878a940-075c-4f1c-adbc-5c7ae389913b",
   "metadata": {},
   "outputs": [],
   "source": []
  }
 ],
 "metadata": {
  "kernelspec": {
   "display_name": "Python 3 (ipykernel)",
   "language": "python",
   "name": "python3"
  },
  "language_info": {
   "codemirror_mode": {
    "name": "ipython",
    "version": 3
   },
   "file_extension": ".py",
   "mimetype": "text/x-python",
   "name": "python",
   "nbconvert_exporter": "python",
   "pygments_lexer": "ipython3",
   "version": "3.11.4"
  }
 },
 "nbformat": 4,
 "nbformat_minor": 5
}
