{
 "cells": [
  {
   "cell_type": "markdown",
   "id": "cc1a930d-4db8-4515-8620-e6512a9d4d3e",
   "metadata": {},
   "source": [
    "# Structure Check\n",
    "\n",
    "Cómo tener acceso a los JSON internos de los registros. \n",
    "\n",
    "Es necesario definir un schema. Abajo se ve cómo inferir schema a partir de un ejemplo"
   ]
  },
  {
   "cell_type": "code",
   "execution_count": 69,
   "id": "f652acbc-ec65-4caa-a300-2f48518d50be",
   "metadata": {},
   "outputs": [],
   "source": [
    "import pandas as pd\n",
    "import matplotlib.pyplot as plt\n",
    "\n",
    "import pyspark\n",
    "from pyspark.sql import SparkSession\n",
    "from pyspark.sql import functions as F\n",
    "\n",
    "\n",
    "spark = SparkSession \\\n",
    "    .builder \\\n",
    "    .appName(\"Learning Spark\") \\\n",
    "    .getOrCreate()\n",
    "\n",
    "#df = spark.read.json(\"harvester/occ/tests/test-gdl.jsonl\")\n",
    "df = spark.read.json(\"harvester/occ/20230714/sneaky*.jsonl\")\n",
    "#df = spark.read.json(\"test-cdmx.jsonl\") #from ETL\n",
    "#df = spark.read.json(\"test-full-occ.jsonl\") #from ETL\n",
    "categories = spark.read.json(\"categories.json\")\n",
    "subcategories = spark.read.json(\"subcategories.json\")"
   ]
  },
  {
   "cell_type": "code",
   "execution_count": 79,
   "id": "deff2302-2029-4123-8af7-0bf318ea3f65",
   "metadata": {},
   "outputs": [
    {
     "name": "stdout",
     "output_type": "stream",
     "text": [
      "+--------------+--------------------+---+--------------------+\n",
      "|    __typename|         description| id|                 url|\n",
      "+--------------+--------------------+---+--------------------+\n",
      "|JobSubcategory|   Ventas en general|319|empleos/trabajo-e...|\n",
      "|JobSubcategory|Reclutamiento y s...|190|empleos/trabajo-e...|\n",
      "|JobSubcategory| Ventas corporativas|285|empleos/trabajo-e...|\n",
      "|JobSubcategory|            Actuaría| 73|empleos/trabajo-e...|\n",
      "|JobSubcategory|Promotor - Demost...|289|empleos/trabajo-e...|\n",
      "|JobSubcategory|Máquinas y herram...|308|empleos/trabajo-e...|\n",
      "|JobSubcategory|Administración de...| 32|empleos/trabajo-e...|\n",
      "|JobSubcategory|              Cajero|424|empleos/trabajo-e...|\n",
      "|JobSubcategory| Atención al cliente|260|empleos/trabajo-e...|\n",
      "|JobSubcategory|    Ayudante general| 37|empleos/trabajo-e...|\n",
      "|JobSubcategory|            Finanzas| 79|empleos/trabajo-e...|\n",
      "|JobSubcategory|Organización de e...|175|empleos/trabajo-e...|\n",
      "|JobSubcategory| Alimentos y bebidas|256|empleos/trabajo-e...|\n",
      "|JobSubcategory|Comercio Exterior...|151|empleos/trabajo-e...|\n",
      "|JobSubcategory|Auxiliar administ...|  2|empleos/trabajo-e...|\n",
      "|JobSubcategory|Ingeniería de pro...|139|empleos/trabajo-e...|\n",
      "|JobSubcategory|Ventas inmobiliarias|422|empleos/trabajo-e...|\n",
      "|JobSubcategory|  Control de Calidad| 30|empleos/trabajo-e...|\n",
      "|JobSubcategory|        Contabilidad| 78|empleos/trabajo-e...|\n",
      "|JobSubcategory|     Ventas de campo|286|empleos/trabajo-e...|\n",
      "+--------------+--------------------+---+--------------------+\n",
      "only showing top 20 rows\n",
      "\n"
     ]
    }
   ],
   "source": [
    "#categories.count(), categories.printSchema()\n",
    "subcategories.show()"
   ]
  },
  {
   "cell_type": "code",
   "execution_count": 23,
   "id": "a7388774-f4c2-443e-94f3-33380b681fd0",
   "metadata": {},
   "outputs": [
    {
     "name": "stdout",
     "output_type": "stream",
     "text": [
      "root\n",
      " |-- Job:value: string (nullable = true)\n",
      " |-- __typename: string (nullable = true)\n",
      " |-- applied: boolean (nullable = true)\n",
      " |-- autoinclusion: struct (nullable = true)\n",
      " |    |-- __typename: string (nullable = true)\n",
      " |    |-- autoinclusion: boolean (nullable = true)\n",
      " |    |-- source: string (nullable = true)\n",
      " |-- bullets: array (nullable = true)\n",
      " |    |-- element: struct (containsNull = true)\n",
      " |    |    |-- __ref: string (nullable = true)\n",
      " |-- category: struct (nullable = true)\n",
      " |    |-- __ref: string (nullable = true)\n",
      " |-- company: struct (nullable = true)\n",
      " |    |-- __typename: string (nullable = true)\n",
      " |    |-- confidential: boolean (nullable = true)\n",
      " |    |-- logoUrl: string (nullable = true)\n",
      " |    |-- name: string (nullable = true)\n",
      " |    |-- namePretty: string (nullable = true)\n",
      " |    |-- profile: struct (nullable = true)\n",
      " |    |    |-- __ref: string (nullable = true)\n",
      " |    |-- rel: string (nullable = true)\n",
      " |    |-- url: string (nullable = true)\n",
      " |-- contact: struct (nullable = true)\n",
      " |    |-- __typename: string (nullable = true)\n",
      " |    |-- emailAddress: string (nullable = true)\n",
      " |    |-- name: string (nullable = true)\n",
      " |    |-- phoneNumber: string (nullable = true)\n",
      " |    |-- showContactInfo: boolean (nullable = true)\n",
      " |-- dates: struct (nullable = true)\n",
      " |    |-- __typename: string (nullable = true)\n",
      " |    |-- active: string (nullable = true)\n",
      " |    |-- expires: string (nullable = true)\n",
      " |    |-- publish: string (nullable = true)\n",
      " |-- description: string (nullable = true)\n",
      " |-- education: struct (nullable = true)\n",
      " |    |-- __typename: string (nullable = true)\n",
      " |    |-- level: string (nullable = true)\n",
      " |    |-- url: string (nullable = true)\n",
      " |-- friendlyId: string (nullable = true)\n",
      " |-- googleForJobs: struct (nullable = true)\n",
      " |    |-- __typename: string (nullable = true)\n",
      " |    |-- isGoogleForJobs: boolean (nullable = true)\n",
      " |    |-- isGoogleIndexed: boolean (nullable = true)\n",
      " |-- hiring: struct (nullable = true)\n",
      " |    |-- __typename: string (nullable = true)\n",
      " |    |-- contract: boolean (nullable = true)\n",
      " |    |-- fullTime: boolean (nullable = true)\n",
      " |    |-- partTime: boolean (nullable = true)\n",
      " |    |-- permanent: boolean (nullable = true)\n",
      " |    |-- temporary: boolean (nullable = true)\n",
      " |    |-- url: string (nullable = true)\n",
      " |-- id: string (nullable = true)\n",
      " |-- jobBody: string (nullable = true)\n",
      " |-- jobType: string (nullable = true)\n",
      " |-- level: struct (nullable = true)\n",
      " |    |-- __ref: string (nullable = true)\n",
      " |-- location: struct (nullable = true)\n",
      " |    |-- __typename: string (nullable = true)\n",
      " |    |-- description: string (nullable = true)\n",
      " |    |-- locations: array (nullable = true)\n",
      " |    |    |-- element: struct (containsNull = true)\n",
      " |    |    |    |-- __typename: string (nullable = true)\n",
      " |    |    |    |-- city: struct (nullable = true)\n",
      " |    |    |    |    |-- __typename: string (nullable = true)\n",
      " |    |    |    |    |-- description: string (nullable = true)\n",
      " |    |    |    |    |-- jobCity: string (nullable = true)\n",
      " |    |    |    |    |-- rel: string (nullable = true)\n",
      " |    |    |    |    |-- url: string (nullable = true)\n",
      " |    |    |    |-- country: struct (nullable = true)\n",
      " |    |    |    |    |-- __ref: string (nullable = true)\n",
      " |    |    |    |-- locationId: string (nullable = true)\n",
      " |    |    |    |-- placeId: string (nullable = true)\n",
      " |    |    |    |-- state: struct (nullable = true)\n",
      " |    |    |    |    |-- __typename: string (nullable = true)\n",
      " |    |    |    |    |-- abbreviation: string (nullable = true)\n",
      " |    |    |    |    |-- description: string (nullable = true)\n",
      " |    |    |    |    |-- rel: string (nullable = true)\n",
      " |    |    |    |    |-- url: string (nullable = true)\n",
      " |    |    |    |-- zone: struct (nullable = true)\n",
      " |    |    |    |    |-- __typename: string (nullable = true)\n",
      " |    |    |    |    |-- description: string (nullable = true)\n",
      " |    |-- url: string (nullable = true)\n",
      " |-- profileId: string (nullable = true)\n",
      " |-- redirect: struct (nullable = true)\n",
      " |    |-- __typename: string (nullable = true)\n",
      " |    |-- externalUrl: string (nullable = true)\n",
      " |    |-- isRedirected: boolean (nullable = true)\n",
      " |    |-- redirected: boolean (nullable = true)\n",
      " |    |-- type: long (nullable = true)\n",
      " |-- requisition: struct (nullable = true)\n",
      " |    |-- __ref: string (nullable = true)\n",
      " |-- salary: struct (nullable = true)\n",
      " |    |-- __typename: string (nullable = true)\n",
      " |    |-- from: long (nullable = true)\n",
      " |    |-- performanceCompensation: long (nullable = true)\n",
      " |    |-- show: boolean (nullable = true)\n",
      " |    |-- time: long (nullable = true)\n",
      " |    |-- to: long (nullable = true)\n",
      " |    |-- variableCompensation: long (nullable = true)\n",
      " |-- scraped_at: string (nullable = true)\n",
      " |-- scraped_by_uuid: string (nullable = true)\n",
      " |-- scraped_crawler: string (nullable = true)\n",
      " |-- scraped_identifier: string (nullable = true)\n",
      " |-- scraped_record_version: string (nullable = true)\n",
      " |-- scraped_url: string (nullable = true)\n",
      " |-- scraped_uuid: string (nullable = true)\n",
      " |-- simVal: string (nullable = true)\n",
      " |-- skill: struct (nullable = true)\n",
      " |    |-- __typename: string (nullable = true)\n",
      " |    |-- hasSkills: boolean (nullable = true)\n",
      " |    |-- skills: array (nullable = true)\n",
      " |    |    |-- element: struct (containsNull = true)\n",
      " |    |    |    |-- __ref: string (nullable = true)\n",
      " |-- subcategory: struct (nullable = true)\n",
      " |    |-- __ref: string (nullable = true)\n",
      " |-- tags: struct (nullable = true)\n",
      " |    |-- __typename: string (nullable = true)\n",
      " |    |-- lessThan20: boolean (nullable = true)\n",
      " |-- title: string (nullable = true)\n",
      " |-- url: string (nullable = true)\n",
      " |-- workMode: struct (nullable = true)\n",
      " |    |-- __typename: string (nullable = true)\n",
      " |    |-- description: string (nullable = true)\n",
      " |    |-- url: string (nullable = true)\n",
      "\n"
     ]
    },
    {
     "data": {
      "text/plain": [
       "(125951, None)"
      ]
     },
     "execution_count": 23,
     "metadata": {},
     "output_type": "execute_result"
    }
   ],
   "source": [
    "df.count(), df.printSchema()"
   ]
  },
  {
   "cell_type": "code",
   "execution_count": 24,
   "id": "f5220a8d-f87b-4dc5-b636-6123d58a2df3",
   "metadata": {},
   "outputs": [
    {
     "name": "stdout",
     "output_type": "stream",
     "text": [
      "-RECORD 0--------------------------------------------------------------------------------------------------------------------------------------------------------------------------------------------------------------------------------------------------------------------------------------------------------------------------------------------------------------------------------------------------------------------------------------------------------------------------------------------------------------------------------------------------------------------------------------------------------------------------------------------------------------------------------------------------------------------------------------------------------------------------------------------------------------------------------------------------------------------------------------------------------------------------------------------------------------------------------------------------------------------------------------------------------------------------------------------------------------------------------------------------------------------------------------------------------------------------------------------------------------------------------------------------------------------------------------------------------------------------------------------------------------------------------------------------------------------------------------------------------------------------------------------------------------------------------------------------------------------------------------------------------------------------------------------------------------------------------------------------------------------------------------------------------------------------------------------------------------------------------------------------------------------------------------------------------------------------------------------------------------------------------------------------------------------------------------------------------------------------------------------------------------------------------------------------------------------------------------------------------------------------------------------------------------------------------------------------------------------------------------------------------------------------------------------------------------------------------------------------------------------------------------------------------------------------------------------------------------------------------------------------------------------------------------------------------------------------------------------------------------------------------------------------------------------------------------------------------------------------------------------------------------------------------------------------------------------------------------------------\n",
      " Job:value              | Job:16957169                                                                                                                                                                                                                                                                                                                                                                                                                                                                                                                                                                                                                                                                                                                                                                                                                                                                                                                                                                                                                                                                                                                                                                                                                                                                                                                                                                                                                                                                                                                                                                                                                                                                                                                                                                                                                                                                                                                                                                                                                                                                                                                                                                                                                                                                                                                                                                                                                                                                                                                                                                                                                                                                                                                                                                                                                                                                                                                                                                     \n",
      " __typename             | Job                                                                                                                                                                                                                                                                                                                                                                                                                                                                                                                                                                                                                                                                                                                                                                                                                                                                                                                                                                                                                                                                                                                                                                                                                                                                                                                                                                                                                                                                                                                                                                                                                                                                                                                                                                                                                                                                                                                                                                                                                                                                                                                                                                                                                                                                                                                                                                                                                                                                                                                                                                                                                                                                                                                                                                                                                                                                                                                                                                              \n",
      " applied                | false                                                                                                                                                                                                                                                                                                                                                                                                                                                                                                                                                                                                                                                                                                                                                                                                                                                                                                                                                                                                                                                                                                                                                                                                                                                                                                                                                                                                                                                                                                                                                                                                                                                                                                                                                                                                                                                                                                                                                                                                                                                                                                                                                                                                                                                                                                                                                                                                                                                                                                                                                                                                                                                                                                                                                                                                                                                                                                                                                                            \n",
      " autoinclusion          | {JobAutoinclusion, false, }                                                                                                                                                                                                                                                                                                                                                                                                                                                                                                                                                                                                                                                                                                                                                                                                                                                                                                                                                                                                                                                                                                                                                                                                                                                                                                                                                                                                                                                                                                                                                                                                                                                                                                                                                                                                                                                                                                                                                                                                                                                                                                                                                                                                                                                                                                                                                                                                                                                                                                                                                                                                                                                                                                                                                                                                                                                                                                                                                      \n",
      " bullets                | []                                                                                                                                                                                                                                                                                                                                                                                                                                                                                                                                                                                                                                                                                                                                                                                                                                                                                                                                                                                                                                                                                                                                                                                                                                                                                                                                                                                                                                                                                                                                                                                                                                                                                                                                                                                                                                                                                                                                                                                                                                                                                                                                                                                                                                                                                                                                                                                                                                                                                                                                                                                                                                                                                                                                                                                                                                                                                                                                                                               \n",
      " category               | {JobCategory:19}                                                                                                                                                                                                                                                                                                                                                                                                                                                                                                                                                                                                                                                                                                                                                                                                                                                                                                                                                                                                                                                                                                                                                                                                                                                                                                                                                                                                                                                                                                                                                                                                                                                                                                                                                                                                                                                                                                                                                                                                                                                                                                                                                                                                                                                                                                                                                                                                                                                                                                                                                                                                                                                                                                                                                                                                                                                                                                                                                                 \n",
      " company                | {JobCompany, false, https://cdn-h4.occ.com.mx/images/logos/common/no_logo.jpg, Banorte, Banorte, null, null, empleos/bolsa-de-trabajo-Banorte/}                                                                                                                                                                                                                                                                                                                                                                                                                                                                                                                                                                                                                                                                                                                                                                                                                                                                                                                                                                                                                                                                                                                                                                                                                                                                                                                                                                                                                                                                                                                                                                                                                                                                                                                                                                                                                                                                                                                                                                                                                                                                                                                                                                                                                                                                                                                                                                                                                                                                                                                                                                                                                                                                                                                                                                                                                                  \n",
      " contact                | {JobContact, S6LTDUUBY2AWSAONFUOETA6AQZGM3MCFNIMF2HRJLTSCVUSWFS6PD2S4YWNPOOISF3DECKTVAZY5O===@reply.occ.com.mx, Ximena Flores, 5636929652, true}                                                                                                                                                                                                                                                                                                                                                                                                                                                                                                                                                                                                                                                                                                                                                                                                                                                                                                                                                                                                                                                                                                                                                                                                                                                                                                                                                                                                                                                                                                                                                                                                                                                                                                                                                                                                                                                                                                                                                                                                                                                                                                                                                                                                                                                                                                                                                                                                                                                                                                                                                                                                                                                                                                                                                                                                                                 \n",
      " dates                  | {JobDates, 2023-06-27 12:36:39, 2023-08-26 23:59:59, 2023-06-27 00:00:00}                                                                                                                                                                                                                                                                                                                                                                                                                                                                                                                                                                                                                                                                                                                                                                                                                                                                                                                                                                                                                                                                                                                                                                                                                                                                                                                                                                                                                                                                                                                                                                                                                                                                                                                                                                                                                                                                                                                                                                                                                                                                                                                                                                                                                                                                                                                                                                                                                                                                                                                                                                                                                                                                                                                                                                                                                                                                                                        \n",
      " description            | EJECUTIVO HIPOTECARIO      En Banorte buscamos talento único, fuerte y extraordinario, que impulse la transformación e innovación del país, convirtiéndonos en un gran aliado para crecer fuerte con Méx ...                                                                                                                                                                                                                                                                                                                                                                                                                                                                                                                                                                                                                                                                                                                                                                                                                                                                                                                                                                                                                                                                                                                                                                                                                                                                                                                                                                                                                                                                                                                                                                                                                                                                                                                                                                                                                                                                                                                                                                                                                                                                                                                                                                                                                                                                                                                                                                                                                                                                                                                                                                                                                                                                                                                                                                     \n",
      " education              | {JobEducation, HIGH_SCHOOL, empleos/nivel-bachillerato/}                                                                                                                                                                                                                                                                                                                                                                                                                                                                                                                                                                                                                                                                                                                                                                                                                                                                                                                                                                                                                                                                                                                                                                                                                                                                                                                                                                                                                                                                                                                                                                                                                                                                                                                                                                                                                                                                                                                                                                                                                                                                                                                                                                                                                                                                                                                                                                                                                                                                                                                                                                                                                                                                                                                                                                                                                                                                                                                         \n",
      " friendlyId             | 16957169-ejecutivo-hipotecario-zona-a-laborar-en-reforma                                                                                                                                                                                                                                                                                                                                                                                                                                                                                                                                                                                                                                                                                                                                                                                                                                                                                                                                                                                                                                                                                                                                                                                                                                                                                                                                                                                                                                                                                                                                                                                                                                                                                                                                                                                                                                                                                                                                                                                                                                                                                                                                                                                                                                                                                                                                                                                                                                                                                                                                                                                                                                                                                                                                                                                                                                                                                                                         \n",
      " googleForJobs          | {GoogleForJobs, true, true}                                                                                                                                                                                                                                                                                                                                                                                                                                                                                                                                                                                                                                                                                                                                                                                                                                                                                                                                                                                                                                                                                                                                                                                                                                                                                                                                                                                                                                                                                                                                                                                                                                                                                                                                                                                                                                                                                                                                                                                                                                                                                                                                                                                                                                                                                                                                                                                                                                                                                                                                                                                                                                                                                                                                                                                                                                                                                                                                                      \n",
      " hiring                 | {JobHiring, false, true, false, true, false, empleos/permanente/}                                                                                                                                                                                                                                                                                                                                                                                                                                                                                                                                                                                                                                                                                                                                                                                                                                                                                                                                                                                                                                                                                                                                                                                                                                                                                                                                                                                                                                                                                                                                                                                                                                                                                                                                                                                                                                                                                                                                                                                                                                                                                                                                                                                                                                                                                                                                                                                                                                                                                                                                                                                                                                                                                                                                                                                                                                                                                                                \n",
      " id                     | 16957169                                                                                                                                                                                                                                                                                                                                                                                                                                                                                                                                                                                                                                                                                                                                                                                                                                                                                                                                                                                                                                                                                                                                                                                                                                                                                                                                                                                                                                                                                                                                                                                                                                                                                                                                                                                                                                                                                                                                                                                                                                                                                                                                                                                                                                                                                                                                                                                                                                                                                                                                                                                                                                                                                                                                                                                                                                                                                                                                                                         \n",
      " jobBody                | <p><strong>EJECUTIVO HIPOTECARIO</strong></p><p>&nbsp;</p><p>En Banorte buscamos talento &uacute;nico, fuerte y extraordinario, que impulse la transformaci&oacute;n e innovaci&oacute;n del pa&iacute;s, convirti&eacute;ndonos en un gran aliado para crecer fuerte con M&eacute;xico.</p><p>Estamos convencidos que la combinaci&oacute;n de solidaridad, innovaci&oacute;n, respeto, lealtad y responsabilidad es la f&oacute;rmula perfecta para ser el mejor equipo del sector financiero.</p><p>&nbsp;</p><p><strong>Objetivo del puesto:&nbsp;</strong>&nbsp;Atenci&oacute;n, prospecci&oacute;n y captaci&oacute;n de clientes del sector Hipotecario.&nbsp;&nbsp;&nbsp;&nbsp;&nbsp;&nbsp;</p><p>&nbsp;&nbsp;&nbsp;&nbsp;&nbsp;&nbsp;&nbsp;&nbsp;&nbsp;&nbsp;&nbsp;&nbsp;&nbsp;&nbsp;&nbsp;&nbsp;&nbsp;&nbsp;&nbsp;&nbsp;&nbsp;&nbsp;&nbsp;&nbsp;&nbsp;&nbsp;&nbsp;&nbsp;&nbsp;&nbsp;&nbsp;&nbsp;&nbsp;&nbsp;&nbsp;&nbsp;&nbsp;&nbsp;&nbsp;&nbsp;&nbsp;&nbsp;&nbsp;&nbsp;&nbsp;&nbsp;&nbsp;&nbsp;&nbsp;&nbsp;&nbsp;&nbsp;&nbsp;&nbsp;&nbsp;&nbsp;&nbsp;&nbsp;&nbsp;&nbsp;&nbsp;&nbsp;&nbsp;&nbsp;&nbsp;&nbsp;&nbsp;&nbsp;&nbsp;&nbsp;&nbsp;&nbsp;&nbsp;&nbsp;&nbsp;&nbsp;&nbsp;&nbsp;&nbsp;&nbsp;&nbsp;&nbsp;&nbsp;&nbsp;&nbsp;&nbsp;&nbsp;&nbsp;&nbsp;&nbsp;&nbsp;&nbsp;&nbsp;&nbsp;&nbsp;&nbsp;&nbsp;&nbsp;&nbsp;&nbsp;&nbsp;&nbsp;&nbsp;&nbsp;&nbsp;&nbsp;&nbsp;&nbsp;&nbsp;&nbsp;&nbsp;&nbsp;&nbsp;&nbsp;</p><p>Cada d&iacute;a te encontrar&aacute;s ante&nbsp;<strong>nuevos e interesantes retos</strong>&nbsp;dentro de tu puesto, en los cuales ser&aacute;s responsable de:</p><p>&nbsp;</p><p>&nbsp;</p><p><br></p><ul><li>Atenci&oacute;n a cartera de clientes hipotecario</li><li>Generaci&oacute;n de nuevos clientes</li><li>Promoci&oacute;n y captaci&oacute;n de productos hipotecarios.</li></ul><p>&nbsp;</p><p><strong>Requisitos:</strong></p><p>&nbsp;</p><p><br></p><ul><li><strong>Formaci&oacute;n profesional: Preparatoria</strong>. Preferentemente</li><li><strong>A&ntilde;os de experiencia:</strong>&nbsp;2 a&ntilde;os de experiencia en puesto similar</li><li><strong>&Aacute;reas de experiencia:</strong>&nbsp;Hipotecario</li><li><strong>Conocimientos requeridos:</strong>&nbsp;hipotecario</li><li><strong>Idiomas:</strong>&nbsp;No necesario</li><li><strong>Disponibilidad para viajar:</strong>&nbsp;No necesario</li><li><strong>Disponibilidad para cambio de residencia:</strong>&nbsp;No necesario</li><li>&nbsp;</li></ul><p>Haz clic en el bot&oacute;n&nbsp;<strong>aplicar&nbsp;</strong>y<strong>&nbsp;</strong>no pierdas la oportunidad de desarrollar todo tu potencial.</p><p>&nbsp;</p><p>En Banorte actuamos bajo un principio de igualdad de oportunidades. Por ello no discriminamos por edad, origen &eacute;tnico, nacionalidad, g&eacute;nero, orientaci&oacute;n sexual, estado civil, condici&oacute;n social, estado de salud, creencias religiosas, doctrina pol&iacute;tica o discapacidad.</p> \n",
      " jobType                | CLASSIC                                                                                                                                                                                                                                                                                                                                                                                                                                                                                                                                                                                                                                                                                                                                                                                                                                                                                                                                                                                                                                                                                                                                                                                                                                                                                                                                                                                                                                                                                                                                                                                                                                                                                                                                                                                                                                                                                                                                                                                                                                                                                                                                                                                                                                                                                                                                                                                                                                                                                                                                                                                                                                                                                                                                                                                                                                                                                                                                                                          \n",
      " level                  | {JobLevel:}                                                                                                                                                                                                                                                                                                                                                                                                                                                                                                                                                                                                                                                                                                                                                                                                                                                                                                                                                                                                                                                                                                                                                                                                                                                                                                                                                                                                                                                                                                                                                                                                                                                                                                                                                                                                                                                                                                                                                                                                                                                                                                                                                                                                                                                                                                                                                                                                                                                                                                                                                                                                                                                                                                                                                                                                                                                                                                                                                                      \n",
      " location               | {JobLocation, Ciudad de México, [{JobLocationData, {CityLocation, , , null, null}, {CountryLocation:MX}, 264, 21957, {StateLocation, CDMX, Ciudad de México, null, empleos/en-ciudad-de-mexico/}, {ZoneLocation, }}], empleos-en-distrito-federal}                                                                                                                                                                                                                                                                                                                                                                                                                                                                                                                                                                                                                                                                                                                                                                                                                                                                                                                                                                                                                                                                                                                                                                                                                                                                                                                                                                                                                                                                                                                                                                                                                                                                                                                                                                                                                                                                                                                                                                                                                                                                                                                                                                                                                                                                                                                                                                                                                                                                                                                                                                                                                                                                                                                               \n",
      " profileId              | null                                                                                                                                                                                                                                                                                                                                                                                                                                                                                                                                                                                                                                                                                                                                                                                                                                                                                                                                                                                                                                                                                                                                                                                                                                                                                                                                                                                                                                                                                                                                                                                                                                                                                                                                                                                                                                                                                                                                                                                                                                                                                                                                                                                                                                                                                                                                                                                                                                                                                                                                                                                                                                                                                                                                                                                                                                                                                                                                                                             \n",
      " redirect               | {JobRedirect, , false, false, 1}                                                                                                                                                                                                                                                                                                                                                                                                                                                                                                                                                                                                                                                                                                                                                                                                                                                                                                                                                                                                                                                                                                                                                                                                                                                                                                                                                                                                                                                                                                                                                                                                                                                                                                                                                                                                                                                                                                                                                                                                                                                                                                                                                                                                                                                                                                                                                                                                                                                                                                                                                                                                                                                                                                                                                                                                                                                                                                                                                 \n",
      " requisition            | {JobRequisition:}                                                                                                                                                                                                                                                                                                                                                                                                                                                                                                                                                                                                                                                                                                                                                                                                                                                                                                                                                                                                                                                                                                                                                                                                                                                                                                                                                                                                                                                                                                                                                                                                                                                                                                                                                                                                                                                                                                                                                                                                                                                                                                                                                                                                                                                                                                                                                                                                                                                                                                                                                                                                                                                                                                                                                                                                                                                                                                                                                                \n",
      " salary                 | {JobSalary, 16238, 1, true, 0, 16238, 0}                                                                                                                                                                                                                                                                                                                                                                                                                                                                                                                                                                                                                                                                                                                                                                                                                                                                                                                                                                                                                                                                                                                                                                                                                                                                                                                                                                                                                                                                                                                                                                                                                                                                                                                                                                                                                                                                                                                                                                                                                                                                                                                                                                                                                                                                                                                                                                                                                                                                                                                                                                                                                                                                                                                                                                                                                                                                                                                                         \n",
      " scraped_at             | 2023-07-10 12:52:34.486239                                                                                                                                                                                                                                                                                                                                                                                                                                                                                                                                                                                                                                                                                                                                                                                                                                                                                                                                                                                                                                                                                                                                                                                                                                                                                                                                                                                                                                                                                                                                                                                                                                                                                                                                                                                                                                                                                                                                                                                                                                                                                                                                                                                                                                                                                                                                                                                                                                                                                                                                                                                                                                                                                                                                                                                                                                                                                                                                                       \n",
      " scraped_by_uuid        | 3a965cadd3d64564bc9baf4b20aff194                                                                                                                                                                                                                                                                                                                                                                                                                                                                                                                                                                                                                                                                                                                                                                                                                                                                                                                                                                                                                                                                                                                                                                                                                                                                                                                                                                                                                                                                                                                                                                                                                                                                                                                                                                                                                                                                                                                                                                                                                                                                                                                                                                                                                                                                                                                                                                                                                                                                                                                                                                                                                                                                                                                                                                                                                                                                                                                                                 \n",
      " scraped_crawler        | SneakySpider                                                                                                                                                                                                                                                                                                                                                                                                                                                                                                                                                                                                                                                                                                                                                                                                                                                                                                                                                                                                                                                                                                                                                                                                                                                                                                                                                                                                                                                                                                                                                                                                                                                                                                                                                                                                                                                                                                                                                                                                                                                                                                                                                                                                                                                                                                                                                                                                                                                                                                                                                                                                                                                                                                                                                                                                                                                                                                                                                                     \n",
      " scraped_identifier     | 16957169                                                                                                                                                                                                                                                                                                                                                                                                                                                                                                                                                                                                                                                                                                                                                                                                                                                                                                                                                                                                                                                                                                                                                                                                                                                                                                                                                                                                                                                                                                                                                                                                                                                                                                                                                                                                                                                                                                                                                                                                                                                                                                                                                                                                                                                                                                                                                                                                                                                                                                                                                                                                                                                                                                                                                                                                                                                                                                                                                                         \n",
      " scraped_record_version | 0.0.10                                                                                                                                                                                                                                                                                                                                                                                                                                                                                                                                                                                                                                                                                                                                                                                                                                                                                                                                                                                                                                                                                                                                                                                                                                                                                                                                                                                                                                                                                                                                                                                                                                                                                                                                                                                                                                                                                                                                                                                                                                                                                                                                                                                                                                                                                                                                                                                                                                                                                                                                                                                                                                                                                                                                                                                                                                                                                                                                                                           \n",
      " scraped_url            | https://www.occ.com.mx/empleo/oferta/16957169-ejecutivo-hipotecario-zona-a-laborar-en-reforma/                                                                                                                                                                                                                                                                                                                                                                                                                                                                                                                                                                                                                                                                                                                                                                                                                                                                                                                                                                                                                                                                                                                                                                                                                                                                                                                                                                                                                                                                                                                                                                                                                                                                                                                                                                                                                                                                                                                                                                                                                                                                                                                                                                                                                                                                                                                                                                                                                                                                                                                                                                                                                                                                                                                                                                                                                                                                                   \n",
      " scraped_uuid           | cfa9069d-1218-409e-8684-9cce0f8cc26b                                                                                                                                                                                                                                                                                                                                                                                                                                                                                                                                                                                                                                                                                                                                                                                                                                                                                                                                                                                                                                                                                                                                                                                                                                                                                                                                                                                                                                                                                                                                                                                                                                                                                                                                                                                                                                                                                                                                                                                                                                                                                                                                                                                                                                                                                                                                                                                                                                                                                                                                                                                                                                                                                                                                                                                                                                                                                                                                             \n",
      " simVal                 | null                                                                                                                                                                                                                                                                                                                                                                                                                                                                                                                                                                                                                                                                                                                                                                                                                                                                                                                                                                                                                                                                                                                                                                                                                                                                                                                                                                                                                                                                                                                                                                                                                                                                                                                                                                                                                                                                                                                                                                                                                                                                                                                                                                                                                                                                                                                                                                                                                                                                                                                                                                                                                                                                                                                                                                                                                                                                                                                                                                             \n",
      " skill                  | {JobSkills, false, []}                                                                                                                                                                                                                                                                                                                                                                                                                                                                                                                                                                                                                                                                                                                                                                                                                                                                                                                                                                                                                                                                                                                                                                                                                                                                                                                                                                                                                                                                                                                                                                                                                                                                                                                                                                                                                                                                                                                                                                                                                                                                                                                                                                                                                                                                                                                                                                                                                                                                                                                                                                                                                                                                                                                                                                                                                                                                                                                                                           \n",
      " subcategory            | {JobSubcategory:319}                                                                                                                                                                                                                                                                                                                                                                                                                                                                                                                                                                                                                                                                                                                                                                                                                                                                                                                                                                                                                                                                                                                                                                                                                                                                                                                                                                                                                                                                                                                                                                                                                                                                                                                                                                                                                                                                                                                                                                                                                                                                                                                                                                                                                                                                                                                                                                                                                                                                                                                                                                                                                                                                                                                                                                                                                                                                                                                                                             \n",
      " tags                   | {JobTags, false}                                                                                                                                                                                                                                                                                                                                                                                                                                                                                                                                                                                                                                                                                                                                                                                                                                                                                                                                                                                                                                                                                                                                                                                                                                                                                                                                                                                                                                                                                                                                                                                                                                                                                                                                                                                                                                                                                                                                                                                                                                                                                                                                                                                                                                                                                                                                                                                                                                                                                                                                                                                                                                                                                                                                                                                                                                                                                                                                                                 \n",
      " title                  | Ejecutivo Hipotecario - Zona a laborar en Reforma                                                                                                                                                                                                                                                                                                                                                                                                                                                                                                                                                                                                                                                                                                                                                                                                                                                                                                                                                                                                                                                                                                                                                                                                                                                                                                                                                                                                                                                                                                                                                                                                                                                                                                                                                                                                                                                                                                                                                                                                                                                                                                                                                                                                                                                                                                                                                                                                                                                                                                                                                                                                                                                                                                                                                                                                                                                                                                                                \n",
      " url                    | /empleo/oferta/16957169-ejecutivo-hipotecario-zona-a-laborar-en-reforma?rank=1&page=1&sessionid=&userid=&uuid=782ef874-0d28-4657-a775-2e086cac83d3&origin=unknown&type=0&ai=false&ais=&showseo=true&returnURL=%2Fempleos-en-mexico-y-el-mundo%3Fsessionid%3D%26userid%3D%231                                                                                                                                                                                                                                                                                                                                                                                                                                                                                                                                                                                                                                                                                                                                                                                                                                                                                                                                                                                                                                                                                                                                                                                                                                                                                                                                                                                                                                                                                                                                                                                                                                                                                                                                                                                                                                                                                                                                                                                                                                                                                                                                                                                                                                                                                                                                                                                                                                                                                                                                                                                                                                                                                                     \n",
      " workMode               | {JobWorkMode, IN_PERSON, empleos/tipo-en-oficina/}                                                                                                                                                                                                                                                                                                                                                                                                                                                                                                                                                                                                                                                                                                                                                                                                                                                                                                                                                                                                                                                                                                                                                                                                                                                                                                                                                                                                                                                                                                                                                                                                                                                                                                                                                                                                                                                                                                                                                                                                                                                                                                                                                                                                                                                                                                                                                                                                                                                                                                                                                                                                                                                                                                                                                                                                                                                                                                                               \n",
      "only showing top 1 row\n",
      "\n"
     ]
    }
   ],
   "source": [
    "#df.toPandas()\n",
    "df.show(1, vertical=True, truncate=False)"
   ]
  },
  {
   "cell_type": "code",
   "execution_count": 125,
   "id": "655df9f5-9ab1-4ff1-b5c0-09bc6e71c9b5",
   "metadata": {},
   "outputs": [
    {
     "data": {
      "text/plain": [
       "(125951, 122697)"
      ]
     },
     "execution_count": 125,
     "metadata": {},
     "output_type": "execute_result"
    }
   ],
   "source": [
    "df.count(), df.select('id').distinct().count()"
   ]
  },
  {
   "cell_type": "code",
   "execution_count": 25,
   "id": "d9d7962f-3655-44a6-81be-f43e320b1390",
   "metadata": {},
   "outputs": [
    {
     "name": "stdout",
     "output_type": "stream",
     "text": [
      "+----+-----+\n",
      "|type|count|\n",
      "+----+-----+\n",
      "|   0|79293|\n",
      "|   1| 3750|\n",
      "|   2|42908|\n",
      "+----+-----+\n",
      "\n"
     ]
    }
   ],
   "source": [
    "df.groupby(\"redirect.type\").count().show()"
   ]
  },
  {
   "cell_type": "code",
   "execution_count": 26,
   "id": "21c15790-dcc8-4495-b204-6fd38ed4d5a4",
   "metadata": {},
   "outputs": [
    {
     "name": "stdout",
     "output_type": "stream",
     "text": [
      "+--------+-----+\n",
      "| jobType|count|\n",
      "+--------+-----+\n",
      "| PREMIUM| 3098|\n",
      "|STANDOUT|29015|\n",
      "| CLASSIC|93838|\n",
      "+--------+-----+\n",
      "\n"
     ]
    }
   ],
   "source": [
    "df.groupby(\"jobType\").count().show()"
   ]
  },
  {
   "cell_type": "code",
   "execution_count": 98,
   "id": "5fa4cdca-8785-434a-a9ad-14222504edf5",
   "metadata": {},
   "outputs": [
    {
     "name": "stdout",
     "output_type": "stream",
     "text": [
      "+--------+-----+----+-----+\n",
      "| jobType|    0|   1|    2|\n",
      "+--------+-----+----+-----+\n",
      "| PREMIUM| 3075|  23| null|\n",
      "|STANDOUT|28379| 410|  226|\n",
      "| CLASSIC|47839|3317|42682|\n",
      "+--------+-----+----+-----+\n",
      "\n"
     ]
    }
   ],
   "source": [
    "df.groupby(\"jobType\").pivot(\"redirect.type\").count().show()"
   ]
  },
  {
   "cell_type": "code",
   "execution_count": 118,
   "id": "677dbb75-93fa-471c-9e94-60839c002554",
   "metadata": {},
   "outputs": [
    {
     "data": {
      "text/html": [
       "<div>\n",
       "<style scoped>\n",
       "    .dataframe tbody tr th:only-of-type {\n",
       "        vertical-align: middle;\n",
       "    }\n",
       "\n",
       "    .dataframe tbody tr th {\n",
       "        vertical-align: top;\n",
       "    }\n",
       "\n",
       "    .dataframe thead th {\n",
       "        text-align: right;\n",
       "    }\n",
       "</style>\n",
       "<table border=\"1\" class=\"dataframe\">\n",
       "  <thead>\n",
       "    <tr style=\"text-align: right;\">\n",
       "      <th></th>\n",
       "      <th>NoRedir</th>\n",
       "      <th>Redir1</th>\n",
       "      <th>Redir2</th>\n",
       "    </tr>\n",
       "    <tr>\n",
       "      <th>jobType</th>\n",
       "      <th></th>\n",
       "      <th></th>\n",
       "      <th></th>\n",
       "    </tr>\n",
       "  </thead>\n",
       "  <tbody>\n",
       "    <tr>\n",
       "      <th>PREMIUM</th>\n",
       "      <td>0.992576</td>\n",
       "      <td>0.007424</td>\n",
       "      <td>0.000000</td>\n",
       "    </tr>\n",
       "    <tr>\n",
       "      <th>STANDOUT</th>\n",
       "      <td>0.978080</td>\n",
       "      <td>0.014131</td>\n",
       "      <td>0.007789</td>\n",
       "    </tr>\n",
       "    <tr>\n",
       "      <th>CLASSIC</th>\n",
       "      <td>0.509804</td>\n",
       "      <td>0.035348</td>\n",
       "      <td>0.454848</td>\n",
       "    </tr>\n",
       "  </tbody>\n",
       "</table>\n",
       "</div>"
      ],
      "text/plain": [
       "           NoRedir    Redir1    Redir2\n",
       "jobType                               \n",
       "PREMIUM   0.992576  0.007424  0.000000\n",
       "STANDOUT  0.978080  0.014131  0.007789\n",
       "CLASSIC   0.509804  0.035348  0.454848"
      ]
     },
     "execution_count": 118,
     "metadata": {},
     "output_type": "execute_result"
    }
   ],
   "source": [
    "pdf = df.groupby(\"jobType\").pivot(\"redirect.type\").count().toPandas().fillna(0).set_index('jobType')\n",
    "pdf.columns = ['NoRedir', 'Redir1', 'Redir2']\n",
    "pdf.div(pdf.sum(axis=1), axis=0)"
   ]
  },
  {
   "cell_type": "code",
   "execution_count": 119,
   "id": "ff55554b-82e7-450d-988e-6eda699af8b3",
   "metadata": {},
   "outputs": [
    {
     "data": {
      "text/html": [
       "<div>\n",
       "<style scoped>\n",
       "    .dataframe tbody tr th:only-of-type {\n",
       "        vertical-align: middle;\n",
       "    }\n",
       "\n",
       "    .dataframe tbody tr th {\n",
       "        vertical-align: top;\n",
       "    }\n",
       "\n",
       "    .dataframe thead th {\n",
       "        text-align: right;\n",
       "    }\n",
       "</style>\n",
       "<table border=\"1\" class=\"dataframe\">\n",
       "  <thead>\n",
       "    <tr style=\"text-align: right;\">\n",
       "      <th></th>\n",
       "      <th>NoRedir</th>\n",
       "      <th>Redir1</th>\n",
       "      <th>Redir2</th>\n",
       "    </tr>\n",
       "    <tr>\n",
       "      <th>jobType</th>\n",
       "      <th></th>\n",
       "      <th></th>\n",
       "      <th></th>\n",
       "    </tr>\n",
       "  </thead>\n",
       "  <tbody>\n",
       "    <tr>\n",
       "      <th>PREMIUM</th>\n",
       "      <td>0.038780</td>\n",
       "      <td>0.006133</td>\n",
       "      <td>0.000000</td>\n",
       "    </tr>\n",
       "    <tr>\n",
       "      <th>STANDOUT</th>\n",
       "      <td>0.357900</td>\n",
       "      <td>0.109333</td>\n",
       "      <td>0.005267</td>\n",
       "    </tr>\n",
       "    <tr>\n",
       "      <th>CLASSIC</th>\n",
       "      <td>0.603319</td>\n",
       "      <td>0.884533</td>\n",
       "      <td>0.994733</td>\n",
       "    </tr>\n",
       "  </tbody>\n",
       "</table>\n",
       "</div>"
      ],
      "text/plain": [
       "           NoRedir    Redir1    Redir2\n",
       "jobType                               \n",
       "PREMIUM   0.038780  0.006133  0.000000\n",
       "STANDOUT  0.357900  0.109333  0.005267\n",
       "CLASSIC   0.603319  0.884533  0.994733"
      ]
     },
     "execution_count": 119,
     "metadata": {},
     "output_type": "execute_result"
    }
   ],
   "source": [
    "pdf.div(pdf.sum(axis=0), axis=1)"
   ]
  },
  {
   "cell_type": "code",
   "execution_count": 121,
   "id": "4fee4719-15f7-474f-93ee-5958ded71161",
   "metadata": {},
   "outputs": [
    {
     "data": {
      "text/html": [
       "<div>\n",
       "<style scoped>\n",
       "    .dataframe tbody tr th:only-of-type {\n",
       "        vertical-align: middle;\n",
       "    }\n",
       "\n",
       "    .dataframe tbody tr th {\n",
       "        vertical-align: top;\n",
       "    }\n",
       "\n",
       "    .dataframe thead th {\n",
       "        text-align: right;\n",
       "    }\n",
       "</style>\n",
       "<table border=\"1\" class=\"dataframe\">\n",
       "  <thead>\n",
       "    <tr style=\"text-align: right;\">\n",
       "      <th></th>\n",
       "      <th>NoRedir</th>\n",
       "      <th>Redir1</th>\n",
       "      <th>Redir2</th>\n",
       "    </tr>\n",
       "    <tr>\n",
       "      <th>jobType</th>\n",
       "      <th></th>\n",
       "      <th></th>\n",
       "      <th></th>\n",
       "    </tr>\n",
       "  </thead>\n",
       "  <tbody>\n",
       "    <tr>\n",
       "      <th>PREMIUM</th>\n",
       "      <td>0.038780</td>\n",
       "      <td>0.006133</td>\n",
       "      <td>0.000000</td>\n",
       "    </tr>\n",
       "    <tr>\n",
       "      <th>STANDOUT</th>\n",
       "      <td>0.357900</td>\n",
       "      <td>0.109333</td>\n",
       "      <td>0.005267</td>\n",
       "    </tr>\n",
       "    <tr>\n",
       "      <th>CLASSIC</th>\n",
       "      <td>0.603319</td>\n",
       "      <td>0.884533</td>\n",
       "      <td>0.994733</td>\n",
       "    </tr>\n",
       "  </tbody>\n",
       "</table>\n",
       "</div>"
      ],
      "text/plain": [
       "           NoRedir    Redir1    Redir2\n",
       "jobType                               \n",
       "PREMIUM   0.038780  0.006133  0.000000\n",
       "STANDOUT  0.357900  0.109333  0.005267\n",
       "CLASSIC   0.603319  0.884533  0.994733"
      ]
     },
     "execution_count": 121,
     "metadata": {},
     "output_type": "execute_result"
    }
   ],
   "source": [
    "pdf.div(pdf.sum(axis=None))"
   ]
  },
  {
   "cell_type": "code",
   "execution_count": 122,
   "id": "ef36dd10-0901-446b-bd01-2eb62c5aeea3",
   "metadata": {},
   "outputs": [
    {
     "data": {
      "text/plain": [
       "'2.0.2'"
      ]
     },
     "execution_count": 122,
     "metadata": {},
     "output_type": "execute_result"
    }
   ],
   "source": [
    "pd.__version__"
   ]
  },
  {
   "cell_type": "code",
   "execution_count": 66,
   "id": "23643d6e-db9d-4b15-8505-6a6e1ee97d3a",
   "metadata": {},
   "outputs": [
    {
     "name": "stdout",
     "output_type": "stream",
     "text": [
      "+----------------+-----+-----------+---+--------------------+\n",
      "|        category|count|category_id| id|         description|\n",
      "+----------------+-----+-----------+---+--------------------+\n",
      "|{JobCategory:19}|27657|         19| 19|              Ventas|\n",
      "| {JobCategory:1}|14521|          1|  1|      Administrativo|\n",
      "|{JobCategory:17}|14516|         17| 17|Tecnologías de la...|\n",
      "| {JobCategory:4}|12887|          4|  4|Contabilidad - Fi...|\n",
      "|{JobCategory:10}| 9618|         10| 10|Logística - Trans...|\n",
      "|{JobCategory:11}| 9118|         11| 11|Manufactura - Pro...|\n",
      "| {JobCategory:9}| 7760|          9|  9|          Ingeniería|\n",
      "|{JobCategory:21}| 6351|         21| 21|Atención a client...|\n",
      "|{JobCategory:13}| 5370|         13| 13|    Recursos humanos|\n",
      "| {JobCategory:5}| 2842|          5|  5|Construcción - In...|\n",
      "|{JobCategory:12}| 2819|         12| 12|Mercadotecnia - P...|\n",
      "|{JobCategory:15}| 2673|         15| 15|        Sector salud|\n",
      "|{JobCategory:23}| 2468|         23| 23|Servicios general...|\n",
      "|{JobCategory:18}| 1657|         18| 18|Turismo - Hospita...|\n",
      "|{JobCategory:16}| 1388|         16| 16|Seguros y reaseguros|\n",
      "| {JobCategory:8}| 1324|          8|  8|           Educación|\n",
      "| {JobCategory:7}|  963|          7|  7|     Derecho y leyes|\n",
      "| {JobCategory:6}|  787|          6|  6|       Arte y diseño|\n",
      "| {JobCategory:3}|  530|          3|  3|Comunicación y cr...|\n",
      "| {JobCategory:2}|  241|          2|  2|Minería - Energía...|\n",
      "+----------------+-----+-----------+---+--------------------+\n",
      "only showing top 20 rows\n",
      "\n"
     ]
    }
   ],
   "source": [
    "cat_count = df.groupby(\"category\").count().orderBy(F.col(\"count\").desc())\n",
    "split_col = F.split(cat_count[\"category.__ref\"].cast(\"String\"), \":\")\n",
    "cat_count = cat_count.withColumn(\"category_id\", split_col.getItem(1).cast(\"INT\"))\n",
    "cat_count = cat_count.join(categories.select(\"id\", \"description\"), cat_count.category_id == categories.id, how=\"inner\")\n",
    "cat_count.orderBy(F.col(\"count\").desc()).show()"
   ]
  },
  {
   "cell_type": "code",
   "execution_count": 78,
   "id": "c564e515-e9a0-4dc2-95e4-c95b95dfd56e",
   "metadata": {},
   "outputs": [
    {
     "name": "stdout",
     "output_type": "stream",
     "text": [
      "+--------------------+-----+--------------+---+--------------------+\n",
      "|         subcategory|count|subcategory_id| id|         description|\n",
      "+--------------------+-----+--------------+---+--------------------+\n",
      "| {JobSubcategory:29}| 8281|            29| 29|      Administración|\n",
      "|{JobSubcategory:319}| 5661|           319|319|   Ventas en general|\n",
      "|{JobSubcategory:260}| 5200|           260|260| Atención al cliente|\n",
      "|{JobSubcategory:242}| 3606|           242|242|Desarrollo de sof...|\n",
      "|{JobSubcategory:275}| 3234|           275|275|Administración de...|\n",
      "|{JobSubcategory:286}| 3127|           286|286|     Ventas de campo|\n",
      "|{JobSubcategory:149}| 3030|           149|149|Almacén - Inventario|\n",
      "| {JobSubcategory:78}| 2977|            78| 78|        Contabilidad|\n",
      "| {JobSubcategory:25}| 2805|            25| 25|  Crédito y cobranza|\n",
      "|{JobSubcategory:190}| 2124|           190|190|Reclutamiento y s...|\n",
      "| {JobSubcategory:30}| 1678|            30| 30|  Control de Calidad|\n",
      "|{JobSubcategory:251}| 1662|           251|251|     Soporte técnico|\n",
      "|{JobSubcategory:237}| 1612|           237|237|Administración de...|\n",
      "|{JobSubcategory:289}| 1574|           289|289|Promotor - Demost...|\n",
      "|{JobSubcategory:285}| 1552|           285|285| Ventas corporativas|\n",
      "|  {JobSubcategory:2}| 1490|             2|  2|Auxiliar administ...|\n",
      "|{JobSubcategory:287}| 1409|           287|287|Venta al detalle ...|\n",
      "|{JobSubcategory:424}| 1403|           424|424|              Cajero|\n",
      "| {JobSubcategory:18}| 1348|            18| 18|Ingeniería indust...|\n",
      "|{JobSubcategory:304}| 1331|           304|304|Mantenimiento gen...|\n",
      "| {JobSubcategory:15}| 1328|            15| 15|             Compras|\n",
      "|{JobSubcategory:307}| 1276|           307|307|         Manufactura|\n",
      "|{JobSubcategory:156}| 1244|           156|156|           Logística|\n",
      "|{JobSubcategory:283}| 1220|           283|283|Representante de ...|\n",
      "|{JobSubcategory:426}| 1192|           426|426|           Comercial|\n",
      "+--------------------+-----+--------------+---+--------------------+\n",
      "only showing top 25 rows\n",
      "\n"
     ]
    }
   ],
   "source": [
    "subcat_count = df.groupby(\"subcategory\").count().orderBy(F.col(\"count\").desc())\n",
    "split_col = F.split(subcat_count[\"subcategory.__ref\"].cast(\"String\"), \":\")\n",
    "subcat_count = subcat_count.withColumn(\"subcategory_id\", split_col.getItem(1).cast(\"INT\"))\n",
    "subcat_count = subcat_count.join(subcategories.select(\"id\", \"description\"), subcat_count.subcategory_id == subcategories.id, how=\"inner\")\n",
    "subcat_count.orderBy(F.col(\"count\").desc()).show(25)"
   ]
  },
  {
   "cell_type": "code",
   "execution_count": 89,
   "id": "a74c3899-3317-40ec-aa55-d2399c100f69",
   "metadata": {},
   "outputs": [
    {
     "name": "stdout",
     "output_type": "stream",
     "text": [
      "+-----------------------------+------+\n",
      "|googleForJobs                |count |\n",
      "+-----------------------------+------+\n",
      "|{GoogleForJobs, true, true}  |124566|\n",
      "|{GoogleForJobs, false, false}|1316  |\n",
      "|{GoogleForJobs, false, true} |69    |\n",
      "+-----------------------------+------+\n",
      "\n"
     ]
    }
   ],
   "source": [
    "df.groupby(\"googleForJobs\").count().sort(F.col(\"count\").desc()).show(truncate=False)"
   ]
  },
  {
   "cell_type": "code",
   "execution_count": null,
   "id": "d27a0b97-d86a-4330-b2a4-c730adb1aad7",
   "metadata": {},
   "outputs": [],
   "source": []
  }
 ],
 "metadata": {
  "kernelspec": {
   "display_name": "Python 3 (ipykernel)",
   "language": "python",
   "name": "python3"
  },
  "language_info": {
   "codemirror_mode": {
    "name": "ipython",
    "version": 3
   },
   "file_extension": ".py",
   "mimetype": "text/x-python",
   "name": "python",
   "nbconvert_exporter": "python",
   "pygments_lexer": "ipython3",
   "version": "3.11.4"
  }
 },
 "nbformat": 4,
 "nbformat_minor": 5
}
