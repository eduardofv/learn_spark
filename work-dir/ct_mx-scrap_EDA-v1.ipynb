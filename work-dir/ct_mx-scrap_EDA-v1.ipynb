{
 "cells": [
  {
   "cell_type": "code",
   "execution_count": 1,
   "id": "b0551875-4a3e-486f-9efc-a55de41d6717",
   "metadata": {},
   "outputs": [],
   "source": [
    "import pandas as pd\n",
    "import matplotlib.pyplot as plt\n",
    "\n",
    "import pyspark\n",
    "from pyspark.sql import SparkSession\n",
    "from pyspark.sql import functions as F\n",
    "\n",
    "spark = SparkSession \\\n",
    "    .builder \\\n",
    "    .appName(\"Learning Spark\") \\\n",
    "    .getOrCreate()"
   ]
  },
  {
   "cell_type": "code",
   "execution_count": 2,
   "id": "ac2fecf0-ff44-4019-b8a5-49546710a0e6",
   "metadata": {},
   "outputs": [],
   "source": [
    "claims = spark.read.json(\"harvester/claims/*jsonl\")"
   ]
  },
  {
   "cell_type": "code",
   "execution_count": 3,
   "id": "9b80fa1a-0a3b-4531-84c9-598ae200bbc6",
   "metadata": {},
   "outputs": [],
   "source": [
    "df = spark.read.json(\"harvester/ct/bigharvey-CT*-rv0_0_9.jsonl.gz\")"
   ]
  },
  {
   "cell_type": "code",
   "execution_count": 4,
   "id": "2e25e962-2a74-431b-8089-a5fc288e0185",
   "metadata": {},
   "outputs": [
    {
     "name": "stdout",
     "output_type": "stream",
     "text": [
      "root\n",
      " |-- crawler: string (nullable = true)\n",
      " |-- identifier: string (nullable = true)\n",
      " |-- jobposting: struct (nullable = true)\n",
      " |    |-- @context: string (nullable = true)\n",
      " |    |-- @type: string (nullable = true)\n",
      " |    |-- baseSalary: struct (nullable = true)\n",
      " |    |    |-- @context: string (nullable = true)\n",
      " |    |    |-- @type: string (nullable = true)\n",
      " |    |    |-- currency: string (nullable = true)\n",
      " |    |    |-- value: struct (nullable = true)\n",
      " |    |    |    |-- @context: string (nullable = true)\n",
      " |    |    |    |-- @type: string (nullable = true)\n",
      " |    |    |    |-- unitText: string (nullable = true)\n",
      " |    |    |    |-- value: string (nullable = true)\n",
      " |    |-- datePosted: string (nullable = true)\n",
      " |    |-- description: string (nullable = true)\n",
      " |    |-- directApply: boolean (nullable = true)\n",
      " |    |-- employmentType: string (nullable = true)\n",
      " |    |-- hiringOrganization: struct (nullable = true)\n",
      " |    |    |-- @context: string (nullable = true)\n",
      " |    |    |-- @type: string (nullable = true)\n",
      " |    |    |-- logo: string (nullable = true)\n",
      " |    |    |-- name: string (nullable = true)\n",
      " |    |-- identifier: struct (nullable = true)\n",
      " |    |    |-- @context: string (nullable = true)\n",
      " |    |    |-- @type: string (nullable = true)\n",
      " |    |    |-- name: string (nullable = true)\n",
      " |    |    |-- value: string (nullable = true)\n",
      " |    |-- industry: string (nullable = true)\n",
      " |    |-- jobLocation: struct (nullable = true)\n",
      " |    |    |-- @context: string (nullable = true)\n",
      " |    |    |-- @type: string (nullable = true)\n",
      " |    |    |-- address: struct (nullable = true)\n",
      " |    |    |    |-- @context: string (nullable = true)\n",
      " |    |    |    |-- @type: string (nullable = true)\n",
      " |    |    |    |-- addressCountry: string (nullable = true)\n",
      " |    |    |    |-- addressLocality: string (nullable = true)\n",
      " |    |    |    |-- addressRegion: string (nullable = true)\n",
      " |    |-- salaryCurrency: string (nullable = true)\n",
      " |    |-- title: string (nullable = true)\n",
      " |    |-- url: string (nullable = true)\n",
      " |    |-- validThrough: string (nullable = true)\n",
      " |-- scraped_at: string (nullable = true)\n",
      " |-- search_engine_type: string (nullable = true)\n",
      " |-- url: string (nullable = true)\n",
      " |-- uuid: string (nullable = true)\n",
      " |-- version: string (nullable = true)\n",
      "\n"
     ]
    }
   ],
   "source": [
    "df.printSchema()"
   ]
  },
  {
   "cell_type": "markdown",
   "id": "88b1031e-f104-4c25-8c1b-0d7f70108af4",
   "metadata": {},
   "source": [
    "### Registros Totales"
   ]
  },
  {
   "cell_type": "code",
   "execution_count": 5,
   "id": "f343cfd7-094f-40c3-89ac-55c0c56b752d",
   "metadata": {},
   "outputs": [
    {
     "data": {
      "text/plain": [
       "3207336"
      ]
     },
     "execution_count": 5,
     "metadata": {},
     "output_type": "execute_result"
    }
   ],
   "source": [
    "df.count()"
   ]
  },
  {
   "cell_type": "markdown",
   "id": "dbf801c5-b76e-49ec-b6cb-9581ea88b297",
   "metadata": {},
   "source": [
    "### Registros Únicos por Identifier (asume único por jobad)"
   ]
  },
  {
   "cell_type": "code",
   "execution_count": 6,
   "id": "ff467ca0-7aad-4d43-9f52-7a69d82e44b5",
   "metadata": {},
   "outputs": [
    {
     "data": {
      "text/plain": [
       "236502"
      ]
     },
     "execution_count": 6,
     "metadata": {},
     "output_type": "execute_result"
    }
   ],
   "source": [
    "df.dropDuplicates([\"identifier\"]).count()"
   ]
  },
  {
   "cell_type": "code",
   "execution_count": 7,
   "id": "40ad16e1-f101-4824-be67-6cda9bee645b",
   "metadata": {},
   "outputs": [
    {
     "data": {
      "text/plain": [
       "236502"
      ]
     },
     "execution_count": 7,
     "metadata": {},
     "output_type": "execute_result"
    }
   ],
   "source": [
    "df.select(\"identifier\").distinct().count()"
   ]
  },
  {
   "cell_type": "markdown",
   "id": "7dec014d-463f-41ab-803d-958d3a830f57",
   "metadata": {},
   "source": [
    "### Registros scrapeados por día"
   ]
  },
  {
   "cell_type": "code",
   "execution_count": 10,
   "id": "da880ee5-0141-42ed-82ae-e4fdd83fd618",
   "metadata": {},
   "outputs": [
    {
     "name": "stdout",
     "output_type": "stream",
     "text": [
      "+-------+------------------+\n",
      "|summary|             count|\n",
      "+-------+------------------+\n",
      "|  count|                27|\n",
      "|   mean|118790.22222222222|\n",
      "| stddev| 1805.439118402058|\n",
      "|    min|            114418|\n",
      "|    max|            122478|\n",
      "+-------+------------------+\n",
      "\n",
      "None\n",
      "+-----+---+------+\n",
      "|month|day| count|\n",
      "+-----+---+------+\n",
      "|    6| 24|122478|\n",
      "|    6| 25|120437|\n",
      "|    6| 26|116018|\n",
      "|    6| 27|118909|\n",
      "|    6| 28|120633|\n",
      "|    6| 29|121092|\n",
      "|    6| 30|118072|\n",
      "|    7|  1|118814|\n",
      "|    7|  2|117764|\n",
      "|    7|  3|116637|\n",
      "|    7|  4|117580|\n",
      "|    7|  5|117571|\n",
      "|    7|  6|118062|\n",
      "|    7|  7|119315|\n",
      "|    7|  8|119143|\n",
      "|    7|  9|118044|\n",
      "|    7| 10|114418|\n",
      "|    7| 11|116580|\n",
      "|    7| 12|118589|\n",
      "|    7| 13|119663|\n",
      "|    7| 14|120504|\n",
      "|    7| 15|119897|\n",
      "|    7| 17|117390|\n",
      "|    7| 18|118020|\n",
      "|    7| 20|120057|\n",
      "|    7| 21|120817|\n",
      "|    7| 22|120832|\n",
      "+-----+---+------+\n",
      "\n"
     ]
    }
   ],
   "source": [
    "day_count = df.select(\n",
    "    \"identifier\",\n",
    "    F.year(\"scraped_at\").alias('year'), \n",
    "    F.month(\"scraped_at\").alias('month'), \n",
    "    F.dayofmonth(\"scraped_at\").alias('day')\n",
    ").groupby(\"month\", \"day\").count().orderBy(['month', 'day'])\n",
    "print(day_count.describe(\"count\").show())\n",
    "day_count.show(day_count.count())"
   ]
  },
  {
   "cell_type": "code",
   "execution_count": 11,
   "id": "dda86e51-ccc6-4779-945e-6bb54c7b1d98",
   "metadata": {},
   "outputs": [
    {
     "data": {
      "text/plain": [
       "<Axes: >"
      ]
     },
     "execution_count": 11,
     "metadata": {},
     "output_type": "execute_result"
    },
    {
     "data": {
      "image/png": "[encoded data removed]",
      "text/plain": [
       "<Figure size 640x480 with 1 Axes>"
      ]
     },
     "metadata": {},
     "output_type": "display_data"
    }
   ],
   "source": [
    "day_counts_p = day_count.toPandas()\n",
    "day_counts_p[\"count\"].plot()"
   ]
  },
  {
   "cell_type": "code",
   "execution_count": 12,
   "id": "f89e6422-4095-411c-9146-e2102015e9d3",
   "metadata": {},
   "outputs": [
    {
     "data": {
      "text/plain": [
       "(array([1., 1., 2., 3., 5., 4., 4., 5., 1., 1.]),\n",
       " array([114418., 115224., 116030., 116836., 117642., 118448., 119254.,\n",
       "        120060., 120866., 121672., 122478.]),\n",
       " <BarContainer object of 10 artists>)"
      ]
     },
     "execution_count": 12,
     "metadata": {},
     "output_type": "execute_result"
    },
    {
     "data": {
      "image/png": "[encoded data removed]",
      "text/plain": [
       "<Figure size 640x480 with 1 Axes>"
      ]
     },
     "metadata": {},
     "output_type": "display_data"
    }
   ],
   "source": [
    "plt.hist(day_counts_p[\"count\"], bins=10)"
   ]
  },
  {
   "cell_type": "code",
   "execution_count": 13,
   "id": "c10836ed-8df9-4f1c-a54f-7923ac26b151",
   "metadata": {},
   "outputs": [],
   "source": [
    "claims_p = claims.where(\"version = '0.0.2'\")\\\n",
    "    .where(claims.url.startswith(\"https://mx.computrabajo\"))\\\n",
    "    .sort(\"scraped_at\")\\\n",
    "    .withColumn(\"num_claim\", claims[\"claim\"].cast(\"int\"))\\\n",
    "    .select(    \n",
    "        F.month(\"scraped_at\").alias('month'), \n",
    "        F.dayofmonth(\"scraped_at\").alias('day'),\n",
    "        \"num_claim\"\n",
    "    ).toPandas()"
   ]
  },
  {
   "cell_type": "code",
   "execution_count": 14,
   "id": "7e0a348c-5659-4ab0-ab35-113346f34970",
   "metadata": {},
   "outputs": [
    {
     "data": {
      "text/html": [
       "<div>\n",
       "<style scoped>\n",
       "    .dataframe tbody tr th:only-of-type {\n",
       "        vertical-align: middle;\n",
       "    }\n",
       "\n",
       "    .dataframe tbody tr th {\n",
       "        vertical-align: top;\n",
       "    }\n",
       "\n",
       "    .dataframe thead th {\n",
       "        text-align: right;\n",
       "    }\n",
       "</style>\n",
       "<table border=\"1\" class=\"dataframe\">\n",
       "  <thead>\n",
       "    <tr style=\"text-align: right;\">\n",
       "      <th></th>\n",
       "      <th>month</th>\n",
       "      <th>day</th>\n",
       "      <th>num_claim</th>\n",
       "    </tr>\n",
       "  </thead>\n",
       "  <tbody>\n",
       "    <tr>\n",
       "      <th>0</th>\n",
       "      <td>6</td>\n",
       "      <td>18</td>\n",
       "      <td>131795</td>\n",
       "    </tr>\n",
       "    <tr>\n",
       "      <th>1</th>\n",
       "      <td>6</td>\n",
       "      <td>18</td>\n",
       "      <td>131675</td>\n",
       "    </tr>\n",
       "    <tr>\n",
       "      <th>2</th>\n",
       "      <td>6</td>\n",
       "      <td>19</td>\n",
       "      <td>131743</td>\n",
       "    </tr>\n",
       "    <tr>\n",
       "      <th>3</th>\n",
       "      <td>6</td>\n",
       "      <td>19</td>\n",
       "      <td>131562</td>\n",
       "    </tr>\n",
       "    <tr>\n",
       "      <th>4</th>\n",
       "      <td>6</td>\n",
       "      <td>19</td>\n",
       "      <td>131125</td>\n",
       "    </tr>\n",
       "    <tr>\n",
       "      <th>...</th>\n",
       "      <td>...</td>\n",
       "      <td>...</td>\n",
       "      <td>...</td>\n",
       "    </tr>\n",
       "    <tr>\n",
       "      <th>206</th>\n",
       "      <td>7</td>\n",
       "      <td>23</td>\n",
       "      <td>132172</td>\n",
       "    </tr>\n",
       "    <tr>\n",
       "      <th>207</th>\n",
       "      <td>7</td>\n",
       "      <td>23</td>\n",
       "      <td>131685</td>\n",
       "    </tr>\n",
       "    <tr>\n",
       "      <th>208</th>\n",
       "      <td>7</td>\n",
       "      <td>23</td>\n",
       "      <td>130979</td>\n",
       "    </tr>\n",
       "    <tr>\n",
       "      <th>209</th>\n",
       "      <td>7</td>\n",
       "      <td>23</td>\n",
       "      <td>130787</td>\n",
       "    </tr>\n",
       "    <tr>\n",
       "      <th>210</th>\n",
       "      <td>7</td>\n",
       "      <td>23</td>\n",
       "      <td>130597</td>\n",
       "    </tr>\n",
       "  </tbody>\n",
       "</table>\n",
       "<p>211 rows × 3 columns</p>\n",
       "</div>"
      ],
      "text/plain": [
       "     month  day  num_claim\n",
       "0        6   18     131795\n",
       "1        6   18     131675\n",
       "2        6   19     131743\n",
       "3        6   19     131562\n",
       "4        6   19     131125\n",
       "..     ...  ...        ...\n",
       "206      7   23     132172\n",
       "207      7   23     131685\n",
       "208      7   23     130979\n",
       "209      7   23     130787\n",
       "210      7   23     130597\n",
       "\n",
       "[211 rows x 3 columns]"
      ]
     },
     "execution_count": 14,
     "metadata": {},
     "output_type": "execute_result"
    }
   ],
   "source": [
    "claims_p"
   ]
  },
  {
   "cell_type": "code",
   "execution_count": 15,
   "id": "e913a7c0-6dfa-4ffe-91c5-30efbea5e5e1",
   "metadata": {},
   "outputs": [
    {
     "data": {
      "text/html": [
       "<div>\n",
       "<style scoped>\n",
       "    .dataframe tbody tr th:only-of-type {\n",
       "        vertical-align: middle;\n",
       "    }\n",
       "\n",
       "    .dataframe tbody tr th {\n",
       "        vertical-align: top;\n",
       "    }\n",
       "\n",
       "    .dataframe thead th {\n",
       "        text-align: right;\n",
       "    }\n",
       "</style>\n",
       "<table border=\"1\" class=\"dataframe\">\n",
       "  <thead>\n",
       "    <tr style=\"text-align: right;\">\n",
       "      <th></th>\n",
       "      <th>month</th>\n",
       "      <th>day</th>\n",
       "      <th>num_claim</th>\n",
       "      <th>count</th>\n",
       "      <th>pct</th>\n",
       "    </tr>\n",
       "  </thead>\n",
       "  <tbody>\n",
       "    <tr>\n",
       "      <th>0</th>\n",
       "      <td>6</td>\n",
       "      <td>24</td>\n",
       "      <td>134737</td>\n",
       "      <td>122478</td>\n",
       "      <td>0.909015</td>\n",
       "    </tr>\n",
       "    <tr>\n",
       "      <th>1</th>\n",
       "      <td>6</td>\n",
       "      <td>24</td>\n",
       "      <td>134455</td>\n",
       "      <td>122478</td>\n",
       "      <td>0.910922</td>\n",
       "    </tr>\n",
       "    <tr>\n",
       "      <th>2</th>\n",
       "      <td>6</td>\n",
       "      <td>24</td>\n",
       "      <td>133879</td>\n",
       "      <td>122478</td>\n",
       "      <td>0.914841</td>\n",
       "    </tr>\n",
       "    <tr>\n",
       "      <th>3</th>\n",
       "      <td>6</td>\n",
       "      <td>24</td>\n",
       "      <td>133350</td>\n",
       "      <td>122478</td>\n",
       "      <td>0.918470</td>\n",
       "    </tr>\n",
       "    <tr>\n",
       "      <th>4</th>\n",
       "      <td>6</td>\n",
       "      <td>24</td>\n",
       "      <td>133246</td>\n",
       "      <td>122478</td>\n",
       "      <td>0.919187</td>\n",
       "    </tr>\n",
       "    <tr>\n",
       "      <th>...</th>\n",
       "      <td>...</td>\n",
       "      <td>...</td>\n",
       "      <td>...</td>\n",
       "      <td>...</td>\n",
       "      <td>...</td>\n",
       "    </tr>\n",
       "    <tr>\n",
       "      <th>156</th>\n",
       "      <td>7</td>\n",
       "      <td>22</td>\n",
       "      <td>133216</td>\n",
       "      <td>120832</td>\n",
       "      <td>0.907038</td>\n",
       "    </tr>\n",
       "    <tr>\n",
       "      <th>157</th>\n",
       "      <td>7</td>\n",
       "      <td>22</td>\n",
       "      <td>132770</td>\n",
       "      <td>120832</td>\n",
       "      <td>0.910085</td>\n",
       "    </tr>\n",
       "    <tr>\n",
       "      <th>158</th>\n",
       "      <td>7</td>\n",
       "      <td>22</td>\n",
       "      <td>132287</td>\n",
       "      <td>120832</td>\n",
       "      <td>0.913408</td>\n",
       "    </tr>\n",
       "    <tr>\n",
       "      <th>159</th>\n",
       "      <td>7</td>\n",
       "      <td>22</td>\n",
       "      <td>132258</td>\n",
       "      <td>120832</td>\n",
       "      <td>0.913608</td>\n",
       "    </tr>\n",
       "    <tr>\n",
       "      <th>160</th>\n",
       "      <td>7</td>\n",
       "      <td>22</td>\n",
       "      <td>132220</td>\n",
       "      <td>120832</td>\n",
       "      <td>0.913871</td>\n",
       "    </tr>\n",
       "  </tbody>\n",
       "</table>\n",
       "<p>161 rows × 5 columns</p>\n",
       "</div>"
      ],
      "text/plain": [
       "     month  day  num_claim   count       pct\n",
       "0        6   24     134737  122478  0.909015\n",
       "1        6   24     134455  122478  0.910922\n",
       "2        6   24     133879  122478  0.914841\n",
       "3        6   24     133350  122478  0.918470\n",
       "4        6   24     133246  122478  0.919187\n",
       "..     ...  ...        ...     ...       ...\n",
       "156      7   22     133216  120832  0.907038\n",
       "157      7   22     132770  120832  0.910085\n",
       "158      7   22     132287  120832  0.913408\n",
       "159      7   22     132258  120832  0.913608\n",
       "160      7   22     132220  120832  0.913871\n",
       "\n",
       "[161 rows x 5 columns]"
      ]
     },
     "execution_count": 15,
     "metadata": {},
     "output_type": "execute_result"
    },
    {
     "data": {
      "image/png": "[encoded data removed]",
      "text/plain": [
       "<Figure size 640x480 with 1 Axes>"
      ]
     },
     "metadata": {},
     "output_type": "display_data"
    }
   ],
   "source": [
    "claims_and_counts = claims_p.merge(day_counts_p)\n",
    "claims_and_counts['pct'] = claims_and_counts['count'] / claims_and_counts.num_claim \n",
    "plt.plot(claims_and_counts.num_claim)\n",
    "plt.plot(claims_and_counts[\"count\"])\n",
    "claims_and_counts"
   ]
  },
  {
   "cell_type": "code",
   "execution_count": 16,
   "id": "d14ac454-08d3-4834-a96e-59e901de6074",
   "metadata": {},
   "outputs": [
    {
     "data": {
      "text/plain": [
       "count    161.000000\n",
       "mean       0.908980\n",
       "std        0.006061\n",
       "min        0.883819\n",
       "25%        0.906586\n",
       "50%        0.910332\n",
       "75%        0.912170\n",
       "max        0.920099\n",
       "Name: pct, dtype: float64"
      ]
     },
     "execution_count": 16,
     "metadata": {},
     "output_type": "execute_result"
    },
    {
     "data": {
      "image/png": "[encoded data removed]",
      "text/plain": [
       "<Figure size 640x480 with 1 Axes>"
      ]
     },
     "metadata": {},
     "output_type": "display_data"
    }
   ],
   "source": [
    "claims_and_counts.pct.hist()\n",
    "claims_and_counts.pct.describe()"
   ]
  },
  {
   "cell_type": "markdown",
   "id": "c8fab223-fb0c-48f4-bc06-97f1601d7079",
   "metadata": {},
   "source": [
    "## Ubicación"
   ]
  },
  {
   "cell_type": "code",
   "execution_count": null,
   "id": "4a91bc33-0049-4bf8-9bed-b2e17d7e7d2e",
   "metadata": {},
   "outputs": [],
   "source": []
  },
  {
   "cell_type": "markdown",
   "id": "2a4434d2-67b6-4ee3-9b7e-56497dfdd93a",
   "metadata": {},
   "source": [
    "## Stats"
   ]
  },
  {
   "cell_type": "code",
   "execution_count": null,
   "id": "ec15311c-f6e5-422c-aa1b-e8055f71d499",
   "metadata": {},
   "outputs": [],
   "source": []
  },
  {
   "cell_type": "code",
   "execution_count": null,
   "id": "f2c36696-29c8-4558-b7fd-35f491c27d24",
   "metadata": {},
   "outputs": [],
   "source": [
    "stats_df = spark.read.json(\"harvester/ct/*stats.json\")\n",
    "stats_df.printSchema()"
   ]
  },
  {
   "cell_type": "code",
   "execution_count": null,
   "id": "15af027d-f727-4c35-8461-c58b6987dd83",
   "metadata": {},
   "outputs": [],
   "source": [
    "stats_df.toPandas().plot(\"start_time\", \"downloader/response_status_count/200\")"
   ]
  },
  {
   "cell_type": "code",
   "execution_count": null,
   "id": "370ce81c-45bc-4b77-829d-ef66a1b38476",
   "metadata": {},
   "outputs": [],
   "source": [
    "df.rdd.mapPartitionsWithIndex(lambda x, it: [(x, sum(1 for _ in it))]).collect()"
   ]
  },
  {
   "cell_type": "code",
   "execution_count": null,
   "id": "e4e1908f-1ff0-485e-8f54-178421bc2d60",
   "metadata": {},
   "outputs": [],
   "source": []
  }
 ],
 "metadata": {
  "kernelspec": {
   "display_name": "Python 3 (ipykernel)",
   "language": "python",
   "name": "python3"
  },
  "language_info": {
   "codemirror_mode": {
    "name": "ipython",
    "version": 3
   },
   "file_extension": ".py",
   "mimetype": "text/x-python",
   "name": "python",
   "nbconvert_exporter": "python",
   "pygments_lexer": "ipython3",
   "version": "3.11.4"
  }
 },
 "nbformat": 4,
 "nbformat_minor": 5
}
