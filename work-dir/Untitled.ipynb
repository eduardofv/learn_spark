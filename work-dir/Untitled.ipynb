{
 "cells": [
  {
   "cell_type": "code",
   "execution_count": 4,
   "id": "24d8d86d-10cc-4333-a2cd-7802f60b24b6",
   "metadata": {},
   "outputs": [
    {
     "name": "stdout",
     "output_type": "stream",
     "text": [
      "+----+----+-----+\n",
      "|col1|col2|count|\n",
      "+----+----+-----+\n",
      "|   A|   1|    2|\n",
      "|   C|   1|    2|\n",
      "|   B|   2|    2|\n",
      "|   E|   2|    2|\n",
      "|   D|   3|    1|\n",
      "+----+----+-----+\n",
      "\n"
     ]
    }
   ],
   "source": [
    "from pyspark.sql import SparkSession\n",
    "from pyspark.sql.functions import col, count\n",
    "from pyspark.sql.window import Window\n",
    "\n",
    "# Create a SparkSession\n",
    "spark = SparkSession.builder.getOrCreate()\n",
    "\n",
    "# Create a sample DataFrame\n",
    "data = [(\"A\", 1), (\"B\", 2), (\"C\", 1), (\"D\", 3), (\"E\", 2)]\n",
    "df = spark.createDataFrame(data, [\"col1\", \"col2\"])\n",
    "\n",
    "# Create a Window partitioned by the specific column\n",
    "window = Window.partitionBy(\"col2\")\n",
    "\n",
    "# Count occurrences of the column within the Window\n",
    "df_with_counts = df.withColumn(\"count\", count(\"col2\").over(window))\n",
    "df_with_counts.show()"
   ]
  },
  {
   "cell_type": "code",
   "execution_count": 3,
   "id": "f63718a4-7e1c-4346-a454-bb9ef964aa20",
   "metadata": {},
   "outputs": [
    {
     "name": "stdout",
     "output_type": "stream",
     "text": [
      "+----+----+-----+\n",
      "|col1|col2|count|\n",
      "+----+----+-----+\n",
      "|   A|   1|    2|\n",
      "|   C|   1|    2|\n",
      "|   B|   2|    2|\n",
      "|   E|   2|    2|\n",
      "+----+----+-----+\n",
      "\n"
     ]
    }
   ],
   "source": [
    "# Filter rows with duplicate values in the specific column\n",
    "filtered_df = df_with_counts.filter(col(\"count\") > 1)\n",
    "\n",
    "# Show the filtered DataFrame\n",
    "filtered_df.show()"
   ]
  },
  {
   "cell_type": "code",
   "execution_count": 10,
   "id": "6d87510c-f54e-487a-aa32-484c0c9a3115",
   "metadata": {},
   "outputs": [
    {
     "name": "stdout",
     "output_type": "stream",
     "text": [
      "+----+----+\n",
      "|col1|col2|\n",
      "+----+----+\n",
      "|   A|   1|\n",
      "|   B|   2|\n",
      "|   D|   3|\n",
      "+----+----+\n",
      "\n"
     ]
    }
   ],
   "source": [
    "df.dropDuplicates([\"col2\"]).show()"
   ]
  },
  {
   "cell_type": "code",
   "execution_count": 12,
   "id": "bc3293ad-7c17-42d8-8e8f-a586e750a416",
   "metadata": {},
   "outputs": [
    {
     "name": "stdout",
     "output_type": "stream",
     "text": [
      "+----+----+\n",
      "|col1|col2|\n",
      "+----+----+\n",
      "|   A|   1|\n",
      "|   B|   2|\n",
      "|   C|   1|\n",
      "|   D|   3|\n",
      "|   E|   2|\n",
      "+----+----+\n",
      "\n"
     ]
    }
   ],
   "source": [
    "df.show()"
   ]
  },
  {
   "cell_type": "code",
   "execution_count": null,
   "id": "bf3967e1-58f6-4b01-b3bf-c7666e41f1a4",
   "metadata": {},
   "outputs": [],
   "source": []
  }
 ],
 "metadata": {
  "kernelspec": {
   "display_name": "Python 3 (ipykernel)",
   "language": "python",
   "name": "python3"
  },
  "language_info": {
   "codemirror_mode": {
    "name": "ipython",
    "version": 3
   },
   "file_extension": ".py",
   "mimetype": "text/x-python",
   "name": "python",
   "nbconvert_exporter": "python",
   "pygments_lexer": "ipython3",
   "version": "3.11.4"
  }
 },
 "nbformat": 4,
 "nbformat_minor": 5
}
