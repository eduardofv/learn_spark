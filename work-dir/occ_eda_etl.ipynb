{
 "cells": [
  {
   "cell_type": "markdown",
   "id": "cc1a930d-4db8-4515-8620-e6512a9d4d3e",
   "metadata": {},
   "source": [
    "# OCC daily EDA Transform for time aggregation\n",
    "\n",
    "## EXPORTADO A SCRIPT"
   ]
  },
  {
   "cell_type": "code",
   "execution_count": 1,
   "id": "5e5f9f04-16dd-42d2-8ca6-b3e07596b002",
   "metadata": {},
   "outputs": [],
   "source": [
    "import pandas as pd\n",
    "import matplotlib.pyplot as plt\n",
    "\n",
    "import pyspark\n",
    "from pyspark.sql import SparkSession\n",
    "from pyspark.sql import functions as F\n",
    "from pyspark.sql.window import Window"
   ]
  },
  {
   "cell_type": "code",
   "execution_count": 2,
   "id": "85937705-e7c1-4ee7-8ced-00f201d2cfe2",
   "metadata": {},
   "outputs": [],
   "source": [
    "spark = SparkSession \\\n",
    "    .builder \\\n",
    "    .appName(\"Learning Spark\") \\\n",
    "    .getOrCreate()\n",
    "\n",
    "date_str = \"20231002\"\n",
    "\n",
    "base_dir = f\"harvester/occ/{date_str}/\"\n",
    "df = spark.read.json(f\"{base_dir}/occ-{date_str}.jsonl.gz\")\n",
    "categories = spark.read.json(f\"{base_dir}/occ-{date_str}-categories.json\")\n",
    "subcategories = spark.read.json(f\"{base_dir}/occ-{date_str}-subcategories.json\")\n",
    "\n",
    "output_filename = \"harvester/occ/occ-timeseries.jsonl\"\n",
    "\n",
    "data = {}\n",
    "data['date'] = date_str\n",
    "data['record_version'] = \"0.0.1\""
   ]
  },
  {
   "cell_type": "code",
   "execution_count": 27,
   "id": "10848bfe-dafe-4985-88cb-8c46f2f7029f",
   "metadata": {},
   "outputs": [],
   "source": [
    "def save(filename, data, append=True):\n",
    "    import json\n",
    "    \n",
    "    mode = \"w\"\n",
    "    if append:\n",
    "        mode = \"a\"\n",
    "    with open(filename, mode) as fo:\n",
    "        fo.write(json.dumps(data))"
   ]
  },
  {
   "cell_type": "code",
   "execution_count": 4,
   "id": "655df9f5-9ab1-4ff1-b5c0-09bc6e71c9b5",
   "metadata": {},
   "outputs": [
    {
     "data": {
      "text/plain": [
       "{'date': '20231002',\n",
       " 'record_version': '0.0.1',\n",
       " 'total_record_count': 154198,\n",
       " 'deduplicated_record_count': 148725}"
      ]
     },
     "execution_count": 4,
     "metadata": {},
     "output_type": "execute_result"
    }
   ],
   "source": [
    "dfu = df.dropDuplicates([\"id\"])\n",
    "record_count = dfu.count()\n",
    "data['total_record_count'] = df.count()\n",
    "data['deduplicated_record_count'] = dfu.count()\n",
    "data"
   ]
  },
  {
   "cell_type": "code",
   "execution_count": 5,
   "id": "d9d7962f-3655-44a6-81be-f43e320b1390",
   "metadata": {},
   "outputs": [
    {
     "data": {
      "text/plain": [
       "{'date': '20231002',\n",
       " 'record_version': '0.0.1',\n",
       " 'total_record_count': 154198,\n",
       " 'deduplicated_record_count': 148725,\n",
       " 'count_by_redirect_type': [{'type': 0, 'count': 73341},\n",
       "  {'type': 1, 'count': 3228},\n",
       "  {'type': 2, 'count': 72156}]}"
      ]
     },
     "execution_count": 5,
     "metadata": {},
     "output_type": "execute_result"
    }
   ],
   "source": [
    "data['count_by_redirect_type'] = dfu.groupby(\"redirect.type\").count().toPandas().to_dict('records')\n",
    "data"
   ]
  },
  {
   "cell_type": "code",
   "execution_count": 6,
   "id": "621b85e6-3fb0-4925-8a6b-3c3b992b819a",
   "metadata": {},
   "outputs": [],
   "source": [
    "data[\"count_by_jobType\"] = dfu.groupby(\"jobType\").count().toPandas().to_dict('records')"
   ]
  },
  {
   "cell_type": "code",
   "execution_count": 7,
   "id": "5fa4cdca-8785-434a-a9ad-14222504edf5",
   "metadata": {},
   "outputs": [
    {
     "data": {
      "text/plain": [
       "{'date': '20231002',\n",
       " 'record_version': '0.0.1',\n",
       " 'total_record_count': 154198,\n",
       " 'deduplicated_record_count': 148725,\n",
       " 'count_by_redirect_type': [{'type': 0, 'count': 73341},\n",
       "  {'type': 1, 'count': 3228},\n",
       "  {'type': 2, 'count': 72156}],\n",
       " 'count_by_jobType': [{'jobType': 'PREMIUM', 'count': 2603},\n",
       "  {'jobType': 'STANDOUT', 'count': 27490},\n",
       "  {'jobType': 'CLASSIC', 'count': 118632}],\n",
       " 'count_by_jobType_redirect_type': [{'jobType': 'PREMIUM',\n",
       "   '0': 2561,\n",
       "   '1': 42,\n",
       "   '2': nan},\n",
       "  {'jobType': 'STANDOUT', '0': 27055, '1': 339, '2': 96.0},\n",
       "  {'jobType': 'CLASSIC', '0': 43725, '1': 2847, '2': 72060.0}]}"
      ]
     },
     "execution_count": 7,
     "metadata": {},
     "output_type": "execute_result"
    }
   ],
   "source": [
    "data[\"count_by_jobType_redirect_type\"] = dfu.groupby(\"jobType\").pivot(\"redirect.type\").count().toPandas().to_dict('records')\n",
    "data"
   ]
  },
  {
   "cell_type": "code",
   "execution_count": 8,
   "id": "37018b3f-7554-4f48-b249-4b9dfb222aad",
   "metadata": {},
   "outputs": [],
   "source": [
    "cat_count = dfu.groupby(\"category\").count().orderBy(F.col(\"count\").desc())\n",
    "split_col = F.split(cat_count[\"category.__ref\"].cast(\"String\"), \":\")\n",
    "cat_count = cat_count.withColumn(\"category_id\", split_col.getItem(1).cast(\"INT\"))\n",
    "cat_count = cat_count.join(categories.select(\"id\", \"description\"), cat_count.category_id == categories.id, how=\"inner\")\n",
    "cat_count = cat_count.select([\"category_id\", \"description\", \"count\"]).orderBy(F.col(\"count\").desc())"
   ]
  },
  {
   "cell_type": "code",
   "execution_count": 9,
   "id": "5878f551-742f-472b-939b-569bbc6a4891",
   "metadata": {},
   "outputs": [],
   "source": [
    "cat_count = cat_count.withColumn(\"pct\", F.col(\"count\") / record_count)\n",
    "data['count_by_category'] = cat_count.toPandas().to_dict(\"records\")#.show(cat_count.count(), truncate=False)"
   ]
  },
  {
   "cell_type": "markdown",
   "id": "f724ed3c-759e-4d7d-9090-2cc475b549ef",
   "metadata": {},
   "source": [
    "### Proporciones por tipo de Redir"
   ]
  },
  {
   "cell_type": "code",
   "execution_count": 10,
   "id": "9f3709f3-5d2c-40a2-811b-a7d700fa59dd",
   "metadata": {},
   "outputs": [
    {
     "data": {
      "text/plain": [
       "{'Ventas': {'NoRedir': 0.45058131106665505,\n",
       "  'Redir1': 0.020237163317967006,\n",
       "  'Redir2': 0.5291815256153779},\n",
       " 'Contabilidad - Finanzas': {'NoRedir': 0.6043264805154955,\n",
       "  'Redir1': 0.023933722000613684,\n",
       "  'Redir2': 0.37173979748389074},\n",
       " 'Tecnologías de la Información - Sistemas': {'NoRedir': 0.46528197077647626,\n",
       "  'Redir1': 0.032061345248158436,\n",
       "  'Redir2': 0.5026566839753653},\n",
       " 'Logística - Transporte - Distribución - Almacén': {'NoRedir': 0.5246695673590017,\n",
       "  'Redir1': 0.011985879648633117,\n",
       "  'Redir2': 0.46334455299236516},\n",
       " 'Administrativo': {'NoRedir': 0.3281299946723495,\n",
       "  'Redir1': 0.018593500266382526,\n",
       "  'Redir2': 0.653276505061268},\n",
       " 'Manufactura - Producción - Operación': {'NoRedir': 0.498684704998121,\n",
       "  'Redir1': 0.011367906801954153,\n",
       "  'Redir2': 0.48994738819992484},\n",
       " 'Ingeniería': {'NoRedir': 0.5788487951055064,\n",
       "  'Redir1': 0.01810463228867524,\n",
       "  'Redir2': 0.40304657260581844},\n",
       " 'Recursos humanos': {'NoRedir': 0.6715921684521611,\n",
       "  'Redir1': 0.025304765422977465,\n",
       "  'Redir2': 0.3031030661248615},\n",
       " 'Atención a clientes - Call Center': {'NoRedir': 0.38682103440813675,\n",
       "  'Redir1': 0.016879463319627787,\n",
       "  'Redir2': 0.5962995022722355},\n",
       " 'Construcción - Inmobiliaria - Arquitectura': {'NoRedir': 0.7875793930839803,\n",
       "  'Redir1': 0.015525758645024701,\n",
       "  'Redir2': 0.19689484827099507},\n",
       " 'Sector salud': {'NoRedir': 0.7458100558659218,\n",
       "  'Redir1': 0.006634078212290503,\n",
       "  'Redir2': 0.24755586592178772},\n",
       " 'Mercadotecnia - Publicidad - Relaciones Públicas': {'NoRedir': 0.61689017760058,\n",
       "  'Redir1': 0.010873504893077202,\n",
       "  'Redir2': 0.3722363175063429},\n",
       " 'Servicios generales - Oficios - Seguridad': {'NoRedir': 0.35535714285714287,\n",
       "  'Redir1': 0.053061224489795916,\n",
       "  'Redir2': 0.5915816326530612},\n",
       " 'Seguros y reaseguros': {'NoRedir': 0.7262872628726287,\n",
       "  'Redir1': 0.1659891598915989,\n",
       "  'Redir2': 0.10772357723577236},\n",
       " 'Turismo - Hospitalidad - Gastronomía': {'NoRedir': 0.4369464361029102,\n",
       "  'Redir1': 0.008857022353437369,\n",
       "  'Redir2': 0.5541965415436525},\n",
       " 'Educación': {'NoRedir': 0.6354410616705699,\n",
       "  'Redir1': 0.00468384074941452,\n",
       "  'Redir2': 0.3598750975800156},\n",
       " 'Derecho y leyes': {'NoRedir': 0.798728813559322,\n",
       "  'Redir1': 0.037076271186440676,\n",
       "  'Redir2': 0.1641949152542373},\n",
       " 'Arte y diseño': {'NoRedir': 0.7283783783783784,\n",
       "  'Redir1': 0.014864864864864866,\n",
       "  'Redir2': 0.25675675675675674},\n",
       " 'Comunicación y creatividad': {'NoRedir': 0.710239651416122,\n",
       "  'Redir1': 0.015250544662309368,\n",
       "  'Redir2': 0.27450980392156865},\n",
       " 'Minería - Energía - Recursos Naturales': {'NoRedir': 0.8601694915254238,\n",
       "  'Redir1': 0.0,\n",
       "  'Redir2': 0.13983050847457626},\n",
       " 'Veterinaria - Agricultura': {'NoRedir': 0.704225352112676,\n",
       "  'Redir1': 0.028169014084507043,\n",
       "  'Redir2': 0.2676056338028169},\n",
       " 'Deportes - Salud - Belleza': {'NoRedir': 0.5581395348837209,\n",
       "  'Redir1': 0.005813953488372093,\n",
       "  'Redir2': 0.436046511627907},\n",
       " 'Ciencias sociales - Humanidades': {'NoRedir': 0.7945205479452054,\n",
       "  'Redir1': 0.0,\n",
       "  'Redir2': 0.2054794520547945},\n",
       " '': {'NoRedir': 0.0, 'Redir1': 0.0, 'Redir2': 1.0}}"
      ]
     },
     "execution_count": 10,
     "metadata": {},
     "output_type": "execute_result"
    }
   ],
   "source": [
    "split_col = F.split(dfu[\"category.__ref\"].cast(\"String\"), \":\")\n",
    "cat_count_redir = dfu.withColumn(\"category_id\", split_col.getItem(1).cast(\"INT\"))\n",
    "cat_count_redir = cat_count_redir.groupby(\"category_id\").pivot(\"redirect.type\").count()\n",
    "cat_count_redir = cat_count_redir.join(categories.select(\"id\", \"description\"), cat_count_redir.category_id == categories.id, how=\"inner\")\n",
    "cat_count_redir = cat_count_redir.select([\"description\", \"0\", \"1\", \"2\"]).sort(F.col(\"0\").desc()).toPandas().fillna(0)\n",
    "cat_count_redir.columns = [\"Category\", \"NoRedir\", \"Redir1\", \"Redir2\"]\n",
    "cat_count_redir = cat_count_redir.set_index(\"Category\")\n",
    "cat_count_redir = cat_count_redir.div(cat_count_redir.sum(axis=1), axis=0)\n",
    "data['proportions_by_category_by_redirect_type'] = cat_count_redir.to_dict('index')\n",
    "data['proportions_by_category_by_redirect_type']"
   ]
  },
  {
   "cell_type": "markdown",
   "id": "d4c01871-8a6c-41bd-8464-5a7503bc5b75",
   "metadata": {},
   "source": [
    "#### Categorías en las que OCC es débil\n",
    "\n",
    "Mayor proporción de agregadas"
   ]
  },
  {
   "cell_type": "markdown",
   "id": "8b8049f5-d788-4a83-a201-6ed07a6f4710",
   "metadata": {},
   "source": [
    "## Subcategorías"
   ]
  },
  {
   "cell_type": "code",
   "execution_count": 11,
   "id": "c564e515-e9a0-4dc2-95e4-c95b95dfd56e",
   "metadata": {},
   "outputs": [],
   "source": [
    "subcat_count = dfu.groupby(\"subcategory\").count().orderBy(F.col(\"count\").desc())\n",
    "split_col = F.split(subcat_count[\"subcategory.__ref\"].cast(\"String\"), \":\")\n",
    "subcat_count = subcat_count.withColumn(\"subcategory_id\", split_col.getItem(1).cast(\"INT\"))\n",
    "subcat_count = subcat_count.join(subcategories.select(\"id\", \"description\"), subcat_count.subcategory_id == subcategories.id, how=\"inner\")\n",
    "data['count_by_subcategory'] = subcat_count.orderBy(F.col(\"count\").desc()).toPandas().to_dict('records')#.show(25, truncate=False)"
   ]
  },
  {
   "cell_type": "markdown",
   "id": "2ee97195-2b2c-44e2-b4a4-cfb378c05c19",
   "metadata": {},
   "source": [
    "## Google For Jobs\n",
    "\n",
    "- Primer campo: si la oferta está disponible para G4J\n",
    "- Segundo campo: (¿?) si la oferta ya está indexada por G4J"
   ]
  },
  {
   "cell_type": "code",
   "execution_count": 12,
   "id": "a74c3899-3317-40ec-aa55-d2399c100f69",
   "metadata": {},
   "outputs": [
    {
     "data": {
      "text/plain": [
       "[{'googleForJobs': Row(__typename='GoogleForJobs', isGoogleForJobs=True, isGoogleIndexed=True),\n",
       "  'count': 147707},\n",
       " {'googleForJobs': Row(__typename='GoogleForJobs', isGoogleForJobs=False, isGoogleIndexed=False),\n",
       "  'count': 1018}]"
      ]
     },
     "execution_count": 12,
     "metadata": {},
     "output_type": "execute_result"
    }
   ],
   "source": [
    "#ignore\n",
    "dfu.groupby(\"googleForJobs\").count().sort(F.col(\"count\").desc()).toPandas().to_dict('records')#.show(truncate=False)"
   ]
  },
  {
   "cell_type": "markdown",
   "id": "5c387b52-15a7-47e7-b1b6-d3f4d9514223",
   "metadata": {},
   "source": [
    "## Ubicación"
   ]
  },
  {
   "cell_type": "markdown",
   "id": "170d9f3b-d5ae-44d3-abba-45e584753697",
   "metadata": {},
   "source": [
    "### Estados"
   ]
  },
  {
   "cell_type": "markdown",
   "id": "a3d0908a-675e-4095-8a63-bc276862c5fa",
   "metadata": {},
   "source": [
    "#### Distribución de vacantes por estado con suma acumulada"
   ]
  },
  {
   "cell_type": "code",
   "execution_count": 13,
   "id": "e644ba13-c2c7-40f5-93e2-9b0753ed4fca",
   "metadata": {},
   "outputs": [],
   "source": [
    "dfu_loc = dfu.select(\"id\", F.explode(\"location.locations\").alias(\"loc_data\"))\n",
    "state_count = dfu_loc.groupby(\"loc_data.state.description\").count().sort(F.col(\"count\").desc())\n",
    "#data['count_by_state'] = \n",
    "data['count_by_state'] = state_count.toPandas().to_dict('records')"
   ]
  },
  {
   "cell_type": "code",
   "execution_count": 14,
   "id": "058edcf7-9837-40de-9b09-8c8d330d0014",
   "metadata": {},
   "outputs": [
    {
     "name": "stdout",
     "output_type": "stream",
     "text": [
      "+-------------------+-----+--------------------+-------------------+\n",
      "|        description|count|                perc|             cumsum|\n",
      "+-------------------+-----+--------------------+-------------------+\n",
      "|   Ciudad de México|42664|    0.28686501933098|   0.28686501933098|\n",
      "|         Nuevo León|17718| 0.11913262733232476| 0.4059976466633048|\n",
      "|            Jalisco|13209| 0.08881492687846697|0.49481257354177177|\n",
      "|   Estado de México|11585| 0.07789544461253992| 0.5727080181543117|\n",
      "|                   | 9345| 0.06283408976298538| 0.6355421079172971|\n",
      "|          Querétaro| 6261|0.042097831568330815|  0.677639939485628|\n",
      "|    Baja California| 4278| 0.02876449823499748| 0.7064044377206254|\n",
      "|         Guanajuato| 4093|0.027520591696083375| 0.7339250294167088|\n",
      "|          Chihuahua| 4002| 0.02690872415532022|  0.760833753572029|\n",
      "|             Puebla| 3828|0.025738779626828037|  0.786572533198857|\n",
      "|           Veracruz| 3556|0.023909900823667844| 0.8104824340225248|\n",
      "|           Coahuila| 2911|0.019573037485291645| 0.8300554715078164|\n",
      "|    San Luis Potosí| 2670|0.017952597075138677| 0.8480080685829551|\n",
      "|            Yucatán| 2191|0.014731887712220542| 0.8627399562951756|\n",
      "|       Quintana Roo| 2168|0.014577239872247436| 0.8773171961674231|\n",
      "|         Tamaulipas| 2129|0.014315010926206085| 0.8916322070936292|\n",
      "|             Sonora| 1999| 0.01344091443940158| 0.9050731215330308|\n",
      "|            Sinaloa| 1769|0.011894436039670532| 0.9169675575727013|\n",
      "|     Aguascalientes| 1601|0.010764834425953941| 0.9277323919986553|\n",
      "|          Michoacán| 1434|0.009641956631366615| 0.9373743486300219|\n",
      "|             Oaxaca| 1192|0.008014792402084385| 0.9453891410321063|\n",
      "|            Chiapas| 1004|0.006750714405782...| 0.9521398554378887|\n",
      "|             Colima|  835|0.005614388972936628| 0.9577542444108254|\n",
      "|Baja California Sur|  834|0.005607665153807362| 0.9633619095646327|\n",
      "|            Tabasco|  829|0.005574046058161035| 0.9689359556227938|\n",
      "|            Morelos|  785|0.005278198016473357| 0.9742141536392671|\n",
      "|            Hidalgo|  777|0.005224407463439...| 0.9794385611027063|\n",
      "|            Durango|  624|0.004195663136661...|  0.983634224239368|\n",
      "|          Zacatecas|  602|0.004047739115817785| 0.9876819633551858|\n",
      "|            Nayarit|  501|0.003368633383761977| 0.9910505967389478|\n",
      "|           Tlaxcala|  454|0.003052613884686502| 0.9941032106236343|\n",
      "|           Guerrero|  453|0.003045890065557...| 0.9971491006891915|\n",
      "|           Campeche|  424|0.002850899310808539|                1.0|\n",
      "+-------------------+-----+--------------------+-------------------+\n",
      "\n"
     ]
    }
   ],
   "source": [
    "state_count_p = state_count.withColumn(\"perc\", F.col(\"count\") / record_count).orderBy(F.col(\"perc\").desc())\n",
    "window = Window.orderBy(F.col(\"perc\").desc()).rowsBetween(Window.unboundedPreceding, Window.currentRow)\n",
    "state_count_p = state_count_p.withColumn(\"cumsum\", F.sum(F.col(\"perc\")).over(window))\n",
    "state_count_p.show(33)"
   ]
  },
  {
   "cell_type": "markdown",
   "id": "91f14e7d-575d-43b9-bc82-c1c53ccda144",
   "metadata": {},
   "source": [
    "#### Vacantes por estado divididas por tipo Redir, con histograma para Redir2"
   ]
  },
  {
   "cell_type": "code",
   "execution_count": 15,
   "id": "0c87a36d-2cc0-454c-b7a0-f09d98241e25",
   "metadata": {},
   "outputs": [],
   "source": [
    "#ignorar\n",
    "state_count = dfu.withColumn(\"loc_data\", F.explode(\"location.locations\"))\\\n",
    "                .groupby(\"loc_data.state.description\")\\\n",
    "                .pivot(\"redirect.type\").count()\\\n",
    "                .withColumn(\"total\", F.col(\"0\") + F.col(\"1\") + F.col(\"2\"))\\\n",
    "                .withColumn(\"NoRedirPct\", F.col(\"0\") / F.col(\"total\"))\\\n",
    "                .withColumn(\"Redir1Pct\", F.col(\"1\") / F.col(\"total\"))\\\n",
    "                .withColumn(\"Redir2Pct\", F.col(\"2\") / F.col(\"total\"))\\\n",
    "                .sort(F.col(\"total\").desc())"
   ]
  },
  {
   "cell_type": "markdown",
   "id": "61aeb466-ba35-4588-99cc-1160d9146cff",
   "metadata": {},
   "source": [
    "#### Descripción (granular)"
   ]
  },
  {
   "cell_type": "code",
   "execution_count": 16,
   "id": "91c5fef4-aae2-427a-bc16-2c30e9e4b1f2",
   "metadata": {},
   "outputs": [
    {
     "name": "stdout",
     "output_type": "stream",
     "text": [
      "Número de location.description: 747\n"
     ]
    }
   ],
   "source": [
    "loc_count = dfu.groupby(\"location.description\").count().sort(F.col(\"count\").desc())\n",
    "loc_count_p = loc_count.withColumn(\"perc\", F.col(\"count\") / record_count).orderBy(F.col(\"perc\").desc())\n",
    "window = Window.orderBy(F.col(\"perc\").desc()).rowsBetween(Window.unboundedPreceding, Window.currentRow)\n",
    "loc_count_p = loc_count_p.withColumn(\"cumsum\", F.sum(F.col(\"perc\")).over(window))\n",
    "print(f\"Número de location.description: {loc_count_p.count()}\")\n",
    "data['count_by_granular_location'] = loc_count_p.toPandas().to_dict('records')#show(30, truncate=False)"
   ]
  },
  {
   "cell_type": "markdown",
   "id": "97644fd3-2de7-4aef-8a0d-e9a7fb9d1158",
   "metadata": {},
   "source": [
    "## Compañias\n",
    "\n",
    "Basadas en la url. \n",
    "\n",
    "NULL ==> Confidenciales"
   ]
  },
  {
   "cell_type": "code",
   "execution_count": 17,
   "id": "4c8690c7-c1de-42e0-9bc4-0e02a91ea7b5",
   "metadata": {},
   "outputs": [
    {
     "name": "stdout",
     "output_type": "stream",
     "text": [
      "Número de URLs de compañias: 14044\n"
     ]
    }
   ],
   "source": [
    "company_count = dfu.groupby(\"company.url\").count().sort(F.col(\"count\").desc())\n",
    "print(f\"Número de URLs de compañias: {company_count.count()}\")\n",
    "data['count_by_company_url'] = company_count.toPandas().to_dict('records')#.show(25, truncate=False)"
   ]
  },
  {
   "cell_type": "markdown",
   "id": "d1a93348-c9a9-4e5e-ac37-b5a15a0ec668",
   "metadata": {},
   "source": [
    "#### Proporción de vacantes por cia y suma acumulada"
   ]
  },
  {
   "cell_type": "code",
   "execution_count": 18,
   "id": "c6924a5c-ef11-4a89-b0c7-371331e4d6f5",
   "metadata": {},
   "outputs": [
    {
     "name": "stdout",
     "output_type": "stream",
     "text": [
      "+---------------------------------------------------------+-----+---------------------+-------------------+\n",
      "|url                                                      |count|perc                 |cumsum             |\n",
      "+---------------------------------------------------------+-----+---------------------+-------------------+\n",
      "|null                                                     |15951|0.10725163893091276  |0.10725163893091276|\n",
      "|empleos/bolsa-de-trabajo-grupo-salinas/                  |11613|0.07808371154815935  |0.18533535047907213|\n",
      "|empleos/bolsa-de-trabajo-Test-and-QA-Corporation/        |6609 |0.04443772062531518  |0.2297730711043873 |\n",
      "|empleos/bolsa-de-trabajo-GrabJobs/                       |5001 |0.033625819465456376 |0.26339889056984367|\n",
      "|empleos/bolsa-de-trabajo-Un-Mejor-Empleo/                |2822 |0.018974617582787023 |0.2823735081526307 |\n",
      "|empleos/bolsa-de-trabajo-Trabajos-Diarios-MX/            |2213 |0.01487981173306438  |0.29725331988569503|\n",
      "|empleos/bolsa-de-trabajo-Grupo-Salinas/                  |1628 |0.010946377542444109 |0.30819969742813913|\n",
      "|empleos/bolsa-de-trabajo-autozone/                       |1624 |0.010919482265927047 |0.31911917969406617|\n",
      "|empleos/bolsa-de-trabajo-truper/                         |1553 |0.0104420911077492   |0.32956127080181535|\n",
      "|empleos/bolsa-de-trabajo-Empleos-TI/                     |1461 |0.009823499747856783 |0.33938477054967214|\n",
      "|empleos/bolsa-de-trabajo-Manpower--S-A--de-C-V-/         |1163 |0.007819801647335686 |0.34720457219700784|\n",
      "|empleos/bolsa-de-trabajo-gepp/                           |950  |0.006387628172802151 |0.35359220036981   |\n",
      "|empleos/bolsa-de-trabajo-Adecco/                         |946  |0.00636073289628509  |0.35995293326609507|\n",
      "|empleos/bolsa-de-trabajo-Santander/                      |648  |0.004357034795763994 |0.36430996806185906|\n",
      "|empleos/bolsa-de-trabajo-Banamex/                        |637  |0.004283072785342074 |0.3685930408472011 |\n",
      "|empleos/bolsa-de-trabajo-bairesdev/                      |636  |0.004276348966212809 |0.37286938981341394|\n",
      "|empleos/bolsa-de-trabajo-citigroup-inc-/                 |585  |0.003933434190620273 |0.3768028240040342 |\n",
      "|empleos/bolsa-de-trabajo-Autofinauto/                    |578  |0.0038863674567154146|0.3806891914607496 |\n",
      "|empleos/bolsa-de-trabajo-marriott-international/         |494  |0.003321566649857119 |0.3840107581106067 |\n",
      "|empleos/bolsa-de-trabajo-san-pablo-farmacia/             |471  |0.003166918809884014 |0.3871776769204907 |\n",
      "|empleos/bolsa-de-trabajo-Banorte/                        |442  |0.002971928055135317 |0.390149604975626  |\n",
      "|empleos/bolsa-de-trabajo-Atento-Servicios--S--A--de-C-V-/|437  |0.0029383089594889897|0.393087913935115  |\n",
      "|empleos/bolsa-de-trabajo-tecnologico-de-monterrey/       |406  |0.002729870566481762 |0.39581778450159677|\n",
      "|empleos/bolsa-de-trabajo-Workable-ATS/                   |406  |0.002729870566481762 |0.39854765506807854|\n",
      "|empleos/bolsa-de-trabajo-CitiGroup/                      |388  |0.002608841822154984 |0.4011564968902335 |\n",
      "|empleos/bolsa-de-trabajo-Tecnologico-de-Monterrey/       |385  |0.0025886703647671878|0.4037451672550007 |\n",
      "|empleos/bolsa-de-trabajo-Profuturo/                      |384  |0.0025819465456379223|0.40632711380063863|\n",
      "|empleos/bolsa-de-trabajo-santander/                      |361  |0.0024272987056648174|0.40875441250630346|\n",
      "|empleos/bolsa-de-trabajo-Human-Quality/                  |347  |0.002333165237855102 |0.41108757774415855|\n",
      "|empleos/bolsa-de-trabajo-Worken/                         |347  |0.002333165237855102 |0.41342074298201364|\n",
      "+---------------------------------------------------------+-----+---------------------+-------------------+\n",
      "only showing top 30 rows\n",
      "\n"
     ]
    }
   ],
   "source": [
    "#ignorar\n",
    "ccp = company_count.withColumn(\"perc\", F.col(\"count\") / record_count).orderBy(F.col(\"perc\").desc())\n",
    "window = Window.orderBy(F.col(\"perc\").desc()).rowsBetween(Window.unboundedPreceding, Window.currentRow)\n",
    "ccp.withColumn(\"cumsum\", F.sum(F.col(\"perc\")).over(window)).show(30, truncate=False)"
   ]
  },
  {
   "cell_type": "markdown",
   "id": "1d8f78c8-4d14-42b4-a920-a1e0267d5b67",
   "metadata": {},
   "source": [
    "### Excluyendo confidenciales"
   ]
  },
  {
   "cell_type": "code",
   "execution_count": 19,
   "id": "dc05b3cb-84fd-48a7-b835-158cdbf2310a",
   "metadata": {},
   "outputs": [
    {
     "name": "stdout",
     "output_type": "stream",
     "text": [
      "+---------------------------------------------------------+-----+---------------------+-------------------+\n",
      "|url                                                      |count|perc                 |cumsum             |\n",
      "+---------------------------------------------------------+-----+---------------------+-------------------+\n",
      "|empleos/bolsa-de-trabajo-grupo-salinas/                  |11613|0.08746441321343033  |0.08746441321343033|\n",
      "|empleos/bolsa-de-trabajo-Test-and-QA-Corporation/        |6609 |0.04977631162727642  |0.13724072484070676|\n",
      "|empleos/bolsa-de-trabajo-GrabJobs/                       |5001 |0.03766550680103032  |0.17490623164173708|\n",
      "|empleos/bolsa-de-trabajo-Un-Mejor-Empleo/                |2822 |0.021254161206260263 |0.19616039284799733|\n",
      "|empleos/bolsa-de-trabajo-Trabajos-Diarios-MX/            |2213 |0.016667419826170787 |0.21282781267416812|\n",
      "|empleos/bolsa-de-trabajo-Grupo-Salinas/                  |1628 |0.01226143672707006  |0.22508924940123817|\n",
      "|empleos/bolsa-de-trabajo-autozone/                       |1624 |0.012231310346905267 |0.23732055974814345|\n",
      "|empleos/bolsa-de-trabajo-truper/                         |1553 |0.011696567098980221 |0.24901712684712368|\n",
      "|empleos/bolsa-de-trabajo-Empleos-TI/                     |1461 |0.011003660355190022 |0.2600207872023137 |\n",
      "|empleos/bolsa-de-trabajo-Manpower--S-A--de-C-V-/         |1163 |0.00875924503291307  |0.2687800322352268 |\n",
      "|empleos/bolsa-de-trabajo-gepp/                           |950  |0.007155015289137934 |0.2759350475243647 |\n",
      "|empleos/bolsa-de-trabajo-Adecco/                         |946  |0.007124888908973143 |0.2830599364333378 |\n",
      "|empleos/bolsa-de-trabajo-Santander/                      |648  |0.0048804735866961905|0.287940410020034  |\n",
      "|empleos/bolsa-de-trabajo-Banamex/                        |637  |0.004797626041243014 |0.292738036061277  |\n",
      "|empleos/bolsa-de-trabajo-bairesdev/                      |636  |0.004790094446201817 |0.29752813050747884|\n",
      "|empleos/bolsa-de-trabajo-citigroup-inc-/                 |585  |0.004405983099100727 |0.30193411360657957|\n",
      "|empleos/bolsa-de-trabajo-Autofinauto/                    |578  |0.004353261933812343 |0.3062873755403919 |\n",
      "|empleos/bolsa-de-trabajo-marriott-international/         |494  |0.0037206079503517256|0.31000798349074365|\n",
      "|empleos/bolsa-de-trabajo-san-pablo-farmacia/             |471  |0.0035473812644041757|0.31355536475514784|\n",
      "|empleos/bolsa-de-trabajo-Banorte/                        |442  |0.0033289650082094385|0.3168843297633573 |\n",
      "|empleos/bolsa-de-trabajo-Atento-Servicios--S--A--de-C-V-/|437  |0.0032913070330034496|0.32017563679636074|\n",
      "|empleos/bolsa-de-trabajo-tecnologico-de-monterrey/       |406  |0.0030578275867263168|0.32323346438308703|\n",
      "|empleos/bolsa-de-trabajo-Workable-ATS/                   |406  |0.0030578275867263168|0.3262912919698133 |\n",
      "|empleos/bolsa-de-trabajo-CitiGroup/                      |388  |0.002922258875984756 |0.32921355084579806|\n",
      "|empleos/bolsa-de-trabajo-Tecnologico-de-Monterrey/       |385  |0.0028996640908611625|0.33211321493665924|\n",
      "|empleos/bolsa-de-trabajo-Profuturo/                      |384  |0.002892132495819965 |0.33500534743247923|\n",
      "|empleos/bolsa-de-trabajo-santander/                      |361  |0.002718905809872415 |0.33772425324235167|\n",
      "|empleos/bolsa-de-trabajo-Human-Quality/                  |347  |0.002613463479295645 |0.3403377167216473 |\n",
      "|empleos/bolsa-de-trabajo-Worken/                         |347  |0.002613463479295645 |0.34295118020094295|\n",
      "|empleos/bolsa-de-trabajo-Qualitas-Compania-de-Seguros/   |322  |0.0024251736032656996|0.34537635380420867|\n",
      "+---------------------------------------------------------+-----+---------------------+-------------------+\n",
      "only showing top 30 rows\n",
      "\n"
     ]
    }
   ],
   "source": [
    "#ignorar\n",
    "ccp_noconf = company_count.where(\"url is not null\")\n",
    "nconf_records = ccp_noconf.agg(F.sum(\"count\")).collect()[0][0]\n",
    "ccp_noconf = ccp_noconf.withColumn(\"perc\", F.col(\"count\") / nconf_records).orderBy(F.col(\"perc\").desc())\n",
    "window = Window.orderBy(F.col(\"perc\").desc()).rowsBetween(Window.unboundedPreceding, Window.currentRow)\n",
    "ccp_noconf.withColumn(\"cumsum\", F.sum(F.col(\"perc\")).over(window)).show(30, truncate=False)"
   ]
  },
  {
   "cell_type": "markdown",
   "id": "1117d68f-bfe2-4691-866b-79926f7cba61",
   "metadata": {},
   "source": [
    "### Confidenciales\n",
    "\n",
    "La URL null son confidenciales"
   ]
  },
  {
   "cell_type": "code",
   "execution_count": 20,
   "id": "1cdbbe65-6efc-4da2-b72b-5784f090b4b8",
   "metadata": {},
   "outputs": [],
   "source": [
    "data['confidenciales'] = dfu.select([\"company.url\", \"company.name\"]).where(\"company.confidential=TRUE\").count()"
   ]
  },
  {
   "cell_type": "code",
   "execution_count": 21,
   "id": "aaebe9a2-cfa4-4e03-bed3-90ec46c04bef",
   "metadata": {},
   "outputs": [],
   "source": [
    "company_count = dfu.where(\"redirect.type != 2\").groupby(\"company.url\").count().sort(F.col(\"count\").desc())\n",
    "data['count_by_company_where_not_redirected'] = company_count.toPandas().to_dict('records')#show(truncate=False)"
   ]
  },
  {
   "cell_type": "code",
   "execution_count": 22,
   "id": "900fefd4-5da5-4ecd-9e7d-27df6e20d6b1",
   "metadata": {},
   "outputs": [],
   "source": [
    "company_count = dfu.where(\"redirect.type == 2\").groupby(\"company.url\").count().sort(F.col(\"count\").desc())\n",
    "data['count_by_company_where_redirected'] = company_count.toPandas().to_dict('records')#.show(truncate=False)"
   ]
  },
  {
   "cell_type": "markdown",
   "id": "e7a9297a-a51a-4cbb-82e7-564f4f54715e",
   "metadata": {},
   "source": [
    "## Salarios"
   ]
  },
  {
   "cell_type": "code",
   "execution_count": 23,
   "id": "bfb6c309-6623-4528-9c07-bd5c5607075c",
   "metadata": {},
   "outputs": [
    {
     "name": "stdout",
     "output_type": "stream",
     "text": [
      "+-------+-----------------+------------------+\n",
      "|summary|             from|                to|\n",
      "+-------+-----------------+------------------+\n",
      "|  count|           148725|            148725|\n",
      "|   mean|6112.914923516558|  7043.87521264078|\n",
      "| stddev|11584.42173422566|13231.213591792068|\n",
      "|    min|                0|                 0|\n",
      "|    25%|                0|                 0|\n",
      "|    50%|                0|                 0|\n",
      "|    75%|            10000|             12000|\n",
      "|    max|           485000|            500000|\n",
      "+-------+-----------------+------------------+\n",
      "\n"
     ]
    }
   ],
   "source": [
    "dfu.select([\"salary.from\", \"salary.to\"]).summary().show()"
   ]
  },
  {
   "cell_type": "markdown",
   "id": "e7549b58-bc1f-4b9d-a137-59adf6f6b0e8",
   "metadata": {},
   "source": [
    "Casi todas las Redir2 (agregadas) no tienen salario, vs 1/3 de las pagadas:"
   ]
  },
  {
   "cell_type": "code",
   "execution_count": 24,
   "id": "48a9cb6a-d701-4bd0-acd2-b24bedfe100b",
   "metadata": {},
   "outputs": [
    {
     "name": "stdout",
     "output_type": "stream",
     "text": [
      "+----+-----+-----+\n",
      "|type|false| true|\n",
      "+----+-----+-----+\n",
      "|   0|24507|48834|\n",
      "|   1| 1845| 1383|\n",
      "|   2|69131| 3025|\n",
      "+----+-----+-----+\n",
      "\n"
     ]
    }
   ],
   "source": [
    "dfu.withColumn(\"has_salary\", F.col(\"salary.from\") != 0).groupby(\"redirect.type\").pivot(\"has_salary\").count().show()"
   ]
  },
  {
   "cell_type": "markdown",
   "id": "8fcf7e1c-c731-4880-a95c-b19de1b43315",
   "metadata": {},
   "source": [
    "Al parecer si alguno de los dos campos de salario es mayor a 0, el otro también lo es"
   ]
  },
  {
   "cell_type": "code",
   "execution_count": 25,
   "id": "72a12e76-758f-43f7-a31b-7efa923c1467",
   "metadata": {},
   "outputs": [],
   "source": [
    "salary = dfu.select([\"salary.from\", \"salary.to\"]).where(\"salary.from > 0 or salary.to > 0\")\n",
    "salary = salary.withColumn(\"avg\", (F.col(\"from\") + F.col(\"to\")) / 2)\n",
    "data['salary_summary'] = salary.summary().toPandas().to_dict('records')#.show()"
   ]
  },
  {
   "cell_type": "code",
   "execution_count": 28,
   "id": "87665b4b-209b-497a-87f1-bc154e9008c2",
   "metadata": {},
   "outputs": [],
   "source": [
    "save(output_filename, data)"
   ]
  }
 ],
 "metadata": {
  "kernelspec": {
   "display_name": "Python 3 (ipykernel)",
   "language": "python",
   "name": "python3"
  },
  "language_info": {
   "codemirror_mode": {
    "name": "ipython",
    "version": 3
   },
   "file_extension": ".py",
   "mimetype": "text/x-python",
   "name": "python",
   "nbconvert_exporter": "python",
   "pygments_lexer": "ipython3",
   "version": "3.11.4"
  }
 },
 "nbformat": 4,
 "nbformat_minor": 5
}
