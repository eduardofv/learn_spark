{
 "cells": [
  {
   "cell_type": "markdown",
   "id": "80b11cd5-ca90-4612-90c3-59d6cfa3b33d",
   "metadata": {},
   "source": [
    "# Transforma dataset de scrapy sneaky \n",
    "\n",
    "Nueva version en harvesterpy/scripts"
   ]
  },
  {
   "cell_type": "code",
   "execution_count": 1,
   "id": "e946b9d6-1a46-4e59-a23c-c41efba33474",
   "metadata": {},
   "outputs": [],
   "source": [
    "import glob\n",
    "import gzip\n",
    "import json\n",
    "import re"
   ]
  },
  {
   "cell_type": "code",
   "execution_count": 2,
   "id": "aada8bf7-0d46-4b44-9ace-cd7201998f55",
   "metadata": {},
   "outputs": [],
   "source": [
    "class RegexDict(dict):\n",
    "\n",
    "    def get_dict_matching(self, regex):\n",
    "        return {key: self[key] for key in self.keys() if re.match(regex, key)}\n",
    "        \n",
    "    def get_matching(self, regex, value_field=None):\n",
    "        results = []\n",
    "        for key in self.keys():\n",
    "            if re.match(regex, key):\n",
    "                value = self[key]\n",
    "                if value_field:\n",
    "                    value[value_field] = key\n",
    "                results.append(value)\n",
    "        return results"
   ]
  },
  {
   "cell_type": "code",
   "execution_count": 3,
   "id": "7582f505-3d0b-4704-9447-c3d6c7d5bc31",
   "metadata": {},
   "outputs": [
    {
     "name": "stdout",
     "output_type": "stream",
     "text": [
      "..........................................................................................................................................................................................................................................................................................................................................................................................................................................................................................................................................................."
     ]
    }
   ],
   "source": [
    "day = \"20230802\"\n",
    "categories = {}\n",
    "subcategories = {}\n",
    "\n",
    "files = f\"harvester/occ/{day}/sneaky_spider*.jsonl\"\n",
    "num_files = 0\n",
    "records = 0\n",
    "num_exceptions = 0\n",
    "total_lines = 0\n",
    "exceptions = []\n",
    "\n",
    "with open(f\"occ-{day}.jsonl\", \"w\") as fo:\n",
    "    for infile in glob.glob(files):\n",
    "        num_files += 1\n",
    "        print(\".\", end=\"\")\n",
    "#        print(infile)\n",
    "#        with gzip.open(infile) as fin:\n",
    "        with open(infile) as fin:\n",
    "            line_num = 0\n",
    "            for line in fin:\n",
    "                try:\n",
    "                    #line = fin.readline()\n",
    "                    j = json.loads(line)\n",
    "                    jobp = json.loads(j[\"jobposting\"])\n",
    "                    jobp = jobp[\"props\"][\"pageProps\"][\"initialApolloState\"]\n",
    "                    jobext = RegexDict(jobp)\n",
    "                    job = jobext.get_matching(r\"Job:.*\", value_field=\"Job:value\")[0]\n",
    "                    job['scraped_at'] = j['scraped_at']\n",
    "                    job['scraped_url'] = j['url']\n",
    "                    job['scraped_uuid'] = j['uuid']\n",
    "                    job['scraped_record_version'] = j['version']\n",
    "                    job['scraped_identifier'] = j['identifier']\n",
    "                    job['scraped_crawler'] = j['crawler']\n",
    "                    scraper_uuid = re.match(r\"^.*-.*-(.*)-rv.*-b.*.jsonl$\", infile)\n",
    "                    job['scraped_by_uuid'] = scraper_uuid.group(1)\n",
    "                    \n",
    "                    fo.write(json.dumps(job))\n",
    "                    fo.write(\"\\n\")\n",
    "                    \n",
    "                    cat = jobext.get_matching(\"JobCategory:.*\")[0]\n",
    "                    subcat = jobext.get_matching(\"JobSubcategory:.*\")[0]\n",
    "                    categories[cat['id']] = cat\n",
    "                    subcategories[subcat['id']] = subcat\n",
    "                    records += 1\n",
    "                except Exception as ex:\n",
    "#                    print(f\"line {line_num}: {ex}\")\n",
    "                    exceptions.append({'file': infile, 'line': line_num, 'exception': str(ex)})\n",
    "                    num_exceptions += 1\n",
    "                finally:\n",
    "                    line_num += 1\n",
    "                    total_lines += 1"
   ]
  },
  {
   "cell_type": "code",
   "execution_count": 4,
   "id": "c634e3bf-3b4b-49ce-8011-cdced4b637c4",
   "metadata": {},
   "outputs": [
    {
     "name": "stdout",
     "output_type": "stream",
     "text": [
      "\n",
      "Files: 539\tTotal lines: 132565 \tRecords: 132275\tExceptions: 290\n"
     ]
    }
   ],
   "source": [
    "print(f\"\\nFiles: {num_files}\\tTotal lines: {total_lines} \\tRecords: {records}\\tExceptions: {num_exceptions}\")"
   ]
  },
  {
   "cell_type": "code",
   "execution_count": 5,
   "id": "784dd4c2-2736-4e9c-9633-d86b97b8111d",
   "metadata": {},
   "outputs": [],
   "source": [
    "with open(f\"occ-{day}-exceptions.jsonl\", \"w\") as fo:\n",
    "    for ex in exceptions:\n",
    "        fo.write(json.dumps(ex))\n",
    "        fo.write(\"\\n\")"
   ]
  },
  {
   "cell_type": "code",
   "execution_count": 6,
   "id": "4ebd1ca9-8f50-4eef-881e-4b12dfa059d8",
   "metadata": {},
   "outputs": [
    {
     "data": {
      "text/plain": [
       "(24, 325)"
      ]
     },
     "execution_count": 6,
     "metadata": {},
     "output_type": "execute_result"
    }
   ],
   "source": [
    "with open(f\"occ-{day}-categories.json\", \"w\") as fo:\n",
    "    fo.write(json.dumps([c for c in categories.values()]))\n",
    "\n",
    "with open(f\"occ-{day}-subcategories.json\", \"w\") as fo:\n",
    "    fo.write(json.dumps([c for c in subcategories.values()]))\n",
    "             \n",
    "len(categories), len(subcategories)"
   ]
  },
  {
   "cell_type": "code",
   "execution_count": 7,
   "id": "9deee338-a7e3-455b-a69f-45d29da5e8f8",
   "metadata": {},
   "outputs": [
    {
     "data": {
      "text/plain": [
       "{'__typename': 'Job',\n",
       " 'id': '17091221',\n",
       " 'url': '/empleo/oferta/17091221-vendedor-piso-de-ventas-elektra-valle-verde?rank=1&page=1&sessionid=&userid=&uuid=5f74e33d-a0cf-42e2-8189-92e493c924ce&origin=unknown&type=3&ai=false&ais=&showseo=true&returnURL=%2Fempleos-en-mexico-y-el-mundo%3Fsessionid%3D%26userid%3D%231',\n",
       " 'title': 'Vendedor Piso De Ventas Elektra Valle Verde',\n",
       " 'description': 'UNETE A GRUPO ELEKTRA!!     SOLICITAMOS VENDEDOR , SUCURSAL VALLE VERDE (Sobre Av Abraham Lincoln, frente a Plaza Adana)     REQUISITOS:  *PROACTIVO, DINAMICO     *GUSTO POR LAS VENTAS     *EXPERIENCI ...',\n",
       " 'jobType': 'PREMIUM',\n",
       " 'salary': {'__typename': 'JobSalary',\n",
       "  'show': True,\n",
       "  'from': 8000,\n",
       "  'to': 12000,\n",
       "  'time': 0,\n",
       "  'performanceCompensation': 1,\n",
       "  'variableCompensation': 0},\n",
       " 'location': {'__typename': 'JobLocation',\n",
       "  'description': 'Monterrey, Nuevo León',\n",
       "  'locations': [{'__typename': 'JobLocationData',\n",
       "    'city': {'__typename': 'CityLocation',\n",
       "     'description': 'Monterrey',\n",
       "     'jobCity': 'Monterrey',\n",
       "     'url': 'empleos/en-nuevo-leon/en-la-ciudad-de-monterrey/',\n",
       "     'rel': None},\n",
       "    'country': {'__ref': 'CountryLocation:MX'},\n",
       "    'locationId': '287',\n",
       "    'placeId': '85624',\n",
       "    'state': {'__typename': 'StateLocation',\n",
       "     'description': 'Nuevo León',\n",
       "     'abbreviation': 'N.L.',\n",
       "     'url': 'empleos/en-nuevo-leon/',\n",
       "     'rel': None},\n",
       "    'zone': {'__typename': 'ZoneLocation', 'description': ''}}],\n",
       "  'url': 'empleos-en-monterrey-nuevo-leon-mexico'},\n",
       " 'hiring': {'__typename': 'JobHiring',\n",
       "  'contract': False,\n",
       "  'fullTime': True,\n",
       "  'partTime': False,\n",
       "  'permanent': True,\n",
       "  'temporary': False,\n",
       "  'url': 'empleos/permanente/'},\n",
       " 'level': {'__ref': 'JobLevel:'},\n",
       " 'workMode': {'__typename': 'JobWorkMode',\n",
       "  'description': 'IN_PERSON',\n",
       "  'url': 'empleos/tipo-en-oficina/'},\n",
       " 'bullets': [{'__ref': 'JobBullet:1844430'},\n",
       "  {'__ref': 'JobBullet:1844431'},\n",
       "  {'__ref': 'JobBullet:1844432'}],\n",
       " 'company': {'__typename': 'JobCompany',\n",
       "  'name': 'Grupo Salinas',\n",
       "  'namePretty': 'Grupo-Salinas',\n",
       "  'confidential': False,\n",
       "  'url': 'empleos/bolsa-de-trabajo-Grupo-Salinas/',\n",
       "  'rel': None,\n",
       "  'logoUrl': 'https://cdn-h4.occ.com.mx/images/logos/common/no_logo.jpg',\n",
       "  'profile': None},\n",
       " 'profileId': None,\n",
       " 'category': {'__ref': 'JobCategory:19'},\n",
       " 'subcategory': {'__ref': 'JobSubcategory:275'},\n",
       " 'education': {'__typename': 'JobEducation',\n",
       "  'level': 'HIGH_SCHOOL',\n",
       "  'url': 'empleos/nivel-bachillerato/'},\n",
       " 'tags': {'__typename': 'JobTags', 'lessThan20': False},\n",
       " 'applied': False,\n",
       " 'autoinclusion': {'__typename': 'JobAutoinclusion',\n",
       "  'autoinclusion': False,\n",
       "  'source': ''},\n",
       " 'redirect': {'__typename': 'JobRedirect',\n",
       "  'isRedirected': False,\n",
       "  'redirected': False,\n",
       "  'type': 0,\n",
       "  'externalUrl': ''},\n",
       " 'skill': {'__typename': 'JobSkills', 'hasSkills': False, 'skills': []},\n",
       " 'contact': {'__typename': 'JobContact',\n",
       "  'name': 'GARCIA GARZA ESTEFANI CAROLINA',\n",
       "  'emailAddress': '2CR2IEZI3HRFW53GN24TOMMM5MVGVY2YNPL5SXF2NVRAVW5KK7JA====@reply.occ.com.mx',\n",
       "  'phoneNumber': '0000000000',\n",
       "  'showContactInfo': True},\n",
       " 'dates': {'__typename': 'JobDates',\n",
       "  'active': '2023-07-26 16:46:59',\n",
       "  'publish': '2023-08-02 00:00:00',\n",
       "  'expires': '2023-09-24 23:59:59'},\n",
       " 'friendlyId': '17091221-vendedor-piso-de-ventas-elektra-valle-verde',\n",
       " 'googleForJobs': {'__typename': 'GoogleForJobs',\n",
       "  'isGoogleForJobs': True,\n",
       "  'isGoogleIndexed': True},\n",
       " 'requisition': {'__ref': 'JobRequisition:'},\n",
       " 'simVal': None,\n",
       " 'jobBody': '<p><br></p><p>UNETE A GRUPO ELEKTRA!!</p><p><br></p><p>SOLICITAMOS VENDEDOR , SUCURSAL VALLE VERDE (Sobre Av Abraham Lincoln, frente a Plaza Adana)</p><p><br></p><p>REQUISITOS:</p><p>*PROACTIVO, DINAMICO</p><p><br></p><p>*GUSTO POR LAS VENTAS</p><p><br></p><p>*EXPERIENCIA MIN 1 A&Ntilde;O EN VENTAS Y ATN AL CLIENTE</p><p><br></p><p>*ACOSTUMBRADO A TRABAJAR BAJO OBJETIVOS</p><p><br></p><p>*VIVIR CERCA DE LA SUCURSAL</p><p><br></p><p>OFRECEMOS:</p><p>*SUELDO BASE SEMANAL MAS COMISIONES, PAGO DE COMISIONES SEMANAL, INGRESOS PROMEDIOS ENTRE $3 MIL Y $4,500 SEMANALES</p><p><br></p><p>*PRESTACIONES DE LEY , SEGURO DE VIDA</p><p><br></p><p>*ESTABILIDAD LABORAL Y DESARROLLO</p><p><br></p><p>CONTRATACION INMEDIATA!!!</p>',\n",
       " 'Job:value': 'Job:17091221',\n",
       " 'scraped_at': '2023-08-02 17:57:31.432129',\n",
       " 'scraped_url': 'https://www.occ.com.mx/empleo/oferta/17091221-vendedor-piso-de-ventas-elektra-valle-verde/',\n",
       " 'scraped_uuid': '57d164dd-726d-4385-8013-77c0efac72df',\n",
       " 'scraped_record_version': '0.0.10',\n",
       " 'scraped_identifier': '17091221',\n",
       " 'scraped_crawler': 'SneakySpider',\n",
       " 'scraped_by_uuid': '8145be16007443448db41f24bf004915'}"
      ]
     },
     "execution_count": 7,
     "metadata": {},
     "output_type": "execute_result"
    }
   ],
   "source": [
    "jobext = RegexDict(jobp)\n",
    "jobext.get_matching(r\"Job:.*\", value_field=\"Job:value\")[0]"
   ]
  },
  {
   "cell_type": "code",
   "execution_count": 8,
   "id": "b98f55d2-7d6e-45dc-80f6-ad39acf8e4a2",
   "metadata": {},
   "outputs": [
    {
     "data": {
      "text/plain": [
       "({'__typename': 'JobCategory',\n",
       "  'description': 'Ventas',\n",
       "  'id': '19',\n",
       "  'url': 'empleos/trabajo-en-ventas/',\n",
       "  'rel': None},\n",
       " {'__typename': 'JobSubcategory',\n",
       "  'id': '275',\n",
       "  'description': 'Administración de ventas',\n",
       "  'url': 'empleos/trabajo-en-ventas-administracion-de-ventas/'})"
      ]
     },
     "execution_count": 8,
     "metadata": {},
     "output_type": "execute_result"
    }
   ],
   "source": [
    "cat = jobext.get_matching(\"JobCategory:.*\")[0]\n",
    "subcat = jobext.get_matching(\"JobSubcategory:.*\")[0]\n",
    "cat, subcat"
   ]
  },
  {
   "cell_type": "code",
   "execution_count": null,
   "id": "1fa9ac46-8483-430a-8148-11c9ed5f76e5",
   "metadata": {},
   "outputs": [],
   "source": []
  },
  {
   "cell_type": "code",
   "execution_count": null,
   "id": "1b7d6db1-e588-4578-8520-9a52a66be45e",
   "metadata": {},
   "outputs": [],
   "source": []
  }
 ],
 "metadata": {
  "kernelspec": {
   "display_name": "Python 3 (ipykernel)",
   "language": "python",
   "name": "python3"
  },
  "language_info": {
   "codemirror_mode": {
    "name": "ipython",
    "version": 3
   },
   "file_extension": ".py",
   "mimetype": "text/x-python",
   "name": "python",
   "nbconvert_exporter": "python",
   "pygments_lexer": "ipython3",
   "version": "3.11.4"
  }
 },
 "nbformat": 4,
 "nbformat_minor": 5
}
