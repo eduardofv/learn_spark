{
 "cells": [
  {
   "cell_type": "code",
   "execution_count": 1,
   "id": "e946b9d6-1a46-4e59-a23c-c41efba33474",
   "metadata": {},
   "outputs": [],
   "source": [
    "import glob\n",
    "import gzip\n",
    "import json\n",
    "import re"
   ]
  },
  {
   "cell_type": "code",
   "execution_count": 2,
   "id": "aada8bf7-0d46-4b44-9ace-cd7201998f55",
   "metadata": {},
   "outputs": [],
   "source": [
    "class RegexDict(dict):\n",
    "\n",
    "    def get_dict_matching(self, regex):\n",
    "        return {key: self[key] for key in self.keys() if re.match(regex, key)}\n",
    "        \n",
    "    def get_matching(self, regex, value_field=None):\n",
    "        results = []\n",
    "        for key in self.keys():\n",
    "            if re.match(regex, key):\n",
    "                value = self[key]\n",
    "                if value_field:\n",
    "                    value[value_field] = key\n",
    "                results.append(value)\n",
    "        return results"
   ]
  },
  {
   "cell_type": "code",
   "execution_count": 3,
   "id": "7582f505-3d0b-4704-9447-c3d6c7d5bc31",
   "metadata": {},
   "outputs": [
    {
     "name": "stdout",
     "output_type": "stream",
     "text": [
      "................................................................................................................................................................................................................................................................................................................................................................................................................................................................................................................................................................................"
     ]
    }
   ],
   "source": [
    "categories = {}\n",
    "subcategories = {}\n",
    "\n",
    "files = \"harvester/occ/20230724/sneaky_spider*.jsonl\"\n",
    "num_files = 0\n",
    "records = 0\n",
    "num_exceptions = 0\n",
    "total_lines = 0\n",
    "exceptions = []\n",
    "\n",
    "with open(\"occ-20230724.jsonl\", \"w\") as fo:\n",
    "    for infile in glob.glob(files):\n",
    "        num_files += 1\n",
    "        print(\".\", end=\"\")\n",
    "#        print(infile)\n",
    "#        with gzip.open(infile) as fin:\n",
    "        with open(infile) as fin:\n",
    "            line_num = 0\n",
    "            for line in fin:\n",
    "                try:\n",
    "                    #line = fin.readline()\n",
    "                    j = json.loads(line)\n",
    "                    jobp = json.loads(j[\"jobposting\"])\n",
    "                    jobp = jobp[\"props\"][\"pageProps\"][\"initialApolloState\"]\n",
    "                    jobext = RegexDict(jobp)\n",
    "                    job = jobext.get_matching(r\"Job:.*\", value_field=\"Job:value\")[0]\n",
    "                    job['scraped_at'] = j['scraped_at']\n",
    "                    job['scraped_url'] = j['url']\n",
    "                    job['scraped_uuid'] = j['uuid']\n",
    "                    job['scraped_record_version'] = j['version']\n",
    "                    job['scraped_identifier'] = j['identifier']\n",
    "                    job['scraped_crawler'] = j['crawler']\n",
    "                    scraper_uuid = re.match(r\"^.*-.*-(.*)-rv.*-b.*.jsonl$\", infile)\n",
    "                    job['scraped_by_uuid'] = scraper_uuid.group(1)\n",
    "                    \n",
    "                    fo.write(json.dumps(job))\n",
    "                    fo.write(\"\\n\")\n",
    "                    \n",
    "                    cat = jobext.get_matching(\"JobCategory:.*\")[0]\n",
    "                    subcat = jobext.get_matching(\"JobSubcategory:.*\")[0]\n",
    "                    categories[cat['id']] = cat\n",
    "                    subcategories[subcat['id']] = subcat\n",
    "                    records += 1\n",
    "                except Exception as ex:\n",
    "#                    print(f\"line {line_num}: {ex}\")\n",
    "                    exceptions.append({'file': infile, 'line': line_num, 'exception': str(ex)})\n",
    "                    num_exceptions += 1\n",
    "                finally:\n",
    "                    line_num += 1\n",
    "                    total_lines += 1"
   ]
  },
  {
   "cell_type": "code",
   "execution_count": 4,
   "id": "c634e3bf-3b4b-49ce-8011-cdced4b637c4",
   "metadata": {},
   "outputs": [
    {
     "name": "stdout",
     "output_type": "stream",
     "text": [
      "\n",
      "Files: 560\tTotal lines: 137344 \tRecords: 137284\tExceptions: 60\n"
     ]
    }
   ],
   "source": [
    "print(f\"\\nFiles: {num_files}\\tTotal lines: {total_lines} \\tRecords: {records}\\tExceptions: {num_exceptions}\")"
   ]
  },
  {
   "cell_type": "code",
   "execution_count": 5,
   "id": "784dd4c2-2736-4e9c-9633-d86b97b8111d",
   "metadata": {},
   "outputs": [],
   "source": [
    "with open(\"occ-20230724-exceptions.jsonl\", \"w\") as fo:\n",
    "    for ex in exceptions:\n",
    "        fo.write(json.dumps(ex))\n",
    "        fo.write(\"\\n\")"
   ]
  },
  {
   "cell_type": "code",
   "execution_count": 6,
   "id": "4ebd1ca9-8f50-4eef-881e-4b12dfa059d8",
   "metadata": {},
   "outputs": [
    {
     "data": {
      "text/plain": [
       "(24, 326)"
      ]
     },
     "execution_count": 6,
     "metadata": {},
     "output_type": "execute_result"
    }
   ],
   "source": [
    "with open(\"occ-20230724-categories.json\", \"w\") as fo:\n",
    "    fo.write(json.dumps([c for c in categories.values()]))\n",
    "\n",
    "with open(\"occ-20230724-subcategories.json\", \"w\") as fo:\n",
    "    fo.write(json.dumps([c for c in subcategories.values()]))\n",
    "             \n",
    "len(categories), len(subcategories)"
   ]
  },
  {
   "cell_type": "code",
   "execution_count": 7,
   "id": "9deee338-a7e3-455b-a69f-45d29da5e8f8",
   "metadata": {},
   "outputs": [
    {
     "data": {
      "text/plain": [
       "{'__typename': 'Job',\n",
       " 'id': '17080449',\n",
       " 'url': '/empleo/oferta/17080449-ejecutivo-telefonico-sin-experiencia-contratacion-i?rank=1&page=1&sessionid=&userid=&uuid=accebb12-c763-4ef9-b43a-e06792b4f402&origin=unknown&type=0&ai=false&ais=&showseo=true&returnURL=%2Fempleos-en-mexico-y-el-mundo%3Fsessionid%3D%26userid%3D%231',\n",
       " 'title': 'Ejecutivo Telefónico - Sin Experiencia (Contratación I',\n",
       " 'description': 'MEGA DIRECT, Empresa en desarrollo con un portafolio de marcas líderes y consumo masivo a nivel nacional. te invita a formar parte de su gran familia como:     Ejecutivo de Telefónicos (Contamos con c ...',\n",
       " 'jobType': 'CLASSIC',\n",
       " 'salary': {'__typename': 'JobSalary',\n",
       "  'show': True,\n",
       "  'from': 7000,\n",
       "  'to': 10000,\n",
       "  'time': 0,\n",
       "  'performanceCompensation': 1,\n",
       "  'variableCompensation': 0},\n",
       " 'location': {'__typename': 'JobLocation',\n",
       "  'description': 'Álvaro Obregón, Ciudad de México',\n",
       "  'locations': [{'__typename': 'JobLocationData',\n",
       "    'city': {'__typename': 'CityLocation',\n",
       "     'description': 'Álvaro Obregón',\n",
       "     'jobCity': 'Álvaro Obregón',\n",
       "     'url': 'empleos/en-ciudad-de-mexico/en-la-ciudad-de-alvaro-obregon/',\n",
       "     'rel': None},\n",
       "    'country': {'__ref': 'CountryLocation:MX'},\n",
       "    'locationId': '264',\n",
       "    'placeId': '21958',\n",
       "    'state': {'__typename': 'StateLocation',\n",
       "     'description': 'Ciudad de México',\n",
       "     'abbreviation': 'CDMX',\n",
       "     'url': 'empleos/en-ciudad-de-mexico/',\n",
       "     'rel': None},\n",
       "    'zone': {'__typename': 'ZoneLocation', 'description': ''}}],\n",
       "  'url': 'empleos-en-distrito-federal'},\n",
       " 'hiring': {'__typename': 'JobHiring',\n",
       "  'contract': False,\n",
       "  'fullTime': True,\n",
       "  'partTime': False,\n",
       "  'permanent': True,\n",
       "  'temporary': False,\n",
       "  'url': 'empleos/permanente/'},\n",
       " 'level': {'__ref': 'JobLevel:'},\n",
       " 'workMode': {'__typename': 'JobWorkMode',\n",
       "  'description': 'IN_PERSON',\n",
       "  'url': 'empleos/tipo-en-oficina/'},\n",
       " 'bullets': [],\n",
       " 'company': {'__typename': 'JobCompany',\n",
       "  'name': 'Mega Direct',\n",
       "  'namePretty': 'Mega-Direct',\n",
       "  'confidential': False,\n",
       "  'url': 'empleos/bolsa-de-trabajo-Mega-Direct/',\n",
       "  'rel': None,\n",
       "  'logoUrl': 'https://cdn-h4.occ.com.mx/images/logos/300x300/f0/f0bf52386c214c26b48f6e633f35da7e.jpg',\n",
       "  'profile': {'__ref': 'CompanyProfile:156830647527378'}},\n",
       " 'profileId': '156830647527378',\n",
       " 'category': {'__ref': 'JobCategory:21'},\n",
       " 'subcategory': {'__ref': 'JobSubcategory:435'},\n",
       " 'education': {'__typename': 'JobEducation',\n",
       "  'level': 'MIDDLE_SCHOOL',\n",
       "  'url': 'empleos/nivel-secundaria/'},\n",
       " 'tags': {'__typename': 'JobTags', 'lessThan20': False},\n",
       " 'applied': False,\n",
       " 'autoinclusion': {'__typename': 'JobAutoinclusion',\n",
       "  'autoinclusion': False,\n",
       "  'source': ''},\n",
       " 'redirect': {'__typename': 'JobRedirect',\n",
       "  'isRedirected': False,\n",
       "  'redirected': False,\n",
       "  'type': 0,\n",
       "  'externalUrl': ''},\n",
       " 'skill': {'__typename': 'JobSkills', 'hasSkills': False, 'skills': []},\n",
       " 'contact': {'__typename': 'JobContact',\n",
       "  'name': 'Emmanuel Gutiérrez',\n",
       "  'emailAddress': 'ER2SJDCZYPEMIRJCGM6ILJZFNUOLTOMZPT7IMGZDN2HETYOBUTJKMI2J3YSC3RVIKIYCWJAPGDVWO===@reply.occ.com.mx',\n",
       "  'phoneNumber': '5524220099',\n",
       "  'showContactInfo': True},\n",
       " 'dates': {'__typename': 'JobDates',\n",
       "  'active': '2023-07-24 10:55:26',\n",
       "  'publish': '2023-07-24 00:00:00',\n",
       "  'expires': '2023-09-22 23:59:59'},\n",
       " 'friendlyId': '17080449-ejecutivo-telefonico-sin-experiencia-contratacion-i',\n",
       " 'googleForJobs': {'__typename': 'GoogleForJobs',\n",
       "  'isGoogleForJobs': False,\n",
       "  'isGoogleIndexed': False},\n",
       " 'requisition': {'__ref': 'JobRequisition:'},\n",
       " 'simVal': None,\n",
       " 'jobBody': '<p>MEGA DIRECT, Empresa en desarrollo con un portafolio de marcas l&iacute;deres y consumo masivo a nivel nacional. te invita a formar parte de su gran familia como:</p><p><br></p><p>Ejecutivo de Telef&oacute;nicos (Contamos con cartera de clientes) </p><p><br></p><p><strong>INICIAMOS CAPACITACION ESTA SEMANA</strong></p><p><br></p><p><strong>VACANTE PRECENCIAL - Horario de 11:00 a 20:00 L a V - S&aacute;bado 09:00 a 15:00 - Descanso fijo DOMINGOS</strong></p><p><strong><em>ZONA: ALVARO OBREGON, A 15 MINUTOS DEL METRO VIVEROS O BARRANCA DEL MUERTO</em></strong></p><p><br></p><ul><li>Requisitos:</li></ul><p><br></p><p>Escolaridad: Secundaria concluida (m&iacute;nima)</p><p><strong>SIN EXPERIENCIA</strong></p><p>Facilidad de palabra</p><p>Trabajo por objetivos</p><p>Disponibilidad de horario</p><p><br></p><ul><li>Actividades:</li></ul><p><br></p><p>la vacante es para contactar a la cartera de clientes que tenemos. y ofrecerles algun producto de su interes, cabe recalcar que los clientes en algun momento ya han escuchado o saben de la marca y del producto.</p><p>Permanencia de clientes</p><p>La capacitaci&oacute;n es presencial, es de 1 semana y es pagada.</p><p><br></p><p>- Sueldo base: $7,000 + Bono de bienvenida $800 + Bono Asistencia y Punt $500 + Bono Garant&iacute;a $1,500 + comisiones no topadas</p><p>- Prestaciones de ley (aguinaldo, vacaciones, utilidades, prima dominical, prima vacacional)</p><p>- Incentivos por parte de la campa&ntilde;a en efectivo</p><p>- Transporte gratuito al Metro Viveros</p><p>- Entrada al Cine gratis (Todos los dias)</p><p>- Adelanto de Nomina</p><p>- Convenios con Universidades para que termines tus estudios</p><p><br></p><p><strong><em>SI TE INTERESA LA VACANTE ENVIANOS TU CV AL SIGUIENTE NUMERO: (55) 24 22 00 99 Lic. Emmanuel Gtz.</em></strong></p>',\n",
       " 'Job:value': 'Job:17080449',\n",
       " 'scraped_at': '2023-07-24 19:35:18.609704',\n",
       " 'scraped_url': 'https://www.occ.com.mx/empleo/oferta/17080449-ejecutivo-telefonico-sin-experiencia-contratacion-i/',\n",
       " 'scraped_uuid': '7a62c740-bf4e-428c-bdb0-b499788be696',\n",
       " 'scraped_record_version': '0.0.10',\n",
       " 'scraped_identifier': '17080449',\n",
       " 'scraped_crawler': 'SneakySpider',\n",
       " 'scraped_by_uuid': 'd9b40f605eb44daeba5dbfbdb4be1a51'}"
      ]
     },
     "execution_count": 7,
     "metadata": {},
     "output_type": "execute_result"
    }
   ],
   "source": [
    "jobext = RegexDict(jobp)\n",
    "jobext.get_matching(r\"Job:.*\", value_field=\"Job:value\")[0]"
   ]
  },
  {
   "cell_type": "code",
   "execution_count": 8,
   "id": "b98f55d2-7d6e-45dc-80f6-ad39acf8e4a2",
   "metadata": {},
   "outputs": [
    {
     "data": {
      "text/plain": [
       "({'__typename': 'JobCategory',\n",
       "  'description': 'Atención a clientes - Call Center',\n",
       "  'id': '21',\n",
       "  'url': 'empleos/trabajo-en-atencion-a-clientes-call-center/',\n",
       "  'rel': None},\n",
       " {'__typename': 'JobSubcategory',\n",
       "  'id': '435',\n",
       "  'description': 'Call center',\n",
       "  'url': 'empleos/trabajo-en-atencion-a-clientes-call-center-call-center/'})"
      ]
     },
     "execution_count": 8,
     "metadata": {},
     "output_type": "execute_result"
    }
   ],
   "source": [
    "cat = jobext.get_matching(\"JobCategory:.*\")[0]\n",
    "subcat = jobext.get_matching(\"JobSubcategory:.*\")[0]\n",
    "cat, subcat"
   ]
  },
  {
   "cell_type": "code",
   "execution_count": null,
   "id": "1fa9ac46-8483-430a-8148-11c9ed5f76e5",
   "metadata": {},
   "outputs": [],
   "source": []
  },
  {
   "cell_type": "code",
   "execution_count": null,
   "id": "1b7d6db1-e588-4578-8520-9a52a66be45e",
   "metadata": {},
   "outputs": [],
   "source": []
  }
 ],
 "metadata": {
  "kernelspec": {
   "display_name": "Python 3 (ipykernel)",
   "language": "python",
   "name": "python3"
  },
  "language_info": {
   "codemirror_mode": {
    "name": "ipython",
    "version": 3
   },
   "file_extension": ".py",
   "mimetype": "text/x-python",
   "name": "python",
   "nbconvert_exporter": "python",
   "pygments_lexer": "ipython3",
   "version": "3.11.4"
  }
 },
 "nbformat": 4,
 "nbformat_minor": 5
}
