{
 "cells": [
  {
   "cell_type": "code",
   "execution_count": 1,
   "id": "e946b9d6-1a46-4e59-a23c-c41efba33474",
   "metadata": {},
   "outputs": [],
   "source": [
    "import glob\n",
    "import gzip\n",
    "import json\n",
    "import re"
   ]
  },
  {
   "cell_type": "code",
   "execution_count": 2,
   "id": "aada8bf7-0d46-4b44-9ace-cd7201998f55",
   "metadata": {},
   "outputs": [],
   "source": [
    "class RegexDict(dict):\n",
    "\n",
    "    def get_dict_matching(self, regex):\n",
    "        return {key: self[key] for key in self.keys() if re.match(regex, key)}\n",
    "        \n",
    "    def get_matching(self, regex, value_field=None):\n",
    "        results = []\n",
    "        for key in self.keys():\n",
    "            if re.match(regex, key):\n",
    "                value = self[key]\n",
    "                if value_field:\n",
    "                    value[value_field] = key\n",
    "                results.append(value)\n",
    "        return results"
   ]
  },
  {
   "cell_type": "code",
   "execution_count": 3,
   "id": "7582f505-3d0b-4704-9447-c3d6c7d5bc31",
   "metadata": {},
   "outputs": [
    {
     "name": "stdout",
     "output_type": "stream",
     "text": [
      ".............................................................................................................................................................................................................................................................................................................................................................................................................................................................................................................................................................................................................."
     ]
    }
   ],
   "source": [
    "categories = {}\n",
    "subcategories = {}\n",
    "\n",
    "files = \"harvester/occ/20230714/sneaky_spider*.jsonl\"\n",
    "num_files = 0\n",
    "records = 0\n",
    "num_exceptions = 0\n",
    "total_lines = 0\n",
    "exceptions = []\n",
    "\n",
    "with open(\"occ-20230714.jsonl\", \"w\") as fo:\n",
    "    for infile in glob.glob(files):\n",
    "        num_files += 1\n",
    "        print(\".\", end=\"\")\n",
    "#        print(infile)\n",
    "#        with gzip.open(infile) as fin:\n",
    "        with open(infile) as fin:\n",
    "            line_num = 0\n",
    "            for line in fin:\n",
    "                try:\n",
    "                    #line = fin.readline()\n",
    "                    j = json.loads(line)\n",
    "                    jobp = json.loads(j[\"jobposting\"])\n",
    "                    jobp = jobp[\"props\"][\"pageProps\"][\"initialApolloState\"]\n",
    "                    jobext = RegexDict(jobp)\n",
    "                    job = jobext.get_matching(r\"Job:.*\", value_field=\"Job:value\")[0]\n",
    "                    job['scraped_at'] = j['scraped_at']\n",
    "                    job['scraped_url'] = j['url']\n",
    "                    job['scraped_uuid'] = j['uuid']\n",
    "                    job['scraped_record_version'] = j['version']\n",
    "                    job['scraped_identifier'] = j['identifier']\n",
    "                    job['scraped_crawler'] = j['crawler']\n",
    "                    scraper_uuid = re.match(r\"^.*-.*-(.*)-rv.*-b.*.jsonl$\", infile)\n",
    "                    job['scraped_by_uuid'] = scraper_uuid.group(1)\n",
    "                    \n",
    "                    fo.write(json.dumps(job))\n",
    "                    fo.write(\"\\n\")\n",
    "                    \n",
    "                    cat = jobext.get_matching(\"JobCategory:.*\")[0]\n",
    "                    subcat = jobext.get_matching(\"JobSubcategory:.*\")[0]\n",
    "                    categories[cat['id']] = cat\n",
    "                    subcategories[subcat['id']] = subcat\n",
    "                    records += 1\n",
    "                except Exception as ex:\n",
    "#                    print(f\"line {line_num}: {ex}\")\n",
    "                    exceptions.append({'file': infile, 'line': line_num, 'exception': str(ex)})\n",
    "                    num_exceptions += 1\n",
    "                finally:\n",
    "                    line_num += 1\n",
    "                    total_lines += 1"
   ]
  },
  {
   "cell_type": "code",
   "execution_count": 4,
   "id": "c634e3bf-3b4b-49ce-8011-cdced4b637c4",
   "metadata": {},
   "outputs": [
    {
     "name": "stdout",
     "output_type": "stream",
     "text": [
      "\n",
      "Files: 590\tTotal lines: 142118 \tRecords: 142015\tExceptions: 103\n"
     ]
    }
   ],
   "source": [
    "print(f\"\\nFiles: {num_files}\\tTotal lines: {total_lines} \\tRecords: {records}\\tExceptions: {num_exceptions}\")"
   ]
  },
  {
   "cell_type": "code",
   "execution_count": 5,
   "id": "784dd4c2-2736-4e9c-9633-d86b97b8111d",
   "metadata": {},
   "outputs": [],
   "source": [
    "with open(\"occ-20230714-exceptions.jsonl\", \"w\") as fo:\n",
    "    for ex in exceptions:\n",
    "        fo.write(json.dumps(ex))\n",
    "        fo.write(\"\\n\")"
   ]
  },
  {
   "cell_type": "code",
   "execution_count": 6,
   "id": "4ebd1ca9-8f50-4eef-881e-4b12dfa059d8",
   "metadata": {},
   "outputs": [
    {
     "data": {
      "text/plain": [
       "(24, 328)"
      ]
     },
     "execution_count": 6,
     "metadata": {},
     "output_type": "execute_result"
    }
   ],
   "source": [
    "with open(\"occ-20230714-categories.json\", \"w\") as fo:\n",
    "    fo.write(json.dumps([c for c in categories.values()]))\n",
    "\n",
    "with open(\"occ-20230714-subcategories.json\", \"w\") as fo:\n",
    "    fo.write(json.dumps([c for c in subcategories.values()]))\n",
    "             \n",
    "len(categories), len(subcategories)"
   ]
  },
  {
   "cell_type": "code",
   "execution_count": 7,
   "id": "9deee338-a7e3-455b-a69f-45d29da5e8f8",
   "metadata": {},
   "outputs": [
    {
     "data": {
      "text/plain": [
       "{'__typename': 'Job',\n",
       " 'id': '17033929',\n",
       " 'url': '/empleo/oferta/17033929-responsable-de-cobranza-domiciliaria-playa-del-carmen-tulum-te-damos-moto-y-apoyo-de-gasolina?rank=1&page=1&sessionid=&userid=&uuid=1456117c-f895-4099-a440-2790735228b0&origin=unknown&type=0&ai=true&ais=asp&showseo=true&returnURL=%2Fempleos-en-mexico-y-el-mundo%3Fsessionid%3D%26userid%3D%231',\n",
       " 'title': 'Responsable de Cobranza Domiciliaria/ Playa del Carmen- Tulum / Te damos Moto y apoyo de Gasolina',\n",
       " 'description': 'Oportunidad de trabajo hombre o mujer    INGRESO MENSUAL SUPERIORES A $12,000  Zona de trabajo: Playa del Carmen-Tulum  *Realizar gestión de cobranza domiciliaria  * Plan de pagos a clientes  Requisit ...',\n",
       " 'jobType': 'CLASSIC',\n",
       " 'salary': {'__typename': 'JobSalary',\n",
       "  'show': False,\n",
       "  'from': 0,\n",
       "  'to': 0,\n",
       "  'time': 0,\n",
       "  'performanceCompensation': 0,\n",
       "  'variableCompensation': 0},\n",
       " 'location': {'__typename': 'JobLocation',\n",
       "  'description': 'Valladolid, Yucatán',\n",
       "  'locations': [{'__typename': 'JobLocationData',\n",
       "    'city': {'__typename': 'CityLocation',\n",
       "     'description': 'Valladolid',\n",
       "     'jobCity': 'Valladolid',\n",
       "     'url': 'empleos/en-yucatan/en-la-ciudad-de-valladolid/',\n",
       "     'rel': None},\n",
       "    'country': {'__ref': 'CountryLocation:MX'},\n",
       "    'locationId': '312',\n",
       "    'placeId': '140903',\n",
       "    'state': {'__typename': 'StateLocation',\n",
       "     'description': 'Yucatán',\n",
       "     'abbreviation': 'Yuc.',\n",
       "     'url': 'empleos/en-yucatan/',\n",
       "     'rel': None},\n",
       "    'zone': {'__typename': 'ZoneLocation', 'description': ''}}],\n",
       "  'url': 'empleos-en-yucatan'},\n",
       " 'hiring': {'__typename': 'JobHiring',\n",
       "  'contract': False,\n",
       "  'fullTime': False,\n",
       "  'partTime': False,\n",
       "  'permanent': False,\n",
       "  'temporary': False,\n",
       "  'url': None},\n",
       " 'level': {'__ref': 'JobLevel:'},\n",
       " 'workMode': {'__typename': 'JobWorkMode',\n",
       "  'description': 'IN_PERSON',\n",
       "  'url': 'empleos/tipo-en-oficina/'},\n",
       " 'bullets': [],\n",
       " 'company': {'__typename': 'JobCompany',\n",
       "  'name': 'Grupo Salinas',\n",
       "  'namePretty': 'Grupo-Salinas',\n",
       "  'confidential': False,\n",
       "  'url': 'empleos/bolsa-de-trabajo-Grupo-Salinas/',\n",
       "  'rel': None,\n",
       "  'logoUrl': 'https://cdn-h4.occ.com.mx/images/logos/300x300/01/01RfAPA_ZZ_STrdMpwQ-DQ2.jpg',\n",
       "  'profile': None},\n",
       " 'profileId': None,\n",
       " 'category': {'__ref': 'JobCategory:4'},\n",
       " 'subcategory': {'__ref': 'JobSubcategory:25'},\n",
       " 'education': {'__typename': 'JobEducation',\n",
       "  'level': 'NOT_SPECIFIED',\n",
       "  'url': 'empleos/nivel-posgrado/'},\n",
       " 'tags': {'__typename': 'JobTags', 'lessThan20': True},\n",
       " 'applied': False,\n",
       " 'autoinclusion': {'__typename': 'JobAutoinclusion',\n",
       "  'autoinclusion': True,\n",
       "  'source': 'asp'},\n",
       " 'redirect': {'__typename': 'JobRedirect',\n",
       "  'isRedirected': True,\n",
       "  'redirected': True,\n",
       "  'type': 2,\n",
       "  'externalUrl': 'https://gruposalinas.sherlockhr.computrabajo.com/ofertas/responsable-de-cobranza-domiciliaria-playa-del-carmen-tulum-te-damos-moto-y-apoyo-de-gasolina-en-solidaridad-2C2DAD0D407BDB69E67DA312DCFFD39E'},\n",
       " 'skill': {'__typename': 'JobSkills', 'hasSkills': False, 'skills': []},\n",
       " 'contact': {'__typename': 'JobContact',\n",
       "  'name': '',\n",
       "  'emailAddress': '',\n",
       "  'phoneNumber': '',\n",
       "  'showContactInfo': False},\n",
       " 'dates': {'__typename': 'JobDates',\n",
       "  'active': '2023-07-12 17:56:06',\n",
       "  'publish': '2023-07-12 00:00:00',\n",
       "  'expires': '2023-07-15 00:00:00'},\n",
       " 'friendlyId': '17033929-responsable-de-cobranza-domiciliaria-playa-del-carmen-tulum-te-damos-moto-y-apoyo-de-gasolina',\n",
       " 'googleForJobs': {'__typename': 'GoogleForJobs',\n",
       "  'isGoogleForJobs': True,\n",
       "  'isGoogleIndexed': True},\n",
       " 'requisition': {'__ref': 'JobRequisition:'},\n",
       " 'simVal': None,\n",
       " 'jobBody': 'Oportunidad de trabajo hombre o mujer <br><br> INGRESO MENSUAL SUPERIORES A $12,000<br><br>Zona de trabajo: Playa del Carmen-Tulum<br><br>*Realizar gesti&oacute;n de cobranza domiciliaria<br><br>* Plan de pagos a clientes<br><br>Requisitos:<br><br>Facilidad de palabra<br><br>Extrovertido<br><br>Negociador<br><br>Indispensable saber manejar motocicleta de velocidades<br><br>Experiencia similar, en ventas/atenci&oacute;n a clientes<br><br>Contar con certificado de estudios de bachillerato trunco o concluido<br><br>Viva en Playa del Carmen, Puerto Aventuras o Tulum<br><br>Ofrecemos : Sueldo base semanal+ Comisiones semanal + Prestaciones de ley+ Seguro de vida+ Motocicleta y Equipo de seguridad+ Vales de gasolina+ Beneficios gs <br><br><b>Requerimientos</b><ul> <li>Educacion m&iacute;nima: Educaci&oacute;n media superior -Bachillerato General</li> <li>A&ntilde;os de experiencia: 1</li> <li>Edad:entre 21 y 45 a&ntilde;os</li> <li>Licencias: A</li> <li>Conocimientos: Atenci&oacute;n al cliente, Comunicaci&oacute;n y persuasi&oacute;n, Gesti&oacute;n de ventas, Negociaci&oacute;n, Trabajo en equipo </li> </ul>',\n",
       " 'Job:value': 'Job:17033929',\n",
       " 'scraped_at': '2023-07-14 19:18:10.083243',\n",
       " 'scraped_url': 'https://www.occ.com.mx/empleo/oferta/17033929-responsable-de-cobranza-domiciliaria-playa-del-carmen-tulum-te-damos-moto-y-apoyo-de-gasolina/',\n",
       " 'scraped_uuid': '1da6f5c4-ccf1-40a2-ae0c-32a68ab5543b',\n",
       " 'scraped_record_version': '0.0.10',\n",
       " 'scraped_identifier': '17033929',\n",
       " 'scraped_crawler': 'SneakySpider',\n",
       " 'scraped_by_uuid': 'f0fb3b3910204099b9ab6c2baf349a58'}"
      ]
     },
     "execution_count": 7,
     "metadata": {},
     "output_type": "execute_result"
    }
   ],
   "source": [
    "jobext = RegexDict(jobp)\n",
    "jobext.get_matching(r\"Job:.*\", value_field=\"Job:value\")[0]"
   ]
  },
  {
   "cell_type": "code",
   "execution_count": 8,
   "id": "b98f55d2-7d6e-45dc-80f6-ad39acf8e4a2",
   "metadata": {},
   "outputs": [
    {
     "data": {
      "text/plain": [
       "({'__typename': 'JobCategory',\n",
       "  'description': 'Contabilidad - Finanzas',\n",
       "  'id': '4',\n",
       "  'url': 'empleos/trabajo-en-contabilidad-finanzas/',\n",
       "  'rel': None},\n",
       " {'__typename': 'JobSubcategory',\n",
       "  'id': '25',\n",
       "  'description': 'Crédito y cobranza',\n",
       "  'url': 'empleos/trabajo-en-contabilidad-finanzas-credito-y-cobranza/'})"
      ]
     },
     "execution_count": 8,
     "metadata": {},
     "output_type": "execute_result"
    }
   ],
   "source": [
    "cat = jobext.get_matching(\"JobCategory:.*\")[0]\n",
    "subcat = jobext.get_matching(\"JobSubcategory:.*\")[0]\n",
    "cat, subcat"
   ]
  },
  {
   "cell_type": "code",
   "execution_count": null,
   "id": "1fa9ac46-8483-430a-8148-11c9ed5f76e5",
   "metadata": {},
   "outputs": [],
   "source": []
  },
  {
   "cell_type": "code",
   "execution_count": null,
   "id": "1b7d6db1-e588-4578-8520-9a52a66be45e",
   "metadata": {},
   "outputs": [],
   "source": []
  }
 ],
 "metadata": {
  "kernelspec": {
   "display_name": "Python 3 (ipykernel)",
   "language": "python",
   "name": "python3"
  },
  "language_info": {
   "codemirror_mode": {
    "name": "ipython",
    "version": 3
   },
   "file_extension": ".py",
   "mimetype": "text/x-python",
   "name": "python",
   "nbconvert_exporter": "python",
   "pygments_lexer": "ipython3",
   "version": "3.11.4"
  }
 },
 "nbformat": 4,
 "nbformat_minor": 5
}
