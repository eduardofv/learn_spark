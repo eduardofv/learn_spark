{
 "cells": [
  {
   "cell_type": "markdown",
   "id": "cc1a930d-4db8-4515-8620-e6512a9d4d3e",
   "metadata": {},
   "source": [
    "# OCC SERP time EDA\n",
    "\n",
    "EDA en tiempo (serp)"
   ]
  },
  {
   "cell_type": "code",
   "execution_count": 1,
   "id": "5e5f9f04-16dd-42d2-8ca6-b3e07596b002",
   "metadata": {},
   "outputs": [],
   "source": [
    "import numpy as np\n",
    "import pandas as pd\n",
    "import matplotlib.pyplot as plt\n",
    "\n",
    "import pyspark\n",
    "from pyspark.sql import SparkSession\n",
    "from pyspark.sql import functions as F\n",
    "from pyspark.sql.window import Window"
   ]
  },
  {
   "cell_type": "code",
   "execution_count": 2,
   "id": "85937705-e7c1-4ee7-8ced-00f201d2cfe2",
   "metadata": {},
   "outputs": [],
   "source": [
    "spark = SparkSession \\\n",
    "    .builder \\\n",
    "    .appName(\"occ_serp-time_eda\") \\\n",
    "    .getOrCreate()\n",
    "\n",
    "#filename = \"occ-timeseries.jsonl\"\n",
    "filename = \"*OCC_SERP_MX*jsonl*\" #real: solo vacantes no agregadas\n",
    "\n",
    "base_dir = f\"harvester/occ_serp/\"\n",
    "df = spark.read.json(f\"{base_dir}/{filename}\")"
   ]
  },
  {
   "cell_type": "code",
   "execution_count": 3,
   "id": "a7388774-f4c2-443e-94f3-33380b681fd0",
   "metadata": {
    "scrolled": true
   },
   "outputs": [
    {
     "name": "stdout",
     "output_type": "stream",
     "text": [
      "root\n",
      " |-- crawler: string (nullable = true)\n",
      " |-- data: struct (nullable = true)\n",
      " |    |-- __typename: string (nullable = true)\n",
      " |    |-- applied: boolean (nullable = true)\n",
      " |    |-- autoinclusion: struct (nullable = true)\n",
      " |    |    |-- __typename: string (nullable = true)\n",
      " |    |    |-- autoinclusion: boolean (nullable = true)\n",
      " |    |    |-- source: string (nullable = true)\n",
      " |    |-- bullets: array (nullable = true)\n",
      " |    |    |-- element: struct (containsNull = true)\n",
      " |    |    |    |-- __typename: string (nullable = true)\n",
      " |    |    |    |-- description: string (nullable = true)\n",
      " |    |    |    |-- id: string (nullable = true)\n",
      " |    |-- category: struct (nullable = true)\n",
      " |    |    |-- __typename: string (nullable = true)\n",
      " |    |    |-- description: string (nullable = true)\n",
      " |    |    |-- id: string (nullable = true)\n",
      " |    |    |-- rel: string (nullable = true)\n",
      " |    |    |-- url: string (nullable = true)\n",
      " |    |-- company: struct (nullable = true)\n",
      " |    |    |-- __typename: string (nullable = true)\n",
      " |    |    |-- confidential: boolean (nullable = true)\n",
      " |    |    |-- logoUrl: string (nullable = true)\n",
      " |    |    |-- name: string (nullable = true)\n",
      " |    |    |-- namePretty: string (nullable = true)\n",
      " |    |    |-- rel: string (nullable = true)\n",
      " |    |    |-- url: string (nullable = true)\n",
      " |    |-- contact: struct (nullable = true)\n",
      " |    |    |-- __typename: string (nullable = true)\n",
      " |    |    |-- emailAddress: string (nullable = true)\n",
      " |    |    |-- name: string (nullable = true)\n",
      " |    |    |-- phoneNumber: string (nullable = true)\n",
      " |    |    |-- showContactInfo: boolean (nullable = true)\n",
      " |    |-- dates: struct (nullable = true)\n",
      " |    |    |-- __typename: string (nullable = true)\n",
      " |    |    |-- active: string (nullable = true)\n",
      " |    |    |-- expires: string (nullable = true)\n",
      " |    |    |-- publish: string (nullable = true)\n",
      " |    |-- description: string (nullable = true)\n",
      " |    |-- education: struct (nullable = true)\n",
      " |    |    |-- __typename: string (nullable = true)\n",
      " |    |    |-- level: string (nullable = true)\n",
      " |    |    |-- url: string (nullable = true)\n",
      " |    |-- friendlyId: string (nullable = true)\n",
      " |    |-- googleForJobs: struct (nullable = true)\n",
      " |    |    |-- __typename: string (nullable = true)\n",
      " |    |    |-- isGoogleForJobs: boolean (nullable = true)\n",
      " |    |    |-- isGoogleIndexed: boolean (nullable = true)\n",
      " |    |-- hiring: struct (nullable = true)\n",
      " |    |    |-- __typename: string (nullable = true)\n",
      " |    |    |-- contract: boolean (nullable = true)\n",
      " |    |    |-- fullTime: boolean (nullable = true)\n",
      " |    |    |-- partTime: boolean (nullable = true)\n",
      " |    |    |-- permanent: boolean (nullable = true)\n",
      " |    |    |-- temporary: boolean (nullable = true)\n",
      " |    |    |-- url: string (nullable = true)\n",
      " |    |-- id: string (nullable = true)\n",
      " |    |-- jobType: string (nullable = true)\n",
      " |    |-- level: struct (nullable = true)\n",
      " |    |    |-- __typename: string (nullable = true)\n",
      " |    |    |-- id: string (nullable = true)\n",
      " |    |    |-- url: string (nullable = true)\n",
      " |    |-- location: struct (nullable = true)\n",
      " |    |    |-- __typename: string (nullable = true)\n",
      " |    |    |-- description: string (nullable = true)\n",
      " |    |    |-- locations: array (nullable = true)\n",
      " |    |    |    |-- element: struct (containsNull = true)\n",
      " |    |    |    |    |-- __typename: string (nullable = true)\n",
      " |    |    |    |    |-- city: struct (nullable = true)\n",
      " |    |    |    |    |    |-- __typename: string (nullable = true)\n",
      " |    |    |    |    |    |-- description: string (nullable = true)\n",
      " |    |    |    |    |    |-- jobCity: string (nullable = true)\n",
      " |    |    |    |    |    |-- rel: string (nullable = true)\n",
      " |    |    |    |    |    |-- url: string (nullable = true)\n",
      " |    |    |    |    |-- country: struct (nullable = true)\n",
      " |    |    |    |    |    |-- __typename: string (nullable = true)\n",
      " |    |    |    |    |    |-- description: string (nullable = true)\n",
      " |    |    |    |    |    |-- id: string (nullable = true)\n",
      " |    |    |    |    |-- locationId: string (nullable = true)\n",
      " |    |    |    |    |-- placeId: string (nullable = true)\n",
      " |    |    |    |    |-- state: struct (nullable = true)\n",
      " |    |    |    |    |    |-- __typename: string (nullable = true)\n",
      " |    |    |    |    |    |-- abbreviation: string (nullable = true)\n",
      " |    |    |    |    |    |-- description: string (nullable = true)\n",
      " |    |    |    |    |    |-- rel: string (nullable = true)\n",
      " |    |    |    |    |    |-- url: string (nullable = true)\n",
      " |    |    |    |    |-- zone: struct (nullable = true)\n",
      " |    |    |    |    |    |-- __typename: string (nullable = true)\n",
      " |    |    |    |    |    |-- description: string (nullable = true)\n",
      " |    |    |-- url: string (nullable = true)\n",
      " |    |-- profileId: string (nullable = true)\n",
      " |    |-- rank: long (nullable = true)\n",
      " |    |-- redirect: struct (nullable = true)\n",
      " |    |    |-- __typename: string (nullable = true)\n",
      " |    |    |-- externalUrl: string (nullable = true)\n",
      " |    |    |-- isRedirected: boolean (nullable = true)\n",
      " |    |    |-- redirected: boolean (nullable = true)\n",
      " |    |    |-- type: long (nullable = true)\n",
      " |    |-- requisition: struct (nullable = true)\n",
      " |    |    |-- __typename: string (nullable = true)\n",
      " |    |    |-- hasIdRequisicion: boolean (nullable = true)\n",
      " |    |    |-- id: string (nullable = true)\n",
      " |    |-- salary: struct (nullable = true)\n",
      " |    |    |-- __typename: string (nullable = true)\n",
      " |    |    |-- from: long (nullable = true)\n",
      " |    |    |-- performanceCompensation: long (nullable = true)\n",
      " |    |    |-- show: boolean (nullable = true)\n",
      " |    |    |-- time: long (nullable = true)\n",
      " |    |    |-- to: long (nullable = true)\n",
      " |    |    |-- variableCompensation: long (nullable = true)\n",
      " |    |-- simVal: string (nullable = true)\n",
      " |    |-- skill: struct (nullable = true)\n",
      " |    |    |-- __typename: string (nullable = true)\n",
      " |    |    |-- hasSkills: boolean (nullable = true)\n",
      " |    |    |-- skills: array (nullable = true)\n",
      " |    |    |    |-- element: struct (containsNull = true)\n",
      " |    |    |    |    |-- __typename: string (nullable = true)\n",
      " |    |    |    |    |-- description: string (nullable = true)\n",
      " |    |    |    |    |-- id: string (nullable = true)\n",
      " |    |-- status: string (nullable = true)\n",
      " |    |-- subcategory: struct (nullable = true)\n",
      " |    |    |-- __typename: string (nullable = true)\n",
      " |    |    |-- description: string (nullable = true)\n",
      " |    |    |-- id: string (nullable = true)\n",
      " |    |    |-- url: string (nullable = true)\n",
      " |    |-- tags: struct (nullable = true)\n",
      " |    |    |-- __typename: string (nullable = true)\n",
      " |    |    |-- lessThan20: boolean (nullable = true)\n",
      " |    |-- title: string (nullable = true)\n",
      " |    |-- url: string (nullable = true)\n",
      " |    |-- workMode: struct (nullable = true)\n",
      " |    |    |-- __typename: string (nullable = true)\n",
      " |    |    |-- description: string (nullable = true)\n",
      " |    |    |-- url: string (nullable = true)\n",
      " |-- identifier: string (nullable = true)\n",
      " |-- scraped_at: string (nullable = true)\n",
      " |-- search_engine_type: string (nullable = true)\n",
      " |-- url: string (nullable = true)\n",
      " |-- uuid: string (nullable = true)\n",
      " |-- version: string (nullable = true)\n",
      "\n"
     ]
    }
   ],
   "source": [
    "df.printSchema()"
   ]
  },
  {
   "cell_type": "code",
   "execution_count": 4,
   "id": "64b9ad17-030a-4174-a299-3c45d4c2697f",
   "metadata": {},
   "outputs": [
    {
     "data": {
      "text/plain": [
       "[Row(day=datetime.date(2023, 12, 22)),\n",
       " Row(day=datetime.date(2023, 12, 21)),\n",
       " Row(day=datetime.date(2023, 12, 20)),\n",
       " Row(day=datetime.date(2023, 12, 15)),\n",
       " Row(day=datetime.date(2023, 12, 17)),\n",
       " Row(day=datetime.date(2023, 12, 19))]"
      ]
     },
     "execution_count": 4,
     "metadata": {},
     "output_type": "execute_result"
    }
   ],
   "source": [
    "df_c = df.withColumn(\"day\", F.to_date(F.col(\"scraped_at\"), \"yyyy-MM-dd HH:mm:ss.SSSSSS\"))\n",
    "df_c.select('day').distinct().collect()"
   ]
  },
  {
   "cell_type": "code",
   "execution_count": 5,
   "id": "f5220a8d-f87b-4dc5-b636-6123d58a2df3",
   "metadata": {},
   "outputs": [
    {
     "name": "stdout",
     "output_type": "stream",
     "text": [
      "CPU times: user 726 ms, sys: 82.1 ms, total: 809 ms\n",
      "Wall time: 16.3 s\n"
     ]
    },
    {
     "data": {
      "text/plain": [
       "10101"
      ]
     },
     "execution_count": 5,
     "metadata": {},
     "output_type": "execute_result"
    }
   ],
   "source": [
    "%%time\n",
    "s1 = set(list(df_c.select(['data.id']).where(\"day='2023-12-21'\").distinct().toPandas()['id']))\n",
    "s2 = set(list(df_c.select(['data.id']).where(\"day='2023-12-22'\").distinct().toPandas()['id']))\n",
    "len(s2-s1)"
   ]
  },
  {
   "cell_type": "code",
   "execution_count": 6,
   "id": "1ea7f460-82f5-4cbe-b355-dcbb14f202c7",
   "metadata": {},
   "outputs": [
    {
     "name": "stdout",
     "output_type": "stream",
     "text": [
      "+-------------+------+\n",
      "|autoinclusion| count|\n",
      "+-------------+------+\n",
      "|         true|407112|\n",
      "|        false|431668|\n",
      "+-------------+------+\n",
      "\n",
      "CPU times: user 2.94 ms, sys: 2.02 ms, total: 4.96 ms\n",
      "Wall time: 6.95 s\n"
     ]
    }
   ],
   "source": [
    "%%time\n",
    "df_c.select([\"data.autoinclusion.autoinclusion\", \"data.id\"]).groupby(\"autoinclusion\").count().show()"
   ]
  },
  {
   "cell_type": "code",
   "execution_count": 8,
   "id": "b8106477-0dea-42ec-834f-b1f35a562213",
   "metadata": {},
   "outputs": [
    {
     "data": {
      "text/plain": [
       "745"
      ]
     },
     "execution_count": 8,
     "metadata": {},
     "output_type": "execute_result"
    }
   ],
   "source": [
    "s1 = set(list(df_c.filter(\"data.autoinclusion.autoinclusion = false\").select(['data.id']).where(\"day='2023-12-22'\").distinct().toPandas()['id']))\n",
    "s2 = set(list(df_c.filter(\"data.autoinclusion.autoinclusion = false\").select(['data.id']).where(\"day='2023-12-21'\").distinct().toPandas()['id']))\n",
    "len(s2 - s1)"
   ]
  }
 ],
 "metadata": {
  "kernelspec": {
   "display_name": "Python 3 (ipykernel)",
   "language": "python",
   "name": "python3"
  },
  "language_info": {
   "codemirror_mode": {
    "name": "ipython",
    "version": 3
   },
   "file_extension": ".py",
   "mimetype": "text/x-python",
   "name": "python",
   "nbconvert_exporter": "python",
   "pygments_lexer": "ipython3",
   "version": "3.11.4"
  }
 },
 "nbformat": 4,
 "nbformat_minor": 5
}
